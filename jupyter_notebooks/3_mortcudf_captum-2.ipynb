{
 "cells": [
  {
   "cell_type": "code",
   "execution_count": 1,
   "id": "81f11468-58aa-40ba-94de-98811e49a151",
   "metadata": {},
   "outputs": [],
   "source": [
    "############################################################################\n",
    "##\n",
    "## Copyright (C) 2021 NVIDIA Corporation.  All rights reserved.\n",
    "##\n",
    "## NVIDIA Sample Code\n",
    "##\n",
    "## Please refer to the NVIDIA end user license agreement (EULA) associated\n",
    "## with this source code for terms and conditions that govern your use of\n",
    "## this software. Any use, reproduction, disclosure, or distribution of\n",
    "## this software and related documentation outside the terms of the EULA\n",
    "## is strictly prohibited.\n",
    "##\n",
    "############################################################################"
   ]
  },
  {
   "cell_type": "markdown",
   "id": "bfa66c07",
   "metadata": {
    "tags": []
   },
   "source": [
    "### Pytorch Model Explainability with Captum"
   ]
  },
  {
   "cell_type": "code",
   "execution_count": 1,
   "id": "34bf59ee",
   "metadata": {},
   "outputs": [
    {
     "name": "stderr",
     "output_type": "stream",
     "text": [
      "/tmp/ipykernel_13496/1111089987.py:30: TqdmExperimentalWarning: Using `tqdm.autonotebook.tqdm` in notebook mode. Use `tqdm.tqdm` instead to force console mode (e.g. in jupyter console)\n",
      "  from tqdm.autonotebook import tqdm\n"
     ]
    }
   ],
   "source": [
    "###### https://degravek.github.io/project-pages/project1/2016/11/12/New-Notebook/ #################\n",
    "# with modifications and GPU acceleration by Mark J Bennett mbennett@nvidia.com and Emanuel Scoullos escoullos@nvidia.com\n",
    "\n",
    "###### Best when compared to:\n",
    "###### https://www.bankofengland.co.uk/-/media/boe/files/working-paper/2019/\n",
    "######        machine-learning-explainability-in-finance-an-application-to-default-risk-analysis.pdf\n",
    "%matplotlib inline\n",
    "\n",
    "from collections import OrderedDict\n",
    "import gc\n",
    "import glob\n",
    "import os\n",
    "import pickle\n",
    "import re\n",
    "import sys\n",
    "import time\n",
    "from typing import Union\n",
    "\n",
    "import cupy as cp\n",
    "import numpy as np\n",
    "import pandas as pd\n",
    "import seaborn as sns\n",
    "import matplotlib.pyplot as plt\n",
    "from sklearn.ensemble import RandomForestClassifier, RandomForestRegressor\n",
    "from sklearn.model_selection import train_test_split\n",
    "from sklearn.metrics import (classification_report, confusion_matrix, roc_auc_score, roc_curve, auc,\n",
    "                             precision_score, recall_score, precision_recall_curve, f1_score, \n",
    "                             accuracy_score)\n",
    "\n",
    "from tqdm.autonotebook import tqdm\n",
    "import xgboost as xgb\n",
    "\n",
    "start_time = time.time()\n",
    "\n",
    "    \n",
    "\n",
    "from clfmodel import binaryClassification\n",
    "\n",
    "np.set_printoptions(threshold=sys.maxsize)\n",
    "pd.set_option('display.max_rows', 500)\n",
    "pd.set_option('display.max_columns', 500)\n",
    "pd.set_option('display.width', 1000)\n",
    "\n",
    "# make sure the path below points to the data directory where the FannieMae data was downloaded.\n",
    "if os.getcwd() != './rapids/notebooks/cleaned_data':\n",
    "    os.chdir('./rapids/notebooks/cleaned_data')\n",
    "\n",
    "figures_path = './rapids/notebooks/figures'\n",
    "\n",
    "sns.set()"
   ]
  },
  {
   "cell_type": "code",
   "execution_count": 2,
   "id": "7148b146",
   "metadata": {},
   "outputs": [],
   "source": [
    "# Note plots may look slightly different since we trained 2 models.\n",
    "################################################################\n",
    "# choice of using NVTabular or Pytorch\n",
    "use_nvtabular = False  # NVTabular only will work for GPU\n",
    "use_cpu = False # choice of False (for GPU) or True (for CPU)\n",
    "\n",
    "################################################################\n",
    "\n",
    "if use_cpu:\n",
    "    from pandas import read_parquet, concat, merge, DataFrame, get_dummies, Series, isnull\n",
    "    from sklearn.preprocessing import OneHotEncoder, StandardScaler\n",
    "    from numpy import zeros, double, int8, int16, int64, concatenate\n",
    "else:\n",
    "    from cudf import read_parquet, concat, merge, DataFrame, get_dummies, Series\n",
    "    from cupy import zeros,double, int8, int16, int64, concatenate\n",
    "    from cuml.model_selection import train_test_split\n",
    "    from cuml.preprocessing import OneHotEncoder, StandardScaler\n",
    "    from cuml.metrics import precision_recall_curve, roc_auc_score, confusion_matrix, accuracy_score"
   ]
  },
  {
   "cell_type": "code",
   "execution_count": 3,
   "id": "136d06ed",
   "metadata": {},
   "outputs": [
    {
     "name": "stdout",
     "output_type": "stream",
     "text": [
      "Channel 3\n",
      "FTHomeBuyer 3\n",
      "LoanPurpose 4\n",
      "MortInsType 2\n",
      "OccStatus 3\n",
      "ProductType 1\n",
      "PropertyState 54\n",
      "PropertyType 5\n",
      "SellerName 49\n",
      "Zip 961\n"
     ]
    }
   ],
   "source": [
    "with open('fnma_mappings.pkl', 'rb') as f:\n",
    "    mappings = pickle.load(f)\n",
    "# print('\\n'.join(mappings.keys()))\n",
    "\n",
    "cards = []\n",
    "for key in sorted(mappings):\n",
    "    print(key, len(set(mappings[key])))\n",
    "    cards.append(len(set(mappings[key])))"
   ]
  },
  {
   "cell_type": "markdown",
   "id": "e52eae62",
   "metadata": {
    "tags": []
   },
   "source": [
    "### Load Model"
   ]
  },
  {
   "cell_type": "code",
   "execution_count": 4,
   "id": "94bbe524",
   "metadata": {},
   "outputs": [],
   "source": [
    "Xcolumns=['Channel',\n",
    "         'SellerName',\n",
    "         'OrInterestRate',\n",
    "         'OrUnpaidPrinc',\n",
    "         'OrLoanTerm',\n",
    "         'OrCLTV',\n",
    "         'NumBorrow',\n",
    "         'DTIRat',\n",
    "         'CreditScore',\n",
    "         'FTHomeBuyer',\n",
    "         'LoanPurpose',\n",
    "         'PropertyType',\n",
    "         'NumUnits',\n",
    "         'OccStatus',\n",
    "         'PropertyState',\n",
    "         'Zip',\n",
    "         'ProductType',\n",
    "         'CoCreditScore',\n",
    "         'Extra',\n",
    "         'MortInsType']\n",
    "CONTINUOUS_COLUMNS = ['OrInterestRate', 'OrUnpaidPrinc', 'OrLoanTerm', 'OrCLTV', 'NumBorrow', 'DTIRat', \n",
    "                      'CreditScore', 'NumUnits', 'CoCreditScore', 'Extra']\n",
    "CATEGORICAL_COLUMNS = sorted([i for i in Xcolumns if i not in CONTINUOUS_COLUMNS])\n",
    "LABEL_COLUMNS = ['Default']"
   ]
  },
  {
   "cell_type": "code",
   "execution_count": 5,
   "id": "43204c9e",
   "metadata": {},
   "outputs": [
    {
     "name": "stdout",
     "output_type": "stream",
     "text": [
      "cuda:0\n"
     ]
    }
   ],
   "source": [
    "import torch\n",
    "import torch.nn as nn\n",
    "import torch.optim as optim\n",
    "\n",
    "\n",
    "# params from prior notebook\n",
    "BATCH_SIZE = 2048\n",
    "LEARNING_RATE = 0.0001\n",
    "\n",
    "DEVICE=0\n",
    "cp.cuda.Device(DEVICE).use()\n",
    "device = 'cpu' if use_cpu else torch.device(f\"cuda:{DEVICE}\" if torch.cuda.is_available() else \"cpu\")\n",
    "print(device)"
   ]
  },
  {
   "cell_type": "code",
   "execution_count": 6,
   "id": "715591f4",
   "metadata": {},
   "outputs": [],
   "source": [
    "\n",
    "def load_checkpoint(file_name: str, model, device: str):\n",
    "    \"\"\"\n",
    "    Load Checkpoint from pytorch .pt file.\n",
    "\n",
    "    Args:\n",
    "        k_fold: int or string for K-folds.\n",
    "        device: str\n",
    "        file_name (str): filename usually including the name of the model.\n",
    "        model_cls: (uninstantiated) class belonging to a custom nn.Module\n",
    "        **kwargs:\n",
    "\n",
    "    Returns:\n",
    "\n",
    "    \"\"\"\n",
    "    # instantiate the model and pass in input params as kwargs.\n",
    "    model = model.to(device)\n",
    "\n",
    "    checkpoint = torch.load(f'./checkpoints/{file_name}.pt')\n",
    "    model.load_state_dict(checkpoint['model'])\n",
    "    model.eval()\n",
    "    return model, checkpoint['threshold']"
   ]
  },
  {
   "cell_type": "code",
   "execution_count": 7,
   "id": "d5595d63",
   "metadata": {},
   "outputs": [
    {
     "name": "stdout",
     "output_type": "stream",
     "text": [
      "binaryClassification(\n",
      "  (layer_1): Linear(in_features=20, out_features=512, bias=True)\n",
      "  (layer_2): Linear(in_features=512, out_features=512, bias=True)\n",
      "  (layer_3): Linear(in_features=512, out_features=512, bias=True)\n",
      "  (layer_4): Linear(in_features=512, out_features=512, bias=True)\n",
      "  (layer_5): Linear(in_features=512, out_features=512, bias=True)\n",
      "  (layer_out): Linear(in_features=512, out_features=1, bias=True)\n",
      "  (prelu1): PReLU(num_parameters=1)\n",
      "  (prelu2): PReLU(num_parameters=1)\n",
      "  (prelu3): PReLU(num_parameters=1)\n",
      "  (prelu4): PReLU(num_parameters=1)\n",
      "  (prelu5): PReLU(num_parameters=1)\n",
      "  (dropout1): Dropout(p=0.1, inplace=False)\n",
      "  (dropout2): Dropout(p=0.1, inplace=False)\n",
      "  (dropout3): Dropout(p=0.1, inplace=False)\n",
      "  (dropout4): Dropout(p=0.1, inplace=False)\n",
      "  (batchnorm1): BatchNorm1d(512, eps=1e-05, momentum=0.1, affine=True, track_running_stats=True)\n",
      "  (batchnorm2): BatchNorm1d(512, eps=1e-05, momentum=0.1, affine=True, track_running_stats=True)\n",
      "  (batchnorm3): BatchNorm1d(512, eps=1e-05, momentum=0.1, affine=True, track_running_stats=True)\n",
      "  (batchnorm4): BatchNorm1d(512, eps=1e-05, momentum=0.1, affine=True, track_running_stats=True)\n",
      "  (batchnorm5): BatchNorm1d(512, eps=1e-05, momentum=0.1, affine=True, track_running_stats=True)\n",
      ")\n"
     ]
    },
    {
     "ename": "FileNotFoundError",
     "evalue": "[Errno 2] No such file or directory: './checkpoints/fnma_model_mlp_pyt.pt'",
     "output_type": "error",
     "traceback": [
      "\u001b[0;31m---------------------------------------------------------------------------\u001b[0m",
      "\u001b[0;31mFileNotFoundError\u001b[0m                         Traceback (most recent call last)",
      "Cell \u001b[0;32mIn[7], line 12\u001b[0m\n\u001b[1;32m      9\u001b[0m \u001b[38;5;28;01melse\u001b[39;00m:\n\u001b[1;32m     10\u001b[0m     model_name \u001b[38;5;241m=\u001b[39m \u001b[38;5;124m'\u001b[39m\u001b[38;5;124mfnma_model_mlp_pyt\u001b[39m\u001b[38;5;124m'\u001b[39m\n\u001b[0;32m---> 12\u001b[0m model, threshold \u001b[38;5;241m=\u001b[39m \u001b[43mload_checkpoint\u001b[49m\u001b[43m(\u001b[49m\u001b[43mmodel_name\u001b[49m\u001b[43m,\u001b[49m\u001b[43m \u001b[49m\u001b[43mmodel\u001b[49m\u001b[43m,\u001b[49m\u001b[43m \u001b[49m\u001b[43mdevice\u001b[49m\u001b[43m)\u001b[49m\n\u001b[1;32m     13\u001b[0m model \u001b[38;5;241m=\u001b[39m model\u001b[38;5;241m.\u001b[39mto(device)\n",
      "Cell \u001b[0;32mIn[6], line 18\u001b[0m, in \u001b[0;36mload_checkpoint\u001b[0;34m(file_name, model, device)\u001b[0m\n\u001b[1;32m     15\u001b[0m \u001b[38;5;66;03m# instantiate the model and pass in input params as kwargs.\u001b[39;00m\n\u001b[1;32m     16\u001b[0m model \u001b[38;5;241m=\u001b[39m model\u001b[38;5;241m.\u001b[39mto(device)\n\u001b[0;32m---> 18\u001b[0m checkpoint \u001b[38;5;241m=\u001b[39m \u001b[43mtorch\u001b[49m\u001b[38;5;241;43m.\u001b[39;49m\u001b[43mload\u001b[49m\u001b[43m(\u001b[49m\u001b[38;5;124;43mf\u001b[39;49m\u001b[38;5;124;43m'\u001b[39;49m\u001b[38;5;124;43m./checkpoints/\u001b[39;49m\u001b[38;5;132;43;01m{\u001b[39;49;00m\u001b[43mfile_name\u001b[49m\u001b[38;5;132;43;01m}\u001b[39;49;00m\u001b[38;5;124;43m.pt\u001b[39;49m\u001b[38;5;124;43m'\u001b[39;49m\u001b[43m)\u001b[49m\n\u001b[1;32m     19\u001b[0m model\u001b[38;5;241m.\u001b[39mload_state_dict(checkpoint[\u001b[38;5;124m'\u001b[39m\u001b[38;5;124mmodel\u001b[39m\u001b[38;5;124m'\u001b[39m])\n\u001b[1;32m     20\u001b[0m model\u001b[38;5;241m.\u001b[39meval()\n",
      "File \u001b[0;32m~/miniconda3/lib/python3.11/site-packages/torch/serialization.py:997\u001b[0m, in \u001b[0;36mload\u001b[0;34m(f, map_location, pickle_module, weights_only, mmap, **pickle_load_args)\u001b[0m\n\u001b[1;32m    994\u001b[0m \u001b[38;5;28;01mif\u001b[39;00m \u001b[38;5;124m'\u001b[39m\u001b[38;5;124mencoding\u001b[39m\u001b[38;5;124m'\u001b[39m \u001b[38;5;129;01mnot\u001b[39;00m \u001b[38;5;129;01min\u001b[39;00m pickle_load_args\u001b[38;5;241m.\u001b[39mkeys():\n\u001b[1;32m    995\u001b[0m     pickle_load_args[\u001b[38;5;124m'\u001b[39m\u001b[38;5;124mencoding\u001b[39m\u001b[38;5;124m'\u001b[39m] \u001b[38;5;241m=\u001b[39m \u001b[38;5;124m'\u001b[39m\u001b[38;5;124mutf-8\u001b[39m\u001b[38;5;124m'\u001b[39m\n\u001b[0;32m--> 997\u001b[0m \u001b[38;5;28;01mwith\u001b[39;00m \u001b[43m_open_file_like\u001b[49m\u001b[43m(\u001b[49m\u001b[43mf\u001b[49m\u001b[43m,\u001b[49m\u001b[43m \u001b[49m\u001b[38;5;124;43m'\u001b[39;49m\u001b[38;5;124;43mrb\u001b[39;49m\u001b[38;5;124;43m'\u001b[39;49m\u001b[43m)\u001b[49m \u001b[38;5;28;01mas\u001b[39;00m opened_file:\n\u001b[1;32m    998\u001b[0m     \u001b[38;5;28;01mif\u001b[39;00m _is_zipfile(opened_file):\n\u001b[1;32m    999\u001b[0m         \u001b[38;5;66;03m# The zipfile reader is going to advance the current file position.\u001b[39;00m\n\u001b[1;32m   1000\u001b[0m         \u001b[38;5;66;03m# If we want to actually tail call to torch.jit.load, we need to\u001b[39;00m\n\u001b[1;32m   1001\u001b[0m         \u001b[38;5;66;03m# reset back to the original position.\u001b[39;00m\n\u001b[1;32m   1002\u001b[0m         orig_position \u001b[38;5;241m=\u001b[39m opened_file\u001b[38;5;241m.\u001b[39mtell()\n",
      "File \u001b[0;32m~/miniconda3/lib/python3.11/site-packages/torch/serialization.py:444\u001b[0m, in \u001b[0;36m_open_file_like\u001b[0;34m(name_or_buffer, mode)\u001b[0m\n\u001b[1;32m    442\u001b[0m \u001b[38;5;28;01mdef\u001b[39;00m \u001b[38;5;21m_open_file_like\u001b[39m(name_or_buffer, mode):\n\u001b[1;32m    443\u001b[0m     \u001b[38;5;28;01mif\u001b[39;00m _is_path(name_or_buffer):\n\u001b[0;32m--> 444\u001b[0m         \u001b[38;5;28;01mreturn\u001b[39;00m \u001b[43m_open_file\u001b[49m\u001b[43m(\u001b[49m\u001b[43mname_or_buffer\u001b[49m\u001b[43m,\u001b[49m\u001b[43m \u001b[49m\u001b[43mmode\u001b[49m\u001b[43m)\u001b[49m\n\u001b[1;32m    445\u001b[0m     \u001b[38;5;28;01melse\u001b[39;00m:\n\u001b[1;32m    446\u001b[0m         \u001b[38;5;28;01mif\u001b[39;00m \u001b[38;5;124m'\u001b[39m\u001b[38;5;124mw\u001b[39m\u001b[38;5;124m'\u001b[39m \u001b[38;5;129;01min\u001b[39;00m mode:\n",
      "File \u001b[0;32m~/miniconda3/lib/python3.11/site-packages/torch/serialization.py:425\u001b[0m, in \u001b[0;36m_open_file.__init__\u001b[0;34m(self, name, mode)\u001b[0m\n\u001b[1;32m    424\u001b[0m \u001b[38;5;28;01mdef\u001b[39;00m \u001b[38;5;21m__init__\u001b[39m(\u001b[38;5;28mself\u001b[39m, name, mode):\n\u001b[0;32m--> 425\u001b[0m     \u001b[38;5;28msuper\u001b[39m()\u001b[38;5;241m.\u001b[39m\u001b[38;5;21m__init__\u001b[39m(\u001b[38;5;28;43mopen\u001b[39;49m\u001b[43m(\u001b[49m\u001b[43mname\u001b[49m\u001b[43m,\u001b[49m\u001b[43m \u001b[49m\u001b[43mmode\u001b[49m\u001b[43m)\u001b[49m)\n",
      "\u001b[0;31mFileNotFoundError\u001b[0m: [Errno 2] No such file or directory: './checkpoints/fnma_model_mlp_pyt.pt'"
     ]
    }
   ],
   "source": [
    "model = binaryClassification(cat_cards=cards, numer_dims=len(CONTINUOUS_COLUMNS)).to(device)\n",
    "\n",
    "print(model)\n",
    "criterion = nn.BCEWithLogitsLoss() # pos_weight=torch.tensor(25, device=device)\n",
    "optimizer = optim.Adam(model.parameters(), lr=LEARNING_RATE)\n",
    "\n",
    "if use_nvtabular:\n",
    "    model_name = 'fnma_model_mlp_nvt'\n",
    "else:\n",
    "    model_name = 'fnma_model_mlp_pyt'\n",
    "    \n",
    "model, threshold = load_checkpoint(model_name, model, device)\n",
    "model = model.to(device)"
   ]
  },
  {
   "cell_type": "markdown",
   "id": "e92218e1",
   "metadata": {
    "tags": []
   },
   "source": [
    "### Load Datasets"
   ]
  },
  {
   "cell_type": "code",
   "execution_count": 8,
   "id": "8e2624f1",
   "metadata": {},
   "outputs": [
    {
     "ename": "FileNotFoundError",
     "evalue": "[Errno 2] No such file or directory: 'pos_loader.pkl'",
     "output_type": "error",
     "traceback": [
      "\u001b[0;31m---------------------------------------------------------------------------\u001b[0m",
      "\u001b[0;31mFileNotFoundError\u001b[0m                         Traceback (most recent call last)",
      "Cell \u001b[0;32mIn[8], line 79\u001b[0m\n\u001b[1;32m     75\u001b[0m     \u001b[38;5;28;01mdef\u001b[39;00m \u001b[38;5;21m__len__\u001b[39m (\u001b[38;5;28mself\u001b[39m):\n\u001b[1;32m     77\u001b[0m         \u001b[38;5;28;01mreturn\u001b[39;00m \u001b[38;5;28mlen\u001b[39m(\u001b[38;5;28mself\u001b[39m\u001b[38;5;241m.\u001b[39my_data)\n\u001b[0;32m---> 79\u001b[0m \u001b[38;5;28;01mwith\u001b[39;00m \u001b[38;5;28;43mopen\u001b[39;49m\u001b[43m(\u001b[49m\u001b[38;5;124;43m'\u001b[39;49m\u001b[38;5;124;43mpos_loader.pkl\u001b[39;49m\u001b[38;5;124;43m'\u001b[39;49m\u001b[43m,\u001b[49m\u001b[43m \u001b[49m\u001b[38;5;124;43m'\u001b[39;49m\u001b[38;5;124;43mrb\u001b[39;49m\u001b[38;5;124;43m'\u001b[39;49m\u001b[43m)\u001b[49m \u001b[38;5;28;01mas\u001b[39;00m f:\n\u001b[1;32m     80\u001b[0m     pos_loader \u001b[38;5;241m=\u001b[39m pickle\u001b[38;5;241m.\u001b[39mload(f)\n\u001b[1;32m     81\u001b[0m     pos_loader\u001b[38;5;241m.\u001b[39mdataset\u001b[38;5;241m.\u001b[39mX_data_cat \u001b[38;5;241m=\u001b[39m pos_loader\u001b[38;5;241m.\u001b[39mdataset\u001b[38;5;241m.\u001b[39mX_data_cat\u001b[38;5;241m.\u001b[39mto(device)\n",
      "File \u001b[0;32m~/miniconda3/lib/python3.11/site-packages/IPython/core/interactiveshell.py:324\u001b[0m, in \u001b[0;36m_modified_open\u001b[0;34m(file, *args, **kwargs)\u001b[0m\n\u001b[1;32m    317\u001b[0m \u001b[38;5;28;01mif\u001b[39;00m file \u001b[38;5;129;01min\u001b[39;00m {\u001b[38;5;241m0\u001b[39m, \u001b[38;5;241m1\u001b[39m, \u001b[38;5;241m2\u001b[39m}:\n\u001b[1;32m    318\u001b[0m     \u001b[38;5;28;01mraise\u001b[39;00m \u001b[38;5;167;01mValueError\u001b[39;00m(\n\u001b[1;32m    319\u001b[0m         \u001b[38;5;124mf\u001b[39m\u001b[38;5;124m\"\u001b[39m\u001b[38;5;124mIPython won\u001b[39m\u001b[38;5;124m'\u001b[39m\u001b[38;5;124mt let you open fd=\u001b[39m\u001b[38;5;132;01m{\u001b[39;00mfile\u001b[38;5;132;01m}\u001b[39;00m\u001b[38;5;124m by default \u001b[39m\u001b[38;5;124m\"\u001b[39m\n\u001b[1;32m    320\u001b[0m         \u001b[38;5;124m\"\u001b[39m\u001b[38;5;124mas it is likely to crash IPython. If you know what you are doing, \u001b[39m\u001b[38;5;124m\"\u001b[39m\n\u001b[1;32m    321\u001b[0m         \u001b[38;5;124m\"\u001b[39m\u001b[38;5;124myou can use builtins\u001b[39m\u001b[38;5;124m'\u001b[39m\u001b[38;5;124m open.\u001b[39m\u001b[38;5;124m\"\u001b[39m\n\u001b[1;32m    322\u001b[0m     )\n\u001b[0;32m--> 324\u001b[0m \u001b[38;5;28;01mreturn\u001b[39;00m \u001b[43mio_open\u001b[49m\u001b[43m(\u001b[49m\u001b[43mfile\u001b[49m\u001b[43m,\u001b[49m\u001b[43m \u001b[49m\u001b[38;5;241;43m*\u001b[39;49m\u001b[43margs\u001b[49m\u001b[43m,\u001b[49m\u001b[43m \u001b[49m\u001b[38;5;241;43m*\u001b[39;49m\u001b[38;5;241;43m*\u001b[39;49m\u001b[43mkwargs\u001b[49m\u001b[43m)\u001b[49m\n",
      "\u001b[0;31mFileNotFoundError\u001b[0m: [Errno 2] No such file or directory: 'pos_loader.pkl'"
     ]
    }
   ],
   "source": [
    "cp.cuda.Device(DEVICE).use()\n",
    "\n",
    "if use_nvtabular and not use_cpu:\n",
    "    import nvtabular as nvt\n",
    "    from nvtabular.loader.torch import TorchAsyncItr, DLDataLoader\n",
    "    \n",
    "    # these files were saved in the prior notebook. \n",
    "    pos_path = 'fnma_pos_test.parquet'\n",
    "    neg_path = 'fnma_neg_test.parquet'\n",
    "    \n",
    "    #  Uncomment below if you want to explore a dataset with combined positive and negative examples\n",
    "    test_path = 'fnma_test_nvt.parquet'\n",
    "    test_dataset = TorchAsyncItr(\n",
    "       nvt.Dataset(test_path),\n",
    "       cats=CATEGORICAL_COLUMNS,\n",
    "       conts=CONTINUOUS_COLUMNS,\n",
    "       labels=LABEL_COLUMNS,\n",
    "       batch_size=BATCH_SIZE\n",
    "    )\n",
    "\n",
    "    test_loader = DLDataLoader(\n",
    "       test_dataset,\n",
    "       batch_size=None,\n",
    "       pin_memory=False,\n",
    "       num_workers=0\n",
    "    )\n",
    "\n",
    "    pos_dataset = TorchAsyncItr(\n",
    "        nvt.Dataset(pos_path),\n",
    "        cats=CATEGORICAL_COLUMNS,\n",
    "        conts=CONTINUOUS_COLUMNS,\n",
    "        labels=LABEL_COLUMNS,\n",
    "        batch_size=BATCH_SIZE,\n",
    "    )\n",
    "\n",
    "    pos_loader = DLDataLoader(\n",
    "        pos_dataset,\n",
    "        batch_size=None,\n",
    "        pin_memory=False,\n",
    "        num_workers=0\n",
    "    )\n",
    "\n",
    "    neg_dataset = TorchAsyncItr(\n",
    "        nvt.Dataset(neg_path),\n",
    "        cats=CATEGORICAL_COLUMNS,\n",
    "        conts=CONTINUOUS_COLUMNS,\n",
    "        labels=LABEL_COLUMNS,\n",
    "        batch_size=BATCH_SIZE,\n",
    "    )\n",
    "\n",
    "    neg_loader = DLDataLoader(\n",
    "        neg_dataset,\n",
    "        batch_size=None,\n",
    "        pin_memory=False,\n",
    "        num_workers=0\n",
    "    )\n",
    "    \n",
    "else:\n",
    "    from torch.utils.data import Dataset, DataLoader\n",
    "\n",
    "    class PytData(Dataset):\n",
    "\n",
    "        def __init__(self, X_data, y_data, cont_cols, cat_cols, device):\n",
    "            self.X_data_cont = torch.tensor(X_data[cont_cols].as_gpu_matrix(), dtype=torch.float32, device=device)\n",
    "            self.X_data_cat = torch.tensor(X_data[cat_cols].as_gpu_matrix(), dtype=torch.float32, device=device)\n",
    "\n",
    "            assert len(cont_cols) == self.X_data_cont.shape[1]\n",
    "            assert len(cat_cols) == self.X_data_cat.shape[1]\n",
    "\n",
    "            self.y_data = torch.tensor(y_data, dtype=torch.float32, device=device)\n",
    "\n",
    "        def __getitem__(self, index):\n",
    "            return self.X_data_cat[index], self.X_data_cont[index], self.y_data[index]\n",
    "\n",
    "        def __len__ (self):\n",
    "\n",
    "            return len(self.y_data)\n",
    "        \n",
    "    with open('pos_loader.pkl', 'rb') as f:\n",
    "        pos_loader = pickle.load(f)\n",
    "        pos_loader.dataset.X_data_cat = pos_loader.dataset.X_data_cat.to(device)\n",
    "        pos_loader.dataset.X_data_cont = pos_loader.dataset.X_data_cont.to(device)\n",
    "        pos_loader.dataset.y_data = pos_loader.dataset.y_data.to(device)\n",
    "\n",
    "    with open('neg_loader.pkl', 'rb') as f:\n",
    "        neg_loader = pickle.load(f)\n",
    "        neg_loader.dataset.X_data_cat = neg_loader.dataset.X_data_cat.to(device)\n",
    "        neg_loader.dataset.X_data_cont = neg_loader.dataset.X_data_cont.to(device)\n",
    "        neg_loader.dataset.y_data = neg_loader.dataset.y_data.to(device)\n",
    "\n",
    "#      Uncomment below if you want to explore a dataset with combined positive and negative examples\n",
    "    with open('test_loader.pkl', 'rb') as f:\n",
    "        test_loader = pickle.load(f)\n",
    "        test_loader.dataset.X_data_cat = test_loader.dataset.X_data_cat.to(device)\n",
    "        test_loader.dataset.X_data_cont = test_loader.dataset.X_data_cont.to(device)\n",
    "        test_loader.dataset.y_data = test_loader.dataset.y_data.to(device)\n"
   ]
  },
  {
   "cell_type": "code",
   "execution_count": 9,
   "id": "9e5c6a24",
   "metadata": {},
   "outputs": [
    {
     "ename": "NameError",
     "evalue": "name 'pos_loader' is not defined",
     "output_type": "error",
     "traceback": [
      "\u001b[0;31m---------------------------------------------------------------------------\u001b[0m",
      "\u001b[0;31mNameError\u001b[0m                                 Traceback (most recent call last)",
      "Cell \u001b[0;32mIn[9], line 14\u001b[0m\n\u001b[1;32m     11\u001b[0m     x_conts \u001b[38;5;241m=\u001b[39m torch\u001b[38;5;241m.\u001b[39mcat(x_cont_batches)\u001b[38;5;241m.\u001b[39mto(device)\n\u001b[1;32m     12\u001b[0m     \u001b[38;5;28;01mreturn\u001b[39;00m x_cats, x_conts\n\u001b[0;32m---> 14\u001b[0m pos_cats, pos_conts \u001b[38;5;241m=\u001b[39m load_single_batch(\u001b[43mpos_loader\u001b[49m, device, num_batches\u001b[38;5;241m=\u001b[39m\u001b[38;5;241m1\u001b[39m)\n\u001b[1;32m     15\u001b[0m neg_cats, neg_conts \u001b[38;5;241m=\u001b[39m load_single_batch(neg_loader, device, num_batches\u001b[38;5;241m=\u001b[39m\u001b[38;5;241m1\u001b[39m)\n\u001b[1;32m     17\u001b[0m \u001b[38;5;66;03m#  Uncomment below if you want to explore a dataset with combined positive and negative examples\u001b[39;00m\n",
      "\u001b[0;31mNameError\u001b[0m: name 'pos_loader' is not defined"
     ]
    }
   ],
   "source": [
    "def load_single_batch(loader, device, num_batches=1):\n",
    "    x_cats_batches = []\n",
    "    x_cont_batches = []\n",
    "    for batch_num, (x_cat, x_cont, ybatch) in tqdm(enumerate(loader)):\n",
    "        \n",
    "        if batch_num == num_batches:\n",
    "            break\n",
    "        x_cats_batches.append(x_cat)\n",
    "        x_cont_batches.append(x_cont)\n",
    "    x_cats = torch.cat(x_cats_batches).to(device)\n",
    "    x_conts = torch.cat(x_cont_batches).to(device)\n",
    "    return x_cats, x_conts\n",
    "\n",
    "pos_cats, pos_conts = load_single_batch(pos_loader, device, num_batches=1)\n",
    "neg_cats, neg_conts = load_single_batch(neg_loader, device, num_batches=1)\n",
    "\n",
    "#  Uncomment below if you want to explore a dataset with combined positive and negative examples\n",
    "all_cats, all_conts = load_single_batch(test_loader, device, num_batches=-1)"
   ]
  },
  {
   "cell_type": "markdown",
   "id": "e983f25a",
   "metadata": {},
   "source": [
    "### Captum Explainability"
   ]
  },
  {
   "cell_type": "code",
   "execution_count": 10,
   "id": "c431a0a0",
   "metadata": {},
   "outputs": [
    {
     "ename": "ModuleNotFoundError",
     "evalue": "No module named 'captum'",
     "output_type": "error",
     "traceback": [
      "\u001b[0;31m---------------------------------------------------------------------------\u001b[0m",
      "\u001b[0;31mModuleNotFoundError\u001b[0m                       Traceback (most recent call last)",
      "Cell \u001b[0;32mIn[10], line 1\u001b[0m\n\u001b[0;32m----> 1\u001b[0m \u001b[38;5;28;01mfrom\u001b[39;00m \u001b[38;5;21;01mcaptum\u001b[39;00m\u001b[38;5;21;01m.\u001b[39;00m\u001b[38;5;21;01mattr\u001b[39;00m \u001b[38;5;28;01mimport\u001b[39;00m GradientShap, IntegratedGradients, LayerConductance, NeuronConductance, LayerIntegratedGradients\n\u001b[1;32m      2\u001b[0m \u001b[38;5;28;01mfrom\u001b[39;00m \u001b[38;5;21;01mcaptum\u001b[39;00m\u001b[38;5;21;01m.\u001b[39;00m\u001b[38;5;21;01mattr\u001b[39;00m\u001b[38;5;21;01m.\u001b[39;00m\u001b[38;5;21;01m_utils\u001b[39;00m\u001b[38;5;21;01m.\u001b[39;00m\u001b[38;5;21;01minput_layer_wrapper\u001b[39;00m \u001b[38;5;28;01mimport\u001b[39;00m ModelInputWrapper\n\u001b[1;32m      3\u001b[0m \u001b[38;5;28;01mimport\u001b[39;00m \u001b[38;5;21;01mshap\u001b[39;00m\n",
      "\u001b[0;31mModuleNotFoundError\u001b[0m: No module named 'captum'"
     ]
    }
   ],
   "source": [
    "from captum.attr import GradientShap, IntegratedGradients, LayerConductance, NeuronConductance, LayerIntegratedGradients\n",
    "from captum.attr._utils.input_layer_wrapper import ModelInputWrapper\n",
    "import shap\n"
   ]
  },
  {
   "cell_type": "code",
   "execution_count": 11,
   "id": "f9b4c73c",
   "metadata": {},
   "outputs": [
    {
     "ename": "NameError",
     "evalue": "name 'GradientShap' is not defined",
     "output_type": "error",
     "traceback": [
      "\u001b[0;31m---------------------------------------------------------------------------\u001b[0m",
      "\u001b[0;31mNameError\u001b[0m                                 Traceback (most recent call last)",
      "Cell \u001b[0;32mIn[11], line 1\u001b[0m\n\u001b[0;32m----> 1\u001b[0m gradshap \u001b[38;5;241m=\u001b[39m \u001b[43mGradientShap\u001b[49m(model)\n",
      "\u001b[0;31mNameError\u001b[0m: name 'GradientShap' is not defined"
     ]
    }
   ],
   "source": [
    "gradshap = GradientShap(model)"
   ]
  },
  {
   "cell_type": "code",
   "execution_count": 12,
   "id": "f767d561-9044-4ef5-9275-6bbc59145b91",
   "metadata": {
    "tags": []
   },
   "outputs": [
    {
     "ename": "NameError",
     "evalue": "name 'test_loader' is not defined",
     "output_type": "error",
     "traceback": [
      "\u001b[0;31m---------------------------------------------------------------------------\u001b[0m",
      "\u001b[0;31mNameError\u001b[0m                                 Traceback (most recent call last)",
      "Cell \u001b[0;32mIn[12], line 8\u001b[0m\n\u001b[1;32m      2\u001b[0m \u001b[38;5;66;03m# looping over batches because GradientShap uses quite a bit of memory.\u001b[39;00m\n\u001b[1;32m      3\u001b[0m \u001b[38;5;66;03m# We can choose n_samples=200 to be the same as the SHAP library's GradientExplainer, \u001b[39;00m\n\u001b[1;32m      4\u001b[0m \u001b[38;5;66;03m# however this will cause the cell to run for much longer\u001b[39;00m\n\u001b[1;32m      5\u001b[0m \u001b[38;5;66;03m# https://shap-lrjball.readthedocs.io/en/latest/generated/shap.GradientExplainer.html#shap.GradientExplainer.shap_values\u001b[39;00m\n\u001b[1;32m      7\u001b[0m svals \u001b[38;5;241m=\u001b[39m []\n\u001b[0;32m----> 8\u001b[0m \u001b[38;5;28;01mfor\u001b[39;00m batch_num, (x_cat, x_cont, ybatch) \u001b[38;5;129;01min\u001b[39;00m tqdm(\u001b[38;5;28menumerate\u001b[39m(\u001b[43mtest_loader\u001b[49m)):\n\u001b[1;32m      9\u001b[0m     x_cat \u001b[38;5;241m=\u001b[39m x_cat\u001b[38;5;241m.\u001b[39mto(device)\n\u001b[1;32m     10\u001b[0m     x_cont \u001b[38;5;241m=\u001b[39m x_cont\u001b[38;5;241m.\u001b[39mto(device)\n",
      "\u001b[0;31mNameError\u001b[0m: name 'test_loader' is not defined"
     ]
    }
   ],
   "source": [
    "start = time.time()\n",
    "# looping over batches because GradientShap uses quite a bit of memory.\n",
    "# We can choose n_samples=200 to be the same as the SHAP library's GradientExplainer, \n",
    "# however this will cause the cell to run for much longer\n",
    "# https://shap-lrjball.readthedocs.io/en/latest/generated/shap.GradientExplainer.html#shap.GradientExplainer.shap_values\n",
    "\n",
    "svals = []\n",
    "for batch_num, (x_cat, x_cont, ybatch) in tqdm(enumerate(test_loader)):\n",
    "    x_cat = x_cat.to(device)\n",
    "    x_cont = x_cont.to(device)\n",
    "    attr_gs, delta = gradshap.attribute((x_cat, x_cont),\n",
    "                                         baselines=(torch.zeros_like(x_cat, device=device),\n",
    "                                                    torch.zeros_like(x_cont, device=device)),\n",
    "#                                          n_samples=200,  # 25x speedup over CPU as n_samples increases\n",
    "                                         return_convergence_delta=True)\n",
    "    \n",
    "    svals.append(torch.cat(attr_gs, dim=1))\n",
    "    \n",
    "svals = torch.cat(svals, dim=0)\n",
    "print(f'Elapsed time: {time.time() - start: 0.3f} s')"
   ]
  },
  {
   "cell_type": "code",
   "execution_count": 13,
   "id": "ed5b1a93-4613-4234-8e2f-4d218c990fac",
   "metadata": {},
   "outputs": [
    {
     "data": {
      "text/plain": [
       "(0,)"
      ]
     },
     "execution_count": 13,
     "metadata": {},
     "output_type": "execute_result"
    }
   ],
   "source": [
    "svals = cp.asnumpy(svals)\n",
    "cp.save(f'pyt_shap.npy', svals)\n",
    "svals.shape"
   ]
  },
  {
   "cell_type": "code",
   "execution_count": 14,
   "id": "6034510e-c0eb-421b-b788-11387c6a8e3c",
   "metadata": {},
   "outputs": [
    {
     "ename": "NameError",
     "evalue": "name 'all_cats' is not defined",
     "output_type": "error",
     "traceback": [
      "\u001b[0;31m---------------------------------------------------------------------------\u001b[0m",
      "\u001b[0;31mNameError\u001b[0m                                 Traceback (most recent call last)",
      "Cell \u001b[0;32mIn[14], line 1\u001b[0m\n\u001b[0;32m----> 1\u001b[0m df \u001b[38;5;241m=\u001b[39m DataFrame(cp\u001b[38;5;241m.\u001b[39masarray(torch\u001b[38;5;241m.\u001b[39mcat([\u001b[43mall_cats\u001b[49m, all_conts], dim\u001b[38;5;241m=\u001b[39m\u001b[38;5;241m1\u001b[39m)))\n\u001b[1;32m      2\u001b[0m df\u001b[38;5;241m.\u001b[39mcolumns \u001b[38;5;241m=\u001b[39m CATEGORICAL_COLUMNS \u001b[38;5;241m+\u001b[39m  CONTINUOUS_COLUMNS\n\u001b[1;32m      4\u001b[0m df\u001b[38;5;241m.\u001b[39mshape\n",
      "\u001b[0;31mNameError\u001b[0m: name 'all_cats' is not defined"
     ]
    }
   ],
   "source": [
    "df = DataFrame(cp.asarray(torch.cat([all_cats, all_conts], dim=1)))\n",
    "df.columns = CATEGORICAL_COLUMNS +  CONTINUOUS_COLUMNS\n",
    "\n",
    "df.shape"
   ]
  },
  {
   "cell_type": "code",
   "execution_count": 15,
   "id": "937f0dc9-d38c-4e45-a07e-785e0c941d33",
   "metadata": {},
   "outputs": [
    {
     "ename": "NameError",
     "evalue": "name 'shap' is not defined",
     "output_type": "error",
     "traceback": [
      "\u001b[0;31m---------------------------------------------------------------------------\u001b[0m",
      "\u001b[0;31mNameError\u001b[0m                                 Traceback (most recent call last)",
      "Cell \u001b[0;32mIn[15], line 1\u001b[0m\n\u001b[0;32m----> 1\u001b[0m \u001b[43mshap\u001b[49m\u001b[38;5;241m.\u001b[39msummary_plot(svals, \n\u001b[1;32m      2\u001b[0m                   df[CATEGORICAL_COLUMNS\u001b[38;5;241m+\u001b[39mCONTINUOUS_COLUMNS]\u001b[38;5;241m.\u001b[39mto_pandas(), sort\u001b[38;5;241m=\u001b[39m\u001b[38;5;28;01mFalse\u001b[39;00m, show\u001b[38;5;241m=\u001b[39m\u001b[38;5;28;01mFalse\u001b[39;00m)\n\u001b[1;32m      3\u001b[0m plt\u001b[38;5;241m.\u001b[39mtight_layout()\n\u001b[1;32m      4\u001b[0m f \u001b[38;5;241m=\u001b[39m plt\u001b[38;5;241m.\u001b[39mgcf()\n",
      "\u001b[0;31mNameError\u001b[0m: name 'shap' is not defined"
     ]
    }
   ],
   "source": [
    "shap.summary_plot(svals, \n",
    "                  df[CATEGORICAL_COLUMNS+CONTINUOUS_COLUMNS].to_pandas(), sort=False, show=False)\n",
    "plt.tight_layout()\n",
    "f = plt.gcf()\n",
    "a = plt.gca()\n",
    "# a.set_xlim([-6, 6])\n",
    "f.savefig(f'{figures_path}/GradShap_nvt_mlp_all_batches_noaxlim.png', dpi=600)"
   ]
  },
  {
   "cell_type": "code",
   "execution_count": 16,
   "id": "32e35f24-2f2c-465e-878b-1a3ef93ec6b3",
   "metadata": {},
   "outputs": [
    {
     "ename": "NameError",
     "evalue": "name 'shap' is not defined",
     "output_type": "error",
     "traceback": [
      "\u001b[0;31m---------------------------------------------------------------------------\u001b[0m",
      "\u001b[0;31mNameError\u001b[0m                                 Traceback (most recent call last)",
      "Cell \u001b[0;32mIn[16], line 1\u001b[0m\n\u001b[0;32m----> 1\u001b[0m \u001b[43mshap\u001b[49m\u001b[38;5;241m.\u001b[39msummary_plot(svals, \n\u001b[1;32m      2\u001b[0m                   df[CATEGORICAL_COLUMNS\u001b[38;5;241m+\u001b[39mCONTINUOUS_COLUMNS]\u001b[38;5;241m.\u001b[39mto_pandas(), sort\u001b[38;5;241m=\u001b[39m\u001b[38;5;28;01mFalse\u001b[39;00m, show\u001b[38;5;241m=\u001b[39m\u001b[38;5;28;01mFalse\u001b[39;00m)\n\u001b[1;32m      3\u001b[0m plt\u001b[38;5;241m.\u001b[39mtight_layout()\n\u001b[1;32m      4\u001b[0m f \u001b[38;5;241m=\u001b[39m plt\u001b[38;5;241m.\u001b[39mgcf()\n",
      "\u001b[0;31mNameError\u001b[0m: name 'shap' is not defined"
     ]
    }
   ],
   "source": [
    "shap.summary_plot(svals, \n",
    "                  df[CATEGORICAL_COLUMNS+CONTINUOUS_COLUMNS].to_pandas(), sort=False, show=False)\n",
    "plt.tight_layout()\n",
    "f = plt.gcf()\n",
    "a = plt.gca()\n",
    "# a.set_xlim([-6, 6])\n",
    "f.savefig(f'{figures_path}/GradShap_pyt_mlp_all_batches_noaxlim.png', dpi=600)"
   ]
  },
  {
   "cell_type": "code",
   "execution_count": null,
   "id": "8f7e7bb7-9af1-4c38-8d6f-5e4d5c3cdf6f",
   "metadata": {},
   "outputs": [],
   "source": []
  },
  {
   "cell_type": "code",
   "execution_count": 17,
   "id": "2228ce91",
   "metadata": {},
   "outputs": [
    {
     "ename": "NameError",
     "evalue": "name 'gradshap' is not defined",
     "output_type": "error",
     "traceback": [
      "\u001b[0;31m---------------------------------------------------------------------------\u001b[0m",
      "\u001b[0;31mNameError\u001b[0m                                 Traceback (most recent call last)",
      "Cell \u001b[0;32mIn[17], line 4\u001b[0m\n\u001b[1;32m      1\u001b[0m \u001b[38;5;66;03m# uses ~ 28GB GPU memory\u001b[39;00m\n\u001b[1;32m      2\u001b[0m \u001b[38;5;66;03m# to explore shap values of just positive or negative class adjust cells accordingly\u001b[39;00m\n\u001b[0;32m----> 4\u001b[0m attr_gs, delta \u001b[38;5;241m=\u001b[39m \u001b[43mgradshap\u001b[49m\u001b[38;5;241m.\u001b[39mattribute((torch\u001b[38;5;241m.\u001b[39mcat([pos_cats, neg_cats], dim\u001b[38;5;241m=\u001b[39m\u001b[38;5;241m0\u001b[39m), torch\u001b[38;5;241m.\u001b[39mcat([pos_conts, neg_conts], dim\u001b[38;5;241m=\u001b[39m\u001b[38;5;241m0\u001b[39m)),\n\u001b[1;32m      5\u001b[0m                                         baselines\u001b[38;5;241m=\u001b[39m(torch\u001b[38;5;241m.\u001b[39mzeros_like(neg_cats, device\u001b[38;5;241m=\u001b[39mdevice), torch\u001b[38;5;241m.\u001b[39mzeros_like(neg_conts, device\u001b[38;5;241m=\u001b[39mdevice)),\n\u001b[1;32m      6\u001b[0m                                         n_samples\u001b[38;5;241m=\u001b[39m\u001b[38;5;241m200\u001b[39m,\n\u001b[1;32m      7\u001b[0m                                         return_convergence_delta\u001b[38;5;241m=\u001b[39m\u001b[38;5;28;01mTrue\u001b[39;00m)\n",
      "\u001b[0;31mNameError\u001b[0m: name 'gradshap' is not defined"
     ]
    }
   ],
   "source": [
    "# uses ~ 28GB GPU memory\n",
    "# to explore shap values of just positive or negative class adjust cells accordingly\n",
    "\n",
    "attr_gs, delta = gradshap.attribute((torch.cat([pos_cats, neg_cats], dim=0), torch.cat([pos_conts, neg_conts], dim=0)),\n",
    "                                        baselines=(torch.zeros_like(neg_cats, device=device), torch.zeros_like(neg_conts, device=device)),\n",
    "                                        n_samples=200,\n",
    "                                        return_convergence_delta=True)"
   ]
  },
  {
   "cell_type": "code",
   "execution_count": 18,
   "id": "5eaa2c04",
   "metadata": {},
   "outputs": [
    {
     "ename": "NameError",
     "evalue": "name 'pos_cats' is not defined",
     "output_type": "error",
     "traceback": [
      "\u001b[0;31m---------------------------------------------------------------------------\u001b[0m",
      "\u001b[0;31mNameError\u001b[0m                                 Traceback (most recent call last)",
      "Cell \u001b[0;32mIn[18], line 1\u001b[0m\n\u001b[0;32m----> 1\u001b[0m df \u001b[38;5;241m=\u001b[39m DataFrame(cp\u001b[38;5;241m.\u001b[39masarray(torch\u001b[38;5;241m.\u001b[39mcat([torch\u001b[38;5;241m.\u001b[39mcat([\u001b[43mpos_cats\u001b[49m, pos_conts], dim\u001b[38;5;241m=\u001b[39m\u001b[38;5;241m1\u001b[39m), torch\u001b[38;5;241m.\u001b[39mcat([neg_cats, neg_conts], dim\u001b[38;5;241m=\u001b[39m\u001b[38;5;241m1\u001b[39m)], dim\u001b[38;5;241m=\u001b[39m\u001b[38;5;241m0\u001b[39m)))\n\u001b[1;32m      2\u001b[0m df\u001b[38;5;241m.\u001b[39mcolumns \u001b[38;5;241m=\u001b[39m CATEGORICAL_COLUMNS \u001b[38;5;241m+\u001b[39m  CONTINUOUS_COLUMNS\n\u001b[1;32m      3\u001b[0m svals \u001b[38;5;241m=\u001b[39m cp\u001b[38;5;241m.\u001b[39masnumpy(torch\u001b[38;5;241m.\u001b[39mcat(attr_gs, dim\u001b[38;5;241m=\u001b[39m\u001b[38;5;241m1\u001b[39m))\n",
      "\u001b[0;31mNameError\u001b[0m: name 'pos_cats' is not defined"
     ]
    }
   ],
   "source": [
    "\n",
    "df = DataFrame(cp.asarray(torch.cat([torch.cat([pos_cats, pos_conts], dim=1), torch.cat([neg_cats, neg_conts], dim=1)], dim=0)))\n",
    "df.columns = CATEGORICAL_COLUMNS +  CONTINUOUS_COLUMNS\n",
    "svals = cp.asnumpy(torch.cat(attr_gs, dim=1))\n",
    "shap.summary_plot(svals, \n",
    "                  df[CATEGORICAL_COLUMNS+CONTINUOUS_COLUMNS].to_pandas(), sort=False, show=False)\n",
    "plt.tight_layout()\n",
    "f = plt.gcf()\n",
    "a = plt.gca()\n",
    "a.set_xlim([-5, 5])\n",
    "f.savefig(f'{figures_path}/GradShap_pyt_mlp.png', dpi=600)\n",
    "\n",
    "del df, svals, attr_gs, delta; gc.collect()\n",
    "\n"
   ]
  },
  {
   "cell_type": "code",
   "execution_count": 19,
   "id": "d7137806",
   "metadata": {},
   "outputs": [],
   "source": [
    "def norm_attr_method(attr_method):\n",
    "    method_sum = attr_method.sum(0)\n",
    "    method_norm_sum = method_sum / np.linalg.norm(method_sum, ord=1)\n",
    "    return method_norm_sum\n",
    "\n",
    "def plot_importances(imps: list, feature_names, title, xaxis_title, yaxis_title, colors, legends, normalize_vectors=True, save=''):\n",
    "    fig, ax = plt.subplots(figsize=(12,8))\n",
    "    ax.set_title(title)\n",
    "    ax.set_xlabel(xaxis_title)\n",
    "    x_axis_data = np.arange(len(feature_names))\n",
    "    width = 0.25\n",
    "    wdth = 0\n",
    "    for attr_meth, color, leg_label in zip(imps, colors, legends):\n",
    "        if normalize_vectors:\n",
    "            meth_norm_sum = norm_attr_method(attr_meth)\n",
    "        else:\n",
    "            meth_norm_sum = attr_meth\n",
    "        ax.bar(x_axis_data +  wdth*width, meth_norm_sum, width, align='center', alpha=0.8, color=color)\n",
    "        print(leg_label)\n",
    "        for feat_name, value in zip(feature_names, meth_norm_sum):\n",
    "            print(feat_name, \": \", '%.3f'%(value))\n",
    "        wdth += 1\n",
    "    plt.legend(legends, bbox_to_anchor=(1.04,0.5), loc=\"center left\", borderaxespad=0)\n",
    "    ax.set_xticks(x_axis_data)\n",
    "    ax.set_xticklabels(feature_names, rotation=45)\n",
    "    ax.set_ylabel(yaxis_title)\n",
    "\n",
    "    ax.autoscale_view()\n",
    "    plt.tight_layout()\n",
    "    if isinstance(save, str) and save:\n",
    "        plt.savefig(save, dpi=600)\n"
   ]
  },
  {
   "cell_type": "code",
   "execution_count": 20,
   "id": "4fe2764b-bd00-4d20-991e-8407694599ea",
   "metadata": {
    "tags": []
   },
   "outputs": [
    {
     "ename": "NameError",
     "evalue": "name 'shap' is not defined",
     "output_type": "error",
     "traceback": [
      "\u001b[0;31m---------------------------------------------------------------------------\u001b[0m",
      "\u001b[0;31mNameError\u001b[0m                                 Traceback (most recent call last)",
      "Cell \u001b[0;32mIn[20], line 1\u001b[0m\n\u001b[0;32m----> 1\u001b[0m explainer \u001b[38;5;241m=\u001b[39m \u001b[43mshap\u001b[49m\u001b[38;5;241m.\u001b[39mGradientExplainer(model, [all_cats[:BATCH_SIZE], all_conts[:BATCH_SIZE]], batch_size\u001b[38;5;241m=\u001b[39m\u001b[38;5;241m50\u001b[39m)\n\u001b[1;32m      3\u001b[0m shap_values \u001b[38;5;241m=\u001b[39m explainer\u001b[38;5;241m.\u001b[39mshap_values([all_cats[:BATCH_SIZE], all_conts[:BATCH_SIZE]])\n\u001b[1;32m      5\u001b[0m df \u001b[38;5;241m=\u001b[39m DataFrame(cp\u001b[38;5;241m.\u001b[39masarray(torch\u001b[38;5;241m.\u001b[39mcat([all_cats[:BATCH_SIZE], all_conts[:BATCH_SIZE]], dim\u001b[38;5;241m=\u001b[39m\u001b[38;5;241m1\u001b[39m)))\n",
      "\u001b[0;31mNameError\u001b[0m: name 'shap' is not defined"
     ]
    }
   ],
   "source": [
    "\n",
    "explainer = shap.GradientExplainer(model, [all_cats[:BATCH_SIZE], all_conts[:BATCH_SIZE]], batch_size=50)\n",
    "\n",
    "shap_values = explainer.shap_values([all_cats[:BATCH_SIZE], all_conts[:BATCH_SIZE]])\n",
    "\n",
    "df = DataFrame(cp.asarray(torch.cat([all_cats[:BATCH_SIZE], all_conts[:BATCH_SIZE]], dim=1)))\n",
    "df.columns = CATEGORICAL_COLUMNS +  CONTINUOUS_COLUMNS\n",
    "\n",
    "shap.summary_plot(np.concatenate( shap_values, axis=1), \n",
    "                  df[CATEGORICAL_COLUMNS+CONTINUOUS_COLUMNS].to_pandas(), sort=False, show=False)"
   ]
  },
  {
   "cell_type": "code",
   "execution_count": 21,
   "id": "21f78774-80dd-457a-b747-e518edfc4a31",
   "metadata": {},
   "outputs": [
    {
     "ename": "NameError",
     "evalue": "name 'shap' is not defined",
     "output_type": "error",
     "traceback": [
      "\u001b[0;31m---------------------------------------------------------------------------\u001b[0m",
      "\u001b[0;31mNameError\u001b[0m                                 Traceback (most recent call last)",
      "Cell \u001b[0;32mIn[21], line 1\u001b[0m\n\u001b[0;32m----> 1\u001b[0m \u001b[43mshap\u001b[49m\u001b[38;5;241m.\u001b[39msummary_plot(np\u001b[38;5;241m.\u001b[39mconcatenate( shap_values, axis\u001b[38;5;241m=\u001b[39m\u001b[38;5;241m1\u001b[39m), \n\u001b[1;32m      2\u001b[0m                   df[CATEGORICAL_COLUMNS\u001b[38;5;241m+\u001b[39mCONTINUOUS_COLUMNS]\u001b[38;5;241m.\u001b[39mto_pandas(), sort\u001b[38;5;241m=\u001b[39m\u001b[38;5;28;01mFalse\u001b[39;00m, show\u001b[38;5;241m=\u001b[39m\u001b[38;5;28;01mFalse\u001b[39;00m)\n",
      "\u001b[0;31mNameError\u001b[0m: name 'shap' is not defined"
     ]
    }
   ],
   "source": [
    "shap.summary_plot(np.concatenate( shap_values, axis=1), \n",
    "                  df[CATEGORICAL_COLUMNS+CONTINUOUS_COLUMNS].to_pandas(), sort=False, show=False)"
   ]
  },
  {
   "cell_type": "code",
   "execution_count": null,
   "id": "d2778f1b-d375-4bcc-89d6-60b25ca3667b",
   "metadata": {},
   "outputs": [],
   "source": []
  },
  {
   "cell_type": "code",
   "execution_count": 22,
   "id": "3136095d-da36-4cb1-bdaf-0feaf4d69a4e",
   "metadata": {},
   "outputs": [],
   "source": [
    "# # Uncomment to run SHAP GradientExplainer with all_cats and all_conts - takes long time to run\n",
    "# start = time.time()\n",
    "# explainer = shap.GradientExplainer(model, [all_cats, all_conts], batch_size=50)\n",
    "\n",
    "# shap_values = explainer.shap_values([all_cats, all_conts])\n",
    "# print(f'Elapsed time: {time.time() - start: 0.3f} s')\n",
    "\n",
    "# df = DataFrame(cp.asarray(torch.cat([all_cats, all_conts], dim=0)))\n",
    "# df.columns = CATEGORICAL_COLUMNS +  CONTINUOUS_COLUMNS\n",
    "\n",
    "# shap.summary_plot(np.concatenate( shap_values, axis=1), \n",
    "#                   df[CATEGORICAL_COLUMNS+CONTINUOUS_COLUMNS].to_pandas(), sort=False, show=False)"
   ]
  },
  {
   "cell_type": "code",
   "execution_count": 23,
   "id": "004dd608",
   "metadata": {
    "tags": []
   },
   "outputs": [
    {
     "ename": "NameError",
     "evalue": "name 'shap' is not defined",
     "output_type": "error",
     "traceback": [
      "\u001b[0;31m---------------------------------------------------------------------------\u001b[0m",
      "\u001b[0;31mNameError\u001b[0m                                 Traceback (most recent call last)",
      "Cell \u001b[0;32mIn[23], line 2\u001b[0m\n\u001b[1;32m      1\u001b[0m \u001b[38;5;66;03m# Shap Gradient Explainer - https://github.com/slundberg/shap\u001b[39;00m\n\u001b[0;32m----> 2\u001b[0m explainer \u001b[38;5;241m=\u001b[39m \u001b[43mshap\u001b[49m\u001b[38;5;241m.\u001b[39mGradientExplainer(model, [torch\u001b[38;5;241m.\u001b[39mcat([pos_cats, neg_cats], dim\u001b[38;5;241m=\u001b[39m\u001b[38;5;241m0\u001b[39m), \n\u001b[1;32m      3\u001b[0m                                            torch\u001b[38;5;241m.\u001b[39mcat([pos_conts, neg_conts], dim\u001b[38;5;241m=\u001b[39m\u001b[38;5;241m0\u001b[39m)], \n\u001b[1;32m      4\u001b[0m                                    batch_size\u001b[38;5;241m=\u001b[39m\u001b[38;5;241m512\u001b[39m)\n\u001b[1;32m      6\u001b[0m shap_values \u001b[38;5;241m=\u001b[39m explainer\u001b[38;5;241m.\u001b[39mshap_values([torch\u001b[38;5;241m.\u001b[39mcat([pos_cats, neg_cats], dim\u001b[38;5;241m=\u001b[39m\u001b[38;5;241m0\u001b[39m), \n\u001b[1;32m      7\u001b[0m                                            torch\u001b[38;5;241m.\u001b[39mcat([pos_conts, neg_conts], dim\u001b[38;5;241m=\u001b[39m\u001b[38;5;241m0\u001b[39m)])\n\u001b[1;32m      9\u001b[0m df \u001b[38;5;241m=\u001b[39m DataFrame(cp\u001b[38;5;241m.\u001b[39masarray(torch\u001b[38;5;241m.\u001b[39mcat([torch\u001b[38;5;241m.\u001b[39mcat([pos_cats, pos_conts], dim\u001b[38;5;241m=\u001b[39m\u001b[38;5;241m1\u001b[39m), \n\u001b[1;32m     10\u001b[0m                                      torch\u001b[38;5;241m.\u001b[39mcat([neg_cats, neg_conts], dim\u001b[38;5;241m=\u001b[39m\u001b[38;5;241m1\u001b[39m)], dim\u001b[38;5;241m=\u001b[39m\u001b[38;5;241m0\u001b[39m)))\n",
      "\u001b[0;31mNameError\u001b[0m: name 'shap' is not defined"
     ]
    }
   ],
   "source": [
    "# Shap Gradient Explainer - https://github.com/slundberg/shap\n",
    "explainer = shap.GradientExplainer(model, [torch.cat([pos_cats, neg_cats], dim=0), \n",
    "                                           torch.cat([pos_conts, neg_conts], dim=0)], \n",
    "                                   batch_size=512)\n",
    "\n",
    "shap_values = explainer.shap_values([torch.cat([pos_cats, neg_cats], dim=0), \n",
    "                                           torch.cat([pos_conts, neg_conts], dim=0)])\n",
    "\n",
    "df = DataFrame(cp.asarray(torch.cat([torch.cat([pos_cats, pos_conts], dim=1), \n",
    "                                     torch.cat([neg_cats, neg_conts], dim=1)], dim=0)))\n",
    "df.columns = CATEGORICAL_COLUMNS +  CONTINUOUS_COLUMNS\n",
    "\n",
    "shap.summary_plot(np.concatenate( shap_values, axis=1), \n",
    "                  df[CATEGORICAL_COLUMNS+CONTINUOUS_COLUMNS].to_pandas(), sort=False, show=False)\n",
    "\n",
    "del df, shap_values, explainer"
   ]
  },
  {
   "cell_type": "code",
   "execution_count": null,
   "id": "552ddced",
   "metadata": {},
   "outputs": [],
   "source": []
  },
  {
   "cell_type": "code",
   "execution_count": 24,
   "id": "86b09a9e",
   "metadata": {},
   "outputs": [
    {
     "ename": "NameError",
     "evalue": "name 'IntegratedGradients' is not defined",
     "output_type": "error",
     "traceback": [
      "\u001b[0;31m---------------------------------------------------------------------------\u001b[0m",
      "\u001b[0;31mNameError\u001b[0m                                 Traceback (most recent call last)",
      "Cell \u001b[0;32mIn[24], line 3\u001b[0m\n\u001b[1;32m      1\u001b[0m \u001b[38;5;66;03m# apply integrated gradients by passing model to the IntegratedGradients object\u001b[39;00m\n\u001b[0;32m----> 3\u001b[0m ig \u001b[38;5;241m=\u001b[39m \u001b[43mIntegratedGradients\u001b[49m(model)\n\u001b[1;32m      5\u001b[0m pos_attr, delta \u001b[38;5;241m=\u001b[39m ig\u001b[38;5;241m.\u001b[39mattribute((pos_cats, pos_conts), return_convergence_delta\u001b[38;5;241m=\u001b[39m\u001b[38;5;28;01mTrue\u001b[39;00m)\n\u001b[1;32m      6\u001b[0m pos_attr_cat, pos_attr_cont \u001b[38;5;241m=\u001b[39m pos_attr[\u001b[38;5;241m0\u001b[39m]\u001b[38;5;241m.\u001b[39mdetach()\u001b[38;5;241m.\u001b[39mcpu()\u001b[38;5;241m.\u001b[39mnumpy(), pos_attr[\u001b[38;5;241m1\u001b[39m]\u001b[38;5;241m.\u001b[39mdetach()\u001b[38;5;241m.\u001b[39mcpu()\u001b[38;5;241m.\u001b[39mnumpy()\n",
      "\u001b[0;31mNameError\u001b[0m: name 'IntegratedGradients' is not defined"
     ]
    }
   ],
   "source": [
    "# apply integrated gradients by passing model to the IntegratedGradients object\n",
    "\n",
    "ig = IntegratedGradients(model)\n",
    "\n",
    "pos_attr, delta = ig.attribute((pos_cats, pos_conts), return_convergence_delta=True)\n",
    "pos_attr_cat, pos_attr_cont = pos_attr[0].detach().cpu().numpy(), pos_attr[1].detach().cpu().numpy()\n",
    "\n",
    "neg_attr, delta = ig.attribute((neg_cats, neg_conts), return_convergence_delta=True)\n",
    "neg_attr_cat, neg_attr_cont = neg_attr[0].detach().cpu().numpy(), neg_attr[1].detach().cpu().numpy()"
   ]
  },
  {
   "cell_type": "code",
   "execution_count": 25,
   "id": "ccebc42c",
   "metadata": {
    "tags": []
   },
   "outputs": [
    {
     "ename": "NameError",
     "evalue": "name 'pos_attr_cat' is not defined",
     "output_type": "error",
     "traceback": [
      "\u001b[0;31m---------------------------------------------------------------------------\u001b[0m",
      "\u001b[0;31mNameError\u001b[0m                                 Traceback (most recent call last)",
      "Cell \u001b[0;32mIn[25], line 1\u001b[0m\n\u001b[0;32m----> 1\u001b[0m \u001b[43mpos_attr_cat\u001b[49m\u001b[38;5;241m.\u001b[39mshape\n",
      "\u001b[0;31mNameError\u001b[0m: name 'pos_attr_cat' is not defined"
     ]
    }
   ],
   "source": [
    "pos_attr_cat.shape"
   ]
  },
  {
   "cell_type": "code",
   "execution_count": 26,
   "id": "d997b152",
   "metadata": {},
   "outputs": [
    {
     "ename": "NameError",
     "evalue": "name 'pos_attr_cat' is not defined",
     "output_type": "error",
     "traceback": [
      "\u001b[0;31m---------------------------------------------------------------------------\u001b[0m",
      "\u001b[0;31mNameError\u001b[0m                                 Traceback (most recent call last)",
      "Cell \u001b[0;32mIn[26], line 1\u001b[0m\n\u001b[0;32m----> 1\u001b[0m plot_importances([\u001b[43mpos_attr_cat\u001b[49m, neg_attr_cat], \n\u001b[1;32m      2\u001b[0m                  CATEGORICAL_COLUMNS, \n\u001b[1;32m      3\u001b[0m                  \u001b[38;5;124m'\u001b[39m\u001b[38;5;124mAverage Categorical Feature Importance\u001b[39m\u001b[38;5;124m'\u001b[39m,\n\u001b[1;32m      4\u001b[0m                  \u001b[38;5;124m'\u001b[39m\u001b[38;5;124mCategorical Features\u001b[39m\u001b[38;5;124m'\u001b[39m,\n\u001b[1;32m      5\u001b[0m                  \u001b[38;5;124m'\u001b[39m\u001b[38;5;124mAttributions\u001b[39m\u001b[38;5;124m'\u001b[39m,\n\u001b[1;32m      6\u001b[0m                  [\u001b[38;5;124m'\u001b[39m\u001b[38;5;124mr\u001b[39m\u001b[38;5;124m'\u001b[39m, \u001b[38;5;124m'\u001b[39m\u001b[38;5;124mg\u001b[39m\u001b[38;5;124m'\u001b[39m], \n\u001b[1;32m      7\u001b[0m                  [\u001b[38;5;124m'\u001b[39m\u001b[38;5;124mDefault\u001b[39m\u001b[38;5;124m'\u001b[39m, \u001b[38;5;124m'\u001b[39m\u001b[38;5;124mNo Default\u001b[39m\u001b[38;5;124m'\u001b[39m], save\u001b[38;5;241m=\u001b[39m\u001b[38;5;124mf\u001b[39m\u001b[38;5;124m'\u001b[39m\u001b[38;5;132;01m{\u001b[39;00mfigures_path\u001b[38;5;132;01m}\u001b[39;00m\u001b[38;5;124m/IG_cat_feats.png\u001b[39m\u001b[38;5;124m'\u001b[39m)\n",
      "\u001b[0;31mNameError\u001b[0m: name 'pos_attr_cat' is not defined"
     ]
    }
   ],
   "source": [
    "\n",
    "plot_importances([pos_attr_cat, neg_attr_cat], \n",
    "                 CATEGORICAL_COLUMNS, \n",
    "                 'Average Categorical Feature Importance',\n",
    "                 'Categorical Features',\n",
    "                 'Attributions',\n",
    "                 ['r', 'g'], \n",
    "                 ['Default', 'No Default'], save=f'{figures_path}/IG_cat_feats.png')"
   ]
  },
  {
   "cell_type": "code",
   "execution_count": 27,
   "id": "6f919d42",
   "metadata": {},
   "outputs": [
    {
     "ename": "NameError",
     "evalue": "name 'pos_attr_cont' is not defined",
     "output_type": "error",
     "traceback": [
      "\u001b[0;31m---------------------------------------------------------------------------\u001b[0m",
      "\u001b[0;31mNameError\u001b[0m                                 Traceback (most recent call last)",
      "Cell \u001b[0;32mIn[27], line 1\u001b[0m\n\u001b[0;32m----> 1\u001b[0m plot_importances([\u001b[43mpos_attr_cont\u001b[49m, neg_attr_cont], \n\u001b[1;32m      2\u001b[0m                  CONTINUOUS_COLUMNS, \n\u001b[1;32m      3\u001b[0m                  \u001b[38;5;124m'\u001b[39m\u001b[38;5;124mAverage Continuous Feature Importance\u001b[39m\u001b[38;5;124m'\u001b[39m,\n\u001b[1;32m      4\u001b[0m                  \u001b[38;5;124m'\u001b[39m\u001b[38;5;124mContinuous Features\u001b[39m\u001b[38;5;124m'\u001b[39m,\n\u001b[1;32m      5\u001b[0m                  \u001b[38;5;124m'\u001b[39m\u001b[38;5;124mAttributions\u001b[39m\u001b[38;5;124m'\u001b[39m,\n\u001b[1;32m      6\u001b[0m                  [\u001b[38;5;124m'\u001b[39m\u001b[38;5;124mr\u001b[39m\u001b[38;5;124m'\u001b[39m, \u001b[38;5;124m'\u001b[39m\u001b[38;5;124mg\u001b[39m\u001b[38;5;124m'\u001b[39m], \n\u001b[1;32m      7\u001b[0m                  [\u001b[38;5;124m'\u001b[39m\u001b[38;5;124mDefault\u001b[39m\u001b[38;5;124m'\u001b[39m, \u001b[38;5;124m'\u001b[39m\u001b[38;5;124mNo Default\u001b[39m\u001b[38;5;124m'\u001b[39m], save\u001b[38;5;241m=\u001b[39m\u001b[38;5;124mf\u001b[39m\u001b[38;5;124m'\u001b[39m\u001b[38;5;132;01m{\u001b[39;00mfigures_path\u001b[38;5;132;01m}\u001b[39;00m\u001b[38;5;124m/IG_cont_feats.png\u001b[39m\u001b[38;5;124m'\u001b[39m)\n",
      "\u001b[0;31mNameError\u001b[0m: name 'pos_attr_cont' is not defined"
     ]
    }
   ],
   "source": [
    "plot_importances([pos_attr_cont, neg_attr_cont], \n",
    "                 CONTINUOUS_COLUMNS, \n",
    "                 'Average Continuous Feature Importance',\n",
    "                 'Continuous Features',\n",
    "                 'Attributions',\n",
    "                 ['r', 'g'], \n",
    "                 ['Default', 'No Default'], save=f'{figures_path}/IG_cont_feats.png')"
   ]
  },
  {
   "cell_type": "markdown",
   "id": "53d024d0",
   "metadata": {},
   "source": [
    "We still should explore attributions to ensure that mean/median attribution scores aren't from outliers i.e."
   ]
  },
  {
   "cell_type": "code",
   "execution_count": 28,
   "id": "56541c19",
   "metadata": {},
   "outputs": [
    {
     "ename": "NameError",
     "evalue": "name 'pos_attr_cat' is not defined",
     "output_type": "error",
     "traceback": [
      "\u001b[0;31m---------------------------------------------------------------------------\u001b[0m",
      "\u001b[0;31mNameError\u001b[0m                                 Traceback (most recent call last)",
      "Cell \u001b[0;32mIn[28], line 3\u001b[0m\n\u001b[1;32m      1\u001b[0m cat_colnum \u001b[38;5;241m=\u001b[39m \u001b[38;5;241m2\u001b[39m\n\u001b[1;32m      2\u001b[0m cat_col_name \u001b[38;5;241m=\u001b[39m CATEGORICAL_COLUMNS[cat_colnum]\n\u001b[0;32m----> 3\u001b[0m plt\u001b[38;5;241m.\u001b[39mhist([\u001b[43mpos_attr_cat\u001b[49m[:, cat_colnum], neg_attr_cat[:, cat_colnum]], \u001b[38;5;241m30\u001b[39m, color\u001b[38;5;241m=\u001b[39m[\u001b[38;5;124m'\u001b[39m\u001b[38;5;124mr\u001b[39m\u001b[38;5;124m'\u001b[39m, \u001b[38;5;124m'\u001b[39m\u001b[38;5;124mg\u001b[39m\u001b[38;5;124m'\u001b[39m], stacked\u001b[38;5;241m=\u001b[39m\u001b[38;5;28;01mTrue\u001b[39;00m);\n\u001b[1;32m      4\u001b[0m plt\u001b[38;5;241m.\u001b[39mtitle(\u001b[38;5;124mf\u001b[39m\u001b[38;5;124m\"\u001b[39m\u001b[38;5;124mDistribution of Attribution Values\u001b[39m\u001b[38;5;130;01m\\n\u001b[39;00m\u001b[38;5;124mfor \u001b[39m\u001b[38;5;132;01m{\u001b[39;00mcat_col_name\u001b[38;5;132;01m}\u001b[39;00m\u001b[38;5;124m feature\u001b[39m\u001b[38;5;124m\"\u001b[39m);\n\u001b[1;32m      5\u001b[0m plt\u001b[38;5;241m.\u001b[39mlegend([\u001b[38;5;124m'\u001b[39m\u001b[38;5;124mDefault\u001b[39m\u001b[38;5;124m'\u001b[39m, \u001b[38;5;124m'\u001b[39m\u001b[38;5;124mNo Default\u001b[39m\u001b[38;5;124m'\u001b[39m], loc\u001b[38;5;241m=\u001b[39m\u001b[38;5;124m\"\u001b[39m\u001b[38;5;124mcenter left\u001b[39m\u001b[38;5;124m\"\u001b[39m, borderaxespad\u001b[38;5;241m=\u001b[39m\u001b[38;5;241m0\u001b[39m)\n",
      "\u001b[0;31mNameError\u001b[0m: name 'pos_attr_cat' is not defined"
     ]
    }
   ],
   "source": [
    "cat_colnum = 2\n",
    "cat_col_name = CATEGORICAL_COLUMNS[cat_colnum]\n",
    "plt.hist([pos_attr_cat[:, cat_colnum], neg_attr_cat[:, cat_colnum]], 30, color=['r', 'g'], stacked=True);\n",
    "plt.title(f\"Distribution of Attribution Values\\nfor {cat_col_name} feature\");\n",
    "plt.legend(['Default', 'No Default'], loc=\"center left\", borderaxespad=0)\n",
    "plt.savefig(f'{figures_path}/IG_{cat_col_name}_feat_cat.png', dpi=600)"
   ]
  },
  {
   "cell_type": "code",
   "execution_count": 29,
   "id": "d6c5859f",
   "metadata": {},
   "outputs": [
    {
     "ename": "NameError",
     "evalue": "name 'pos_attr_cont' is not defined",
     "output_type": "error",
     "traceback": [
      "\u001b[0;31m---------------------------------------------------------------------------\u001b[0m",
      "\u001b[0;31mNameError\u001b[0m                                 Traceback (most recent call last)",
      "Cell \u001b[0;32mIn[29], line 3\u001b[0m\n\u001b[1;32m      1\u001b[0m cont_colnum \u001b[38;5;241m=\u001b[39m \u001b[38;5;241m-\u001b[39m\u001b[38;5;241m4\u001b[39m\n\u001b[1;32m      2\u001b[0m cont_col_name \u001b[38;5;241m=\u001b[39m CONTINUOUS_COLUMNS[cont_colnum]\n\u001b[0;32m----> 3\u001b[0m plt\u001b[38;5;241m.\u001b[39mhist([\u001b[43mpos_attr_cont\u001b[49m[:, cont_colnum], neg_attr_cat[:, cat_colnum]], \u001b[38;5;241m30\u001b[39m, color\u001b[38;5;241m=\u001b[39m[\u001b[38;5;124m'\u001b[39m\u001b[38;5;124mr\u001b[39m\u001b[38;5;124m'\u001b[39m,\u001b[38;5;124m'\u001b[39m\u001b[38;5;124mg\u001b[39m\u001b[38;5;124m'\u001b[39m], stacked\u001b[38;5;241m=\u001b[39m\u001b[38;5;28;01mTrue\u001b[39;00m);\n\u001b[1;32m      4\u001b[0m plt\u001b[38;5;241m.\u001b[39mtitle(\u001b[38;5;124mf\u001b[39m\u001b[38;5;124m\"\u001b[39m\u001b[38;5;124mDistribution of Attribution Values\u001b[39m\u001b[38;5;130;01m\\n\u001b[39;00m\u001b[38;5;124mfor \u001b[39m\u001b[38;5;132;01m{\u001b[39;00mcont_col_name\u001b[38;5;132;01m}\u001b[39;00m\u001b[38;5;124m feature\u001b[39m\u001b[38;5;124m\"\u001b[39m);\n\u001b[1;32m      5\u001b[0m plt\u001b[38;5;241m.\u001b[39mlegend([\u001b[38;5;124m'\u001b[39m\u001b[38;5;124mDefault\u001b[39m\u001b[38;5;124m'\u001b[39m, \u001b[38;5;124m'\u001b[39m\u001b[38;5;124mNo Default\u001b[39m\u001b[38;5;124m'\u001b[39m], loc\u001b[38;5;241m=\u001b[39m\u001b[38;5;124m\"\u001b[39m\u001b[38;5;124mcenter right\u001b[39m\u001b[38;5;124m\"\u001b[39m, borderaxespad\u001b[38;5;241m=\u001b[39m\u001b[38;5;241m0\u001b[39m)\n",
      "\u001b[0;31mNameError\u001b[0m: name 'pos_attr_cont' is not defined"
     ]
    }
   ],
   "source": [
    "cont_colnum = -4\n",
    "cont_col_name = CONTINUOUS_COLUMNS[cont_colnum]\n",
    "plt.hist([pos_attr_cont[:, cont_colnum], neg_attr_cat[:, cat_colnum]], 30, color=['r','g'], stacked=True);\n",
    "plt.title(f\"Distribution of Attribution Values\\nfor {cont_col_name} feature\");\n",
    "plt.legend(['Default', 'No Default'], loc=\"center right\", borderaxespad=0)\n",
    "plt.savefig(f'{figures_path}/IG_{cont_col_name}_feat_cat.png', dpi=600)"
   ]
  },
  {
   "cell_type": "code",
   "execution_count": 30,
   "id": "ba4f1a33",
   "metadata": {},
   "outputs": [
    {
     "ename": "NameError",
     "evalue": "name 'pos_cats' is not defined",
     "output_type": "error",
     "traceback": [
      "\u001b[0;31m---------------------------------------------------------------------------\u001b[0m",
      "\u001b[0;31mNameError\u001b[0m                                 Traceback (most recent call last)",
      "Cell \u001b[0;32mIn[30], line 3\u001b[0m\n\u001b[1;32m      1\u001b[0m \u001b[38;5;28;01mfrom\u001b[39;00m \u001b[38;5;21;01mscipy\u001b[39;00m \u001b[38;5;28;01mimport\u001b[39;00m stats\n\u001b[0;32m----> 3\u001b[0m poscat_bin_means, poscat_bin_edges, _ \u001b[38;5;241m=\u001b[39m stats\u001b[38;5;241m.\u001b[39mbinned_statistic(cp\u001b[38;5;241m.\u001b[39masnumpy(\u001b[43mpos_cats\u001b[49m[:, cat_colnum]), pos_attr_cat[:, cat_colnum], \n\u001b[1;32m      4\u001b[0m                                                  statistic\u001b[38;5;241m=\u001b[39m\u001b[38;5;124m'\u001b[39m\u001b[38;5;124mmean\u001b[39m\u001b[38;5;124m'\u001b[39m, bins\u001b[38;5;241m=\u001b[39m\u001b[38;5;241m10\u001b[39m)\n\u001b[1;32m      5\u001b[0m poscat_bin_count, _, _ \u001b[38;5;241m=\u001b[39m stats\u001b[38;5;241m.\u001b[39mbinned_statistic(cp\u001b[38;5;241m.\u001b[39masnumpy(pos_cats[:, cat_colnum]), pos_attr_cat[:, cat_colnum], \n\u001b[1;32m      6\u001b[0m                                          statistic\u001b[38;5;241m=\u001b[39m\u001b[38;5;124m'\u001b[39m\u001b[38;5;124mcount\u001b[39m\u001b[38;5;124m'\u001b[39m, bins\u001b[38;5;241m=\u001b[39m\u001b[38;5;241m10\u001b[39m)\n\u001b[1;32m      8\u001b[0m negcat_bin_means, negcat_bin_edges, _ \u001b[38;5;241m=\u001b[39m stats\u001b[38;5;241m.\u001b[39mbinned_statistic(cp\u001b[38;5;241m.\u001b[39masnumpy(neg_cats[:, cat_colnum]), neg_attr_cat[:, cat_colnum], \n\u001b[1;32m      9\u001b[0m                                                  statistic\u001b[38;5;241m=\u001b[39m\u001b[38;5;124m'\u001b[39m\u001b[38;5;124mmean\u001b[39m\u001b[38;5;124m'\u001b[39m, bins\u001b[38;5;241m=\u001b[39m\u001b[38;5;241m10\u001b[39m)\n",
      "\u001b[0;31mNameError\u001b[0m: name 'pos_cats' is not defined"
     ]
    }
   ],
   "source": [
    "from scipy import stats\n",
    "\n",
    "poscat_bin_means, poscat_bin_edges, _ = stats.binned_statistic(cp.asnumpy(pos_cats[:, cat_colnum]), pos_attr_cat[:, cat_colnum], \n",
    "                                                 statistic='mean', bins=10)\n",
    "poscat_bin_count, _, _ = stats.binned_statistic(cp.asnumpy(pos_cats[:, cat_colnum]), pos_attr_cat[:, cat_colnum], \n",
    "                                         statistic='count', bins=10)\n",
    "\n",
    "negcat_bin_means, negcat_bin_edges, _ = stats.binned_statistic(cp.asnumpy(neg_cats[:, cat_colnum]), neg_attr_cat[:, cat_colnum], \n",
    "                                                 statistic='mean', bins=10)\n",
    "negcat_bin_count, _, _ = stats.binned_statistic(cp.asnumpy(neg_cats[:, cat_colnum]), neg_attr_cat[:, cat_colnum], \n",
    "                                         statistic='count', bins=10)\n",
    "\n",
    "poscat_bin_width = (poscat_bin_edges[1] - poscat_bin_edges[0])\n",
    "poscat_bin_centers = poscat_bin_edges[1:] - poscat_bin_width/2\n",
    "\n",
    "negcat_bin_width = (negcat_bin_edges[1] - negcat_bin_edges[0])\n",
    "negcat_bin_centers = negcat_bin_edges[1:] - negcat_bin_width/2\n",
    "\n",
    "plt.scatter(poscat_bin_centers, poscat_bin_means, s=poscat_bin_count, color='r')\n",
    "plt.scatter(negcat_bin_centers, negcat_bin_means, s=negcat_bin_count, color='g')\n",
    "\n",
    "plt.xlabel(f\"Average {cat_col_name} Feature Value\");\n",
    "plt.ylabel(\"Average Attribution\");\n",
    "plt.legend(['Default', 'No Default'], loc=\"lower left\", markerscale=0.25)\n",
    "\n",
    "plt.savefig(f'{figures_path}/IG_binned_{cat_col_name}_feat_cat.png', dpi=600)"
   ]
  },
  {
   "cell_type": "code",
   "execution_count": 31,
   "id": "9db6dac9",
   "metadata": {},
   "outputs": [
    {
     "ename": "NameError",
     "evalue": "name 'pos_conts' is not defined",
     "output_type": "error",
     "traceback": [
      "\u001b[0;31m---------------------------------------------------------------------------\u001b[0m",
      "\u001b[0;31mNameError\u001b[0m                                 Traceback (most recent call last)",
      "Cell \u001b[0;32mIn[31], line 1\u001b[0m\n\u001b[0;32m----> 1\u001b[0m poscont_bin_means, poscont_bin_edges, _ \u001b[38;5;241m=\u001b[39m stats\u001b[38;5;241m.\u001b[39mbinned_statistic(cp\u001b[38;5;241m.\u001b[39masnumpy(\u001b[43mpos_conts\u001b[49m[:, cont_colnum]), pos_attr_cont[:, cont_colnum], \n\u001b[1;32m      2\u001b[0m                                                  statistic\u001b[38;5;241m=\u001b[39m\u001b[38;5;124m'\u001b[39m\u001b[38;5;124mmean\u001b[39m\u001b[38;5;124m'\u001b[39m, bins\u001b[38;5;241m=\u001b[39m\u001b[38;5;241m10\u001b[39m)\n\u001b[1;32m      3\u001b[0m poscont_bin_count, _, _ \u001b[38;5;241m=\u001b[39m stats\u001b[38;5;241m.\u001b[39mbinned_statistic(cp\u001b[38;5;241m.\u001b[39masnumpy(pos_conts[:, cont_colnum]), pos_attr_cont[:, cont_colnum], \n\u001b[1;32m      4\u001b[0m                                          statistic\u001b[38;5;241m=\u001b[39m\u001b[38;5;124m'\u001b[39m\u001b[38;5;124mcount\u001b[39m\u001b[38;5;124m'\u001b[39m, bins\u001b[38;5;241m=\u001b[39m\u001b[38;5;241m10\u001b[39m)\n\u001b[1;32m      6\u001b[0m negcont_bin_means, negcont_bin_edges, _ \u001b[38;5;241m=\u001b[39m stats\u001b[38;5;241m.\u001b[39mbinned_statistic(cp\u001b[38;5;241m.\u001b[39masnumpy(neg_conts[:, cont_colnum]), neg_attr_cont[:, cont_colnum], \n\u001b[1;32m      7\u001b[0m                                                  statistic\u001b[38;5;241m=\u001b[39m\u001b[38;5;124m'\u001b[39m\u001b[38;5;124mmean\u001b[39m\u001b[38;5;124m'\u001b[39m, bins\u001b[38;5;241m=\u001b[39m\u001b[38;5;241m10\u001b[39m)\n",
      "\u001b[0;31mNameError\u001b[0m: name 'pos_conts' is not defined"
     ]
    }
   ],
   "source": [
    "poscont_bin_means, poscont_bin_edges, _ = stats.binned_statistic(cp.asnumpy(pos_conts[:, cont_colnum]), pos_attr_cont[:, cont_colnum], \n",
    "                                                 statistic='mean', bins=10)\n",
    "poscont_bin_count, _, _ = stats.binned_statistic(cp.asnumpy(pos_conts[:, cont_colnum]), pos_attr_cont[:, cont_colnum], \n",
    "                                         statistic='count', bins=10)\n",
    "\n",
    "negcont_bin_means, negcont_bin_edges, _ = stats.binned_statistic(cp.asnumpy(neg_conts[:, cont_colnum]), neg_attr_cont[:, cont_colnum], \n",
    "                                                 statistic='mean', bins=10)\n",
    "negcont_bin_count, _, _ = stats.binned_statistic(cp.asnumpy(neg_conts[:, cont_colnum]), neg_attr_cont[:, cont_colnum], \n",
    "                                         statistic='count', bins=10)\n",
    "\n",
    "poscont_bin_width = (poscont_bin_edges[1] - poscont_bin_edges[0])\n",
    "poscont_bin_centers = poscont_bin_edges[1:] - poscont_bin_width/2\n",
    "\n",
    "negcont_bin_width = (negcont_bin_edges[1] - negcont_bin_edges[0])\n",
    "negcont_bin_centers = negcont_bin_edges[1:] - negcont_bin_width/2\n",
    "\n",
    "fig, ax = plt.subplots(figsize=(10, 6))\n",
    "ax.scatter(poscont_bin_centers, poscont_bin_means, s=poscont_bin_count, color='r')\n",
    "ax.scatter(negcont_bin_centers, negcont_bin_means, s=negcont_bin_count, color='g')\n",
    "ax.set_xlabel(f\"Average {cont_col_name} Feature Value\");\n",
    "ax.set_ylabel(\"Average Attribution\");\n",
    "plt.legend(['Default', 'No Default'], loc=\"lower right\", borderaxespad=0, markerscale=0.4)\n",
    "\n",
    "plt.savefig(f'{figures_path}/IG_binned_{cont_col_name}_feat_cat.png', dpi=600)"
   ]
  },
  {
   "cell_type": "markdown",
   "id": "86b78246",
   "metadata": {},
   "source": [
    " #### Layer conductance"
   ]
  },
  {
   "cell_type": "code",
   "execution_count": 32,
   "id": "24018e52",
   "metadata": {},
   "outputs": [
    {
     "ename": "NameError",
     "evalue": "name 'LayerConductance' is not defined",
     "output_type": "error",
     "traceback": [
      "\u001b[0;31m---------------------------------------------------------------------------\u001b[0m",
      "\u001b[0;31mNameError\u001b[0m                                 Traceback (most recent call last)",
      "Cell \u001b[0;32mIn[32], line 1\u001b[0m\n\u001b[0;32m----> 1\u001b[0m cond \u001b[38;5;241m=\u001b[39m \u001b[43mLayerConductance\u001b[49m(model, model\u001b[38;5;241m.\u001b[39mlayer_1)\n",
      "\u001b[0;31mNameError\u001b[0m: name 'LayerConductance' is not defined"
     ]
    }
   ],
   "source": [
    "cond = LayerConductance(model, model.layer_1)"
   ]
  },
  {
   "cell_type": "code",
   "execution_count": 33,
   "id": "e8209d7b",
   "metadata": {},
   "outputs": [
    {
     "ename": "NameError",
     "evalue": "name 'cond' is not defined",
     "output_type": "error",
     "traceback": [
      "\u001b[0;31m---------------------------------------------------------------------------\u001b[0m",
      "\u001b[0;31mNameError\u001b[0m                                 Traceback (most recent call last)",
      "Cell \u001b[0;32mIn[33], line 1\u001b[0m\n\u001b[0;32m----> 1\u001b[0m pos_cond_vals \u001b[38;5;241m=\u001b[39m \u001b[43mcond\u001b[49m\u001b[38;5;241m.\u001b[39mattribute((pos_cats, pos_conts), target\u001b[38;5;241m=\u001b[39m\u001b[38;5;241m0\u001b[39m)\n\u001b[1;32m      2\u001b[0m pos_cond_vals \u001b[38;5;241m=\u001b[39m pos_cond_vals\u001b[38;5;241m.\u001b[39mdetach()\u001b[38;5;241m.\u001b[39mcpu()\u001b[38;5;241m.\u001b[39mnumpy()\n\u001b[1;32m      4\u001b[0m neg_cond_vals \u001b[38;5;241m=\u001b[39m cond\u001b[38;5;241m.\u001b[39mattribute((neg_cats, neg_conts), target\u001b[38;5;241m=\u001b[39m\u001b[38;5;241m0\u001b[39m)\n",
      "\u001b[0;31mNameError\u001b[0m: name 'cond' is not defined"
     ]
    }
   ],
   "source": [
    "pos_cond_vals = cond.attribute((pos_cats, pos_conts), target=0)\n",
    "pos_cond_vals = pos_cond_vals.detach().cpu().numpy()\n",
    "\n",
    "neg_cond_vals = cond.attribute((neg_cats, neg_conts), target=0)\n",
    "neg_cond_vals = neg_cond_vals.detach().cpu().numpy()"
   ]
  },
  {
   "cell_type": "code",
   "execution_count": 34,
   "id": "d776e7b3",
   "metadata": {},
   "outputs": [],
   "source": [
    "# Helper method to print importances and visualize distribution\n",
    "def visualize_importances(feature_names, importances, print_values=False, title=\"Average Feature Importances\",\n",
    "                          axis_title=\"Features\", color='b', save=''):\n",
    "    print(title)\n",
    "    if print_values:\n",
    "        for i in range(len(feature_names)):\n",
    "            print(feature_names[i], \": \", '%.3f'%(importances[i]))\n",
    "    x_pos = (np.arange(len(feature_names)))\n",
    "    fig, ax = plt.subplots(figsize=(8,5))\n",
    "\n",
    "    ax.bar(x_pos, importances, align='center', color=color)\n",
    "#     plt.xticks(x_pos, feature_names, wrap=True, rotation=30)\n",
    "    ax.set_xlabel(axis_title)\n",
    "    ax.set_title(title)\n",
    "    plt.xticks([])\n",
    "    if isinstance(save, str) and save:\n",
    "        plt.savefig(save, dpi=600)"
   ]
  },
  {
   "cell_type": "code",
   "execution_count": 35,
   "id": "0f9f1537",
   "metadata": {},
   "outputs": [],
   "source": [
    "# remove seaborn settings - https://stackoverflow.com/questions/26899310/python-seaborn-to-reset-back-to-the-matplotlib\n",
    "import matplotlib\n",
    "matplotlib.rc_file_defaults()\n"
   ]
  },
  {
   "cell_type": "code",
   "execution_count": 36,
   "id": "0160a400",
   "metadata": {
    "tags": []
   },
   "outputs": [
    {
     "ename": "NameError",
     "evalue": "name 'pos_cond_vals' is not defined",
     "output_type": "error",
     "traceback": [
      "\u001b[0;31m---------------------------------------------------------------------------\u001b[0m",
      "\u001b[0;31mNameError\u001b[0m                                 Traceback (most recent call last)",
      "Cell \u001b[0;32mIn[36], line 1\u001b[0m\n\u001b[0;32m----> 1\u001b[0m visualize_importances(\u001b[38;5;28mrange\u001b[39m(\u001b[38;5;241m512\u001b[39m), np\u001b[38;5;241m.\u001b[39mmean(\u001b[43mpos_cond_vals\u001b[49m, axis\u001b[38;5;241m=\u001b[39m\u001b[38;5;241m0\u001b[39m),\n\u001b[1;32m      2\u001b[0m                       print_values\u001b[38;5;241m=\u001b[39m\u001b[38;5;28;01mFalse\u001b[39;00m,\n\u001b[1;32m      3\u001b[0m                       title\u001b[38;5;241m=\u001b[39m\u001b[38;5;124m\"\u001b[39m\u001b[38;5;124mDefault - Layer 1 Average Neuron Importances\u001b[39m\u001b[38;5;124m\"\u001b[39m,\n\u001b[1;32m      4\u001b[0m                       axis_title\u001b[38;5;241m=\u001b[39m\u001b[38;5;124m\"\u001b[39m\u001b[38;5;124mNeurons\u001b[39m\u001b[38;5;124m\"\u001b[39m,\n\u001b[1;32m      5\u001b[0m                       color\u001b[38;5;241m=\u001b[39m\u001b[38;5;124m'\u001b[39m\u001b[38;5;124mr\u001b[39m\u001b[38;5;124m'\u001b[39m,\n\u001b[1;32m      6\u001b[0m                       save\u001b[38;5;241m=\u001b[39m\u001b[38;5;124mf\u001b[39m\u001b[38;5;124m'\u001b[39m\u001b[38;5;132;01m{\u001b[39;00mfigures_path\u001b[38;5;132;01m}\u001b[39;00m\u001b[38;5;124m/LayerCond_layer1_default.png\u001b[39m\u001b[38;5;124m'\u001b[39m\n\u001b[1;32m      7\u001b[0m                      )\n\u001b[1;32m      8\u001b[0m \u001b[38;5;66;03m# plt.xticks([])\u001b[39;00m\n\u001b[1;32m      9\u001b[0m visualize_importances(\u001b[38;5;28mrange\u001b[39m(\u001b[38;5;241m512\u001b[39m), np\u001b[38;5;241m.\u001b[39mmean(neg_cond_vals, axis\u001b[38;5;241m=\u001b[39m\u001b[38;5;241m0\u001b[39m),\n\u001b[1;32m     10\u001b[0m                       print_values\u001b[38;5;241m=\u001b[39m\u001b[38;5;28;01mFalse\u001b[39;00m,\n\u001b[1;32m     11\u001b[0m                       title\u001b[38;5;241m=\u001b[39m\u001b[38;5;124m\"\u001b[39m\u001b[38;5;124mNo Default - Layer 1 Average Neuron Importances\u001b[39m\u001b[38;5;124m\"\u001b[39m,\n\u001b[0;32m   (...)\u001b[0m\n\u001b[1;32m     14\u001b[0m                       save\u001b[38;5;241m=\u001b[39m\u001b[38;5;124mf\u001b[39m\u001b[38;5;124m'\u001b[39m\u001b[38;5;132;01m{\u001b[39;00mfigures_path\u001b[38;5;132;01m}\u001b[39;00m\u001b[38;5;124m/LayerCond_layer1_no_default.png\u001b[39m\u001b[38;5;124m'\u001b[39m\n\u001b[1;32m     15\u001b[0m                      )\n",
      "\u001b[0;31mNameError\u001b[0m: name 'pos_cond_vals' is not defined"
     ]
    }
   ],
   "source": [
    "visualize_importances(range(512), np.mean(pos_cond_vals, axis=0),\n",
    "                      print_values=False,\n",
    "                      title=\"Default - Layer 1 Average Neuron Importances\",\n",
    "                      axis_title=\"Neurons\",\n",
    "                      color='r',\n",
    "                      save=f'{figures_path}/LayerCond_layer1_default.png'\n",
    "                     )\n",
    "# plt.xticks([])\n",
    "visualize_importances(range(512), np.mean(neg_cond_vals, axis=0),\n",
    "                      print_values=False,\n",
    "                      title=\"No Default - Layer 1 Average Neuron Importances\",\n",
    "                      axis_title=\"Neurons\",\n",
    "                      color='g',\n",
    "                      save=f'{figures_path}/LayerCond_layer1_no_default.png'\n",
    "                     )\n",
    "\n",
    "# plt.xticks([])\n"
   ]
  },
  {
   "cell_type": "code",
   "execution_count": 37,
   "id": "52406050",
   "metadata": {},
   "outputs": [
    {
     "ename": "NameError",
     "evalue": "name 'pos_cond_vals' is not defined",
     "output_type": "error",
     "traceback": [
      "\u001b[0;31m---------------------------------------------------------------------------\u001b[0m",
      "\u001b[0;31mNameError\u001b[0m                                 Traceback (most recent call last)",
      "Cell \u001b[0;32mIn[37], line 6\u001b[0m\n\u001b[1;32m      1\u001b[0m \u001b[38;5;66;03m# selecting some neurons for activation observation\u001b[39;00m\n\u001b[1;32m      2\u001b[0m \n\u001b[1;32m      3\u001b[0m \u001b[38;5;66;03m# Notation here is: class__neuron_type\u001b[39;00m\n\u001b[1;32m      4\u001b[0m \u001b[38;5;66;03m# ie. pos__pos_neuron is the positive class, and most positive mean neuron.\u001b[39;00m\n\u001b[0;32m----> 6\u001b[0m pos_mean_neuron \u001b[38;5;241m=\u001b[39m np\u001b[38;5;241m.\u001b[39mmean(\u001b[43mpos_cond_vals\u001b[49m, axis\u001b[38;5;241m=\u001b[39m\u001b[38;5;241m0\u001b[39m)\n\u001b[1;32m      7\u001b[0m pos__not_learning\u001b[38;5;241m=\u001b[39m np\u001b[38;5;241m.\u001b[39mabs(pos_mean_neuron)\u001b[38;5;241m.\u001b[39margmin()\n\u001b[1;32m      8\u001b[0m pos__pos_neuron \u001b[38;5;241m=\u001b[39m pos_mean_neuron\u001b[38;5;241m.\u001b[39margmax()\n",
      "\u001b[0;31mNameError\u001b[0m: name 'pos_cond_vals' is not defined"
     ]
    }
   ],
   "source": [
    "# selecting some neurons for activation observation\n",
    "\n",
    "# Notation here is: class__neuron_type\n",
    "# ie. pos__pos_neuron is the positive class, and most positive mean neuron.\n",
    "\n",
    "pos_mean_neuron = np.mean(pos_cond_vals, axis=0)\n",
    "pos__not_learning= np.abs(pos_mean_neuron).argmin()\n",
    "pos__pos_neuron = pos_mean_neuron.argmax()\n",
    "pos__neg_neuron = pos_mean_neuron.argmin()\n",
    "\n",
    "neg_mean_neuron = np.mean(neg_cond_vals, axis=0)\n",
    "neg__not_learning= np.abs(neg_mean_neuron).argmin()\n",
    "neg__pos_neuron = neg_mean_neuron.argmax()\n",
    "neg__neg_neuron = neg_mean_neuron.argmin()\n",
    "\n",
    "print('Positive Class: ', pos__not_learning, pos__pos_neuron, pos__neg_neuron)\n",
    "print('Negative Class: ', neg__not_learning, neg__pos_neuron, neg__neg_neuron)"
   ]
  },
  {
   "cell_type": "code",
   "execution_count": 38,
   "id": "20e77668",
   "metadata": {},
   "outputs": [
    {
     "ename": "NameError",
     "evalue": "name 'pos_cond_vals' is not defined",
     "output_type": "error",
     "traceback": [
      "\u001b[0;31m---------------------------------------------------------------------------\u001b[0m",
      "\u001b[0;31mNameError\u001b[0m                                 Traceback (most recent call last)",
      "Cell \u001b[0;32mIn[38], line 6\u001b[0m\n\u001b[1;32m      2\u001b[0m fig, ax \u001b[38;5;241m=\u001b[39m plt\u001b[38;5;241m.\u001b[39msubplots(nrows\u001b[38;5;241m=\u001b[39m\u001b[38;5;241m2\u001b[39m, ncols\u001b[38;5;241m=\u001b[39m\u001b[38;5;241m3\u001b[39m, figsize\u001b[38;5;241m=\u001b[39m(\u001b[38;5;241m12\u001b[39m,\u001b[38;5;241m6\u001b[39m))\n\u001b[1;32m      5\u001b[0m \u001b[38;5;66;03m# positive correlation with default\u001b[39;00m\n\u001b[0;32m----> 6\u001b[0m ax[\u001b[38;5;241m0\u001b[39m, \u001b[38;5;241m0\u001b[39m]\u001b[38;5;241m.\u001b[39mhist(\u001b[43mpos_cond_vals\u001b[49m[:, pos__pos_neuron], \u001b[38;5;241m100\u001b[39m, color\u001b[38;5;241m=\u001b[39m\u001b[38;5;124m'\u001b[39m\u001b[38;5;124mr\u001b[39m\u001b[38;5;124m'\u001b[39m);\n\u001b[1;32m      7\u001b[0m ax[\u001b[38;5;241m0\u001b[39m, \u001b[38;5;241m0\u001b[39m]\u001b[38;5;241m.\u001b[39mset_title(\u001b[38;5;124mf\u001b[39m\u001b[38;5;124m\"\u001b[39m\u001b[38;5;124mNeuron \u001b[39m\u001b[38;5;132;01m{\u001b[39;00mpos__pos_neuron\u001b[38;5;132;01m}\u001b[39;00m\u001b[38;5;124m Distribution\u001b[39m\u001b[38;5;130;01m\\n\u001b[39;00m\u001b[38;5;124mPositive Corr.\u001b[39m\u001b[38;5;124m\"\u001b[39m)\n\u001b[1;32m      9\u001b[0m ax[\u001b[38;5;241m1\u001b[39m, \u001b[38;5;241m0\u001b[39m]\u001b[38;5;241m.\u001b[39mhist(neg_cond_vals[:, neg__pos_neuron], \u001b[38;5;241m100\u001b[39m, color\u001b[38;5;241m=\u001b[39m\u001b[38;5;124m'\u001b[39m\u001b[38;5;124mg\u001b[39m\u001b[38;5;124m'\u001b[39m);\n",
      "\u001b[0;31mNameError\u001b[0m: name 'pos_cond_vals' is not defined"
     ]
    },
    {
     "data": {
      "image/png": "[encoded data removed]",
      "text/plain": [
       "<Figure size 1200x600 with 6 Axes>"
      ]
     },
     "metadata": {},
     "output_type": "display_data"
    }
   ],
   "source": [
    "# these neurons are not learning much\n",
    "fig, ax = plt.subplots(nrows=2, ncols=3, figsize=(12,6))\n",
    "\n",
    "\n",
    "# positive correlation with default\n",
    "ax[0, 0].hist(pos_cond_vals[:, pos__pos_neuron], 100, color='r');\n",
    "ax[0, 0].set_title(f\"Neuron {pos__pos_neuron} Distribution\\nPositive Corr.\")\n",
    "\n",
    "ax[1, 0].hist(neg_cond_vals[:, neg__pos_neuron], 100, color='g');\n",
    "ax[1, 0].set_title(f\"Neuron {neg__pos_neuron} Distribution\\nPositive Corr.\")\n",
    "\n",
    "# negative correlation with default\n",
    "ax[0, 1].hist(pos_cond_vals[:, pos__neg_neuron], 100, color='r');\n",
    "ax[0, 1].set_title(f\"Neuron {pos__neg_neuron} Distribution\\nNegative Corr.\");\n",
    "\n",
    "ax[1, 1].hist(neg_cond_vals[:, neg__neg_neuron], 100, color='g');\n",
    "ax[1, 1].set_title(f\"Neuron {neg__neg_neuron} Distribution\\nNegative Corr.\");\n",
    "\n",
    "# no clear correlation with default\n",
    "ax[0, 2].hist(pos_cond_vals[:, pos__not_learning], 100, color='r');\n",
    "ax[0, 2].set_title(f\"Neuron {pos__not_learning} Distribution\\nNot learning\")\n",
    "\n",
    "ax[1, 2].hist(neg_cond_vals[:, neg__not_learning], 100, color='g');\n",
    "ax[1, 2].set_title(f\"Neuron {neg__not_learning} Distribution\\nNot learning\")\n",
    "\n",
    "plt.tight_layout()\n",
    "plt.savefig(f'{figures_path}/neuron_corr.png', dpi=600)"
   ]
  },
  {
   "cell_type": "markdown",
   "id": "22bfb2ad",
   "metadata": {},
   "source": [
    "  ### Neuron attributions"
   ]
  },
  {
   "cell_type": "code",
   "execution_count": 39,
   "id": "bbc85bb7",
   "metadata": {},
   "outputs": [
    {
     "ename": "NameError",
     "evalue": "name 'NeuronConductance' is not defined",
     "output_type": "error",
     "traceback": [
      "\u001b[0;31m---------------------------------------------------------------------------\u001b[0m",
      "\u001b[0;31mNameError\u001b[0m                                 Traceback (most recent call last)",
      "Cell \u001b[0;32mIn[39], line 3\u001b[0m\n\u001b[1;32m      1\u001b[0m \u001b[38;5;66;03m# go back to seaborn styling\u001b[39;00m\n\u001b[1;32m      2\u001b[0m sns\u001b[38;5;241m.\u001b[39mset()\n\u001b[0;32m----> 3\u001b[0m neuron_cond \u001b[38;5;241m=\u001b[39m \u001b[43mNeuronConductance\u001b[49m(model, model\u001b[38;5;241m.\u001b[39mlayer_1)\n",
      "\u001b[0;31mNameError\u001b[0m: name 'NeuronConductance' is not defined"
     ]
    }
   ],
   "source": [
    "# go back to seaborn styling\n",
    "sns.set()\n",
    "neuron_cond = NeuronConductance(model, model.layer_1)"
   ]
  },
  {
   "cell_type": "code",
   "execution_count": 42,
   "id": "9d71b983",
   "metadata": {},
   "outputs": [
    {
     "ename": "NameError",
     "evalue": "name 'neuron_cond' is not defined",
     "output_type": "error",
     "traceback": [
      "\u001b[0;31m---------------------------------------------------------------------------\u001b[0m",
      "\u001b[0;31mNameError\u001b[0m                                 Traceback (most recent call last)",
      "Cell \u001b[0;32mIn[42], line 3\u001b[0m\n\u001b[1;32m      1\u001b[0m \u001b[38;5;66;03m# Notation: neuron_(class)_cond_vals_(neuron_type)\u001b[39;00m\n\u001b[0;32m----> 3\u001b[0m neuron_pos_cond_vals_pos \u001b[38;5;241m=\u001b[39m \u001b[43mneuron_cond\u001b[49m\u001b[38;5;241m.\u001b[39mattribute((pos_cats, pos_conts),\n\u001b[1;32m      4\u001b[0m                                              neuron_selector\u001b[38;5;241m=\u001b[39m(pos__pos_neuron,), target\u001b[38;5;241m=\u001b[39m\u001b[38;5;241m0\u001b[39m)\n\u001b[1;32m      5\u001b[0m neuron_pos_cond_vals_neg \u001b[38;5;241m=\u001b[39m neuron_cond\u001b[38;5;241m.\u001b[39mattribute((pos_cats, pos_conts),\n\u001b[1;32m      6\u001b[0m                                              neuron_selector\u001b[38;5;241m=\u001b[39m(pos__neg_neuron,), target\u001b[38;5;241m=\u001b[39m\u001b[38;5;241m0\u001b[39m)\n\u001b[1;32m      7\u001b[0m neuron_pos_cond_vals_notlearn \u001b[38;5;241m=\u001b[39m neuron_cond\u001b[38;5;241m.\u001b[39mattribute((pos_cats, pos_conts), \n\u001b[1;32m      8\u001b[0m                                              neuron_selector\u001b[38;5;241m=\u001b[39m(pos__not_learning,), target\u001b[38;5;241m=\u001b[39m\u001b[38;5;241m0\u001b[39m)\n",
      "\u001b[0;31mNameError\u001b[0m: name 'neuron_cond' is not defined"
     ]
    }
   ],
   "source": [
    "# Notation: neuron_(class)_cond_vals_(neuron_type)\n",
    "\n",
    "neuron_pos_cond_vals_pos = neuron_cond.attribute((pos_cats, pos_conts),\n",
    "                                             neuron_selector=(pos__pos_neuron,), target=0)\n",
    "neuron_pos_cond_vals_neg = neuron_cond.attribute((pos_cats, pos_conts),\n",
    "                                             neuron_selector=(pos__neg_neuron,), target=0)\n",
    "neuron_pos_cond_vals_notlearn = neuron_cond.attribute((pos_cats, pos_conts), \n",
    "                                             neuron_selector=(pos__not_learning,), target=0)\n",
    "\n",
    "neuron_neg_cond_vals_pos = neuron_cond.attribute((neg_cats, neg_conts),\n",
    "                                             neuron_selector=(neg__pos_neuron,), target=0)\n",
    "neuron_neg_cond_vals_neg = neuron_cond.attribute((neg_cats, neg_conts),\n",
    "                                             neuron_selector=(neg__neg_neuron,), target=0)\n",
    "neuron_neg_cond_vals_notlearn = neuron_cond.attribute((neg_cats, neg_conts), \n",
    "                                             neuron_selector=(neg__not_learning,), target=0)\n",
    "\n",
    "\n",
    "# swapping the class and neuron - neuron_selector\n",
    "# i.e what is the negative/positive neuron (selected above) attribution for the positive/negative class\n",
    "# this is so we can have comparison of the same node attributions for each class for each of the three cases.\n",
    "neuron_pos_cond_vals_pos_swap = neuron_cond.attribute((pos_cats, pos_conts),\n",
    "                                             neuron_selector=(neg__pos_neuron,), target=0)\n",
    "neuron_pos_cond_vals_neg_swap = neuron_cond.attribute((pos_cats, pos_conts),\n",
    "                                             neuron_selector=(neg__neg_neuron,), target=0)\n",
    "neuron_pos_cond_vals_notlearn_swap = neuron_cond.attribute((pos_cats, pos_conts), \n",
    "                                             neuron_selector=(neg__not_learning,), target=0)\n",
    "\n",
    "neuron_neg_cond_vals_pos_swap = neuron_cond.attribute((neg_cats, neg_conts),\n",
    "                                             neuron_selector=(pos__pos_neuron,), target=0)\n",
    "neuron_neg_cond_vals_neg_swap = neuron_cond.attribute((neg_cats, neg_conts),\n",
    "                                             neuron_selector=(pos__neg_neuron,), target=0)\n",
    "neuron_neg_cond_vals_notlearn_swap = neuron_cond.attribute((neg_cats, neg_conts), \n",
    "                                             neuron_selector=(pos__not_learning,), target=0)"
   ]
  },
  {
   "cell_type": "code",
   "execution_count": 43,
   "id": "856d8d09",
   "metadata": {},
   "outputs": [
    {
     "ename": "NameError",
     "evalue": "name 'neuron_pos_cond_vals_pos' is not defined",
     "output_type": "error",
     "traceback": [
      "\u001b[0;31m---------------------------------------------------------------------------\u001b[0m",
      "\u001b[0;31mNameError\u001b[0m                                 Traceback (most recent call last)",
      "Cell \u001b[0;32mIn[43], line 1\u001b[0m\n\u001b[0;32m----> 1\u001b[0m neuron_pos_cond_vals_pos_cat, neuron_pos_cond_vals_pos_cont \u001b[38;5;241m=\u001b[39m \u001b[43mneuron_pos_cond_vals_pos\u001b[49m\n\u001b[1;32m      2\u001b[0m neuron_pos_cond_vals_neg_cat, neuron_pos_cond_vals_neg_cont \u001b[38;5;241m=\u001b[39m neuron_pos_cond_vals_neg\n\u001b[1;32m      3\u001b[0m neuron_pos_cond_vals_notlearn_cat, neuron_pos_cond_vals_notlearn_cont \u001b[38;5;241m=\u001b[39m neuron_pos_cond_vals_notlearn\n",
      "\u001b[0;31mNameError\u001b[0m: name 'neuron_pos_cond_vals_pos' is not defined"
     ]
    }
   ],
   "source": [
    "neuron_pos_cond_vals_pos_cat, neuron_pos_cond_vals_pos_cont = neuron_pos_cond_vals_pos\n",
    "neuron_pos_cond_vals_neg_cat, neuron_pos_cond_vals_neg_cont = neuron_pos_cond_vals_neg\n",
    "neuron_pos_cond_vals_notlearn_cat, neuron_pos_cond_vals_notlearn_cont = neuron_pos_cond_vals_notlearn\n",
    "\n",
    "neuron_neg_cond_vals_pos_cat, neuron_neg_cond_vals_pos_cont = neuron_neg_cond_vals_pos\n",
    "neuron_neg_cond_vals_neg_cat, neuron_neg_cond_vals_neg_cont = neuron_neg_cond_vals_neg\n",
    "neuron_neg_cond_vals_notlearn_cat, neuron_neg_cond_vals_notlearn_cont = neuron_neg_cond_vals_notlearn\n",
    "\n",
    "# swap cases above\n",
    "neuron_pos_cond_vals_pos_cat_swap, neuron_pos_cond_vals_pos_cont_swap = neuron_pos_cond_vals_pos_swap\n",
    "neuron_pos_cond_vals_neg_cat_swap, neuron_pos_cond_vals_neg_cont_swap = neuron_pos_cond_vals_neg_swap\n",
    "neuron_pos_cond_vals_notlearn_cat_swap, neuron_pos_cond_vals_notlearn_cont_swap = neuron_pos_cond_vals_notlearn_swap\n",
    "\n",
    "neuron_neg_cond_vals_pos_cat_swap, neuron_neg_cond_vals_pos_cont_swap = neuron_neg_cond_vals_pos_swap\n",
    "neuron_neg_cond_vals_neg_cat_swap, neuron_neg_cond_vals_neg_cont_swap = neuron_neg_cond_vals_neg_swap\n",
    "neuron_neg_cond_vals_notlearn_cat_swap, neuron_neg_cond_vals_notlearn_cont_swap = neuron_neg_cond_vals_notlearn_swap"
   ]
  },
  {
   "cell_type": "markdown",
   "id": "8ca5e674",
   "metadata": {},
   "source": [
    "  #### Positve class - Default"
   ]
  },
  {
   "cell_type": "code",
   "execution_count": 44,
   "id": "9b470012",
   "metadata": {
    "tags": []
   },
   "outputs": [
    {
     "ename": "NameError",
     "evalue": "name 'neuron_pos_cond_vals_pos_cat' is not defined",
     "output_type": "error",
     "traceback": [
      "\u001b[0;31m---------------------------------------------------------------------------\u001b[0m",
      "\u001b[0;31mNameError\u001b[0m                                 Traceback (most recent call last)",
      "Cell \u001b[0;32mIn[44], line 3\u001b[0m\n\u001b[1;32m      1\u001b[0m sns\u001b[38;5;241m.\u001b[39mset()\n\u001b[1;32m      2\u001b[0m \u001b[38;5;66;03m# the most positive neuron for the positive class - categorical(Default)\u001b[39;00m\n\u001b[0;32m----> 3\u001b[0m plot_importances([\u001b[43mneuron_pos_cond_vals_pos_cat\u001b[49m\u001b[38;5;241m.\u001b[39mmean(dim\u001b[38;5;241m=\u001b[39m\u001b[38;5;241m0\u001b[39m)\u001b[38;5;241m.\u001b[39mdetach()\u001b[38;5;241m.\u001b[39mcpu()\u001b[38;5;241m.\u001b[39mnumpy(), \n\u001b[1;32m      4\u001b[0m                   neuron_neg_cond_vals_pos_cat_swap\u001b[38;5;241m.\u001b[39mmean(dim\u001b[38;5;241m=\u001b[39m\u001b[38;5;241m0\u001b[39m)\u001b[38;5;241m.\u001b[39mdetach()\u001b[38;5;241m.\u001b[39mcpu()\u001b[38;5;241m.\u001b[39mnumpy()], \n\u001b[1;32m      5\u001b[0m                  CATEGORICAL_COLUMNS, \n\u001b[1;32m      6\u001b[0m                  \u001b[38;5;124mf\u001b[39m\u001b[38;5;124m'\u001b[39m\u001b[38;5;124mNeuron \u001b[39m\u001b[38;5;132;01m{\u001b[39;00mpos__pos_neuron\u001b[38;5;132;01m}\u001b[39;00m\u001b[38;5;124m Average Categorical Feature Importance\u001b[39m\u001b[38;5;124m'\u001b[39m,\n\u001b[1;32m      7\u001b[0m                  \u001b[38;5;124m'\u001b[39m\u001b[38;5;124mCategorical Features\u001b[39m\u001b[38;5;124m'\u001b[39m,\n\u001b[1;32m      8\u001b[0m                  \u001b[38;5;124m'\u001b[39m\u001b[38;5;124mAttributions\u001b[39m\u001b[38;5;124m'\u001b[39m,\n\u001b[1;32m      9\u001b[0m                  [\u001b[38;5;124m'\u001b[39m\u001b[38;5;124mr\u001b[39m\u001b[38;5;124m'\u001b[39m, \u001b[38;5;124m'\u001b[39m\u001b[38;5;124mg\u001b[39m\u001b[38;5;124m'\u001b[39m], \n\u001b[1;32m     10\u001b[0m                  [\u001b[38;5;124m'\u001b[39m\u001b[38;5;124mDefault\u001b[39m\u001b[38;5;124m'\u001b[39m, \u001b[38;5;124m'\u001b[39m\u001b[38;5;124mNo Default\u001b[39m\u001b[38;5;124m'\u001b[39m], normalize_vectors\u001b[38;5;241m=\u001b[39m\u001b[38;5;28;01mFalse\u001b[39;00m, \n\u001b[1;32m     11\u001b[0m                  save\u001b[38;5;241m=\u001b[39m\u001b[38;5;124mf\u001b[39m\u001b[38;5;124m'\u001b[39m\u001b[38;5;132;01m{\u001b[39;00mfigures_path\u001b[38;5;132;01m}\u001b[39;00m\u001b[38;5;124m/na_pos_pos_cat.png\u001b[39m\u001b[38;5;124m'\u001b[39m\n\u001b[1;32m     12\u001b[0m                 )\n\u001b[1;32m     14\u001b[0m \u001b[38;5;66;03m# the most positive neuron for the positive class - continuous (Default)\u001b[39;00m\n\u001b[1;32m     15\u001b[0m plot_importances([neuron_pos_cond_vals_pos_cont\u001b[38;5;241m.\u001b[39mmean(dim\u001b[38;5;241m=\u001b[39m\u001b[38;5;241m0\u001b[39m)\u001b[38;5;241m.\u001b[39mdetach()\u001b[38;5;241m.\u001b[39mcpu()\u001b[38;5;241m.\u001b[39mnumpy(), \n\u001b[1;32m     16\u001b[0m                   neuron_neg_cond_vals_pos_cont_swap\u001b[38;5;241m.\u001b[39mmean(dim\u001b[38;5;241m=\u001b[39m\u001b[38;5;241m0\u001b[39m)\u001b[38;5;241m.\u001b[39mdetach()\u001b[38;5;241m.\u001b[39mcpu()\u001b[38;5;241m.\u001b[39mnumpy()], \n\u001b[1;32m     17\u001b[0m                  CONTINUOUS_COLUMNS, \n\u001b[0;32m   (...)\u001b[0m\n\u001b[1;32m     23\u001b[0m                 save\u001b[38;5;241m=\u001b[39m\u001b[38;5;124mf\u001b[39m\u001b[38;5;124m'\u001b[39m\u001b[38;5;132;01m{\u001b[39;00mfigures_path\u001b[38;5;132;01m}\u001b[39;00m\u001b[38;5;124m/na_pos_pos_cont.png\u001b[39m\u001b[38;5;124m'\u001b[39m\n\u001b[1;32m     24\u001b[0m                 )\n",
      "\u001b[0;31mNameError\u001b[0m: name 'neuron_pos_cond_vals_pos_cat' is not defined"
     ]
    }
   ],
   "source": [
    "sns.set()\n",
    "# the most positive neuron for the positive class - categorical(Default)\n",
    "plot_importances([neuron_pos_cond_vals_pos_cat.mean(dim=0).detach().cpu().numpy(), \n",
    "                  neuron_neg_cond_vals_pos_cat_swap.mean(dim=0).detach().cpu().numpy()], \n",
    "                 CATEGORICAL_COLUMNS, \n",
    "                 f'Neuron {pos__pos_neuron} Average Categorical Feature Importance',\n",
    "                 'Categorical Features',\n",
    "                 'Attributions',\n",
    "                 ['r', 'g'], \n",
    "                 ['Default', 'No Default'], normalize_vectors=False, \n",
    "                 save=f'{figures_path}/na_pos_pos_cat.png'\n",
    "                )\n",
    "\n",
    "# the most positive neuron for the positive class - continuous (Default)\n",
    "plot_importances([neuron_pos_cond_vals_pos_cont.mean(dim=0).detach().cpu().numpy(), \n",
    "                  neuron_neg_cond_vals_pos_cont_swap.mean(dim=0).detach().cpu().numpy()], \n",
    "                 CONTINUOUS_COLUMNS, \n",
    "                 f'Neuron {pos__pos_neuron} Average Continuous Feature Importance',\n",
    "                 'Continuous Features',\n",
    "                 'Attributions',\n",
    "                 ['r', 'g'], \n",
    "                 ['Default', 'No Default'], normalize_vectors=False, \n",
    "                save=f'{figures_path}/na_pos_pos_cont.png'\n",
    "                )"
   ]
  },
  {
   "cell_type": "code",
   "execution_count": 45,
   "id": "0287289c",
   "metadata": {
    "tags": []
   },
   "outputs": [
    {
     "ename": "NameError",
     "evalue": "name 'neuron_pos_cond_vals_neg_cat' is not defined",
     "output_type": "error",
     "traceback": [
      "\u001b[0;31m---------------------------------------------------------------------------\u001b[0m",
      "\u001b[0;31mNameError\u001b[0m                                 Traceback (most recent call last)",
      "Cell \u001b[0;32mIn[45], line 2\u001b[0m\n\u001b[1;32m      1\u001b[0m \u001b[38;5;66;03m# the most negative neuron for the positive class - categorical(Default)\u001b[39;00m\n\u001b[0;32m----> 2\u001b[0m plot_importances([\u001b[43mneuron_pos_cond_vals_neg_cat\u001b[49m\u001b[38;5;241m.\u001b[39mmean(dim\u001b[38;5;241m=\u001b[39m\u001b[38;5;241m0\u001b[39m)\u001b[38;5;241m.\u001b[39mdetach()\u001b[38;5;241m.\u001b[39mcpu()\u001b[38;5;241m.\u001b[39mnumpy(), \n\u001b[1;32m      3\u001b[0m                   neuron_neg_cond_vals_neg_cat_swap\u001b[38;5;241m.\u001b[39mmean(dim\u001b[38;5;241m=\u001b[39m\u001b[38;5;241m0\u001b[39m)\u001b[38;5;241m.\u001b[39mdetach()\u001b[38;5;241m.\u001b[39mcpu()\u001b[38;5;241m.\u001b[39mnumpy()], \n\u001b[1;32m      4\u001b[0m                  CATEGORICAL_COLUMNS, \n\u001b[1;32m      5\u001b[0m                  \u001b[38;5;124mf\u001b[39m\u001b[38;5;124m'\u001b[39m\u001b[38;5;124mNeuron \u001b[39m\u001b[38;5;132;01m{\u001b[39;00mpos__neg_neuron\u001b[38;5;132;01m}\u001b[39;00m\u001b[38;5;124m Average Categorical Feature Importance\u001b[39m\u001b[38;5;124m'\u001b[39m,\n\u001b[1;32m      6\u001b[0m                  \u001b[38;5;124m'\u001b[39m\u001b[38;5;124mCategorical Features\u001b[39m\u001b[38;5;124m'\u001b[39m,\n\u001b[1;32m      7\u001b[0m                  \u001b[38;5;124m'\u001b[39m\u001b[38;5;124mAttributions\u001b[39m\u001b[38;5;124m'\u001b[39m,\n\u001b[1;32m      8\u001b[0m                  [\u001b[38;5;124m'\u001b[39m\u001b[38;5;124mr\u001b[39m\u001b[38;5;124m'\u001b[39m, \u001b[38;5;124m'\u001b[39m\u001b[38;5;124mg\u001b[39m\u001b[38;5;124m'\u001b[39m], \n\u001b[1;32m      9\u001b[0m                  [\u001b[38;5;124m'\u001b[39m\u001b[38;5;124mDefault\u001b[39m\u001b[38;5;124m'\u001b[39m, \u001b[38;5;124m'\u001b[39m\u001b[38;5;124mNo Default\u001b[39m\u001b[38;5;124m'\u001b[39m], normalize_vectors\u001b[38;5;241m=\u001b[39m\u001b[38;5;28;01mFalse\u001b[39;00m,\n\u001b[1;32m     10\u001b[0m                  save\u001b[38;5;241m=\u001b[39m\u001b[38;5;124mf\u001b[39m\u001b[38;5;124m'\u001b[39m\u001b[38;5;132;01m{\u001b[39;00mfigures_path\u001b[38;5;132;01m}\u001b[39;00m\u001b[38;5;124m/na_pos_neg_cat.png\u001b[39m\u001b[38;5;124m'\u001b[39m\n\u001b[1;32m     11\u001b[0m                 )\n\u001b[1;32m     13\u001b[0m \u001b[38;5;66;03m# the most negative neuron for the positive class - continuous (Default)\u001b[39;00m\n\u001b[1;32m     14\u001b[0m plot_importances([neuron_pos_cond_vals_neg_cont\u001b[38;5;241m.\u001b[39mmean(dim\u001b[38;5;241m=\u001b[39m\u001b[38;5;241m0\u001b[39m)\u001b[38;5;241m.\u001b[39mdetach()\u001b[38;5;241m.\u001b[39mcpu()\u001b[38;5;241m.\u001b[39mnumpy(), \n\u001b[1;32m     15\u001b[0m                   neuron_neg_cond_vals_neg_cont_swap\u001b[38;5;241m.\u001b[39mmean(dim\u001b[38;5;241m=\u001b[39m\u001b[38;5;241m0\u001b[39m)\u001b[38;5;241m.\u001b[39mdetach()\u001b[38;5;241m.\u001b[39mcpu()\u001b[38;5;241m.\u001b[39mnumpy()], \n\u001b[1;32m     16\u001b[0m                  CONTINUOUS_COLUMNS, \n\u001b[0;32m   (...)\u001b[0m\n\u001b[1;32m     22\u001b[0m                  save\u001b[38;5;241m=\u001b[39m\u001b[38;5;124mf\u001b[39m\u001b[38;5;124m'\u001b[39m\u001b[38;5;132;01m{\u001b[39;00mfigures_path\u001b[38;5;132;01m}\u001b[39;00m\u001b[38;5;124m/na_pos_neg_cont.png\u001b[39m\u001b[38;5;124m'\u001b[39m\n\u001b[1;32m     23\u001b[0m                 )\n",
      "\u001b[0;31mNameError\u001b[0m: name 'neuron_pos_cond_vals_neg_cat' is not defined"
     ]
    }
   ],
   "source": [
    "# the most negative neuron for the positive class - categorical(Default)\n",
    "plot_importances([neuron_pos_cond_vals_neg_cat.mean(dim=0).detach().cpu().numpy(), \n",
    "                  neuron_neg_cond_vals_neg_cat_swap.mean(dim=0).detach().cpu().numpy()], \n",
    "                 CATEGORICAL_COLUMNS, \n",
    "                 f'Neuron {pos__neg_neuron} Average Categorical Feature Importance',\n",
    "                 'Categorical Features',\n",
    "                 'Attributions',\n",
    "                 ['r', 'g'], \n",
    "                 ['Default', 'No Default'], normalize_vectors=False,\n",
    "                 save=f'{figures_path}/na_pos_neg_cat.png'\n",
    "                )\n",
    "\n",
    "# the most negative neuron for the positive class - continuous (Default)\n",
    "plot_importances([neuron_pos_cond_vals_neg_cont.mean(dim=0).detach().cpu().numpy(), \n",
    "                  neuron_neg_cond_vals_neg_cont_swap.mean(dim=0).detach().cpu().numpy()], \n",
    "                 CONTINUOUS_COLUMNS, \n",
    "                 f'Neuron {pos__neg_neuron} Average Continuous Feature Importance',\n",
    "                 'Continuous Features',\n",
    "                 'Attributions',\n",
    "                 ['r', 'g'], \n",
    "                 ['Default', 'No Default'], normalize_vectors=False, \n",
    "                 save=f'{figures_path}/na_pos_neg_cont.png'\n",
    "                )"
   ]
  },
  {
   "cell_type": "code",
   "execution_count": 46,
   "id": "24b8598f",
   "metadata": {
    "tags": []
   },
   "outputs": [
    {
     "ename": "NameError",
     "evalue": "name 'neuron_pos_cond_vals_notlearn_cat' is not defined",
     "output_type": "error",
     "traceback": [
      "\u001b[0;31m---------------------------------------------------------------------------\u001b[0m",
      "\u001b[0;31mNameError\u001b[0m                                 Traceback (most recent call last)",
      "Cell \u001b[0;32mIn[46], line 2\u001b[0m\n\u001b[1;32m      1\u001b[0m \u001b[38;5;66;03m# the most not-learning neuron for the positive class - categorical(Default)\u001b[39;00m\n\u001b[0;32m----> 2\u001b[0m plot_importances([\u001b[43mneuron_pos_cond_vals_notlearn_cat\u001b[49m\u001b[38;5;241m.\u001b[39mmean(dim\u001b[38;5;241m=\u001b[39m\u001b[38;5;241m0\u001b[39m)\u001b[38;5;241m.\u001b[39mdetach()\u001b[38;5;241m.\u001b[39mcpu()\u001b[38;5;241m.\u001b[39mnumpy(), \n\u001b[1;32m      3\u001b[0m                   neuron_neg_cond_vals_notlearn_cat_swap\u001b[38;5;241m.\u001b[39mmean(dim\u001b[38;5;241m=\u001b[39m\u001b[38;5;241m0\u001b[39m)\u001b[38;5;241m.\u001b[39mdetach()\u001b[38;5;241m.\u001b[39mcpu()\u001b[38;5;241m.\u001b[39mnumpy()], \n\u001b[1;32m      4\u001b[0m                  CATEGORICAL_COLUMNS, \n\u001b[1;32m      5\u001b[0m                  \u001b[38;5;124mf\u001b[39m\u001b[38;5;124m'\u001b[39m\u001b[38;5;124mNeuron \u001b[39m\u001b[38;5;132;01m{\u001b[39;00mpos__not_learning\u001b[38;5;132;01m}\u001b[39;00m\u001b[38;5;124m Average Categorical Feature Importance\u001b[39m\u001b[38;5;124m'\u001b[39m,\n\u001b[1;32m      6\u001b[0m                  \u001b[38;5;124m'\u001b[39m\u001b[38;5;124mCategorical Features\u001b[39m\u001b[38;5;124m'\u001b[39m,\n\u001b[1;32m      7\u001b[0m                  \u001b[38;5;124m'\u001b[39m\u001b[38;5;124mAttributions\u001b[39m\u001b[38;5;124m'\u001b[39m,\n\u001b[1;32m      8\u001b[0m                  [\u001b[38;5;124m'\u001b[39m\u001b[38;5;124mr\u001b[39m\u001b[38;5;124m'\u001b[39m, \u001b[38;5;124m'\u001b[39m\u001b[38;5;124mg\u001b[39m\u001b[38;5;124m'\u001b[39m], \n\u001b[1;32m      9\u001b[0m                  [\u001b[38;5;124m'\u001b[39m\u001b[38;5;124mDefault\u001b[39m\u001b[38;5;124m'\u001b[39m, \u001b[38;5;124m'\u001b[39m\u001b[38;5;124mNo Default\u001b[39m\u001b[38;5;124m'\u001b[39m], normalize_vectors\u001b[38;5;241m=\u001b[39m\u001b[38;5;28;01mFalse\u001b[39;00m, \n\u001b[1;32m     10\u001b[0m                  save\u001b[38;5;241m=\u001b[39m\u001b[38;5;124mf\u001b[39m\u001b[38;5;124m'\u001b[39m\u001b[38;5;132;01m{\u001b[39;00mfigures_path\u001b[38;5;132;01m}\u001b[39;00m\u001b[38;5;124m/na_pos_notlearn_cat.png\u001b[39m\u001b[38;5;124m'\u001b[39m\n\u001b[1;32m     11\u001b[0m                 )\n\u001b[1;32m     13\u001b[0m \u001b[38;5;66;03m# the most not-learning neuron for the positive class - continuous (Default)\u001b[39;00m\n\u001b[1;32m     14\u001b[0m plot_importances([neuron_pos_cond_vals_notlearn_cont\u001b[38;5;241m.\u001b[39mmean(dim\u001b[38;5;241m=\u001b[39m\u001b[38;5;241m0\u001b[39m)\u001b[38;5;241m.\u001b[39mdetach()\u001b[38;5;241m.\u001b[39mcpu()\u001b[38;5;241m.\u001b[39mnumpy(), \n\u001b[1;32m     15\u001b[0m                   neuron_neg_cond_vals_notlearn_cont_swap\u001b[38;5;241m.\u001b[39mmean(dim\u001b[38;5;241m=\u001b[39m\u001b[38;5;241m0\u001b[39m)\u001b[38;5;241m.\u001b[39mdetach()\u001b[38;5;241m.\u001b[39mcpu()\u001b[38;5;241m.\u001b[39mnumpy()], \n\u001b[1;32m     16\u001b[0m                  CONTINUOUS_COLUMNS, \n\u001b[0;32m   (...)\u001b[0m\n\u001b[1;32m     22\u001b[0m                  save\u001b[38;5;241m=\u001b[39m\u001b[38;5;124mf\u001b[39m\u001b[38;5;124m'\u001b[39m\u001b[38;5;132;01m{\u001b[39;00mfigures_path\u001b[38;5;132;01m}\u001b[39;00m\u001b[38;5;124m/na_pos_notlearn_cont.png\u001b[39m\u001b[38;5;124m'\u001b[39m\n\u001b[1;32m     23\u001b[0m                 )\n",
      "\u001b[0;31mNameError\u001b[0m: name 'neuron_pos_cond_vals_notlearn_cat' is not defined"
     ]
    }
   ],
   "source": [
    "# the most not-learning neuron for the positive class - categorical(Default)\n",
    "plot_importances([neuron_pos_cond_vals_notlearn_cat.mean(dim=0).detach().cpu().numpy(), \n",
    "                  neuron_neg_cond_vals_notlearn_cat_swap.mean(dim=0).detach().cpu().numpy()], \n",
    "                 CATEGORICAL_COLUMNS, \n",
    "                 f'Neuron {pos__not_learning} Average Categorical Feature Importance',\n",
    "                 'Categorical Features',\n",
    "                 'Attributions',\n",
    "                 ['r', 'g'], \n",
    "                 ['Default', 'No Default'], normalize_vectors=False, \n",
    "                 save=f'{figures_path}/na_pos_notlearn_cat.png'\n",
    "                )\n",
    "\n",
    "# the most not-learning neuron for the positive class - continuous (Default)\n",
    "plot_importances([neuron_pos_cond_vals_notlearn_cont.mean(dim=0).detach().cpu().numpy(), \n",
    "                  neuron_neg_cond_vals_notlearn_cont_swap.mean(dim=0).detach().cpu().numpy()], \n",
    "                 CONTINUOUS_COLUMNS, \n",
    "                 f'Neuron {pos__not_learning} Average Continuous Feature Importance',\n",
    "                 'Continuous Features',\n",
    "                 'Attributions',\n",
    "                 ['r', 'g'], \n",
    "                 ['Default', 'No Default'], normalize_vectors=False,\n",
    "                 save=f'{figures_path}/na_pos_notlearn_cont.png'\n",
    "                )"
   ]
  },
  {
   "cell_type": "markdown",
   "id": "91e35b5f",
   "metadata": {},
   "source": [
    " #### Negative Class - Not Default"
   ]
  },
  {
   "cell_type": "code",
   "execution_count": 47,
   "id": "31dcc392",
   "metadata": {
    "tags": []
   },
   "outputs": [
    {
     "ename": "NameError",
     "evalue": "name 'neuron_neg_cond_vals_pos_cat' is not defined",
     "output_type": "error",
     "traceback": [
      "\u001b[0;31m---------------------------------------------------------------------------\u001b[0m",
      "\u001b[0;31mNameError\u001b[0m                                 Traceback (most recent call last)",
      "Cell \u001b[0;32mIn[47], line 2\u001b[0m\n\u001b[1;32m      1\u001b[0m \u001b[38;5;66;03m# the most positive neuron for the negative class - categorical(Default)\u001b[39;00m\n\u001b[0;32m----> 2\u001b[0m plot_importances([\u001b[43mneuron_neg_cond_vals_pos_cat\u001b[49m\u001b[38;5;241m.\u001b[39mmean(dim\u001b[38;5;241m=\u001b[39m\u001b[38;5;241m0\u001b[39m)\u001b[38;5;241m.\u001b[39mdetach()\u001b[38;5;241m.\u001b[39mcpu()\u001b[38;5;241m.\u001b[39mnumpy(), \n\u001b[1;32m      3\u001b[0m                   neuron_pos_cond_vals_pos_cat_swap\u001b[38;5;241m.\u001b[39mmean(dim\u001b[38;5;241m=\u001b[39m\u001b[38;5;241m0\u001b[39m)\u001b[38;5;241m.\u001b[39mdetach()\u001b[38;5;241m.\u001b[39mcpu()\u001b[38;5;241m.\u001b[39mnumpy()], \n\u001b[1;32m      4\u001b[0m                  CATEGORICAL_COLUMNS, \n\u001b[1;32m      5\u001b[0m                  \u001b[38;5;124mf\u001b[39m\u001b[38;5;124m'\u001b[39m\u001b[38;5;124mNeuron \u001b[39m\u001b[38;5;132;01m{\u001b[39;00mneg__pos_neuron\u001b[38;5;132;01m}\u001b[39;00m\u001b[38;5;124m Average Categorical Feature Importance\u001b[39m\u001b[38;5;124m'\u001b[39m,\n\u001b[1;32m      6\u001b[0m                  \u001b[38;5;124m'\u001b[39m\u001b[38;5;124mCategorical Features\u001b[39m\u001b[38;5;124m'\u001b[39m,\n\u001b[1;32m      7\u001b[0m                  \u001b[38;5;124m'\u001b[39m\u001b[38;5;124mAttributions\u001b[39m\u001b[38;5;124m'\u001b[39m,\n\u001b[1;32m      8\u001b[0m                  [\u001b[38;5;124m'\u001b[39m\u001b[38;5;124mr\u001b[39m\u001b[38;5;124m'\u001b[39m, \u001b[38;5;124m'\u001b[39m\u001b[38;5;124mg\u001b[39m\u001b[38;5;124m'\u001b[39m], \n\u001b[1;32m      9\u001b[0m                  [\u001b[38;5;124m'\u001b[39m\u001b[38;5;124mDefault\u001b[39m\u001b[38;5;124m'\u001b[39m, \u001b[38;5;124m'\u001b[39m\u001b[38;5;124mNo Default\u001b[39m\u001b[38;5;124m'\u001b[39m], normalize_vectors\u001b[38;5;241m=\u001b[39m\u001b[38;5;28;01mFalse\u001b[39;00m,\n\u001b[1;32m     10\u001b[0m                  save\u001b[38;5;241m=\u001b[39m\u001b[38;5;124mf\u001b[39m\u001b[38;5;124m'\u001b[39m\u001b[38;5;132;01m{\u001b[39;00mfigures_path\u001b[38;5;132;01m}\u001b[39;00m\u001b[38;5;124m/na_neg_pos_cat.png\u001b[39m\u001b[38;5;124m'\u001b[39m\n\u001b[1;32m     11\u001b[0m                 )\n\u001b[1;32m     13\u001b[0m \u001b[38;5;66;03m# the most positive neuron for the negative class - continuous (Default)\u001b[39;00m\n\u001b[1;32m     14\u001b[0m plot_importances([neuron_neg_cond_vals_pos_cont\u001b[38;5;241m.\u001b[39mmean(dim\u001b[38;5;241m=\u001b[39m\u001b[38;5;241m0\u001b[39m)\u001b[38;5;241m.\u001b[39mdetach()\u001b[38;5;241m.\u001b[39mcpu()\u001b[38;5;241m.\u001b[39mnumpy(), \n\u001b[1;32m     15\u001b[0m                   neuron_pos_cond_vals_pos_cont_swap\u001b[38;5;241m.\u001b[39mmean(dim\u001b[38;5;241m=\u001b[39m\u001b[38;5;241m0\u001b[39m)\u001b[38;5;241m.\u001b[39mdetach()\u001b[38;5;241m.\u001b[39mcpu()\u001b[38;5;241m.\u001b[39mnumpy()], \n\u001b[1;32m     16\u001b[0m                  CONTINUOUS_COLUMNS, \n\u001b[0;32m   (...)\u001b[0m\n\u001b[1;32m     22\u001b[0m                  save\u001b[38;5;241m=\u001b[39m\u001b[38;5;124mf\u001b[39m\u001b[38;5;124m'\u001b[39m\u001b[38;5;132;01m{\u001b[39;00mfigures_path\u001b[38;5;132;01m}\u001b[39;00m\u001b[38;5;124m/na_neg_pos_cont.png\u001b[39m\u001b[38;5;124m'\u001b[39m\n\u001b[1;32m     23\u001b[0m                 )\n",
      "\u001b[0;31mNameError\u001b[0m: name 'neuron_neg_cond_vals_pos_cat' is not defined"
     ]
    }
   ],
   "source": [
    "\n",
    "# the most positive neuron for the negative class - categorical(Default)\n",
    "plot_importances([neuron_neg_cond_vals_pos_cat.mean(dim=0).detach().cpu().numpy(), \n",
    "                  neuron_pos_cond_vals_pos_cat_swap.mean(dim=0).detach().cpu().numpy()], \n",
    "                 CATEGORICAL_COLUMNS, \n",
    "                 f'Neuron {neg__pos_neuron} Average Categorical Feature Importance',\n",
    "                 'Categorical Features',\n",
    "                 'Attributions',\n",
    "                 ['r', 'g'], \n",
    "                 ['Default', 'No Default'], normalize_vectors=False,\n",
    "                 save=f'{figures_path}/na_neg_pos_cat.png'\n",
    "                )\n",
    "\n",
    "# the most positive neuron for the negative class - continuous (Default)\n",
    "plot_importances([neuron_neg_cond_vals_pos_cont.mean(dim=0).detach().cpu().numpy(), \n",
    "                  neuron_pos_cond_vals_pos_cont_swap.mean(dim=0).detach().cpu().numpy()], \n",
    "                 CONTINUOUS_COLUMNS, \n",
    "                 f'Neuron {neg__pos_neuron} Average Continuous Feature Importance',\n",
    "                 'Continuous Features',\n",
    "                 'Attributions',\n",
    "                 ['r', 'g'], \n",
    "                 ['Default', 'No Default'], normalize_vectors=False,\n",
    "                 save=f'{figures_path}/na_neg_pos_cont.png'\n",
    "                )"
   ]
  },
  {
   "cell_type": "code",
   "execution_count": 48,
   "id": "cd8e9e18",
   "metadata": {
    "tags": []
   },
   "outputs": [
    {
     "ename": "NameError",
     "evalue": "name 'neuron_neg_cond_vals_neg_cat' is not defined",
     "output_type": "error",
     "traceback": [
      "\u001b[0;31m---------------------------------------------------------------------------\u001b[0m",
      "\u001b[0;31mNameError\u001b[0m                                 Traceback (most recent call last)",
      "Cell \u001b[0;32mIn[48], line 2\u001b[0m\n\u001b[1;32m      1\u001b[0m \u001b[38;5;66;03m# the most negative neuron for the negative class - categorical(Default)\u001b[39;00m\n\u001b[0;32m----> 2\u001b[0m plot_importances([\u001b[43mneuron_neg_cond_vals_neg_cat\u001b[49m\u001b[38;5;241m.\u001b[39mmean(dim\u001b[38;5;241m=\u001b[39m\u001b[38;5;241m0\u001b[39m)\u001b[38;5;241m.\u001b[39mdetach()\u001b[38;5;241m.\u001b[39mcpu()\u001b[38;5;241m.\u001b[39mnumpy(), \n\u001b[1;32m      3\u001b[0m                   neuron_pos_cond_vals_neg_cat_swap\u001b[38;5;241m.\u001b[39mmean(dim\u001b[38;5;241m=\u001b[39m\u001b[38;5;241m0\u001b[39m)\u001b[38;5;241m.\u001b[39mdetach()\u001b[38;5;241m.\u001b[39mcpu()\u001b[38;5;241m.\u001b[39mnumpy()], \n\u001b[1;32m      4\u001b[0m                  CATEGORICAL_COLUMNS, \n\u001b[1;32m      5\u001b[0m                  \u001b[38;5;124mf\u001b[39m\u001b[38;5;124m'\u001b[39m\u001b[38;5;124mNeuron \u001b[39m\u001b[38;5;132;01m{\u001b[39;00mneg__neg_neuron\u001b[38;5;132;01m}\u001b[39;00m\u001b[38;5;124m Average Categorical Feature Importance\u001b[39m\u001b[38;5;124m'\u001b[39m,\n\u001b[1;32m      6\u001b[0m                  \u001b[38;5;124m'\u001b[39m\u001b[38;5;124mCategorical Features\u001b[39m\u001b[38;5;124m'\u001b[39m,\n\u001b[1;32m      7\u001b[0m                  \u001b[38;5;124m'\u001b[39m\u001b[38;5;124mAttributions\u001b[39m\u001b[38;5;124m'\u001b[39m,\n\u001b[1;32m      8\u001b[0m                  [\u001b[38;5;124m'\u001b[39m\u001b[38;5;124mr\u001b[39m\u001b[38;5;124m'\u001b[39m, \u001b[38;5;124m'\u001b[39m\u001b[38;5;124mg\u001b[39m\u001b[38;5;124m'\u001b[39m], \n\u001b[1;32m      9\u001b[0m                  [\u001b[38;5;124m'\u001b[39m\u001b[38;5;124mDefault\u001b[39m\u001b[38;5;124m'\u001b[39m, \u001b[38;5;124m'\u001b[39m\u001b[38;5;124mNo Default\u001b[39m\u001b[38;5;124m'\u001b[39m], normalize_vectors\u001b[38;5;241m=\u001b[39m\u001b[38;5;28;01mFalse\u001b[39;00m,\n\u001b[1;32m     10\u001b[0m                  save\u001b[38;5;241m=\u001b[39m\u001b[38;5;124mf\u001b[39m\u001b[38;5;124m'\u001b[39m\u001b[38;5;132;01m{\u001b[39;00mfigures_path\u001b[38;5;132;01m}\u001b[39;00m\u001b[38;5;124m/na_neg_neg_cat.png\u001b[39m\u001b[38;5;124m'\u001b[39m\n\u001b[1;32m     11\u001b[0m                 )\n\u001b[1;32m     13\u001b[0m \u001b[38;5;66;03m# the most negative neuron for the negative class - continuous (Default)\u001b[39;00m\n\u001b[1;32m     14\u001b[0m plot_importances([neuron_neg_cond_vals_neg_cont\u001b[38;5;241m.\u001b[39mmean(dim\u001b[38;5;241m=\u001b[39m\u001b[38;5;241m0\u001b[39m)\u001b[38;5;241m.\u001b[39mdetach()\u001b[38;5;241m.\u001b[39mcpu()\u001b[38;5;241m.\u001b[39mnumpy(), \n\u001b[1;32m     15\u001b[0m                   neuron_pos_cond_vals_neg_cont_swap\u001b[38;5;241m.\u001b[39mmean(dim\u001b[38;5;241m=\u001b[39m\u001b[38;5;241m0\u001b[39m)\u001b[38;5;241m.\u001b[39mdetach()\u001b[38;5;241m.\u001b[39mcpu()\u001b[38;5;241m.\u001b[39mnumpy()], \n\u001b[1;32m     16\u001b[0m                  CONTINUOUS_COLUMNS, \n\u001b[0;32m   (...)\u001b[0m\n\u001b[1;32m     22\u001b[0m                  save\u001b[38;5;241m=\u001b[39m\u001b[38;5;124mf\u001b[39m\u001b[38;5;124m'\u001b[39m\u001b[38;5;132;01m{\u001b[39;00mfigures_path\u001b[38;5;132;01m}\u001b[39;00m\u001b[38;5;124m/na_neg_neg_cont.png\u001b[39m\u001b[38;5;124m'\u001b[39m\n\u001b[1;32m     23\u001b[0m                 )\n",
      "\u001b[0;31mNameError\u001b[0m: name 'neuron_neg_cond_vals_neg_cat' is not defined"
     ]
    }
   ],
   "source": [
    "\n",
    "# the most negative neuron for the negative class - categorical(Default)\n",
    "plot_importances([neuron_neg_cond_vals_neg_cat.mean(dim=0).detach().cpu().numpy(), \n",
    "                  neuron_pos_cond_vals_neg_cat_swap.mean(dim=0).detach().cpu().numpy()], \n",
    "                 CATEGORICAL_COLUMNS, \n",
    "                 f'Neuron {neg__neg_neuron} Average Categorical Feature Importance',\n",
    "                 'Categorical Features',\n",
    "                 'Attributions',\n",
    "                 ['r', 'g'], \n",
    "                 ['Default', 'No Default'], normalize_vectors=False,\n",
    "                 save=f'{figures_path}/na_neg_neg_cat.png'\n",
    "                )\n",
    "\n",
    "# the most negative neuron for the negative class - continuous (Default)\n",
    "plot_importances([neuron_neg_cond_vals_neg_cont.mean(dim=0).detach().cpu().numpy(), \n",
    "                  neuron_pos_cond_vals_neg_cont_swap.mean(dim=0).detach().cpu().numpy()], \n",
    "                 CONTINUOUS_COLUMNS, \n",
    "                 f'Neuron {neg__neg_neuron} Average Continuous Feature Importance',\n",
    "                 'Continuous Features',\n",
    "                 'Attributions',\n",
    "                 ['r', 'g'], \n",
    "                 ['Default', 'No Default'], normalize_vectors=False,\n",
    "                 save=f'{figures_path}/na_neg_neg_cont.png'\n",
    "                )"
   ]
  },
  {
   "cell_type": "code",
   "execution_count": 49,
   "id": "f1409b5f",
   "metadata": {},
   "outputs": [
    {
     "ename": "NameError",
     "evalue": "name 'neuron_neg_cond_vals_notlearn_cat' is not defined",
     "output_type": "error",
     "traceback": [
      "\u001b[0;31m---------------------------------------------------------------------------\u001b[0m",
      "\u001b[0;31mNameError\u001b[0m                                 Traceback (most recent call last)",
      "Cell \u001b[0;32mIn[49], line 2\u001b[0m\n\u001b[1;32m      1\u001b[0m \u001b[38;5;66;03m# the most not-learning neuron for the negative class - categorical(Default)\u001b[39;00m\n\u001b[0;32m----> 2\u001b[0m plot_importances([\u001b[43mneuron_neg_cond_vals_notlearn_cat\u001b[49m\u001b[38;5;241m.\u001b[39mmean(dim\u001b[38;5;241m=\u001b[39m\u001b[38;5;241m0\u001b[39m)\u001b[38;5;241m.\u001b[39mdetach()\u001b[38;5;241m.\u001b[39mcpu()\u001b[38;5;241m.\u001b[39mnumpy(), \n\u001b[1;32m      3\u001b[0m                   neuron_pos_cond_vals_notlearn_cat_swap\u001b[38;5;241m.\u001b[39mmean(dim\u001b[38;5;241m=\u001b[39m\u001b[38;5;241m0\u001b[39m)\u001b[38;5;241m.\u001b[39mdetach()\u001b[38;5;241m.\u001b[39mcpu()\u001b[38;5;241m.\u001b[39mnumpy()], \n\u001b[1;32m      4\u001b[0m                  CATEGORICAL_COLUMNS, \n\u001b[1;32m      5\u001b[0m                  \u001b[38;5;124mf\u001b[39m\u001b[38;5;124m'\u001b[39m\u001b[38;5;124mNeuron \u001b[39m\u001b[38;5;132;01m{\u001b[39;00mneg__not_learning\u001b[38;5;132;01m}\u001b[39;00m\u001b[38;5;124m Average Categorical Feature Importance\u001b[39m\u001b[38;5;124m'\u001b[39m,\n\u001b[1;32m      6\u001b[0m                  \u001b[38;5;124m'\u001b[39m\u001b[38;5;124mCategorical Features\u001b[39m\u001b[38;5;124m'\u001b[39m,\n\u001b[1;32m      7\u001b[0m                  \u001b[38;5;124m'\u001b[39m\u001b[38;5;124mAttributions\u001b[39m\u001b[38;5;124m'\u001b[39m,\n\u001b[1;32m      8\u001b[0m                  [\u001b[38;5;124m'\u001b[39m\u001b[38;5;124mr\u001b[39m\u001b[38;5;124m'\u001b[39m, \u001b[38;5;124m'\u001b[39m\u001b[38;5;124mg\u001b[39m\u001b[38;5;124m'\u001b[39m], \n\u001b[1;32m      9\u001b[0m                  [\u001b[38;5;124m'\u001b[39m\u001b[38;5;124mDefault\u001b[39m\u001b[38;5;124m'\u001b[39m, \u001b[38;5;124m'\u001b[39m\u001b[38;5;124mNo Default\u001b[39m\u001b[38;5;124m'\u001b[39m], normalize_vectors\u001b[38;5;241m=\u001b[39m\u001b[38;5;28;01mFalse\u001b[39;00m, \n\u001b[1;32m     10\u001b[0m                  save\u001b[38;5;241m=\u001b[39m\u001b[38;5;124mf\u001b[39m\u001b[38;5;124m'\u001b[39m\u001b[38;5;132;01m{\u001b[39;00mfigures_path\u001b[38;5;132;01m}\u001b[39;00m\u001b[38;5;124m/na_neg_notlearn_cat.png\u001b[39m\u001b[38;5;124m'\u001b[39m\n\u001b[1;32m     11\u001b[0m                 )\n\u001b[1;32m     13\u001b[0m \u001b[38;5;66;03m# the most not-learning neuron for the negative class - continuous (Default)\u001b[39;00m\n\u001b[1;32m     14\u001b[0m plot_importances([neuron_neg_cond_vals_notlearn_cont\u001b[38;5;241m.\u001b[39mmean(dim\u001b[38;5;241m=\u001b[39m\u001b[38;5;241m0\u001b[39m)\u001b[38;5;241m.\u001b[39mdetach()\u001b[38;5;241m.\u001b[39mcpu()\u001b[38;5;241m.\u001b[39mnumpy(), \n\u001b[1;32m     15\u001b[0m                   neuron_pos_cond_vals_notlearn_cont_swap\u001b[38;5;241m.\u001b[39mmean(dim\u001b[38;5;241m=\u001b[39m\u001b[38;5;241m0\u001b[39m)\u001b[38;5;241m.\u001b[39mdetach()\u001b[38;5;241m.\u001b[39mcpu()\u001b[38;5;241m.\u001b[39mnumpy()], \n\u001b[1;32m     16\u001b[0m                  CONTINUOUS_COLUMNS, \n\u001b[0;32m   (...)\u001b[0m\n\u001b[1;32m     22\u001b[0m                  save\u001b[38;5;241m=\u001b[39m\u001b[38;5;124mf\u001b[39m\u001b[38;5;124m'\u001b[39m\u001b[38;5;132;01m{\u001b[39;00mfigures_path\u001b[38;5;132;01m}\u001b[39;00m\u001b[38;5;124m/na_neg_notlearn_cont.png\u001b[39m\u001b[38;5;124m'\u001b[39m\n\u001b[1;32m     23\u001b[0m                 )\n",
      "\u001b[0;31mNameError\u001b[0m: name 'neuron_neg_cond_vals_notlearn_cat' is not defined"
     ]
    }
   ],
   "source": [
    "# the most not-learning neuron for the negative class - categorical(Default)\n",
    "plot_importances([neuron_neg_cond_vals_notlearn_cat.mean(dim=0).detach().cpu().numpy(), \n",
    "                  neuron_pos_cond_vals_notlearn_cat_swap.mean(dim=0).detach().cpu().numpy()], \n",
    "                 CATEGORICAL_COLUMNS, \n",
    "                 f'Neuron {neg__not_learning} Average Categorical Feature Importance',\n",
    "                 'Categorical Features',\n",
    "                 'Attributions',\n",
    "                 ['r', 'g'], \n",
    "                 ['Default', 'No Default'], normalize_vectors=False, \n",
    "                 save=f'{figures_path}/na_neg_notlearn_cat.png'\n",
    "                )\n",
    "\n",
    "# the most not-learning neuron for the negative class - continuous (Default)\n",
    "plot_importances([neuron_neg_cond_vals_notlearn_cont.mean(dim=0).detach().cpu().numpy(), \n",
    "                  neuron_pos_cond_vals_notlearn_cont_swap.mean(dim=0).detach().cpu().numpy()], \n",
    "                 CONTINUOUS_COLUMNS, \n",
    "                 f'Neuron {neg__not_learning} Average Continuous Feature Importance',\n",
    "                 'Continuous Features',\n",
    "                 'Attributions',\n",
    "                 ['r', 'g'], \n",
    "                 ['Default', 'No Default'], normalize_vectors=False,\n",
    "                 save=f'{figures_path}/na_neg_notlearn_cont.png'\n",
    "                )"
   ]
  },
  {
   "cell_type": "markdown",
   "id": "eae2e267",
   "metadata": {},
   "source": [
    " ### Compare across multiple algorithms and weights"
   ]
  },
  {
   "cell_type": "code",
   "execution_count": 50,
   "id": "ac2c0ba4",
   "metadata": {},
   "outputs": [
    {
     "ename": "ModuleNotFoundError",
     "evalue": "No module named 'captum'",
     "output_type": "error",
     "traceback": [
      "\u001b[0;31m---------------------------------------------------------------------------\u001b[0m",
      "\u001b[0;31mModuleNotFoundError\u001b[0m                       Traceback (most recent call last)",
      "Cell \u001b[0;32mIn[50], line 2\u001b[0m\n\u001b[1;32m      1\u001b[0m \u001b[38;5;66;03m# https://captum.ai/tutorials/House_Prices_Regression_Interpret\u001b[39;00m\n\u001b[0;32m----> 2\u001b[0m \u001b[38;5;28;01mfrom\u001b[39;00m \u001b[38;5;21;01mcaptum\u001b[39;00m\u001b[38;5;21;01m.\u001b[39;00m\u001b[38;5;21;01mattr\u001b[39;00m \u001b[38;5;28;01mimport\u001b[39;00m IntegratedGradients, FeatureAblation\n\u001b[1;32m      4\u001b[0m ig \u001b[38;5;241m=\u001b[39m IntegratedGradients(model)\n\u001b[1;32m      5\u001b[0m fa \u001b[38;5;241m=\u001b[39m FeatureAblation(model)\n",
      "\u001b[0;31mModuleNotFoundError\u001b[0m: No module named 'captum'"
     ]
    }
   ],
   "source": [
    "# https://captum.ai/tutorials/House_Prices_Regression_Interpret\n",
    "from captum.attr import IntegratedGradients, FeatureAblation\n",
    "\n",
    "ig = IntegratedGradients(model)\n",
    "fa = FeatureAblation(model)"
   ]
  },
  {
   "cell_type": "code",
   "execution_count": 51,
   "id": "6b001841",
   "metadata": {},
   "outputs": [],
   "source": [
    "def norm_attr_method(attr_method):\n",
    "    method_sum = attr_method.detach().cpu().numpy().sum(0)\n",
    "    method_norm_sum = method_sum / np.linalg.norm(method_sum, ord=1)\n",
    "    return method_norm_sum\n",
    "\n",
    "def plot_attributions(layer, layer_bounds, input_tensor, column_names, attr_methods, legends, colors, save=''):\n",
    "    assert isinstance(layer_bounds, (tuple, list)) and len(layer_bounds) == 2\n",
    "    \n",
    "    lin_weight = layer.weight[0].detach().cpu().numpy()\n",
    "    y_axis_lin_weight = (lin_weight / np.linalg.norm(lin_weight, ord=1))[layer_bounds[0]:layer_bounds[1]]\n",
    "\n",
    "    x_axis_data = np.arange(input_tensor.shape[1])\n",
    "    x_axis_data_labels = column_names\n",
    "    \n",
    "    # plotting\n",
    "    fig, ax = plt.subplots(figsize=(20,10))\n",
    "    ax.set_title('Comparing input feature importances across multiple algorithms and learned weights')\n",
    "    ax.set_ylabel('Attributions')\n",
    "    FONT_SIZE = 16\n",
    "    width = 0.14\n",
    "    plt.rc('font', size=FONT_SIZE)            # fontsize of the text sizes\n",
    "    plt.rc('axes', titlesize=FONT_SIZE)       # fontsize of the axes title\n",
    "    plt.rc('axes', labelsize=FONT_SIZE)       # fontsize of the x and y labels\n",
    "    plt.rc('legend', fontsize=FONT_SIZE - 4)  # fontsize of the legend\n",
    "    wdth = 0\n",
    "    for attr_meth, color in zip(attr_methods, colors):\n",
    "        meth_norm_sum = norm_attr_method(attr_meth)\n",
    "        ax.bar(x_axis_data + wdth*width, meth_norm_sum, width, align='center', alpha=0.8, color=color)\n",
    "        wdth += 1\n",
    "    ax.bar(x_axis_data + (wdth+1)*width, y_axis_lin_weight, width, align='center', alpha=0.8, color='grey')\n",
    "    \n",
    "    ax.autoscale_view()\n",
    "    ax.set_xticks(x_axis_data + 0.5)\n",
    "    ax.set_xticklabels(x_axis_data_labels, rotation=45)\n",
    "\n",
    "    plt.legend(legends, loc=3)\n",
    "    plt.tight_layout()\n",
    "    if isinstance(save, str) and save:\n",
    "        plt.savefig(save, dpi=600)"
   ]
  },
  {
   "cell_type": "code",
   "execution_count": 52,
   "id": "4cc8b4ef",
   "metadata": {},
   "outputs": [
    {
     "ename": "NameError",
     "evalue": "name 'ig' is not defined",
     "output_type": "error",
     "traceback": [
      "\u001b[0;31m---------------------------------------------------------------------------\u001b[0m",
      "\u001b[0;31mNameError\u001b[0m                                 Traceback (most recent call last)",
      "Cell \u001b[0;32mIn[52], line 1\u001b[0m\n\u001b[0;32m----> 1\u001b[0m ig_attr_pos_cat, ig_attr_pos_cont \u001b[38;5;241m=\u001b[39m \u001b[43mig\u001b[49m\u001b[38;5;241m.\u001b[39mattribute((pos_cats, pos_conts), n_steps\u001b[38;5;241m=\u001b[39m\u001b[38;5;241m50\u001b[39m)\n\u001b[1;32m      2\u001b[0m fa_attr_pos_cat, fa_attr_pos_cont \u001b[38;5;241m=\u001b[39m fa\u001b[38;5;241m.\u001b[39mattribute((pos_cats, pos_conts))\n\u001b[1;32m      4\u001b[0m ig_attr_neg_cat, ig_attr_neg_cont \u001b[38;5;241m=\u001b[39m ig\u001b[38;5;241m.\u001b[39mattribute((neg_cats, neg_conts), n_steps\u001b[38;5;241m=\u001b[39m\u001b[38;5;241m50\u001b[39m)\n",
      "\u001b[0;31mNameError\u001b[0m: name 'ig' is not defined"
     ]
    }
   ],
   "source": [
    "ig_attr_pos_cat, ig_attr_pos_cont = ig.attribute((pos_cats, pos_conts), n_steps=50)\n",
    "fa_attr_pos_cat, fa_attr_pos_cont = fa.attribute((pos_cats, pos_conts))\n",
    "\n",
    "ig_attr_neg_cat, ig_attr_neg_cont = ig.attribute((neg_cats, neg_conts), n_steps=50)\n",
    "fa_attr_neg_cat, fa_attr_neg_cont = fa.attribute((neg_cats, neg_conts))"
   ]
  },
  {
   "cell_type": "code",
   "execution_count": 53,
   "id": "97d99141",
   "metadata": {
    "tags": []
   },
   "outputs": [
    {
     "ename": "NameError",
     "evalue": "name 'ig_attr_pos_cat' is not defined",
     "output_type": "error",
     "traceback": [
      "\u001b[0;31m---------------------------------------------------------------------------\u001b[0m",
      "\u001b[0;31mNameError\u001b[0m                                 Traceback (most recent call last)",
      "Cell \u001b[0;32mIn[53], line 2\u001b[0m\n\u001b[1;32m      1\u001b[0m legends \u001b[38;5;241m=\u001b[39m [\u001b[38;5;124m'\u001b[39m\u001b[38;5;124mInt Grads\u001b[39m\u001b[38;5;124m'\u001b[39m, \u001b[38;5;124m'\u001b[39m\u001b[38;5;124mFeature Ablation\u001b[39m\u001b[38;5;124m'\u001b[39m, \u001b[38;5;124m'\u001b[39m\u001b[38;5;124mWeights\u001b[39m\u001b[38;5;124m'\u001b[39m]\n\u001b[0;32m----> 2\u001b[0m pos_attr_methds_cat \u001b[38;5;241m=\u001b[39m [\u001b[43mig_attr_pos_cat\u001b[49m, fa_attr_pos_cat]\n\u001b[1;32m      3\u001b[0m pos_attr_methd_cont \u001b[38;5;241m=\u001b[39m [ig_attr_pos_cont, fa_attr_pos_cont]\n\u001b[1;32m      4\u001b[0m colors \u001b[38;5;241m=\u001b[39m [\u001b[38;5;124m'\u001b[39m\u001b[38;5;124m#eb5e7c\u001b[39m\u001b[38;5;124m'\u001b[39m, \u001b[38;5;124m'\u001b[39m\u001b[38;5;124m#34b8e0\u001b[39m\u001b[38;5;124m'\u001b[39m]\n",
      "\u001b[0;31mNameError\u001b[0m: name 'ig_attr_pos_cat' is not defined"
     ]
    }
   ],
   "source": [
    "legends = ['Int Grads', 'Feature Ablation', 'Weights']\n",
    "pos_attr_methds_cat = [ig_attr_pos_cat, fa_attr_pos_cat]\n",
    "pos_attr_methd_cont = [ig_attr_pos_cont, fa_attr_pos_cont]\n",
    "colors = ['#eb5e7c', '#34b8e0']\n",
    "\n",
    "# Positive Class\n",
    "plot_attributions(model.layer_1, (0, 10), pos_cats, CATEGORICAL_COLUMNS, \n",
    "                  pos_attr_methds_cat, legends, colors, save=f'{figures_path}/compare_cat_pos_class.png')\n",
    "plot_attributions(model.layer_1, (10, 20), pos_conts, CONTINUOUS_COLUMNS, \n",
    "                  pos_attr_methd_cont, legends, colors, save=f'{figures_path}/compare_cont_pos_class.png')"
   ]
  },
  {
   "cell_type": "code",
   "execution_count": 54,
   "id": "77de5b35",
   "metadata": {},
   "outputs": [
    {
     "ename": "NameError",
     "evalue": "name 'ig_attr_neg_cat' is not defined",
     "output_type": "error",
     "traceback": [
      "\u001b[0;31m---------------------------------------------------------------------------\u001b[0m",
      "\u001b[0;31mNameError\u001b[0m                                 Traceback (most recent call last)",
      "Cell \u001b[0;32mIn[54], line 2\u001b[0m\n\u001b[1;32m      1\u001b[0m legends \u001b[38;5;241m=\u001b[39m [\u001b[38;5;124m'\u001b[39m\u001b[38;5;124mInt Grads\u001b[39m\u001b[38;5;124m'\u001b[39m, \u001b[38;5;124m'\u001b[39m\u001b[38;5;124mFeature Ablation\u001b[39m\u001b[38;5;124m'\u001b[39m, \u001b[38;5;124m'\u001b[39m\u001b[38;5;124mWeights\u001b[39m\u001b[38;5;124m'\u001b[39m]\n\u001b[0;32m----> 2\u001b[0m neg_attr_methds_cat \u001b[38;5;241m=\u001b[39m [\u001b[43mig_attr_neg_cat\u001b[49m, fa_attr_neg_cat]\n\u001b[1;32m      3\u001b[0m neg_attr_methd_cont \u001b[38;5;241m=\u001b[39m [ig_attr_neg_cont, fa_attr_neg_cont]\n\u001b[1;32m      4\u001b[0m colors \u001b[38;5;241m=\u001b[39m [\u001b[38;5;124m'\u001b[39m\u001b[38;5;124m#eb5e7c\u001b[39m\u001b[38;5;124m'\u001b[39m, \u001b[38;5;124m'\u001b[39m\u001b[38;5;124m#34b8e0\u001b[39m\u001b[38;5;124m'\u001b[39m]\n",
      "\u001b[0;31mNameError\u001b[0m: name 'ig_attr_neg_cat' is not defined"
     ]
    }
   ],
   "source": [
    "legends = ['Int Grads', 'Feature Ablation', 'Weights']\n",
    "neg_attr_methds_cat = [ig_attr_neg_cat, fa_attr_neg_cat]\n",
    "neg_attr_methd_cont = [ig_attr_neg_cont, fa_attr_neg_cont]\n",
    "colors = ['#eb5e7c', '#34b8e0']\n",
    "\n",
    "# Positive Class\n",
    "plot_attributions(model.layer_1, (0, 10), pos_cats, CATEGORICAL_COLUMNS, \n",
    "                  neg_attr_methds_cat, legends, colors, save=f'{figures_path}/compare_cat_neg_class.png')\n",
    "plot_attributions(model.layer_1, (10, 20), pos_conts, CONTINUOUS_COLUMNS, \n",
    "                  neg_attr_methd_cont, legends, colors, save=f'{figures_path}/compare_cont_neg_class.png')"
   ]
  },
  {
   "cell_type": "code",
   "execution_count": 55,
   "id": "d92d2f4c",
   "metadata": {},
   "outputs": [
    {
     "name": "stdout",
     "output_type": "stream",
     "text": [
      "Total Runtime (s):  229.199 with cuda:0\n"
     ]
    }
   ],
   "source": [
    "end_time = time.time() - start_time\n",
    "\n",
    "print(f'Total Runtime (s): {end_time: 0.3f} with {device}')\n"
   ]
  },
  {
   "cell_type": "code",
   "execution_count": 56,
   "id": "309cf353",
   "metadata": {},
   "outputs": [
    {
     "name": "stdout",
     "output_type": "stream",
     "text": [
      "Model name: Intel(R) Xeon(R) Platinum 8358 CPU @ 2.60GHz\n"
     ]
    }
   ],
   "source": [
    "!lscpu | grep 'Model name' | xargs\n"
   ]
  },
  {
   "cell_type": "code",
   "execution_count": 57,
   "id": "b23600ae",
   "metadata": {},
   "outputs": [
    {
     "name": "stdout",
     "output_type": "stream",
     "text": [
      "Fri Jul 19 09:39:26 2024       \n",
      "+-----------------------------------------------------------------------------------------+\n",
      "| NVIDIA-SMI 550.90.07              Driver Version: 550.90.07      CUDA Version: 12.4     |\n",
      "|-----------------------------------------+------------------------+----------------------+\n",
      "| GPU  Name                 Persistence-M | Bus-Id          Disp.A | Volatile Uncorr. ECC |\n",
      "| Fan  Temp   Perf          Pwr:Usage/Cap |           Memory-Usage | GPU-Util  Compute M. |\n",
      "|                                         |                        |               MIG M. |\n",
      "|=========================================+========================+======================|\n",
      "|   0  NVIDIA A10                     Off |   00000000:00:04.0 Off |                    0 |\n",
      "|  0%   40C    P0             59W /  150W |     241MiB /  23028MiB |      0%      Default |\n",
      "|                                         |                        |                  N/A |\n",
      "+-----------------------------------------+------------------------+----------------------+\n",
      "                                                                                         \n",
      "+-----------------------------------------------------------------------------------------+\n",
      "| Processes:                                                                              |\n",
      "|  GPU   GI   CI        PID   Type   Process name                              GPU Memory |\n",
      "|        ID   ID                                                               Usage      |\n",
      "|=========================================================================================|\n",
      "|    0   N/A  N/A     13496      C   /home/opc/miniconda3/bin/python3.11           232MiB |\n",
      "+-----------------------------------------------------------------------------------------+\n"
     ]
    }
   ],
   "source": [
    "!nvidia-smi -i 0"
   ]
  },
  {
   "cell_type": "code",
   "execution_count": 58,
   "id": "4447c9dc",
   "metadata": {},
   "outputs": [],
   "source": [
    "# Total Runtime (s):  186 with gpu with NVTabular\n",
    "# Total Runtime (s):  194.509 179.166 with gpu with Pytorch Data Loader\n",
    "\n",
    "# Total Runtime (s):  5455.410 with cpu with Pytorch Data Loader\n",
    "\n",
    "# Model name: Intel(R) Xeon(R) CPU E5-2698 v4 @ 2.20GHz\n",
    "# V100 SXM2 32GB\n",
    "\n",
    "# speedup of ~ 30x"
   ]
  },
  {
   "cell_type": "code",
   "execution_count": null,
   "id": "8c67ab58",
   "metadata": {},
   "outputs": [],
   "source": []
  },
  {
   "cell_type": "code",
   "execution_count": null,
   "id": "5355ffa7-ee4b-4aba-bb56-b0adee75a218",
   "metadata": {},
   "outputs": [],
   "source": []
  },
  {
   "cell_type": "code",
   "execution_count": null,
   "id": "34f5f02f-efab-43cc-8d80-e93ca8b6da44",
   "metadata": {},
   "outputs": [],
   "source": []
  },
  {
   "cell_type": "code",
   "execution_count": null,
   "id": "4fd9390f-b012-4d88-bf21-646127406fbb",
   "metadata": {},
   "outputs": [],
   "source": []
  }
 ],
 "metadata": {
  "kernelspec": {
   "display_name": "Python 3 (ipykernel)",
   "language": "python",
   "name": "python3"
  },
  "language_info": {
   "codemirror_mode": {
    "name": "ipython",
    "version": 3
   },
   "file_extension": ".py",
   "mimetype": "text/x-python",
   "name": "python",
   "nbconvert_exporter": "python",
   "pygments_lexer": "ipython3",
   "version": "3.11.5"
  }
 },
 "nbformat": 4,
 "nbformat_minor": 5
}
