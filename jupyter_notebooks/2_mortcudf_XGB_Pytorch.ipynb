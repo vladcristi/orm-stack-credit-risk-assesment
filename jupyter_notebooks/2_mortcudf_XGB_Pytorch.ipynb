{
 "cells": [
  {
   "cell_type": "code",
   "execution_count": 1,
   "id": "b0018aca-2c2c-4690-92cb-67319bca1a9c",
   "metadata": {},
   "outputs": [],
   "source": [
    "# !conda install -c conda-forge -y --force-reinstall python==3.11.5\n",
    "# !pip install --extra-index-url https://pypi.nvidia.com cudf-cu12\n",
    "# !pip install --extra-index-url https://pypi.nvidia.com cuml-cu12"
   ]
  },
  {
   "cell_type": "code",
   "execution_count": 7,
   "id": "7a527f8c-9968-479d-a55f-f28b25962aad",
   "metadata": {},
   "outputs": [],
   "source": [
    "############################################################################\n",
    "##\n",
    "## Copyright (C) 2021 NVIDIA Corporation.  All rights reserved.\n",
    "##\n",
    "## NVIDIA Sample Code\n",
    "##\n",
    "## Please refer to the NVIDIA end user license agreement (EULA) associated\n",
    "## with this source code for terms and conditions that govern your use of\n",
    "## this software. Any use, reproduction, disclosure, or distribution of\n",
    "## this software and related documentation outside the terms of the EULA\n",
    "## is strictly prohibited.\n",
    "##\n",
    "############################################################################"
   ]
  },
  {
   "cell_type": "code",
   "execution_count": null,
   "id": "b4cef7e6-cc1b-4f75-85ef-7be2b0cfc6a2",
   "metadata": {},
   "outputs": [],
   "source": [
    "###### Modeling and Explainability"
   ]
  },
  {
   "cell_type": "code",
   "execution_count": 1,
   "id": "d09184d6-9364-4927-a8b7-44e3b2c5faab",
   "metadata": {},
   "outputs": [
    {
     "name": "stderr",
     "output_type": "stream",
     "text": [
      "/tmp/ipykernel_11064/937460551.py:33: TqdmExperimentalWarning: Using `tqdm.autonotebook.tqdm` in notebook mode. Use `tqdm.tqdm` instead to force console mode (e.g. in jupyter console)\n",
      "  from tqdm.autonotebook import tqdm\n"
     ]
    }
   ],
   "source": [
    "###### https://degravek.github.io/project-pages/project1/2016/11/12/New-Notebook/ #################\n",
    "# with modifications and GPU acceleration by Mark J Bennett mbennett@nvidia.com and Emanuel Scoullos escoullos@nvidia.com\n",
    "\n",
    "###### Best when compared to:\n",
    "###### https://www.bankofengland.co.uk/-/media/boe/files/working-paper/2019/\n",
    "######        machine-learning-explainability-in-finance-an-application-to-default-risk-analysis.pdf\n",
    "%matplotlib inline\n",
    "import time\n",
    "total_start = time.time()\n",
    "from collections import OrderedDict\n",
    "import gc\n",
    "import glob\n",
    "import os\n",
    "import pickle\n",
    "import re\n",
    "import sys\n",
    "\n",
    "from typing import Union\n",
    "\n",
    "import cudf\n",
    "import cupy as cp\n",
    "import numpy as np\n",
    "import pandas as pd\n",
    "import seaborn as sns\n",
    "import matplotlib.pyplot as plt\n",
    "\n",
    "from sklearn.ensemble import RandomForestClassifier, RandomForestRegressor\n",
    "from sklearn.model_selection import train_test_split\n",
    "from sklearn.metrics import (classification_report, confusion_matrix, roc_auc_score, roc_curve, auc,\n",
    "                             precision_score, recall_score, precision_recall_curve, f1_score, \n",
    "                             accuracy_score)\n",
    "\n",
    "from tqdm.autonotebook import tqdm\n",
    "import xgboost as xgb"
   ]
  },
  {
   "cell_type": "code",
   "execution_count": 2,
   "id": "9e3768f9-9231-49fa-bcd2-2f15471d0008",
   "metadata": {},
   "outputs": [
    {
     "name": "stdout",
     "output_type": "stream",
     "text": [
      "using GPU\n"
     ]
    }
   ],
   "source": [
    "##############\n",
    "##############\n",
    "use_cpu = False  # whether to use CPU or GPU\n",
    "\n",
    "##############\n",
    "##############\n",
    "\n",
    "if use_cpu:\n",
    "    print('using CPU')\n",
    "    from pandas import read_parquet, concat, merge, DataFrame, get_dummies, Series, isnull\n",
    "    from sklearn.preprocessing import OneHotEncoder, StandardScaler\n",
    "    from numpy import zeros, double, int8, int16, int64, concatenate, argmax, argmin\n",
    "else:\n",
    "    print('using GPU')\n",
    "    from cudf import read_parquet, concat, merge, DataFrame, get_dummies, Series\n",
    "    from cupy import zeros,double, int8, int16, int64, concatenate, argmax, argmin\n",
    "    from cuml.model_selection import train_test_split\n",
    "    from cuml.preprocessing import OneHotEncoder, StandardScaler\n",
    "    from cuml.metrics import precision_recall_curve, roc_auc_score, confusion_matrix, accuracy_score\n",
    "    \n",
    "import shap\n",
    "\n",
    "from clfmodel import binaryClassification\n",
    "\n",
    "np.set_printoptions(threshold=sys.maxsize)\n",
    "pd.set_option('display.max_rows', 500)\n",
    "pd.set_option('display.max_columns', 500)\n",
    "pd.set_option('display.width', 1000)\n",
    "\n",
    "# make sure the path below points to the data directory where the FannieMae data was downloaded.\n",
    "clean_data_path = './rapids/notebooks/cleaned_data'\n",
    "figures_path = './rapids/notebooks/figures'\n",
    "os.makedirs(figures_path, exist_ok=True)"
   ]
  },
  {
   "cell_type": "code",
   "execution_count": 3,
   "id": "b8fbc506-26e0-40aa-81e2-a0df6e9eaf27",
   "metadata": {},
   "outputs": [],
   "source": [
    "def cupy2numpy(obj, use_cpu):\n",
    "    if use_cpu and isinstance(obj, cp._core.core.ndarray):\n",
    "        return obj.get()\n",
    "    elif use_cpu and isinstance(obj, cudf.core.series.Series):\n",
    "        return obj.to_array()\n",
    "    return obj"
   ]
  },
  {
   "cell_type": "code",
   "execution_count": 5,
   "id": "ca1673d5-99c9-4cf0-b353-a97851452b21",
   "metadata": {},
   "outputs": [
    {
     "name": "stdout",
     "output_type": "stream",
     "text": [
      "Channel\n",
      "SellerName\n",
      "FTHomeBuyer\n",
      "LoanPurpose\n",
      "PropertyType\n",
      "OccStatus\n",
      "PropertyState\n",
      "Zip\n",
      "ProductType\n",
      "MortInsType\n"
     ]
    }
   ],
   "source": [
    "with open(f'{clean_data_path}/fnma_mappings.pkl', 'rb') as f:\n",
    "    mappings = pickle.load(f)\n",
    "print('\\n'.join(mappings.keys()))"
   ]
  },
  {
   "cell_type": "code",
   "execution_count": null,
   "id": "da750cb8-01bd-4cfe-a65e-78d1113d207e",
   "metadata": {},
   "outputs": [],
   "source": [
    "###### Read cleaned FannieMae Dataset from notebook 1"
   ]
  },
  {
   "cell_type": "code",
   "execution_count": 6,
   "id": "d2ce61b1-45f2-4e9d-977d-48b66d243f9a",
   "metadata": {},
   "outputs": [],
   "source": [
    "df = read_parquet(f'{clean_data_path}/fnma_cleaned.pq')"
   ]
  },
  {
   "cell_type": "code",
   "execution_count": 7,
   "id": "da2ca6f3-6197-45dc-bee2-8bbd04d78623",
   "metadata": {},
   "outputs": [
    {
     "data": {
      "text/plain": [
       "(cudf.core.dataframe.DataFrame, (11248077, 22))"
      ]
     },
     "execution_count": 7,
     "metadata": {},
     "output_type": "execute_result"
    }
   ],
   "source": [
    "type(df), df.shape"
   ]
  },
  {
   "cell_type": "code",
   "execution_count": 8,
   "id": "ee00ff8c-af6c-47ab-bd07-2ce7608c7e9b",
   "metadata": {},
   "outputs": [],
   "source": [
    "Xcolumns=['Channel',\n",
    "         'SellerName',\n",
    "         'OrInterestRate',\n",
    "         'OrUnpaidPrinc',\n",
    "         'OrLoanTerm',\n",
    "         'OrCLTV',\n",
    "         'NumBorrow',\n",
    "         'DTIRat',\n",
    "         'CreditScore',\n",
    "         'FTHomeBuyer',\n",
    "         'LoanPurpose',\n",
    "         'PropertyType',\n",
    "         'NumUnits',\n",
    "         'OccStatus',\n",
    "         'PropertyState',\n",
    "         'Zip',\n",
    "         'ProductType',\n",
    "         'CoCreditScore',\n",
    "         'Extra',\n",
    "         'MortInsType']\n",
    "CONTINUOUS_COLUMNS = ['OrInterestRate', 'OrUnpaidPrinc', 'OrLoanTerm', 'OrCLTV', 'NumBorrow', 'DTIRat', \n",
    "                      'CreditScore', 'NumUnits', 'CoCreditScore', 'Extra']\n",
    "CATEGORICAL_COLUMNS = sorted([i for i in Xcolumns if i not in CONTINUOUS_COLUMNS])\n",
    "LABEL_COLUMNS = ['Default']"
   ]
  },
  {
   "cell_type": "code",
   "execution_count": 9,
   "id": "a81202a6-5551-473a-93a0-1d2bf916fa69",
   "metadata": {},
   "outputs": [],
   "source": [
    "###### Predicting Delinquent Loans"
   ]
  },
  {
   "cell_type": "code",
   "execution_count": 11,
   "id": "edefd093-8d62-49d5-93a4-c1696dbecfbe",
   "metadata": {},
   "outputs": [],
   "source": [
    "from imblearn.over_sampling import RandomOverSampler\n",
    "from imblearn.combine import SMOTEENN\n",
    "\n",
    "y = df['Default']#.values\n",
    "X = df.drop(['Default','LoanID'], axis=1)#.values\n",
    "Xcolumns = X.columns.tolist()\n",
    "\n",
    "X_train, X_test, y_train, y_test = train_test_split(X, y, test_size = 0.1, random_state=11)\n",
    "X_train = X_train[CATEGORICAL_COLUMNS + CONTINUOUS_COLUMNS]\n",
    "X_test = X_test[CATEGORICAL_COLUMNS + CONTINUOUS_COLUMNS]"
   ]
  },
  {
   "cell_type": "code",
   "execution_count": 12,
   "id": "1141f936-ef05-471e-8e29-cd5cfd015f0b",
   "metadata": {},
   "outputs": [
    {
     "name": "stdout",
     "output_type": "stream",
     "text": [
      "(10123270, 20) (10123270,)\n",
      "14183 1535\n"
     ]
    }
   ],
   "source": [
    "print(X_train.shape, y_train.shape)\n",
    "print(y_train.sum(), y_test.sum())"
   ]
  },
  {
   "cell_type": "code",
   "execution_count": 13,
   "id": "f7f56239-3abf-4e4f-94f2-c1618fc65886",
   "metadata": {},
   "outputs": [
    {
     "data": {
      "text/html": [
       "<div>\n",
       "<style scoped>\n",
       "    .dataframe tbody tr th:only-of-type {\n",
       "        vertical-align: middle;\n",
       "    }\n",
       "\n",
       "    .dataframe tbody tr th {\n",
       "        vertical-align: top;\n",
       "    }\n",
       "\n",
       "    .dataframe thead th {\n",
       "        text-align: right;\n",
       "    }\n",
       "</style>\n",
       "<table border=\"1\" class=\"dataframe\">\n",
       "  <thead>\n",
       "    <tr style=\"text-align: right;\">\n",
       "      <th></th>\n",
       "      <th>Channel</th>\n",
       "      <th>FTHomeBuyer</th>\n",
       "      <th>LoanPurpose</th>\n",
       "      <th>MortInsType</th>\n",
       "      <th>OccStatus</th>\n",
       "      <th>ProductType</th>\n",
       "      <th>PropertyState</th>\n",
       "      <th>PropertyType</th>\n",
       "      <th>SellerName</th>\n",
       "      <th>Zip</th>\n",
       "      <th>OrInterestRate</th>\n",
       "      <th>OrUnpaidPrinc</th>\n",
       "      <th>OrLoanTerm</th>\n",
       "      <th>OrCLTV</th>\n",
       "      <th>NumBorrow</th>\n",
       "      <th>DTIRat</th>\n",
       "      <th>CreditScore</th>\n",
       "      <th>NumUnits</th>\n",
       "      <th>CoCreditScore</th>\n",
       "      <th>Extra</th>\n",
       "    </tr>\n",
       "  </thead>\n",
       "  <tbody>\n",
       "    <tr>\n",
       "      <th>9095777</th>\n",
       "      <td>1.0</td>\n",
       "      <td>1.0</td>\n",
       "      <td>1.0</td>\n",
       "      <td>0.0</td>\n",
       "      <td>0.0</td>\n",
       "      <td>0.0</td>\n",
       "      <td>12.0</td>\n",
       "      <td>1.0</td>\n",
       "      <td>3.0</td>\n",
       "      <td>16.0</td>\n",
       "      <td>4.125000</td>\n",
       "      <td>386000.000000</td>\n",
       "      <td>360.000000</td>\n",
       "      <td>80.000000</td>\n",
       "      <td>1.000000</td>\n",
       "      <td>24.000000</td>\n",
       "      <td>794.000000</td>\n",
       "      <td>1.000000</td>\n",
       "      <td>766.868035</td>\n",
       "      <td>1.077555</td>\n",
       "    </tr>\n",
       "    <tr>\n",
       "      <th>5590064</th>\n",
       "      <td>0.0</td>\n",
       "      <td>0.0</td>\n",
       "      <td>1.0</td>\n",
       "      <td>0.0</td>\n",
       "      <td>0.0</td>\n",
       "      <td>0.0</td>\n",
       "      <td>6.0</td>\n",
       "      <td>0.0</td>\n",
       "      <td>8.0</td>\n",
       "      <td>720.0</td>\n",
       "      <td>5.250000</td>\n",
       "      <td>252000.000000</td>\n",
       "      <td>360.000000</td>\n",
       "      <td>86.000000</td>\n",
       "      <td>2.000000</td>\n",
       "      <td>42.000000</td>\n",
       "      <td>752.000000</td>\n",
       "      <td>1.000000</td>\n",
       "      <td>799.000000</td>\n",
       "      <td>1.077555</td>\n",
       "    </tr>\n",
       "    <tr>\n",
       "      <th>10990690</th>\n",
       "      <td>0.0</td>\n",
       "      <td>0.0</td>\n",
       "      <td>1.0</td>\n",
       "      <td>0.0</td>\n",
       "      <td>0.0</td>\n",
       "      <td>0.0</td>\n",
       "      <td>48.0</td>\n",
       "      <td>1.0</td>\n",
       "      <td>4.0</td>\n",
       "      <td>266.0</td>\n",
       "      <td>3.500000</td>\n",
       "      <td>231000.000000</td>\n",
       "      <td>360.000000</td>\n",
       "      <td>93.000000</td>\n",
       "      <td>1.000000</td>\n",
       "      <td>35.000000</td>\n",
       "      <td>790.000000</td>\n",
       "      <td>1.000000</td>\n",
       "      <td>766.868035</td>\n",
       "      <td>1.000000</td>\n",
       "    </tr>\n",
       "    <tr>\n",
       "      <th>11239914</th>\n",
       "      <td>1.0</td>\n",
       "      <td>0.0</td>\n",
       "      <td>2.0</td>\n",
       "      <td>0.0</td>\n",
       "      <td>0.0</td>\n",
       "      <td>0.0</td>\n",
       "      <td>12.0</td>\n",
       "      <td>0.0</td>\n",
       "      <td>2.0</td>\n",
       "      <td>41.0</td>\n",
       "      <td>4.820304</td>\n",
       "      <td>216744.602536</td>\n",
       "      <td>306.703223</td>\n",
       "      <td>69.215426</td>\n",
       "      <td>1.588281</td>\n",
       "      <td>33.175486</td>\n",
       "      <td>758.225989</td>\n",
       "      <td>1.030218</td>\n",
       "      <td>766.868035</td>\n",
       "      <td>1.077555</td>\n",
       "    </tr>\n",
       "    <tr>\n",
       "      <th>10886123</th>\n",
       "      <td>0.0</td>\n",
       "      <td>0.0</td>\n",
       "      <td>2.0</td>\n",
       "      <td>0.0</td>\n",
       "      <td>0.0</td>\n",
       "      <td>0.0</td>\n",
       "      <td>24.0</td>\n",
       "      <td>0.0</td>\n",
       "      <td>27.0</td>\n",
       "      <td>439.0</td>\n",
       "      <td>2.500000</td>\n",
       "      <td>98000.000000</td>\n",
       "      <td>180.000000</td>\n",
       "      <td>37.000000</td>\n",
       "      <td>1.000000</td>\n",
       "      <td>46.000000</td>\n",
       "      <td>805.000000</td>\n",
       "      <td>1.000000</td>\n",
       "      <td>766.868035</td>\n",
       "      <td>1.077555</td>\n",
       "    </tr>\n",
       "  </tbody>\n",
       "</table>\n",
       "</div>"
      ],
      "text/plain": [
       "          Channel  FTHomeBuyer  LoanPurpose  MortInsType  OccStatus  ProductType  PropertyState  PropertyType  SellerName    Zip  OrInterestRate  OrUnpaidPrinc  OrLoanTerm     OrCLTV  NumBorrow     DTIRat  CreditScore  NumUnits  CoCreditScore     Extra\n",
       "9095777       1.0          1.0          1.0          0.0        0.0          0.0           12.0           1.0         3.0   16.0        4.125000  386000.000000  360.000000  80.000000   1.000000  24.000000   794.000000  1.000000     766.868035  1.077555\n",
       "5590064       0.0          0.0          1.0          0.0        0.0          0.0            6.0           0.0         8.0  720.0        5.250000  252000.000000  360.000000  86.000000   2.000000  42.000000   752.000000  1.000000     799.000000  1.077555\n",
       "10990690      0.0          0.0          1.0          0.0        0.0          0.0           48.0           1.0         4.0  266.0        3.500000  231000.000000  360.000000  93.000000   1.000000  35.000000   790.000000  1.000000     766.868035  1.000000\n",
       "11239914      1.0          0.0          2.0          0.0        0.0          0.0           12.0           0.0         2.0   41.0        4.820304  216744.602536  306.703223  69.215426   1.588281  33.175486   758.225989  1.030218     766.868035  1.077555\n",
       "10886123      0.0          0.0          2.0          0.0        0.0          0.0           24.0           0.0        27.0  439.0        2.500000   98000.000000  180.000000  37.000000   1.000000  46.000000   805.000000  1.000000     766.868035  1.077555"
      ]
     },
     "execution_count": 13,
     "metadata": {},
     "output_type": "execute_result"
    }
   ],
   "source": [
    "X_train.head()"
   ]
  },
  {
   "cell_type": "code",
   "execution_count": 14,
   "id": "0c2bb7df-369c-4fc1-a910-a240c590ed22",
   "metadata": {},
   "outputs": [],
   "source": [
    "data_prep_time = time.time()"
   ]
  },
  {
   "cell_type": "code",
   "execution_count": 15,
   "id": "3935e97e-9c2e-4227-8874-a186da430053",
   "metadata": {},
   "outputs": [],
   "source": [
    "def plot_confusion_matrix(cm, target_names, title='Confusion Matrix', save_path=None, cmap=plt.cm.cool):\n",
    "    plt.imshow(cm, interpolation='nearest', cmap=cmap)\n",
    "    plt.title(title)\n",
    "    plt.colorbar()\n",
    "    tick_marks = np.arange(len(target_names))\n",
    "    plt.xticks(tick_marks, target_names, rotation=45)\n",
    "    plt.yticks(tick_marks, target_names)\n",
    "\n",
    "    width, height = cm.shape\n",
    "\n",
    "    for x in range(width):\n",
    "        for y in range(height):\n",
    "            plt.annotate(str(cm[x][y]), xy=(y, x), \n",
    "                        horizontalalignment='center',\n",
    "                        verticalalignment='center')\n",
    "    plt.ylabel('True Label')\n",
    "    plt.xlabel('Predicted Label')\n",
    "    plt.tight_layout()\n",
    "    if save_path and isinstance(save_path, str):\n",
    "        plt.savefig(save_path, dpi=600)"
   ]
  },
  {
   "cell_type": "code",
   "execution_count": 16,
   "id": "811b6bc3-687a-48fe-a83a-8adb9235f517",
   "metadata": {},
   "outputs": [],
   "source": [
    "##### XGBoost\n",
    "##### Alright, now we’re ready to make some predictions! We first randomly split the data into a training set and a test set using the Scikit-Learn train_test_split_function. From these two sets, we idenfiy the target (“Default”) vector, and feature arrays."
   ]
  },
  {
   "cell_type": "code",
   "execution_count": 17,
   "id": "8504d5ae-9888-43cb-ad47-21ba4633e75c",
   "metadata": {},
   "outputs": [
    {
     "data": {
      "text/plain": [
       "0.0014010295092396034"
      ]
     },
     "execution_count": 17,
     "metadata": {},
     "output_type": "execute_result"
    }
   ],
   "source": [
    "y_train.sum()/len(y_train)"
   ]
  },
  {
   "cell_type": "code",
   "execution_count": 18,
   "id": "867063c9-7bc0-4269-ba29-5a748c98d0ec",
   "metadata": {},
   "outputs": [
    {
     "name": "stdout",
     "output_type": "stream",
     "text": [
      "scaling: 712.7608404427837\n"
     ]
    }
   ],
   "source": [
    "scaling = (len(y_train)-y_train.sum())/y_train.sum()\n",
    "scaling = float(scaling)\n",
    "\n",
    "print('scaling:', scaling )   "
   ]
  },
  {
   "cell_type": "code",
   "execution_count": 19,
   "id": "d9c4fa55-d087-45ed-ad60-a9c6e1305621",
   "metadata": {},
   "outputs": [],
   "source": [
    "# parameters here are not optimized. Feel free to experiment!\n",
    "params = {\n",
    "    'num_rounds':        100,\n",
    "    'max_depth':         12,\n",
    "    'max_leaves':        0,\n",
    "    'alpha':             3,\n",
    "    'lambda':            1,\n",
    "    'eta':               0.17,\n",
    "    'subsample':         1,\n",
    "    'sampling_method':   'gradient_based',\n",
    "    'scale_pos_weight':  scaling,\n",
    "    'max_delta_step':    1,\n",
    "    'max_bin':           2048,\n",
    "    'tree_method':       'gpu_hist',\n",
    "    'grow_policy':       'lossguide',\n",
    "    'n_gpus':            1,\n",
    "    'objective':         'binary:logistic',#'binary:hinge'\n",
    "    'eval_metric':       'aucpr',#'error',#'auc', 'logloss'\n",
    "    'predictor':         'gpu_predictor',\n",
    "    'num_parallel_tree': 1,\n",
    "    \"min_child_weight\":  2,\n",
    "    'verbose':           True\n",
    "}\n",
    "\n",
    "if use_cpu:\n",
    "    print('training XGBoost model on cpu')\n",
    "    params['tree_method'] = 'hist'\n",
    "    params['sampling_method'] = 'uniform'\n",
    "    params['predictor'] = 'cpu_predictor'"
   ]
  },
  {
   "cell_type": "code",
   "execution_count": 20,
   "id": "f87b0dc6-f713-4e23-9ece-0925f5e57cff",
   "metadata": {},
   "outputs": [],
   "source": [
    "dtrain = xgb.DMatrix(X_train, label=y_train)\n",
    "dtest = xgb.DMatrix(X_test, label=y_test)\n",
    "    \n",
    "evals = [(dtest, 'test'), (dtrain, 'train')]"
   ]
  },
  {
   "cell_type": "code",
   "execution_count": 21,
   "id": "fe565189-d45f-4848-94e2-7d0175a6111c",
   "metadata": {},
   "outputs": [
    {
     "name": "stderr",
     "output_type": "stream",
     "text": [
      "/home/opc/miniconda3/lib/python3.11/site-packages/xgboost/core.py:158: UserWarning: [09:21:58] WARNING: /workspace/src/common/error_msg.cc:27: The tree method `gpu_hist` is deprecated since 2.0.0. To use GPU training, set the `device` parameter to CUDA instead.\n",
      "\n",
      "    E.g. tree_method = \"hist\", device = \"cuda\"\n",
      "\n",
      "  warnings.warn(smsg, UserWarning)\n",
      "/home/opc/miniconda3/lib/python3.11/site-packages/xgboost/core.py:158: UserWarning: [09:21:58] WARNING: /workspace/src/learner.cc:740: \n",
      "Parameters: { \"n_gpus\", \"num_rounds\", \"predictor\", \"verbose\" } are not used.\n",
      "\n",
      "  warnings.warn(smsg, UserWarning)\n"
     ]
    },
    {
     "name": "stdout",
     "output_type": "stream",
     "text": [
      "[0]\ttest-aucpr:1.00000\ttrain-aucpr:1.00000\n",
      "[1]\ttest-aucpr:1.00000\ttrain-aucpr:1.00000\n",
      "[2]\ttest-aucpr:1.00000\ttrain-aucpr:1.00000\n",
      "[3]\ttest-aucpr:1.00000\ttrain-aucpr:1.00000\n",
      "[4]\ttest-aucpr:1.00000\ttrain-aucpr:1.00000\n",
      "[5]\ttest-aucpr:1.00000\ttrain-aucpr:1.00000\n",
      "[6]\ttest-aucpr:1.00000\ttrain-aucpr:1.00000\n",
      "[7]\ttest-aucpr:1.00000\ttrain-aucpr:1.00000\n",
      "[8]\ttest-aucpr:1.00000\ttrain-aucpr:1.00000\n",
      "[9]\ttest-aucpr:1.00000\ttrain-aucpr:1.00000\n",
      "Elapsed time:  0.719 s\n"
     ]
    }
   ],
   "source": [
    "start = time.time()\n",
    "\n",
    "model = xgb.train(params, dtrain, params['num_rounds'], evals=evals,\n",
    "                          early_stopping_rounds=10)\n",
    "print(f'Elapsed time: {time.time() - start: 0.3f} s')"
   ]
  },
  {
   "cell_type": "code",
   "execution_count": 22,
   "id": "8df3618e-1256-4324-988b-5fd590090ae3",
   "metadata": {},
   "outputs": [
    {
     "name": "stderr",
     "output_type": "stream",
     "text": [
      "/home/opc/miniconda3/lib/python3.11/site-packages/xgboost/core.py:158: UserWarning: [09:22:04] WARNING: /workspace/src/common/error_msg.cc:27: The tree method `gpu_hist` is deprecated since 2.0.0. To use GPU training, set the `device` parameter to CUDA instead.\n",
      "\n",
      "    E.g. tree_method = \"hist\", device = \"cuda\"\n",
      "\n",
      "  warnings.warn(smsg, UserWarning)\n",
      "/home/opc/miniconda3/lib/python3.11/site-packages/xgboost/core.py:158: UserWarning: [09:22:04] WARNING: /workspace/src/c_api/c_api.cc:1374: Saving model in the UBJSON format as default.  You can use file extension: `json`, `ubj` or `deprecated` to choose between formats.\n",
      "  warnings.warn(smsg, UserWarning)\n"
     ]
    }
   ],
   "source": [
    "model.save_model(f'{clean_data_path}/xgb_model')"
   ]
  },
  {
   "cell_type": "code",
   "execution_count": 23,
   "id": "72b8f708-d861-4825-a821-58a3a5735d5a",
   "metadata": {},
   "outputs": [
    {
     "name": "stderr",
     "output_type": "stream",
     "text": [
      "/home/opc/miniconda3/lib/python3.11/site-packages/cupy/cuda/compiler.py:233: PerformanceWarning: Jitify is performing a one-time only warm-up to populate the persistent cache, this may take a few seconds and will be improved in a future release...\n",
      "  jitify._init_module()\n"
     ]
    },
    {
     "name": "stdout",
     "output_type": "stream",
     "text": [
      "Threshold:  0.8665\n",
      "Precision:  1.0000\n",
      "Recall:  1.0000\n",
      "Predicted 1535\n",
      "Actual 1535\n",
      "AUC  1.0000\n",
      "Accuracy:  1.0000\n",
      "F1:  1.0000\n",
      "AUPRC:  1.0000\n"
     ]
    }
   ],
   "source": [
    "# make predictions on the test set using our trained model\n",
    "cp.cuda.Device(0).use()\n",
    "use_f1_measure = True\n",
    "\n",
    "preds = model.predict(dtest)\n",
    "if isinstance(preds, np.ndarray) and not use_cpu:\n",
    "    preds = cp.array(preds)\n",
    "    \n",
    "true_labels = y_test.astype(int).values.squeeze()\n",
    "true_labels = cupy2numpy(true_labels, use_cpu)\n",
    "precision, recall, thresholds = precision_recall_curve(true_labels, preds)\n",
    "\n",
    "if use_f1_measure:\n",
    "    # apply the threshold using F1 measure to the prediction.\n",
    "    threshold_idx = cupy2numpy(np.argmax((2 * precision * recall)/ (precision + recall+1e-7)), True)\n",
    "    pred_labels = (preds >= thresholds[threshold_idx]).astype(int)\n",
    "else:\n",
    "    # apply the threshold TPR-FPR to the prediction.\n",
    "    fpr, tpr, thresholds = roc_curve(cupy2numpy(true_labels, True), cupy2numpy(preds, True))\n",
    "    threshold_idx = cupy2numpy(np.argmax(tpr - fpr), True)\n",
    "    pred_labels = (preds >= thresholds[threshold_idx]).astype(int)\n",
    "    print(f'TPR: {tpr[threshold_idx]: 0.4f}')\n",
    "    print(f'FPR: {fpr[threshold_idx]: 0.4f}')\n",
    "    \n",
    "    \n",
    "print(f'Threshold: {thresholds[threshold_idx]: 0.4f}')\n",
    "print(f'Precision: {precision[threshold_idx]: 0.4f}')\n",
    "print(f'Recall: {recall[threshold_idx]: 0.4f}')\n",
    "print('Predicted', pred_labels.sum())\n",
    "print('Actual', true_labels.sum())\n",
    "# compute the auc, this should match the last test auc output above\n",
    "#\n",
    "auc_measure = roc_auc_score(true_labels, preds)\n",
    "\n",
    "print(f'AUC {auc_measure: 0.4f}')\n",
    "\n",
    "print (f'Accuracy: {accuracy_score(true_labels, pred_labels): 0.4f}')\n",
    "\n",
    "print (f'F1: {(2 * precision[threshold_idx] * recall[threshold_idx]) / (precision[threshold_idx] + recall[threshold_idx]): 0.4f}')\n",
    "recall = cupy2numpy(recall, True)\n",
    "precision = cupy2numpy(precision, True)\n",
    "# area under precision recall curve\n",
    "auprc= auc(recall, precision)\n",
    "print(f'AUPRC: {auprc: 0.4f}')"
   ]
  },
  {
   "cell_type": "code",
   "execution_count": 24,
   "id": "6c643d97-1d7a-49d2-b03e-bf52973f9e36",
   "metadata": {},
   "outputs": [
    {
     "data": {
      "image/png": "[encoded data removed]",
      "text/plain": [
       "<Figure size 1200x600 with 2 Axes>"
      ]
     },
     "metadata": {},
     "output_type": "display_data"
    }
   ],
   "source": [
    "sns.set()\n",
    "fig, ax = plt.subplots(nrows=1, ncols=2, figsize=(12, 6))\n",
    "no_skill = y_test.sum()/len(y_test)\n",
    "ax[0].plot(recall, precision, color='darkorange', lw=1, label='PR curve (area = %0.2f)' % auprc)\n",
    "ax[0].plot([0, 1], [no_skill, no_skill], color='navy', linestyle='--', label='No Skill')\n",
    "\n",
    "ax[0].plot(recall[threshold_idx],\n",
    "           precision[threshold_idx], 'ro', label='F1 threshold')\n",
    "\n",
    "ax[0].set_xlabel('Recall (Positive Label: 1)')\n",
    "ax[0].set_ylabel('Precision (Positive Label: 1)')\n",
    "ax[0].set_title('2-class Precision-Recall curve')\n",
    "ax[0].set_xlim([-0.02, 1.02])\n",
    "ax[0].set_ylim([-0.02, 1.02])\n",
    "ax[0].legend()\n",
    "\n",
    "fpr, tpr, thresholds = roc_curve(cupy2numpy(true_labels, True), cupy2numpy(preds, True))\n",
    "# roc_auc = roc_auc_score(true_labels, pred_labels)\n",
    "roc_auc = roc_auc_score(true_labels, preds)\n",
    "ax[1].plot(fpr, tpr, color='darkorange', lw=1, label='ROC curve (area = %0.2f)' % roc_auc)\n",
    "ax[1].plot([-0, 1], [0, 1], color='navy', linestyle='--')\n",
    "ax[1].set_xlim([-0.02, 1.02])\n",
    "ax[1].set_ylim([-0.02, 1.02])\n",
    "ax[1].set_xlabel('False Positive Rate')\n",
    "ax[1].set_ylabel('True Positive Rate')\n",
    "ax[1].set_title('Receiver operating characteristic')\n",
    "ax[1].legend(loc=\"lower right\")\n",
    "plt.tight_layout()\n",
    "plt.savefig(f'{figures_path}/xgb_pr_roc_curves.png', dpi=600)"
   ]
  },
  {
   "cell_type": "code",
   "execution_count": 25,
   "id": "2823f0a5-d9c9-4353-888e-880c24d128dc",
   "metadata": {},
   "outputs": [
    {
     "name": "stdout",
     "output_type": "stream",
     "text": [
      "Confusion Matrix :\n"
     ]
    },
    {
     "data": {
      "image/png": "[encoded data removed]",
      "text/plain": [
       "<Figure size 640x480 with 2 Axes>"
      ]
     },
     "metadata": {},
     "output_type": "display_data"
    }
   ],
   "source": [
    "results = confusion_matrix(true_labels, pred_labels)\n",
    "results = cupy2numpy(results, True)\n",
    "\n",
    "print ('Confusion Matrix :')\n",
    "\n",
    "plot_confusion_matrix(results, ['Normal','Anomaly'], title='Confusion Matrix', save_path=f'{figures_path}/xgb_confusion_matrix.png')\n"
   ]
  },
  {
   "cell_type": "code",
   "execution_count": 26,
   "id": "803a7761-b85f-45e9-a5b0-e15bacfc5e2f",
   "metadata": {},
   "outputs": [
    {
     "data": {
      "text/plain": [
       "(1124807, 1124807)"
      ]
     },
     "execution_count": 26,
     "metadata": {},
     "output_type": "execute_result"
    }
   ],
   "source": [
    "len(true_labels), len(y_test)"
   ]
  },
  {
   "cell_type": "code",
   "execution_count": 27,
   "id": "128c1aaa-fbfd-405c-befd-b28e99db506b",
   "metadata": {},
   "outputs": [
    {
     "data": {
      "text/plain": [
       "cupy.ndarray"
      ]
     },
     "execution_count": 27,
     "metadata": {},
     "output_type": "execute_result"
    }
   ],
   "source": [
    "type(pred_labels)"
   ]
  },
  {
   "cell_type": "code",
   "execution_count": 28,
   "id": "f0fde823-66aa-433f-ace3-97fecc9f0c13",
   "metadata": {},
   "outputs": [
    {
     "ename": "AttributeError",
     "evalue": "'Series' object has no attribute 'to_array'",
     "output_type": "error",
     "traceback": [
      "\u001b[0;31m---------------------------------------------------------------------------\u001b[0m",
      "\u001b[0;31mAttributeError\u001b[0m                            Traceback (most recent call last)",
      "Cell \u001b[0;32mIn[28], line 3\u001b[0m\n\u001b[1;32m      1\u001b[0m \u001b[38;5;66;03m# flag\u001b[39;00m\n\u001b[1;32m      2\u001b[0m \u001b[38;5;28mprint\u001b[39m(\u001b[38;5;124m\"\u001b[39m\u001b[38;5;124mClassification Report for XGBoost Classifier: \u001b[39m\u001b[38;5;130;01m\\n\u001b[39;00m\u001b[38;5;124m\"\u001b[39m, \n\u001b[0;32m----> 3\u001b[0m       classification_report(\u001b[43mcupy2numpy\u001b[49m\u001b[43m(\u001b[49m\u001b[43my_test\u001b[49m\u001b[43m,\u001b[49m\u001b[43m \u001b[49m\u001b[38;5;129;43;01mnot\u001b[39;49;00m\u001b[43m \u001b[49m\u001b[43muse_cpu\u001b[49m\u001b[43m)\u001b[49m, cupy2numpy(pred_labels, \u001b[38;5;129;01mnot\u001b[39;00m use_cpu)))\n\u001b[1;32m      4\u001b[0m \u001b[38;5;28mprint\u001b[39m(\u001b[38;5;124m\"\u001b[39m\u001b[38;5;124mConfusion Matrix of XGBoost Classifier: \u001b[39m\u001b[38;5;130;01m\\n\u001b[39;00m\u001b[38;5;124m\"\u001b[39m, \n\u001b[1;32m      5\u001b[0m       confusion_matrix(cupy2numpy(y_test, \u001b[38;5;129;01mnot\u001b[39;00m use_cpu), cupy2numpy(pred_labels, \u001b[38;5;129;01mnot\u001b[39;00m use_cpu)))\n",
      "Cell \u001b[0;32mIn[3], line 5\u001b[0m, in \u001b[0;36mcupy2numpy\u001b[0;34m(obj, use_cpu)\u001b[0m\n\u001b[1;32m      3\u001b[0m     \u001b[38;5;28;01mreturn\u001b[39;00m obj\u001b[38;5;241m.\u001b[39mget()\n\u001b[1;32m      4\u001b[0m \u001b[38;5;28;01melif\u001b[39;00m use_cpu \u001b[38;5;129;01mand\u001b[39;00m \u001b[38;5;28misinstance\u001b[39m(obj, cudf\u001b[38;5;241m.\u001b[39mcore\u001b[38;5;241m.\u001b[39mseries\u001b[38;5;241m.\u001b[39mSeries):\n\u001b[0;32m----> 5\u001b[0m     \u001b[38;5;28;01mreturn\u001b[39;00m \u001b[43mobj\u001b[49m\u001b[38;5;241;43m.\u001b[39;49m\u001b[43mto_array\u001b[49m()\n\u001b[1;32m      6\u001b[0m \u001b[38;5;28;01mreturn\u001b[39;00m obj\n",
      "\u001b[0;31mAttributeError\u001b[0m: 'Series' object has no attribute 'to_array'"
     ]
    }
   ],
   "source": [
    "# flag\n",
    "print(\"Classification Report for XGBoost Classifier: \\n\", \n",
    "      classification_report(cupy2numpy(y_test, not use_cpu), cupy2numpy(pred_labels, not use_cpu)))\n",
    "print(\"Confusion Matrix of XGBoost Classifier: \\n\", \n",
    "      confusion_matrix(cupy2numpy(y_test, not use_cpu), cupy2numpy(pred_labels, not use_cpu)))\n"
   ]
  },
  {
   "cell_type": "code",
   "execution_count": 29,
   "id": "280994e8-5a63-4187-a7ad-14a2b69ebf69",
   "metadata": {},
   "outputs": [],
   "source": [
    "###  Explainability with Shap"
   ]
  },
  {
   "cell_type": "code",
   "execution_count": 30,
   "id": "44e5b750-c9c1-49b7-9df2-bac1875cc7ff",
   "metadata": {},
   "outputs": [],
   "source": [
    "shap_time = time.time()"
   ]
  },
  {
   "cell_type": "code",
   "execution_count": 31,
   "id": "9d28c6ba-91c0-4237-9ba3-fd8fce7599ac",
   "metadata": {},
   "outputs": [
    {
     "data": {
      "image/png": "[encoded data removed]",
      "text/plain": [
       "<Figure size 1000x600 with 1 Axes>"
      ]
     },
     "metadata": {},
     "output_type": "display_data"
    }
   ],
   "source": [
    "x = plt.rcParams[\"figure.figsize\"] = [10,6]\n",
    "fig, ax = plt.subplots()\n",
    "xgb.plot_importance(model, max_num_features=10, ax = ax)\n",
    "plt.savefig(f'{figures_path}/xgb_feat_importance.png', dpi=600)"
   ]
  },
  {
   "cell_type": "code",
   "execution_count": 32,
   "id": "5b19631c-5b58-44cf-a4a4-7b5ab5494ed4",
   "metadata": {},
   "outputs": [
    {
     "data": {
      "image/png": "[encoded data removed]",
      "text/plain": [
       "<Figure size 1000x600 with 1 Axes>"
      ]
     },
     "metadata": {},
     "output_type": "display_data"
    }
   ],
   "source": [
    "# Function for plotting Precision Recall curve and measuring AUC\n",
    "def plot_precision_recall(y_test: np.array, y_score: np.array, isPR = True) -> None:\n",
    "    #print(y_test[0:20],y_score[0:20])\n",
    "    precision, recall, _ = precision_recall_curve(y_test, y_score) if isPR else roc_curve(y_test, y_score)\n",
    "    auc_score = auc(recall, precision)\n",
    "    plt.step(recall, precision, color='b', alpha=0.2,\n",
    "             where='post')\n",
    "    plt.fill_between(recall, precision, alpha=0.2, color='b')\n",
    "    plt.xlabel('Recall')\n",
    "    plt.ylabel('Precision')\n",
    "    plt.ylim([0.0, 1.05])\n",
    "    plt.xlim([0.0, 1.05])\n",
    "    plt.title('Precision-Recall curve: AUC={0:0.4f}'.format(auc_score))\n",
    "    plt.show()\n",
    "\n",
    "plt.rcParams[\"figure.figsize\"] = [10,6]\n",
    "plot_precision_recall(cupy2numpy(y_test.values, not use_cpu), cupy2numpy(preds, True))"
   ]
  },
  {
   "cell_type": "code",
   "execution_count": 33,
   "id": "9df198f7-9b8d-40e9-bbb9-37a12ccaaf11",
   "metadata": {},
   "outputs": [
    {
     "name": "stdout",
     "output_type": "stream",
     "text": [
      "Elapsed:  0.1264 sec\n",
      "(1124807, 20)\n",
      "XGBoost version: 2.1.0\n"
     ]
    }
   ],
   "source": [
    "## shap Tree Explainer\n",
    "start = time.time()\n",
    "    \n",
    "expl = shap.TreeExplainer(model)\n",
    "shap_values = expl.shap_values(X_test)\n",
    "tshap = time.time()-start\n",
    "print(f'Elapsed: {time.time()-start: 0.4f} sec')\n",
    "print(shap_values.shape)\n",
    "print(f'XGBoost version: {xgb.__version__}')\n",
    "\n",
    "start = time.time()\n",
    "sns.set()"
   ]
  },
  {
   "cell_type": "code",
   "execution_count": 36,
   "id": "55688fa0-e891-447c-8006-5234c9607bc5",
   "metadata": {},
   "outputs": [],
   "source": [
    "np.save(f'{clean_data_path}/xgb_shap.npy', shap_values)"
   ]
  },
  {
   "cell_type": "code",
   "execution_count": 37,
   "id": "5ee46fe0-79f7-4ff7-a850-baa8d49e051a",
   "metadata": {},
   "outputs": [],
   "source": [
    "# save for dashboarding\n",
    "X_train.to_parquet(f'{clean_data_path}/xgb_xtrain.parquet')\n",
    "y_train.to_frame().to_parquet(f'{clean_data_path}/xgb_ytrain.parquet')\n",
    "\n",
    "X_test.to_parquet(f'{clean_data_path}/xgb_xtest.parquet')\n",
    "y_test.to_frame().to_parquet(f'{clean_data_path}/xgb_ytest.parquet')"
   ]
  },
  {
   "cell_type": "code",
   "execution_count": 38,
   "id": "e2043178-b483-4e8d-b8df-8eadb74de2d2",
   "metadata": {},
   "outputs": [],
   "source": [
    "if False:\n",
    "  if use_cpu: \n",
    "    shap.summary_plot(shap_values, X_test)\n",
    "  else: \n",
    "    shap.summary_plot(shap_values, X_test.to_pandas(), sort=False, show=False)\n",
    "    \n",
    "  plt.tight_layout()\n",
    "\n",
    "if False:\n",
    "    ax = f.gca()\n",
    "    ax.set_xlim([-5, 5])\n",
    "\n",
    "    f = plt.gcf()\n",
    "    f.savefig(f'{figures_path}/Shap_XGBoost_1200.png', dpi=6000)\n",
    "    print(f'Elapsed: {time.time()-start: 0.4f} sec')"
   ]
  },
  {
   "cell_type": "code",
   "execution_count": 39,
   "id": "7f31062c-0a7b-4455-8e6e-5f3274526ee0",
   "metadata": {},
   "outputs": [
    {
     "name": "stdout",
     "output_type": "stream",
     "text": [
      "cuda:0\n"
     ]
    }
   ],
   "source": [
    "##### PyTorch\n",
    "\n",
    "import torch\n",
    "import torch.nn as nn\n",
    "import torch.optim as optim\n",
    "\n",
    "EPOCHS = 20\n",
    "BATCH_SIZE = 2048\n",
    "LEARNING_RATE = 0.0001\n",
    "\n",
    "device = torch.device(\"cuda:0\" if torch.cuda.is_available() and not use_cpu else \"cpu\")\n",
    "print(device)"
   ]
  },
  {
   "cell_type": "code",
   "execution_count": 41,
   "id": "6efe1461-6dba-4f74-aafa-94f6058261a1",
   "metadata": {},
   "outputs": [
    {
     "name": "stdout",
     "output_type": "stream",
     "text": [
      "1721381216.8450537\n"
     ]
    }
   ],
   "source": [
    "pyt_time = time.time()\n",
    "print(pyt_time)"
   ]
  },
  {
   "cell_type": "code",
   "execution_count": 42,
   "id": "b4e255fe-3ab8-48da-b13f-504ce19bc53a",
   "metadata": {},
   "outputs": [],
   "source": [
    "Xcolumns=['Channel',\n",
    "         'SellerName',\n",
    "         'OrInterestRate',\n",
    "         'OrUnpaidPrinc',\n",
    "         'OrLoanTerm',\n",
    "         'OrCLTV',\n",
    "         'NumBorrow',\n",
    "         'DTIRat',\n",
    "         'CreditScore',\n",
    "         'FTHomeBuyer',\n",
    "         'LoanPurpose',\n",
    "         'PropertyType',\n",
    "         'NumUnits',\n",
    "         'OccStatus',\n",
    "         'PropertyState',\n",
    "         'Zip',\n",
    "         'ProductType',\n",
    "         'CoCreditScore',\n",
    "         'Extra',\n",
    "         'MortInsType']\n",
    "CONTINUOUS_COLUMNS = ['OrInterestRate', 'OrUnpaidPrinc', 'OrLoanTerm', 'OrCLTV', 'NumBorrow', 'DTIRat', \n",
    "                      'CreditScore', 'NumUnits', 'CoCreditScore', 'Extra']\n",
    "CATEGORICAL_COLUMNS = sorted([i for i in Xcolumns if i not in CONTINUOUS_COLUMNS])\n",
    "LABEL_COLUMNS = ['Default']"
   ]
  },
  {
   "cell_type": "code",
   "execution_count": 43,
   "id": "83a66fe8-1de6-4689-a83c-b94dc52f3aee",
   "metadata": {},
   "outputs": [],
   "source": [
    "##### Scale numerical data"
   ]
  },
  {
   "cell_type": "code",
   "execution_count": 44,
   "id": "f8102623-131a-4edc-acff-f356d371850f",
   "metadata": {},
   "outputs": [],
   "source": [
    "std_scaler = StandardScaler()"
   ]
  },
  {
   "cell_type": "code",
   "execution_count": 45,
   "id": "113259ff-c2b0-43f7-aeea-5f043bb8b3c8",
   "metadata": {},
   "outputs": [
    {
     "data": {
      "text/html": [
       "<div>\n",
       "<style scoped>\n",
       "    .dataframe tbody tr th:only-of-type {\n",
       "        vertical-align: middle;\n",
       "    }\n",
       "\n",
       "    .dataframe tbody tr th {\n",
       "        vertical-align: top;\n",
       "    }\n",
       "\n",
       "    .dataframe thead th {\n",
       "        text-align: right;\n",
       "    }\n",
       "</style>\n",
       "<table border=\"1\" class=\"dataframe\">\n",
       "  <thead>\n",
       "    <tr style=\"text-align: right;\">\n",
       "      <th></th>\n",
       "      <th>OrInterestRate</th>\n",
       "      <th>OrUnpaidPrinc</th>\n",
       "      <th>OrLoanTerm</th>\n",
       "      <th>OrCLTV</th>\n",
       "      <th>NumBorrow</th>\n",
       "      <th>DTIRat</th>\n",
       "      <th>CreditScore</th>\n",
       "      <th>NumUnits</th>\n",
       "      <th>CoCreditScore</th>\n",
       "      <th>Extra</th>\n",
       "    </tr>\n",
       "  </thead>\n",
       "  <tbody>\n",
       "    <tr>\n",
       "      <th>9095777</th>\n",
       "      <td>4.125000</td>\n",
       "      <td>386000.000000</td>\n",
       "      <td>360.000000</td>\n",
       "      <td>80.000000</td>\n",
       "      <td>1.000000</td>\n",
       "      <td>24.000000</td>\n",
       "      <td>794.000000</td>\n",
       "      <td>1.000000</td>\n",
       "      <td>766.868035</td>\n",
       "      <td>1.077555</td>\n",
       "    </tr>\n",
       "    <tr>\n",
       "      <th>5590064</th>\n",
       "      <td>5.250000</td>\n",
       "      <td>252000.000000</td>\n",
       "      <td>360.000000</td>\n",
       "      <td>86.000000</td>\n",
       "      <td>2.000000</td>\n",
       "      <td>42.000000</td>\n",
       "      <td>752.000000</td>\n",
       "      <td>1.000000</td>\n",
       "      <td>799.000000</td>\n",
       "      <td>1.077555</td>\n",
       "    </tr>\n",
       "    <tr>\n",
       "      <th>10990690</th>\n",
       "      <td>3.500000</td>\n",
       "      <td>231000.000000</td>\n",
       "      <td>360.000000</td>\n",
       "      <td>93.000000</td>\n",
       "      <td>1.000000</td>\n",
       "      <td>35.000000</td>\n",
       "      <td>790.000000</td>\n",
       "      <td>1.000000</td>\n",
       "      <td>766.868035</td>\n",
       "      <td>1.000000</td>\n",
       "    </tr>\n",
       "    <tr>\n",
       "      <th>11239914</th>\n",
       "      <td>4.820304</td>\n",
       "      <td>216744.602536</td>\n",
       "      <td>306.703223</td>\n",
       "      <td>69.215426</td>\n",
       "      <td>1.588281</td>\n",
       "      <td>33.175486</td>\n",
       "      <td>758.225989</td>\n",
       "      <td>1.030218</td>\n",
       "      <td>766.868035</td>\n",
       "      <td>1.077555</td>\n",
       "    </tr>\n",
       "    <tr>\n",
       "      <th>10886123</th>\n",
       "      <td>2.500000</td>\n",
       "      <td>98000.000000</td>\n",
       "      <td>180.000000</td>\n",
       "      <td>37.000000</td>\n",
       "      <td>1.000000</td>\n",
       "      <td>46.000000</td>\n",
       "      <td>805.000000</td>\n",
       "      <td>1.000000</td>\n",
       "      <td>766.868035</td>\n",
       "      <td>1.077555</td>\n",
       "    </tr>\n",
       "  </tbody>\n",
       "</table>\n",
       "</div>"
      ],
      "text/plain": [
       "          OrInterestRate  OrUnpaidPrinc  OrLoanTerm     OrCLTV  NumBorrow     DTIRat  CreditScore  NumUnits  CoCreditScore     Extra\n",
       "9095777         4.125000  386000.000000  360.000000  80.000000   1.000000  24.000000   794.000000  1.000000     766.868035  1.077555\n",
       "5590064         5.250000  252000.000000  360.000000  86.000000   2.000000  42.000000   752.000000  1.000000     799.000000  1.077555\n",
       "10990690        3.500000  231000.000000  360.000000  93.000000   1.000000  35.000000   790.000000  1.000000     766.868035  1.000000\n",
       "11239914        4.820304  216744.602536  306.703223  69.215426   1.588281  33.175486   758.225989  1.030218     766.868035  1.077555\n",
       "10886123        2.500000   98000.000000  180.000000  37.000000   1.000000  46.000000   805.000000  1.000000     766.868035  1.077555"
      ]
     },
     "execution_count": 45,
     "metadata": {},
     "output_type": "execute_result"
    }
   ],
   "source": [
    "X_train[CONTINUOUS_COLUMNS].head()"
   ]
  },
  {
   "cell_type": "code",
   "execution_count": 46,
   "id": "f4b7a9b1-7524-4c81-ae84-66d17a3b2320",
   "metadata": {},
   "outputs": [
    {
     "data": {
      "text/html": [
       "<div>\n",
       "<style scoped>\n",
       "    .dataframe tbody tr th:only-of-type {\n",
       "        vertical-align: middle;\n",
       "    }\n",
       "\n",
       "    .dataframe tbody tr th {\n",
       "        vertical-align: top;\n",
       "    }\n",
       "\n",
       "    .dataframe thead th {\n",
       "        text-align: right;\n",
       "    }\n",
       "</style>\n",
       "<table border=\"1\" class=\"dataframe\">\n",
       "  <thead>\n",
       "    <tr style=\"text-align: right;\">\n",
       "      <th></th>\n",
       "      <th>OrInterestRate</th>\n",
       "      <th>OrUnpaidPrinc</th>\n",
       "      <th>OrLoanTerm</th>\n",
       "      <th>OrCLTV</th>\n",
       "      <th>NumBorrow</th>\n",
       "      <th>DTIRat</th>\n",
       "      <th>CreditScore</th>\n",
       "      <th>NumUnits</th>\n",
       "      <th>CoCreditScore</th>\n",
       "      <th>Extra</th>\n",
       "    </tr>\n",
       "  </thead>\n",
       "  <tbody>\n",
       "    <tr>\n",
       "      <th>9095777</th>\n",
       "      <td>-0.679839</td>\n",
       "      <td>1.363902</td>\n",
       "      <td>0.640855</td>\n",
       "      <td>0.625094</td>\n",
       "      <td>-1.166797</td>\n",
       "      <td>-0.813833</td>\n",
       "      <td>0.752115</td>\n",
       "      <td>-0.132978</td>\n",
       "      <td>0.000193</td>\n",
       "      <td>-0.000102</td>\n",
       "    </tr>\n",
       "    <tr>\n",
       "      <th>5590064</th>\n",
       "      <td>0.420215</td>\n",
       "      <td>0.284004</td>\n",
       "      <td>0.640855</td>\n",
       "      <td>0.972869</td>\n",
       "      <td>0.816311</td>\n",
       "      <td>0.782411</td>\n",
       "      <td>-0.130757</td>\n",
       "      <td>-0.132978</td>\n",
       "      <td>1.013063</td>\n",
       "      <td>-0.000102</td>\n",
       "    </tr>\n",
       "    <tr>\n",
       "      <th>10990690</th>\n",
       "      <td>-1.290981</td>\n",
       "      <td>0.114766</td>\n",
       "      <td>0.640855</td>\n",
       "      <td>1.378606</td>\n",
       "      <td>-1.166797</td>\n",
       "      <td>0.161650</td>\n",
       "      <td>0.668032</td>\n",
       "      <td>-0.132978</td>\n",
       "      <td>0.000193</td>\n",
       "      <td>-0.830916</td>\n",
       "    </tr>\n",
       "    <tr>\n",
       "      <th>11239914</th>\n",
       "      <td>0.000047</td>\n",
       "      <td>-0.000117</td>\n",
       "      <td>0.000036</td>\n",
       "      <td>-0.000007</td>\n",
       "      <td>-0.000172</td>\n",
       "      <td>-0.000149</td>\n",
       "      <td>0.000118</td>\n",
       "      <td>-0.000139</td>\n",
       "      <td>0.000193</td>\n",
       "      <td>-0.000102</td>\n",
       "    </tr>\n",
       "    <tr>\n",
       "      <th>10886123</th>\n",
       "      <td>-2.268807</td>\n",
       "      <td>-0.957073</td>\n",
       "      <td>-1.523394</td>\n",
       "      <td>-1.867293</td>\n",
       "      <td>-1.166797</td>\n",
       "      <td>1.137132</td>\n",
       "      <td>0.983343</td>\n",
       "      <td>-0.132978</td>\n",
       "      <td>0.000193</td>\n",
       "      <td>-0.000102</td>\n",
       "    </tr>\n",
       "  </tbody>\n",
       "</table>\n",
       "</div>"
      ],
      "text/plain": [
       "          OrInterestRate  OrUnpaidPrinc  OrLoanTerm    OrCLTV  NumBorrow    DTIRat  CreditScore  NumUnits  CoCreditScore     Extra\n",
       "9095777        -0.679839       1.363902    0.640855  0.625094  -1.166797 -0.813833     0.752115 -0.132978       0.000193 -0.000102\n",
       "5590064         0.420215       0.284004    0.640855  0.972869   0.816311  0.782411    -0.130757 -0.132978       1.013063 -0.000102\n",
       "10990690       -1.290981       0.114766    0.640855  1.378606  -1.166797  0.161650     0.668032 -0.132978       0.000193 -0.830916\n",
       "11239914        0.000047      -0.000117    0.000036 -0.000007  -0.000172 -0.000149     0.000118 -0.000139       0.000193 -0.000102\n",
       "10886123       -2.268807      -0.957073   -1.523394 -1.867293  -1.166797  1.137132     0.983343 -0.132978       0.000193 -0.000102"
      ]
     },
     "execution_count": 46,
     "metadata": {},
     "output_type": "execute_result"
    }
   ],
   "source": [
    "# fit and transform data on train set\n",
    "scaled_col_data = std_scaler.fit_transform(X_train[CONTINUOUS_COLUMNS])\n",
    "\n",
    "if not use_cpu:\n",
    "    scaled_col_data = scaled_col_data.values\n",
    "\n",
    "for col_num, col in enumerate(CONTINUOUS_COLUMNS):\n",
    "    X_train[col] = scaled_col_data[:, col_num]\n",
    "\n",
    "del scaled_col_data\n",
    "X_train[CONTINUOUS_COLUMNS].head()"
   ]
  },
  {
   "cell_type": "code",
   "execution_count": 47,
   "id": "0a35ccb7-3291-4672-81a9-10559f40fde3",
   "metadata": {},
   "outputs": [
    {
     "data": {
      "text/plain": [
       "(OrInterestRate    0\n",
       " OrUnpaidPrinc     0\n",
       " OrLoanTerm        0\n",
       " OrCLTV            0\n",
       " NumBorrow         0\n",
       " DTIRat            0\n",
       " CreditScore       0\n",
       " NumUnits          0\n",
       " CoCreditScore     0\n",
       " Extra             0\n",
       " dtype: int64,\n",
       " OrInterestRate    0\n",
       " OrUnpaidPrinc     0\n",
       " OrLoanTerm        0\n",
       " OrCLTV            0\n",
       " NumBorrow         0\n",
       " DTIRat            0\n",
       " CreditScore       0\n",
       " NumUnits          0\n",
       " CoCreditScore     0\n",
       " Extra             0\n",
       " dtype: int64)"
      ]
     },
     "execution_count": 47,
     "metadata": {},
     "output_type": "execute_result"
    }
   ],
   "source": [
    "X_train[CONTINUOUS_COLUMNS].isna().sum(), X_test[CONTINUOUS_COLUMNS].isna().sum()"
   ]
  },
  {
   "cell_type": "code",
   "execution_count": 48,
   "id": "32a6de86-4b44-44b8-81b9-214212c165b2",
   "metadata": {},
   "outputs": [],
   "source": [
    "# transform data on test set\n",
    "test_scaled_col_data = std_scaler.transform(X_test[CONTINUOUS_COLUMNS])\n",
    "if not use_cpu:\n",
    "    test_scaled_col_data = test_scaled_col_data.values\n",
    "    \n",
    "for col_num, col in enumerate(CONTINUOUS_COLUMNS):\n",
    "    X_test[col] = test_scaled_col_data[:, col_num]\n",
    "del test_scaled_col_data"
   ]
  },
  {
   "cell_type": "code",
   "execution_count": 49,
   "id": "e87bd230-3b30-4a98-b2e3-d46f5126ec8d",
   "metadata": {},
   "outputs": [
    {
     "data": {
      "text/plain": [
       "9095777     0\n",
       "5590064     0\n",
       "10990690    0\n",
       "11239914    1\n",
       "10886123    0\n",
       "           ..\n",
       "2879262     0\n",
       "6477230     0\n",
       "9317221     0\n",
       "2801346     0\n",
       "437252      0\n",
       "Name: Default, Length: 10123270, dtype: int64"
      ]
     },
     "execution_count": 49,
     "metadata": {},
     "output_type": "execute_result"
    }
   ],
   "source": [
    "y_train"
   ]
  },
  {
   "cell_type": "code",
   "execution_count": 50,
   "id": "f54c1731-7578-46cc-9357-bf55bfde2d2f",
   "metadata": {},
   "outputs": [
    {
     "name": "stdout",
     "output_type": "stream",
     "text": [
      "Channel 3\n",
      "FTHomeBuyer 3\n",
      "LoanPurpose 4\n",
      "MortInsType 2\n",
      "OccStatus 3\n",
      "ProductType 1\n",
      "PropertyState 54\n",
      "PropertyType 5\n",
      "SellerName 49\n",
      "Zip 961\n"
     ]
    }
   ],
   "source": [
    "###### Model Definition\n",
    "cards = []\n",
    "for key in sorted(mappings):\n",
    "    print(key, len(set(mappings[key])))\n",
    "    cards.append(len(set(mappings[key])))"
   ]
  },
  {
   "cell_type": "code",
   "execution_count": 51,
   "id": "5bde75b9-436f-4950-bc13-02dd415a9f02",
   "metadata": {},
   "outputs": [],
   "source": [
    "def save_checkpoint(model, optimizer, epoch: int, best_score, file_name, threshold, save_path: str, k_fold=0):\n",
    "    \"\"\"\n",
    "    Save checkpoint to pytorch .pt file.\n",
    "    Args:\n",
    "        model: Instance of Pytorch model.\n",
    "        optimizer: pytorch optimizer ex. torch.optim.Adam() instance\n",
    "        epoch: epoch number\n",
    "        best_score: model best score acccoring to appropriate metric.\n",
    "                    Can be multiple, just save as a dict. of {'metric': score}\n",
    "        k_fold: int or string for K-folds.\n",
    "        file_name (str): filename usually including the name of the model.:\n",
    "\n",
    "    Returns:\n",
    "\n",
    "    \"\"\"\n",
    "    checkpoint = {\n",
    "        'model': model.state_dict(),\n",
    "        'optimizer': optimizer.state_dict(),\n",
    "        'k_fold': k_fold,\n",
    "        'epoch': epoch,\n",
    "        'best_score': best_score,\n",
    "        'threshold': threshold\n",
    "    }\n",
    "    if not save_path:\n",
    "        save_path = '.'\n",
    "    os.makedirs(f'{save_path}/checkpoints/', exist_ok=True)\n",
    "\n",
    "    torch.save(checkpoint, f'{save_path}/checkpoints/{file_name}.pt')\n",
    "\n",
    "\n",
    "def load_checkpoint(file_name: str, model, device: str, save_path: str):\n",
    "    \"\"\"\n",
    "    Load Checkpoint from pytorch .pt file.\n",
    "\n",
    "    Args:\n",
    "        device: str\n",
    "        file_name (str): filename usually including the name of the model.\n",
    "        model_cls: (uninstantiated) class belonging to a custom nn.Module\n",
    "        **kwargs:\n",
    "\n",
    "    Returns:\n",
    "\n",
    "    \"\"\"\n",
    "    # instantiate the model and pass in input params as kwargs.\n",
    "    model = model.to(device)\n",
    "    if not save_path:\n",
    "        save_path = '.'\n",
    "    checkpoint = torch.load(f'{save_path}/checkpoints/{file_name}.pt')\n",
    "    model.load_state_dict(checkpoint['model'])\n",
    "    model.eval()\n",
    "    return model, checkpoint['threshold']"
   ]
  },
  {
   "cell_type": "code",
   "execution_count": 52,
   "id": "4ba4bcc4-72bb-46b1-8655-277d69401ce8",
   "metadata": {},
   "outputs": [],
   "source": [
    "def train_epoch(model, loader, optimizer, loss_func, metric, device, epoch=''):\n",
    "    model.train()\n",
    "    model.zero_grad()\n",
    "    train_loss = torch.zeros(len(loader), requires_grad=False, device=device)\n",
    "    train_acc = torch.zeros(len(loader), requires_grad=False, device=device)\n",
    "    batch = 0\n",
    "    pbar = tqdm(loader)\n",
    "    \n",
    "    train_logits = []\n",
    "    train_targets = []\n",
    "    \n",
    "\n",
    "    for x_cat, x_cont, target in pbar:\n",
    "        # make prediction\n",
    "        logits = model(x_cat, x_cont).squeeze()\n",
    "        \n",
    "        # calculate loss\n",
    "        loss = loss_func(logits, target)  # criterion\n",
    "        loss.backward()\n",
    "        optimizer.step()\n",
    "        for param in model.parameters():\n",
    "            param.grad = None\n",
    "        \n",
    "        train_loss[batch] = loss.detach()\n",
    "        train_acc[batch] = metric(logits, target)\n",
    "        \n",
    "        train_targets.append(target.detach())\n",
    "        train_logits.append(logits.detach())\n",
    "        \n",
    "        batch += 1\n",
    "        if batch == len(loader) or not batch %100:\n",
    "            pbar.set_description(f'Epoch: {epoch} mean loss {train_loss[:batch].mean().cpu(): 0.5f}, ' \n",
    "                                 f'mean acc: {train_acc[:batch].mean().cpu(): 0.5f}')\n",
    "        \n",
    "    return train_loss, train_logits, train_targets  \n",
    "\n",
    "\n",
    "def val_epoch(model, loader, loss_func, device):\n",
    "    model.eval()\n",
    "    val_logits = []\n",
    "    val_targets = []\n",
    "    val_loss = torch.zeros(len(loader), requires_grad=False, device=device)\n",
    "    \n",
    "    with torch.no_grad():\n",
    "        batch=0\n",
    "        for x_cat, x_cont, target in tqdm(iter(loader)):\n",
    "            # make prediction\n",
    "            logits = model(x_cat, x_cont).squeeze()\n",
    "            \n",
    "            # calculate loss\n",
    "            loss = loss_func(logits, target)  # criterion\n",
    "            \n",
    "            # save some data\n",
    "            val_targets.append(target.detach())\n",
    "            val_logits.append(logits.detach())\n",
    "            val_loss[batch] = loss.detach()\n",
    "            batch+=1\n",
    "        val_loss = val_loss.mean()\n",
    "    return val_loss, val_logits, val_targets\n",
    "\n",
    "\n",
    "def calc_metrics(model, _targets, _logits, tst_loader, loss_func, device, use_cpu):\n",
    "    # scoring on train\n",
    "    if not use_cpu:\n",
    "        _targets = cp.asarray(torch.cat(_targets)).astype(int)\n",
    "        _probs = cp.asarray(torch.sigmoid(torch.cat(_logits)))\n",
    "    else:\n",
    "        _targets = np.array(torch.cat(_targets)).astype(int)\n",
    "        _probs = np.array(torch.sigmoid(torch.cat(_logits)))\n",
    "\n",
    "    # # calc precision, recall and find threshold for maximum F1 score on train.\n",
    "    precision, recall, thresholds = precision_recall_curve(_targets, _probs)\n",
    "    \n",
    "    threshold_idx = argmax((2 * precision * recall) / (precision + recall))\n",
    "    threshold = thresholds[threshold_idx]\n",
    "\n",
    "    # now on test set\n",
    "    _, _logits, _targets = val_epoch(model, tst_loader, loss_func, device)\n",
    "    if not use_cpu:\n",
    "        _targets = cp.asarray(torch.cat(_targets)).astype(int)\n",
    "        _probs = cp.asarray(torch.sigmoid(torch.cat(_logits)))\n",
    "    else:\n",
    "        _targets = np.array(torch.cat(_targets)).astype(int)\n",
    "        _probs = np.array(torch.sigmoid(torch.cat(_logits)))\n",
    "    \n",
    "    precision, recall, thresholds = precision_recall_curve(_targets, _probs)\n",
    "    # find threshold index closest to threshold value on train set.\n",
    "    \n",
    "    if not use_cpu:\n",
    "        threshold_idx = cp.argmin(cp.abs(thresholds - threshold))\n",
    "    else:\n",
    "        threshold_idx = np.argmin(np.abs(thresholds - threshold))\n",
    "    \n",
    "    pred_labels = (_probs >= threshold).astype(int)\n",
    "\n",
    "    auc_sc = roc_auc_score(_targets, _probs)\n",
    "    acc_sc = accuracy_score(_targets, pred_labels)\n",
    "    f1_sc = (2 * precision[threshold_idx] * recall[threshold_idx]) / (precision[threshold_idx] + recall[threshold_idx])\n",
    "    conf_mat = confusion_matrix(_targets, pred_labels)\n",
    "    print(f'F1: {f1_sc.item(): 0.4f} '\n",
    "          f'AUC: {auc_sc: 0.4f} '\n",
    "          f'Pr: {precision[threshold_idx].item(): 0.4f} '\n",
    "          f'Rec: {recall[threshold_idx].item(): 0.4f} ', \n",
    "          f'Acc: {acc_sc: 0.4f} '\n",
    "          f'Thresh: {threshold.item(): 0.4f} '\n",
    "          f'Pred Def: {pred_labels.sum().item()} '\n",
    "          f'Actual: {int(_targets.sum())} '\n",
    "          )\n",
    "    print('Confusion Matrix: \\n:', conf_mat)\n",
    "    return f1_sc.item(), threshold.item()\n",
    "    \n",
    "    \n",
    "def test_em(model, loader, loss_func, threshold, device, use_cpu, save_path: str = None):\n",
    "    sns.set()\n",
    "    test_loss, test_logits, test_targets = val_epoch(model, loader, loss_func, device)\n",
    "    \n",
    "    # scoring\n",
    "    if not use_cpu:\n",
    "        test_targets = cp.asarray(torch.cat(test_targets)).astype(int)\n",
    "        test_probs = cp.asarray(torch.sigmoid(torch.cat(test_logits)))\n",
    "    else:\n",
    "        test_targets = torch.cat(test_targets).numpy().astype(int)\n",
    "        test_probs = torch.sigmoid(torch.cat(test_logits)).numpy()\n",
    "    pred_labels = (test_probs >= threshold).astype(int)\n",
    "\n",
    "    precision, recall, thresholds = precision_recall_curve(test_targets, test_probs)\n",
    "    \n",
    "    if not use_cpu:\n",
    "        threshold_idx = cp.argmin(cp.abs(thresholds - threshold))\n",
    "    else:\n",
    "        threshold_idx = np.argmin(np.abs(thresholds - threshold))\n",
    "    \n",
    "    auc_sc = roc_auc_score(test_targets, test_probs)\n",
    "    acc_sc = accuracy_score(test_targets, pred_labels)\n",
    "    f1_sc = (2 * precision[threshold_idx] * recall[threshold_idx]) / (precision[threshold_idx] + recall[threshold_idx])\n",
    "    conf_mat = confusion_matrix(test_targets, pred_labels)\n",
    "    \n",
    "    auprc= auc(cupy2numpy(recall, not use_cpu), cupy2numpy(precision, not use_cpu))\n",
    "\n",
    "    print(f'Thresh: {threshold: 0.4f}', f'Prec: {precision[threshold_idx].item(): 0.4f}',\n",
    "          f'Rec: {recall[threshold_idx].item(): 0.4f}', f'Pred Def: {pred_labels.sum()}',\n",
    "          f'Actual: {int(test_targets.sum())}', f'AUC: {auc_sc: 0.4f}',\n",
    "          f'Acc: {acc_sc: 0.4f}',\n",
    "          f'F1: {f1_sc.item(): 0.4f}',\n",
    "          f'AUPRC: {auprc: 0.4f}',\n",
    "         )\n",
    "    print('Confusion Matrix: \\n:', conf_mat)\n",
    "    \n",
    "    fig, ax = plt.subplots(1, 2, figsize=(12, 6))\n",
    "    no_skill = cupy2numpy(test_targets.mean(), not use_cpu) \n",
    "    ax[0].plot(cupy2numpy(recall, not use_cpu), cupy2numpy(precision, not use_cpu), color='darkorange', lw=1, label='PR curve (area = %0.2f)' % auprc)\n",
    "    ax[0].plot([0,1], [no_skill, no_skill], color='navy', linestyle='--', label='No Skill')\n",
    "    ax[0].plot(cupy2numpy(recall[threshold_idx], not use_cpu), cupy2numpy(precision[threshold_idx], not use_cpu), 'ro', label='F1 threshold')\n",
    "    ax[0].set_xlabel('Recall')\n",
    "    ax[0].set_ylabel('Precision')\n",
    "    ax[0].set_xlim([-0.02, 1.02])\n",
    "    ax[0].set_ylim([-0.02, 1.02])\n",
    "    ax[0].set_title('Precision-Recall curve')\n",
    "    ax[0].legend()\n",
    "    \n",
    "    fpr, tpr, threshold = roc_curve(cupy2numpy(test_targets, not use_cpu), cupy2numpy(test_probs, not use_cpu))\n",
    "    roc_auc = auc(fpr, tpr)\n",
    "\n",
    "    ax[1].set_title('Receiver Operating Characteristic')\n",
    "    ax[1].plot(fpr, tpr, 'b', label = 'ROC curve (area = %0.2f)' % roc_auc)\n",
    "    ax[1].legend(loc = 'lower right')\n",
    "    ax[1].plot([0, 1], [0, 1],'r--')\n",
    "    ax[1].set_xlim([-0.02, 1.02])\n",
    "    ax[1].set_ylim([-0.02, 1.02])\n",
    "    ax[1].set_ylabel('True Positive Rate')\n",
    "    ax[1].set_xlabel('False Positive Rate')   \n",
    "    \n",
    "    plt.tight_layout()\n",
    "    if save_path and isinstance(save_path, str):\n",
    "        plt.savefig(save_path, dpi=600)\n",
    "    print(\"Classification Report for Pytorch Classifier: \\n\",\n",
    "          classification_report(cupy2numpy(test_targets, not use_cpu), cupy2numpy(pred_labels, not use_cpu)))\n",
    "    return test_targets, pred_labels"
   ]
  },
  {
   "cell_type": "code",
   "execution_count": 53,
   "id": "d7ae5e07-af74-4dd5-aa5d-025301c8b6cf",
   "metadata": {},
   "outputs": [
    {
     "ename": "ValueError",
     "evalue": "Cannot take a larger sample than population when 'replace=False'",
     "output_type": "error",
     "traceback": [
      "\u001b[0;31m---------------------------------------------------------------------------\u001b[0m",
      "\u001b[0;31mValueError\u001b[0m                                Traceback (most recent call last)",
      "Cell \u001b[0;32mIn[53], line 3\u001b[0m\n\u001b[1;32m      1\u001b[0m \u001b[38;5;66;03m##### Pick ONE of NVTabular (recommended w/ GPU) OR Pytorch Dataloader\u001b[39;00m\n\u001b[1;32m      2\u001b[0m \u001b[38;5;66;03m# for explainability later.\u001b[39;00m\n\u001b[0;32m----> 3\u001b[0m y_pos \u001b[38;5;241m=\u001b[39m \u001b[43my_test\u001b[49m\u001b[38;5;241;43m.\u001b[39;49m\u001b[43mloc\u001b[49m\u001b[43m[\u001b[49m\u001b[43my_test\u001b[49m\u001b[38;5;241;43m==\u001b[39;49m\u001b[38;5;241;43m1\u001b[39;49m\u001b[43m]\u001b[49m\u001b[38;5;241;43m.\u001b[39;49m\u001b[43msample\u001b[49m\u001b[43m(\u001b[49m\u001b[43mn\u001b[49m\u001b[38;5;241;43m=\u001b[39;49m\u001b[43mBATCH_SIZE\u001b[49m\u001b[43m,\u001b[49m\u001b[43m \u001b[49m\u001b[43mrandom_state\u001b[49m\u001b[38;5;241;43m=\u001b[39;49m\u001b[38;5;241;43m8675309\u001b[39;49m\u001b[43m)\u001b[49m\n\u001b[1;32m      4\u001b[0m y_neg \u001b[38;5;241m=\u001b[39m y_test\u001b[38;5;241m.\u001b[39mloc[y_test\u001b[38;5;241m==\u001b[39m\u001b[38;5;241m0\u001b[39m]\u001b[38;5;241m.\u001b[39msample(n\u001b[38;5;241m=\u001b[39mBATCH_SIZE, random_state\u001b[38;5;241m=\u001b[39m\u001b[38;5;241m8675309\u001b[39m)\n\u001b[1;32m      5\u001b[0m X_test_pos \u001b[38;5;241m=\u001b[39m X_test\u001b[38;5;241m.\u001b[39mloc[y_pos\u001b[38;5;241m.\u001b[39mindex]\n",
      "File \u001b[0;32m~/miniconda3/lib/python3.11/site-packages/nvtx/nvtx.py:116\u001b[0m, in \u001b[0;36mannotate.__call__.<locals>.inner\u001b[0;34m(*args, **kwargs)\u001b[0m\n\u001b[1;32m    113\u001b[0m \u001b[38;5;129m@wraps\u001b[39m(func)\n\u001b[1;32m    114\u001b[0m \u001b[38;5;28;01mdef\u001b[39;00m \u001b[38;5;21minner\u001b[39m(\u001b[38;5;241m*\u001b[39margs, \u001b[38;5;241m*\u001b[39m\u001b[38;5;241m*\u001b[39mkwargs):\n\u001b[1;32m    115\u001b[0m     libnvtx_push_range(\u001b[38;5;28mself\u001b[39m\u001b[38;5;241m.\u001b[39mattributes, \u001b[38;5;28mself\u001b[39m\u001b[38;5;241m.\u001b[39mdomain\u001b[38;5;241m.\u001b[39mhandle)\n\u001b[0;32m--> 116\u001b[0m     result \u001b[38;5;241m=\u001b[39m \u001b[43mfunc\u001b[49m\u001b[43m(\u001b[49m\u001b[38;5;241;43m*\u001b[39;49m\u001b[43margs\u001b[49m\u001b[43m,\u001b[49m\u001b[43m \u001b[49m\u001b[38;5;241;43m*\u001b[39;49m\u001b[38;5;241;43m*\u001b[39;49m\u001b[43mkwargs\u001b[49m\u001b[43m)\u001b[49m\n\u001b[1;32m    117\u001b[0m     libnvtx_pop_range(\u001b[38;5;28mself\u001b[39m\u001b[38;5;241m.\u001b[39mdomain\u001b[38;5;241m.\u001b[39mhandle)\n\u001b[1;32m    118\u001b[0m     \u001b[38;5;28;01mreturn\u001b[39;00m result\n",
      "File \u001b[0;32m~/miniconda3/lib/python3.11/site-packages/cudf/core/indexed_frame.py:4683\u001b[0m, in \u001b[0;36mIndexedFrame.sample\u001b[0;34m(self, n, frac, replace, weights, random_state, axis, ignore_index)\u001b[0m\n\u001b[1;32m   4680\u001b[0m     weights \u001b[38;5;241m=\u001b[39m weights \u001b[38;5;241m/\u001b[39m weights\u001b[38;5;241m.\u001b[39msum()\n\u001b[1;32m   4682\u001b[0m \u001b[38;5;28;01mif\u001b[39;00m axis \u001b[38;5;241m==\u001b[39m \u001b[38;5;241m0\u001b[39m:\n\u001b[0;32m-> 4683\u001b[0m     \u001b[38;5;28;01mreturn\u001b[39;00m \u001b[38;5;28;43mself\u001b[39;49m\u001b[38;5;241;43m.\u001b[39;49m\u001b[43m_sample_axis_0\u001b[49m\u001b[43m(\u001b[49m\n\u001b[1;32m   4684\u001b[0m \u001b[43m        \u001b[49m\u001b[43mn\u001b[49m\u001b[43m,\u001b[49m\u001b[43m \u001b[49m\u001b[43mweights\u001b[49m\u001b[43m,\u001b[49m\u001b[43m \u001b[49m\u001b[43mreplace\u001b[49m\u001b[43m,\u001b[49m\u001b[43m \u001b[49m\u001b[43mrandom_state\u001b[49m\u001b[43m,\u001b[49m\u001b[43m \u001b[49m\u001b[43mignore_index\u001b[49m\n\u001b[1;32m   4685\u001b[0m \u001b[43m    \u001b[49m\u001b[43m)\u001b[49m\n\u001b[1;32m   4686\u001b[0m \u001b[38;5;28;01melse\u001b[39;00m:\n\u001b[1;32m   4687\u001b[0m     \u001b[38;5;28;01mif\u001b[39;00m \u001b[38;5;28misinstance\u001b[39m(random_state, cp\u001b[38;5;241m.\u001b[39mrandom\u001b[38;5;241m.\u001b[39mRandomState):\n",
      "File \u001b[0;32m~/miniconda3/lib/python3.11/site-packages/cudf/core/indexed_frame.py:4707\u001b[0m, in \u001b[0;36mIndexedFrame._sample_axis_0\u001b[0;34m(self, n, weights, replace, random_state, ignore_index)\u001b[0m\n\u001b[1;32m   4696\u001b[0m \u001b[38;5;28;01mdef\u001b[39;00m \u001b[38;5;21m_sample_axis_0\u001b[39m(\n\u001b[1;32m   4697\u001b[0m     \u001b[38;5;28mself\u001b[39m,\n\u001b[1;32m   4698\u001b[0m     n: \u001b[38;5;28mint\u001b[39m,\n\u001b[0;32m   (...)\u001b[0m\n\u001b[1;32m   4702\u001b[0m     ignore_index: \u001b[38;5;28mbool\u001b[39m,\n\u001b[1;32m   4703\u001b[0m ):\n\u001b[1;32m   4704\u001b[0m     \u001b[38;5;28;01mtry\u001b[39;00m:\n\u001b[1;32m   4705\u001b[0m         gather_map \u001b[38;5;241m=\u001b[39m GatherMap\u001b[38;5;241m.\u001b[39mfrom_column_unchecked(\n\u001b[1;32m   4706\u001b[0m             cudf\u001b[38;5;241m.\u001b[39mcore\u001b[38;5;241m.\u001b[39mcolumn\u001b[38;5;241m.\u001b[39mas_column(\n\u001b[0;32m-> 4707\u001b[0m                 \u001b[43mrandom_state\u001b[49m\u001b[38;5;241;43m.\u001b[39;49m\u001b[43mchoice\u001b[49m\u001b[43m(\u001b[49m\n\u001b[1;32m   4708\u001b[0m \u001b[43m                    \u001b[49m\u001b[38;5;28;43mlen\u001b[39;49m\u001b[43m(\u001b[49m\u001b[38;5;28;43mself\u001b[39;49m\u001b[43m)\u001b[49m\u001b[43m,\u001b[49m\u001b[43m \u001b[49m\u001b[43msize\u001b[49m\u001b[38;5;241;43m=\u001b[39;49m\u001b[43mn\u001b[49m\u001b[43m,\u001b[49m\u001b[43m \u001b[49m\u001b[43mreplace\u001b[49m\u001b[38;5;241;43m=\u001b[39;49m\u001b[43mreplace\u001b[49m\u001b[43m,\u001b[49m\u001b[43m \u001b[49m\u001b[43mp\u001b[49m\u001b[38;5;241;43m=\u001b[39;49m\u001b[43mweights\u001b[49m\n\u001b[1;32m   4709\u001b[0m \u001b[43m                \u001b[49m\u001b[43m)\u001b[49m\n\u001b[1;32m   4710\u001b[0m             ),\n\u001b[1;32m   4711\u001b[0m             \u001b[38;5;28mlen\u001b[39m(\u001b[38;5;28mself\u001b[39m),\n\u001b[1;32m   4712\u001b[0m             nullify\u001b[38;5;241m=\u001b[39m\u001b[38;5;28;01mFalse\u001b[39;00m,\n\u001b[1;32m   4713\u001b[0m         )\n\u001b[1;32m   4714\u001b[0m     \u001b[38;5;28;01mexcept\u001b[39;00m \u001b[38;5;167;01mNotImplementedError\u001b[39;00m \u001b[38;5;28;01mas\u001b[39;00m e:\n\u001b[1;32m   4715\u001b[0m         \u001b[38;5;28;01mraise\u001b[39;00m \u001b[38;5;167;01mNotImplementedError\u001b[39;00m(\n\u001b[1;32m   4716\u001b[0m             \u001b[38;5;124m\"\u001b[39m\u001b[38;5;124mRandom sampling with cupy does not support these inputs.\u001b[39m\u001b[38;5;124m\"\u001b[39m\n\u001b[1;32m   4717\u001b[0m         ) \u001b[38;5;28;01mfrom\u001b[39;00m \u001b[38;5;21;01me\u001b[39;00m\n",
      "File \u001b[0;32m~/miniconda3/lib/python3.11/site-packages/cupy/random/_generator.py:1119\u001b[0m, in \u001b[0;36mRandomState.choice\u001b[0;34m(self, a, size, replace, p)\u001b[0m\n\u001b[1;32m   1117\u001b[0m \u001b[38;5;28;01mif\u001b[39;00m \u001b[38;5;129;01mnot\u001b[39;00m replace \u001b[38;5;129;01mand\u001b[39;00m p \u001b[38;5;129;01mis\u001b[39;00m \u001b[38;5;28;01mNone\u001b[39;00m:\n\u001b[1;32m   1118\u001b[0m     \u001b[38;5;28;01mif\u001b[39;00m a_size \u001b[38;5;241m<\u001b[39m size:\n\u001b[0;32m-> 1119\u001b[0m         \u001b[38;5;28;01mraise\u001b[39;00m \u001b[38;5;167;01mValueError\u001b[39;00m(\n\u001b[1;32m   1120\u001b[0m             \u001b[38;5;124m'\u001b[39m\u001b[38;5;124mCannot take a larger sample than population when \u001b[39m\u001b[38;5;124m'\u001b[39m\n\u001b[1;32m   1121\u001b[0m             \u001b[38;5;124m'\u001b[39m\u001b[38;5;130;01m\\'\u001b[39;00m\u001b[38;5;124mreplace=False\u001b[39m\u001b[38;5;130;01m\\'\u001b[39;00m\u001b[38;5;124m'\u001b[39m)\n\u001b[1;32m   1122\u001b[0m     \u001b[38;5;28;01mif\u001b[39;00m \u001b[38;5;28misinstance\u001b[39m(a, \u001b[38;5;28mint\u001b[39m):\n\u001b[1;32m   1123\u001b[0m         indices \u001b[38;5;241m=\u001b[39m cupy\u001b[38;5;241m.\u001b[39marange(a, dtype\u001b[38;5;241m=\u001b[39m\u001b[38;5;124m'\u001b[39m\u001b[38;5;124ml\u001b[39m\u001b[38;5;124m'\u001b[39m)\n",
      "\u001b[0;31mValueError\u001b[0m: Cannot take a larger sample than population when 'replace=False'"
     ]
    }
   ],
   "source": [
    "##### Pick ONE of NVTabular (recommended w/ GPU) OR Pytorch Dataloader\n",
    "# for explainability later.\n",
    "y_pos = y_test.loc[y_test==1].sample(n=BATCH_SIZE, random_state=8675309)\n",
    "y_neg = y_test.loc[y_test==0].sample(n=BATCH_SIZE, random_state=8675309)\n",
    "X_test_pos = X_test.loc[y_pos.index]\n",
    "X_test_neg = X_test.loc[y_neg.index]"
   ]
  },
  {
   "cell_type": "code",
   "execution_count": 54,
   "id": "b66b7d4c-3983-451f-bcf6-3b6dcbaf3d91",
   "metadata": {},
   "outputs": [],
   "source": [
    "pyt_data_prep_time = time.time()"
   ]
  },
  {
   "cell_type": "code",
   "execution_count": 55,
   "id": "d3c65325-7a24-4c6c-9c13-34d38db242bc",
   "metadata": {},
   "outputs": [],
   "source": [
    "##### Pytorch Dataloader and Dataset"
   ]
  },
  {
   "cell_type": "code",
   "execution_count": 56,
   "id": "d73e0a2c-ca15-4cb4-a30c-6f0543256318",
   "metadata": {},
   "outputs": [],
   "source": [
    "from torch.utils.data import Dataset, DataLoader"
   ]
  },
  {
   "cell_type": "code",
   "execution_count": 57,
   "id": "a4556896-9d43-4cb8-a58e-7849774dae4c",
   "metadata": {},
   "outputs": [
    {
     "data": {
      "text/plain": [
       "(10123270, 20)"
      ]
     },
     "execution_count": 57,
     "metadata": {},
     "output_type": "execute_result"
    }
   ],
   "source": [
    "X_train.shape"
   ]
  },
  {
   "cell_type": "code",
   "execution_count": 58,
   "id": "23c47cf2-487d-47d4-afad-f91507d5f7e5",
   "metadata": {},
   "outputs": [
    {
     "data": {
      "text/html": [
       "<div>\n",
       "<style scoped>\n",
       "    .dataframe tbody tr th:only-of-type {\n",
       "        vertical-align: middle;\n",
       "    }\n",
       "\n",
       "    .dataframe tbody tr th {\n",
       "        vertical-align: top;\n",
       "    }\n",
       "\n",
       "    .dataframe thead th {\n",
       "        text-align: right;\n",
       "    }\n",
       "</style>\n",
       "<table border=\"1\" class=\"dataframe\">\n",
       "  <thead>\n",
       "    <tr style=\"text-align: right;\">\n",
       "      <th></th>\n",
       "      <th>OrInterestRate</th>\n",
       "      <th>OrUnpaidPrinc</th>\n",
       "      <th>OrLoanTerm</th>\n",
       "      <th>OrCLTV</th>\n",
       "      <th>NumBorrow</th>\n",
       "      <th>DTIRat</th>\n",
       "      <th>CreditScore</th>\n",
       "      <th>NumUnits</th>\n",
       "      <th>CoCreditScore</th>\n",
       "      <th>Extra</th>\n",
       "    </tr>\n",
       "  </thead>\n",
       "  <tbody>\n",
       "    <tr>\n",
       "      <th>9095777</th>\n",
       "      <td>-0.679839</td>\n",
       "      <td>1.363902</td>\n",
       "      <td>0.640855</td>\n",
       "      <td>0.625094</td>\n",
       "      <td>-1.166797</td>\n",
       "      <td>-0.813833</td>\n",
       "      <td>0.752115</td>\n",
       "      <td>-0.132978</td>\n",
       "      <td>0.000193</td>\n",
       "      <td>-0.000102</td>\n",
       "    </tr>\n",
       "    <tr>\n",
       "      <th>5590064</th>\n",
       "      <td>0.420215</td>\n",
       "      <td>0.284004</td>\n",
       "      <td>0.640855</td>\n",
       "      <td>0.972869</td>\n",
       "      <td>0.816311</td>\n",
       "      <td>0.782411</td>\n",
       "      <td>-0.130757</td>\n",
       "      <td>-0.132978</td>\n",
       "      <td>1.013063</td>\n",
       "      <td>-0.000102</td>\n",
       "    </tr>\n",
       "    <tr>\n",
       "      <th>10990690</th>\n",
       "      <td>-1.290981</td>\n",
       "      <td>0.114766</td>\n",
       "      <td>0.640855</td>\n",
       "      <td>1.378606</td>\n",
       "      <td>-1.166797</td>\n",
       "      <td>0.161650</td>\n",
       "      <td>0.668032</td>\n",
       "      <td>-0.132978</td>\n",
       "      <td>0.000193</td>\n",
       "      <td>-0.830916</td>\n",
       "    </tr>\n",
       "    <tr>\n",
       "      <th>11239914</th>\n",
       "      <td>0.000047</td>\n",
       "      <td>-0.000117</td>\n",
       "      <td>0.000036</td>\n",
       "      <td>-0.000007</td>\n",
       "      <td>-0.000172</td>\n",
       "      <td>-0.000149</td>\n",
       "      <td>0.000118</td>\n",
       "      <td>-0.000139</td>\n",
       "      <td>0.000193</td>\n",
       "      <td>-0.000102</td>\n",
       "    </tr>\n",
       "    <tr>\n",
       "      <th>10886123</th>\n",
       "      <td>-2.268807</td>\n",
       "      <td>-0.957073</td>\n",
       "      <td>-1.523394</td>\n",
       "      <td>-1.867293</td>\n",
       "      <td>-1.166797</td>\n",
       "      <td>1.137132</td>\n",
       "      <td>0.983343</td>\n",
       "      <td>-0.132978</td>\n",
       "      <td>0.000193</td>\n",
       "      <td>-0.000102</td>\n",
       "    </tr>\n",
       "    <tr>\n",
       "      <th>...</th>\n",
       "      <td>...</td>\n",
       "      <td>...</td>\n",
       "      <td>...</td>\n",
       "      <td>...</td>\n",
       "      <td>...</td>\n",
       "      <td>...</td>\n",
       "      <td>...</td>\n",
       "      <td>...</td>\n",
       "      <td>...</td>\n",
       "      <td>...</td>\n",
       "    </tr>\n",
       "    <tr>\n",
       "      <th>2879262</th>\n",
       "      <td>-0.313154</td>\n",
       "      <td>-0.199532</td>\n",
       "      <td>0.640855</td>\n",
       "      <td>0.625094</td>\n",
       "      <td>0.816311</td>\n",
       "      <td>0.339010</td>\n",
       "      <td>-1.076691</td>\n",
       "      <td>-0.132978</td>\n",
       "      <td>-1.130445</td>\n",
       "      <td>-0.000102</td>\n",
       "    </tr>\n",
       "    <tr>\n",
       "      <th>6477230</th>\n",
       "      <td>-0.068698</td>\n",
       "      <td>-0.755599</td>\n",
       "      <td>-1.523394</td>\n",
       "      <td>-0.881931</td>\n",
       "      <td>0.816311</td>\n",
       "      <td>-0.902513</td>\n",
       "      <td>-1.160774</td>\n",
       "      <td>-0.132978</td>\n",
       "      <td>-2.107632</td>\n",
       "      <td>-0.000102</td>\n",
       "    </tr>\n",
       "    <tr>\n",
       "      <th>9317221</th>\n",
       "      <td>-1.535437</td>\n",
       "      <td>-0.997368</td>\n",
       "      <td>-1.523394</td>\n",
       "      <td>-0.418231</td>\n",
       "      <td>-1.166797</td>\n",
       "      <td>-0.547792</td>\n",
       "      <td>0.920281</td>\n",
       "      <td>-0.132978</td>\n",
       "      <td>0.000193</td>\n",
       "      <td>-0.000102</td>\n",
       "    </tr>\n",
       "    <tr>\n",
       "      <th>2801346</th>\n",
       "      <td>0.174781</td>\n",
       "      <td>-0.392947</td>\n",
       "      <td>0.640855</td>\n",
       "      <td>0.798981</td>\n",
       "      <td>0.816311</td>\n",
       "      <td>0.250330</td>\n",
       "      <td>0.983343</td>\n",
       "      <td>-0.132978</td>\n",
       "      <td>1.076107</td>\n",
       "      <td>-0.830916</td>\n",
       "    </tr>\n",
       "    <tr>\n",
       "      <th>437252</th>\n",
       "      <td>1.153585</td>\n",
       "      <td>0.388770</td>\n",
       "      <td>0.640855</td>\n",
       "      <td>-0.823968</td>\n",
       "      <td>0.816311</td>\n",
       "      <td>0.782411</td>\n",
       "      <td>-2.064667</td>\n",
       "      <td>-0.132978</td>\n",
       "      <td>-0.153258</td>\n",
       "      <td>-0.000102</td>\n",
       "    </tr>\n",
       "  </tbody>\n",
       "</table>\n",
       "<p>10123270 rows × 10 columns</p>\n",
       "</div>"
      ],
      "text/plain": [
       "          OrInterestRate  OrUnpaidPrinc  OrLoanTerm    OrCLTV  NumBorrow    DTIRat  CreditScore  NumUnits  CoCreditScore     Extra\n",
       "9095777        -0.679839       1.363902    0.640855  0.625094  -1.166797 -0.813833     0.752115 -0.132978       0.000193 -0.000102\n",
       "5590064         0.420215       0.284004    0.640855  0.972869   0.816311  0.782411    -0.130757 -0.132978       1.013063 -0.000102\n",
       "10990690       -1.290981       0.114766    0.640855  1.378606  -1.166797  0.161650     0.668032 -0.132978       0.000193 -0.830916\n",
       "11239914        0.000047      -0.000117    0.000036 -0.000007  -0.000172 -0.000149     0.000118 -0.000139       0.000193 -0.000102\n",
       "10886123       -2.268807      -0.957073   -1.523394 -1.867293  -1.166797  1.137132     0.983343 -0.132978       0.000193 -0.000102\n",
       "...                  ...            ...         ...       ...        ...       ...          ...       ...            ...       ...\n",
       "2879262        -0.313154      -0.199532    0.640855  0.625094   0.816311  0.339010    -1.076691 -0.132978      -1.130445 -0.000102\n",
       "6477230        -0.068698      -0.755599   -1.523394 -0.881931   0.816311 -0.902513    -1.160774 -0.132978      -2.107632 -0.000102\n",
       "9317221        -1.535437      -0.997368   -1.523394 -0.418231  -1.166797 -0.547792     0.920281 -0.132978       0.000193 -0.000102\n",
       "2801346         0.174781      -0.392947    0.640855  0.798981   0.816311  0.250330     0.983343 -0.132978       1.076107 -0.830916\n",
       "437252          1.153585       0.388770    0.640855 -0.823968   0.816311  0.782411    -2.064667 -0.132978      -0.153258 -0.000102\n",
       "\n",
       "[10123270 rows x 10 columns]"
      ]
     },
     "execution_count": 58,
     "metadata": {},
     "output_type": "execute_result"
    }
   ],
   "source": [
    "X_train[CONTINUOUS_COLUMNS]"
   ]
  },
  {
   "cell_type": "code",
   "execution_count": 59,
   "id": "76076a6d-5215-415f-8f77-11d68b34dc1c",
   "metadata": {},
   "outputs": [
    {
     "data": {
      "text/plain": [
       "['Channel',\n",
       " 'FTHomeBuyer',\n",
       " 'LoanPurpose',\n",
       " 'MortInsType',\n",
       " 'OccStatus',\n",
       " 'ProductType',\n",
       " 'PropertyState',\n",
       " 'PropertyType',\n",
       " 'SellerName',\n",
       " 'Zip']"
      ]
     },
     "execution_count": 59,
     "metadata": {},
     "output_type": "execute_result"
    }
   ],
   "source": [
    "CATEGORICAL_COLUMNS"
   ]
  },
  {
   "cell_type": "code",
   "execution_count": 60,
   "id": "787869b6-11a6-4fe4-8dc5-ef07e2a163d3",
   "metadata": {},
   "outputs": [
    {
     "ename": "AttributeError",
     "evalue": "DataFrame object has no attribute as_gpu_matrix",
     "output_type": "error",
     "traceback": [
      "\u001b[0;31m---------------------------------------------------------------------------\u001b[0m",
      "\u001b[0;31mKeyError\u001b[0m                                  Traceback (most recent call last)",
      "File \u001b[0;32m~/miniconda3/lib/python3.11/site-packages/cudf/utils/utils.py:227\u001b[0m, in \u001b[0;36mGetAttrGetItemMixin.__getattr__\u001b[0;34m(self, key)\u001b[0m\n\u001b[1;32m    226\u001b[0m \u001b[38;5;28;01mtry\u001b[39;00m:\n\u001b[0;32m--> 227\u001b[0m     \u001b[38;5;28;01mreturn\u001b[39;00m \u001b[38;5;28;43mself\u001b[39;49m\u001b[43m[\u001b[49m\u001b[43mkey\u001b[49m\u001b[43m]\u001b[49m\n\u001b[1;32m    228\u001b[0m \u001b[38;5;28;01mexcept\u001b[39;00m \u001b[38;5;167;01mKeyError\u001b[39;00m:\n",
      "File \u001b[0;32m~/miniconda3/lib/python3.11/site-packages/nvtx/nvtx.py:116\u001b[0m, in \u001b[0;36mannotate.__call__.<locals>.inner\u001b[0;34m(*args, **kwargs)\u001b[0m\n\u001b[1;32m    115\u001b[0m libnvtx_push_range(\u001b[38;5;28mself\u001b[39m\u001b[38;5;241m.\u001b[39mattributes, \u001b[38;5;28mself\u001b[39m\u001b[38;5;241m.\u001b[39mdomain\u001b[38;5;241m.\u001b[39mhandle)\n\u001b[0;32m--> 116\u001b[0m result \u001b[38;5;241m=\u001b[39m \u001b[43mfunc\u001b[49m\u001b[43m(\u001b[49m\u001b[38;5;241;43m*\u001b[39;49m\u001b[43margs\u001b[49m\u001b[43m,\u001b[49m\u001b[43m \u001b[49m\u001b[38;5;241;43m*\u001b[39;49m\u001b[38;5;241;43m*\u001b[39;49m\u001b[43mkwargs\u001b[49m\u001b[43m)\u001b[49m\n\u001b[1;32m    117\u001b[0m libnvtx_pop_range(\u001b[38;5;28mself\u001b[39m\u001b[38;5;241m.\u001b[39mdomain\u001b[38;5;241m.\u001b[39mhandle)\n",
      "File \u001b[0;32m~/miniconda3/lib/python3.11/site-packages/cudf/core/dataframe.py:1348\u001b[0m, in \u001b[0;36mDataFrame.__getitem__\u001b[0;34m(self, arg)\u001b[0m\n\u001b[1;32m   1347\u001b[0m \u001b[38;5;28;01mif\u001b[39;00m _is_scalar_or_zero_d_array(arg) \u001b[38;5;129;01mor\u001b[39;00m \u001b[38;5;28misinstance\u001b[39m(arg, \u001b[38;5;28mtuple\u001b[39m):\n\u001b[0;32m-> 1348\u001b[0m     \u001b[38;5;28;01mreturn\u001b[39;00m \u001b[38;5;28;43mself\u001b[39;49m\u001b[38;5;241;43m.\u001b[39;49m\u001b[43m_get_columns_by_label\u001b[49m\u001b[43m(\u001b[49m\u001b[43marg\u001b[49m\u001b[43m,\u001b[49m\u001b[43m \u001b[49m\u001b[43mdowncast\u001b[49m\u001b[38;5;241;43m=\u001b[39;49m\u001b[38;5;28;43;01mTrue\u001b[39;49;00m\u001b[43m)\u001b[49m\n\u001b[1;32m   1350\u001b[0m \u001b[38;5;28;01melif\u001b[39;00m \u001b[38;5;28misinstance\u001b[39m(arg, \u001b[38;5;28mslice\u001b[39m):\n",
      "File \u001b[0;32m~/miniconda3/lib/python3.11/site-packages/nvtx/nvtx.py:116\u001b[0m, in \u001b[0;36mannotate.__call__.<locals>.inner\u001b[0;34m(*args, **kwargs)\u001b[0m\n\u001b[1;32m    115\u001b[0m libnvtx_push_range(\u001b[38;5;28mself\u001b[39m\u001b[38;5;241m.\u001b[39mattributes, \u001b[38;5;28mself\u001b[39m\u001b[38;5;241m.\u001b[39mdomain\u001b[38;5;241m.\u001b[39mhandle)\n\u001b[0;32m--> 116\u001b[0m result \u001b[38;5;241m=\u001b[39m \u001b[43mfunc\u001b[49m\u001b[43m(\u001b[49m\u001b[38;5;241;43m*\u001b[39;49m\u001b[43margs\u001b[49m\u001b[43m,\u001b[49m\u001b[43m \u001b[49m\u001b[38;5;241;43m*\u001b[39;49m\u001b[38;5;241;43m*\u001b[39;49m\u001b[43mkwargs\u001b[49m\u001b[43m)\u001b[49m\n\u001b[1;32m    117\u001b[0m libnvtx_pop_range(\u001b[38;5;28mself\u001b[39m\u001b[38;5;241m.\u001b[39mdomain\u001b[38;5;241m.\u001b[39mhandle)\n",
      "File \u001b[0;32m~/miniconda3/lib/python3.11/site-packages/cudf/core/dataframe.py:2005\u001b[0m, in \u001b[0;36mDataFrame._get_columns_by_label\u001b[0;34m(self, labels, downcast)\u001b[0m\n\u001b[1;32m   2000\u001b[0m \u001b[38;5;250m\u001b[39m\u001b[38;5;124;03m\"\"\"\u001b[39;00m\n\u001b[1;32m   2001\u001b[0m \u001b[38;5;124;03mReturn columns of dataframe by `labels`\u001b[39;00m\n\u001b[1;32m   2002\u001b[0m \n\u001b[1;32m   2003\u001b[0m \u001b[38;5;124;03mIf downcast is True, try and downcast from a DataFrame to a Series\u001b[39;00m\n\u001b[1;32m   2004\u001b[0m \u001b[38;5;124;03m\"\"\"\u001b[39;00m\n\u001b[0;32m-> 2005\u001b[0m ca \u001b[38;5;241m=\u001b[39m \u001b[38;5;28;43mself\u001b[39;49m\u001b[38;5;241;43m.\u001b[39;49m\u001b[43m_data\u001b[49m\u001b[38;5;241;43m.\u001b[39;49m\u001b[43mselect_by_label\u001b[49m\u001b[43m(\u001b[49m\u001b[43mlabels\u001b[49m\u001b[43m)\u001b[49m\n\u001b[1;32m   2006\u001b[0m \u001b[38;5;28;01mif\u001b[39;00m downcast:\n",
      "File \u001b[0;32m~/miniconda3/lib/python3.11/site-packages/cudf/core/column_accessor.py:399\u001b[0m, in \u001b[0;36mColumnAccessor.select_by_label\u001b[0;34m(self, key)\u001b[0m\n\u001b[1;32m    398\u001b[0m         \u001b[38;5;28;01mreturn\u001b[39;00m \u001b[38;5;28mself\u001b[39m\u001b[38;5;241m.\u001b[39m_select_by_label_with_wildcard(key)\n\u001b[0;32m--> 399\u001b[0m \u001b[38;5;28;01mreturn\u001b[39;00m \u001b[38;5;28;43mself\u001b[39;49m\u001b[38;5;241;43m.\u001b[39;49m\u001b[43m_select_by_label_grouped\u001b[49m\u001b[43m(\u001b[49m\u001b[43mkey\u001b[49m\u001b[43m)\u001b[49m\n",
      "File \u001b[0;32m~/miniconda3/lib/python3.11/site-packages/cudf/core/column_accessor.py:546\u001b[0m, in \u001b[0;36mColumnAccessor._select_by_label_grouped\u001b[0;34m(self, key)\u001b[0m\n\u001b[1;32m    545\u001b[0m \u001b[38;5;28;01mdef\u001b[39;00m \u001b[38;5;21m_select_by_label_grouped\u001b[39m(\u001b[38;5;28mself\u001b[39m, key: Any) \u001b[38;5;241m-\u001b[39m\u001b[38;5;241m>\u001b[39m ColumnAccessor:\n\u001b[0;32m--> 546\u001b[0m     result \u001b[38;5;241m=\u001b[39m \u001b[38;5;28;43mself\u001b[39;49m\u001b[38;5;241;43m.\u001b[39;49m\u001b[43m_grouped_data\u001b[49m\u001b[43m[\u001b[49m\u001b[43mkey\u001b[49m\u001b[43m]\u001b[49m\n\u001b[1;32m    547\u001b[0m     \u001b[38;5;28;01mif\u001b[39;00m \u001b[38;5;28misinstance\u001b[39m(result, column\u001b[38;5;241m.\u001b[39mColumnBase):\n\u001b[1;32m    548\u001b[0m         \u001b[38;5;66;03m# self._grouped_data[key] = self._data[key] so skip validation\u001b[39;00m\n",
      "\u001b[0;31mKeyError\u001b[0m: 'as_gpu_matrix'",
      "\nDuring handling of the above exception, another exception occurred:\n",
      "\u001b[0;31mAttributeError\u001b[0m                            Traceback (most recent call last)",
      "Cell \u001b[0;32mIn[60], line 24\u001b[0m\n\u001b[1;32m     20\u001b[0m     \u001b[38;5;28;01mdef\u001b[39;00m \u001b[38;5;21m__len__\u001b[39m (\u001b[38;5;28mself\u001b[39m):\n\u001b[1;32m     21\u001b[0m         \u001b[38;5;28;01mreturn\u001b[39;00m \u001b[38;5;28mlen\u001b[39m(\u001b[38;5;28mself\u001b[39m\u001b[38;5;241m.\u001b[39my_data)\n\u001b[0;32m---> 24\u001b[0m train_data \u001b[38;5;241m=\u001b[39m \u001b[43mPytData\u001b[49m\u001b[43m(\u001b[49m\u001b[43mX_train\u001b[49m\u001b[43m,\u001b[49m\u001b[43m \u001b[49m\u001b[43my_train\u001b[49m\u001b[43m,\u001b[49m\u001b[43m \u001b[49m\u001b[43mCONTINUOUS_COLUMNS\u001b[49m\u001b[43m,\u001b[49m\u001b[43m \u001b[49m\u001b[43mCATEGORICAL_COLUMNS\u001b[49m\u001b[43m,\u001b[49m\u001b[43m \u001b[49m\u001b[43mdevice\u001b[49m\u001b[43m)\u001b[49m\n\u001b[1;32m     25\u001b[0m test_data \u001b[38;5;241m=\u001b[39m PytData(X_test, y_test, CONTINUOUS_COLUMNS, CATEGORICAL_COLUMNS, device)\n\u001b[1;32m     27\u001b[0m train_loader \u001b[38;5;241m=\u001b[39m DataLoader(dataset\u001b[38;5;241m=\u001b[39mtrain_data, batch_size\u001b[38;5;241m=\u001b[39mBATCH_SIZE, shuffle\u001b[38;5;241m=\u001b[39m\u001b[38;5;28;01mTrue\u001b[39;00m)\n",
      "Cell \u001b[0;32mIn[60], line 6\u001b[0m, in \u001b[0;36mPytData.__init__\u001b[0;34m(self, X_data, y_data, cont_cols, cat_cols, device)\u001b[0m\n\u001b[1;32m      4\u001b[0m \u001b[38;5;28;01mdef\u001b[39;00m \u001b[38;5;21m__init__\u001b[39m(\u001b[38;5;28mself\u001b[39m, X_data, y_data, cont_cols, cat_cols, device):\n\u001b[1;32m      5\u001b[0m     \u001b[38;5;28;01mif\u001b[39;00m device\u001b[38;5;241m.\u001b[39mtype \u001b[38;5;241m!=\u001b[39m \u001b[38;5;124m'\u001b[39m\u001b[38;5;124mcpu\u001b[39m\u001b[38;5;124m'\u001b[39m:\n\u001b[0;32m----> 6\u001b[0m         \u001b[38;5;28mself\u001b[39m\u001b[38;5;241m.\u001b[39mX_data_cont \u001b[38;5;241m=\u001b[39m torch\u001b[38;5;241m.\u001b[39mtensor(\u001b[43mX_data\u001b[49m\u001b[43m[\u001b[49m\u001b[43mcont_cols\u001b[49m\u001b[43m]\u001b[49m\u001b[38;5;241;43m.\u001b[39;49m\u001b[43mas_gpu_matrix\u001b[49m(), dtype\u001b[38;5;241m=\u001b[39mtorch\u001b[38;5;241m.\u001b[39mfloat32, device\u001b[38;5;241m=\u001b[39mdevice)\n\u001b[1;32m      7\u001b[0m         \u001b[38;5;28mself\u001b[39m\u001b[38;5;241m.\u001b[39mX_data_cat \u001b[38;5;241m=\u001b[39m torch\u001b[38;5;241m.\u001b[39mtensor(X_data[cat_cols]\u001b[38;5;241m.\u001b[39mas_gpu_matrix(), dtype\u001b[38;5;241m=\u001b[39mtorch\u001b[38;5;241m.\u001b[39mint64, device\u001b[38;5;241m=\u001b[39mdevice)\n\u001b[1;32m      8\u001b[0m     \u001b[38;5;28;01melse\u001b[39;00m:\n",
      "File \u001b[0;32m~/miniconda3/lib/python3.11/site-packages/cudf/utils/utils.py:229\u001b[0m, in \u001b[0;36mGetAttrGetItemMixin.__getattr__\u001b[0;34m(self, key)\u001b[0m\n\u001b[1;32m    227\u001b[0m     \u001b[38;5;28;01mreturn\u001b[39;00m \u001b[38;5;28mself\u001b[39m[key]\n\u001b[1;32m    228\u001b[0m \u001b[38;5;28;01mexcept\u001b[39;00m \u001b[38;5;167;01mKeyError\u001b[39;00m:\n\u001b[0;32m--> 229\u001b[0m     \u001b[38;5;28;01mraise\u001b[39;00m \u001b[38;5;167;01mAttributeError\u001b[39;00m(\n\u001b[1;32m    230\u001b[0m         \u001b[38;5;124mf\u001b[39m\u001b[38;5;124m\"\u001b[39m\u001b[38;5;132;01m{\u001b[39;00m\u001b[38;5;28mtype\u001b[39m(\u001b[38;5;28mself\u001b[39m)\u001b[38;5;241m.\u001b[39m\u001b[38;5;18m__name__\u001b[39m\u001b[38;5;132;01m}\u001b[39;00m\u001b[38;5;124m object has no attribute \u001b[39m\u001b[38;5;132;01m{\u001b[39;00mkey\u001b[38;5;132;01m}\u001b[39;00m\u001b[38;5;124m\"\u001b[39m\n\u001b[1;32m    231\u001b[0m     )\n",
      "\u001b[0;31mAttributeError\u001b[0m: DataFrame object has no attribute as_gpu_matrix"
     ]
    }
   ],
   "source": [
    "## train data\n",
    "class PytData(Dataset):\n",
    "\n",
    "    def __init__(self, X_data, y_data, cont_cols, cat_cols, device):\n",
    "        if device.type != 'cpu':\n",
    "            self.X_data_cont = torch.tensor(X_data[cont_cols].as_gpu_matrix(), dtype=torch.float32, device=device)\n",
    "            self.X_data_cat = torch.tensor(X_data[cat_cols].as_gpu_matrix(), dtype=torch.int64, device=device)\n",
    "        else:\n",
    "            self.X_data_cont = torch.tensor(X_data[cont_cols].values, dtype=torch.float32, device=device)\n",
    "            self.X_data_cat = torch.tensor(X_data[cat_cols].values, dtype=torch.int64, device=device)\n",
    "        \n",
    "        assert len(cont_cols) == self.X_data_cont.shape[1]\n",
    "        assert len(cat_cols) == self.X_data_cat.shape[1]\n",
    "        \n",
    "        self.y_data = torch.tensor(y_data.values, dtype=torch.float32, device=device)\n",
    "        \n",
    "    def __getitem__(self, index):\n",
    "        return self.X_data_cat[index], self.X_data_cont[index], self.y_data[index]\n",
    "        \n",
    "    def __len__ (self):\n",
    "        return len(self.y_data)\n",
    "\n",
    "\n",
    "train_data = PytData(X_train, y_train, CONTINUOUS_COLUMNS, CATEGORICAL_COLUMNS, device)\n",
    "test_data = PytData(X_test, y_test, CONTINUOUS_COLUMNS, CATEGORICAL_COLUMNS, device)\n",
    "\n",
    "train_loader = DataLoader(dataset=train_data, batch_size=BATCH_SIZE, shuffle=True)\n",
    "test_loader = DataLoader(dataset=test_data, batch_size=BATCH_SIZE)\n",
    "\n",
    "#for explainability later\n",
    "pos_data = PytData(X_test_pos, y_pos, CONTINUOUS_COLUMNS, CATEGORICAL_COLUMNS, device)\n",
    "neg_data = PytData(X_test_neg, y_neg, CONTINUOUS_COLUMNS, CATEGORICAL_COLUMNS, device)\n",
    "\n",
    "pos_loader = DataLoader(dataset=pos_data, batch_size=BATCH_SIZE)\n",
    "neg_loader = DataLoader(dataset=neg_data, batch_size=BATCH_SIZE)\n",
    "\n",
    "with open(f'{clean_data_path}/pos_loader.pkl', 'wb') as f:\n",
    "    pickle.dump(pos_loader, f)\n",
    "    \n",
    "with open(f'{clean_data_path}/neg_loader.pkl', 'wb') as f:\n",
    "    pickle.dump(neg_loader, f)\n",
    "\n",
    "with open(f'{clean_data_path}/test_loader.pkl', 'wb') as f:\n",
    "    pickle.dump(test_loader, f)"
   ]
  },
  {
   "cell_type": "code",
   "execution_count": 61,
   "id": "04007375-4d69-4720-bbed-0a6ad0227e5e",
   "metadata": {},
   "outputs": [],
   "source": [
    "##### Model Training - Pytorch Dataloader"
   ]
  },
  {
   "cell_type": "code",
   "execution_count": 62,
   "id": "24c71256-8370-49c9-93f0-35a6ee1817e7",
   "metadata": {},
   "outputs": [
    {
     "name": "stdout",
     "output_type": "stream",
     "text": [
      "binaryClassification(\n",
      "  (layer_1): Linear(in_features=20, out_features=512, bias=True)\n",
      "  (layer_2): Linear(in_features=512, out_features=512, bias=True)\n",
      "  (layer_3): Linear(in_features=512, out_features=512, bias=True)\n",
      "  (layer_4): Linear(in_features=512, out_features=512, bias=True)\n",
      "  (layer_5): Linear(in_features=512, out_features=512, bias=True)\n",
      "  (layer_out): Linear(in_features=512, out_features=1, bias=True)\n",
      "  (prelu1): PReLU(num_parameters=1)\n",
      "  (prelu2): PReLU(num_parameters=1)\n",
      "  (prelu3): PReLU(num_parameters=1)\n",
      "  (prelu4): PReLU(num_parameters=1)\n",
      "  (prelu5): PReLU(num_parameters=1)\n",
      "  (dropout1): Dropout(p=0.1, inplace=False)\n",
      "  (dropout2): Dropout(p=0.1, inplace=False)\n",
      "  (dropout3): Dropout(p=0.1, inplace=False)\n",
      "  (dropout4): Dropout(p=0.1, inplace=False)\n",
      "  (batchnorm1): BatchNorm1d(512, eps=1e-05, momentum=0.1, affine=True, track_running_stats=True)\n",
      "  (batchnorm2): BatchNorm1d(512, eps=1e-05, momentum=0.1, affine=True, track_running_stats=True)\n",
      "  (batchnorm3): BatchNorm1d(512, eps=1e-05, momentum=0.1, affine=True, track_running_stats=True)\n",
      "  (batchnorm4): BatchNorm1d(512, eps=1e-05, momentum=0.1, affine=True, track_running_stats=True)\n",
      "  (batchnorm5): BatchNorm1d(512, eps=1e-05, momentum=0.1, affine=True, track_running_stats=True)\n",
      ") cuda:0\n"
     ]
    }
   ],
   "source": [
    "model = binaryClassification(cat_cards=cards, numer_dims=len(CONTINUOUS_COLUMNS)).to(device)\n",
    "print(model, device)\n",
    "criterion = nn.BCEWithLogitsLoss()\n",
    "optimizer = optim.Adam(model.parameters(), lr=LEARNING_RATE)"
   ]
  },
  {
   "cell_type": "code",
   "execution_count": 63,
   "id": "80229c70-5579-4c29-9059-dc6a05596e64",
   "metadata": {},
   "outputs": [
    {
     "ename": "NameError",
     "evalue": "name 'train_loader' is not defined",
     "output_type": "error",
     "traceback": [
      "\u001b[0;31m---------------------------------------------------------------------------\u001b[0m",
      "\u001b[0;31mNameError\u001b[0m                                 Traceback (most recent call last)",
      "Cell \u001b[0;32mIn[63], line 15\u001b[0m\n\u001b[1;32m     13\u001b[0m epoch_loss \u001b[38;5;241m=\u001b[39m \u001b[38;5;241m0\u001b[39m\n\u001b[1;32m     14\u001b[0m epoch_acc \u001b[38;5;241m=\u001b[39m \u001b[38;5;241m0\u001b[39m\n\u001b[0;32m---> 15\u001b[0m train_loss, train_logits, train_targets \u001b[38;5;241m=\u001b[39m train_epoch(model, \u001b[43mtrain_loader\u001b[49m, optimizer, criterion, metric\u001b[38;5;241m=\u001b[39mbinary_acc, device\u001b[38;5;241m=\u001b[39mdevice,\n\u001b[1;32m     16\u001b[0m                          epoch\u001b[38;5;241m=\u001b[39me)\n\u001b[1;32m     17\u001b[0m epoch_f1_score, threshold \u001b[38;5;241m=\u001b[39m calc_metrics(model, train_targets, train_logits, test_loader, criterion, device, use_cpu\u001b[38;5;241m=\u001b[39muse_cpu)\n\u001b[1;32m     18\u001b[0m \u001b[38;5;28;01mif\u001b[39;00m epoch_f1_score \u001b[38;5;241m>\u001b[39m max_f1:\n",
      "\u001b[0;31mNameError\u001b[0m: name 'train_loader' is not defined"
     ]
    }
   ],
   "source": [
    "def binary_acc(y_pred, y_test):\n",
    "    y_pred_tag = torch.round(torch.sigmoid(y_pred))\n",
    "    correct_results_sum = (y_pred_tag == y_test).sum().float()\n",
    "    acc = correct_results_sum/y_test.shape[0]\n",
    "    return acc\n",
    "\n",
    "\n",
    "model_name = 'fnma_model_mlp_pyt'\n",
    "\n",
    "start = time.time()\n",
    "max_f1 = 0\n",
    "for e in range(1, EPOCHS+1):\n",
    "    epoch_loss = 0\n",
    "    epoch_acc = 0\n",
    "    train_loss, train_logits, train_targets = train_epoch(model, train_loader, optimizer, criterion, metric=binary_acc, device=device,\n",
    "                             epoch=e)\n",
    "    epoch_f1_score, threshold = calc_metrics(model, train_targets, train_logits, test_loader, criterion, device, use_cpu=use_cpu)\n",
    "    if epoch_f1_score > max_f1:\n",
    "        max_f1 = epoch_f1_score\n",
    "        # save the model\n",
    "        save_checkpoint(model, optimizer, e, epoch_f1_score, model_name, threshold=threshold, save_path=clean_data_path)\n",
    "    \n",
    "print(f'Total time: {time.time() - start}')"
   ]
  },
  {
   "cell_type": "code",
   "execution_count": 64,
   "id": "3208628d-8bc7-44a8-be73-6ff081a3bf25",
   "metadata": {},
   "outputs": [
    {
     "ename": "FileNotFoundError",
     "evalue": "[Errno 2] No such file or directory: './rapids/notebooks/cleaned_data/checkpoints/fnma_model_mlp_pyt.pt'",
     "output_type": "error",
     "traceback": [
      "\u001b[0;31m---------------------------------------------------------------------------\u001b[0m",
      "\u001b[0;31mFileNotFoundError\u001b[0m                         Traceback (most recent call last)",
      "Cell \u001b[0;32mIn[64], line 1\u001b[0m\n\u001b[0;32m----> 1\u001b[0m model, threshold \u001b[38;5;241m=\u001b[39m \u001b[43mload_checkpoint\u001b[49m\u001b[43m(\u001b[49m\u001b[43mmodel_name\u001b[49m\u001b[43m,\u001b[49m\u001b[43m \u001b[49m\u001b[43mmodel\u001b[49m\u001b[43m,\u001b[49m\u001b[43m \u001b[49m\u001b[43mdevice\u001b[49m\u001b[43m,\u001b[49m\u001b[43m \u001b[49m\u001b[43msave_path\u001b[49m\u001b[38;5;241;43m=\u001b[39;49m\u001b[43mclean_data_path\u001b[49m\u001b[43m)\u001b[49m\n",
      "Cell \u001b[0;32mIn[51], line 48\u001b[0m, in \u001b[0;36mload_checkpoint\u001b[0;34m(file_name, model, device, save_path)\u001b[0m\n\u001b[1;32m     46\u001b[0m \u001b[38;5;28;01mif\u001b[39;00m \u001b[38;5;129;01mnot\u001b[39;00m save_path:\n\u001b[1;32m     47\u001b[0m     save_path \u001b[38;5;241m=\u001b[39m \u001b[38;5;124m'\u001b[39m\u001b[38;5;124m.\u001b[39m\u001b[38;5;124m'\u001b[39m\n\u001b[0;32m---> 48\u001b[0m checkpoint \u001b[38;5;241m=\u001b[39m \u001b[43mtorch\u001b[49m\u001b[38;5;241;43m.\u001b[39;49m\u001b[43mload\u001b[49m\u001b[43m(\u001b[49m\u001b[38;5;124;43mf\u001b[39;49m\u001b[38;5;124;43m'\u001b[39;49m\u001b[38;5;132;43;01m{\u001b[39;49;00m\u001b[43msave_path\u001b[49m\u001b[38;5;132;43;01m}\u001b[39;49;00m\u001b[38;5;124;43m/checkpoints/\u001b[39;49m\u001b[38;5;132;43;01m{\u001b[39;49;00m\u001b[43mfile_name\u001b[49m\u001b[38;5;132;43;01m}\u001b[39;49;00m\u001b[38;5;124;43m.pt\u001b[39;49m\u001b[38;5;124;43m'\u001b[39;49m\u001b[43m)\u001b[49m\n\u001b[1;32m     49\u001b[0m model\u001b[38;5;241m.\u001b[39mload_state_dict(checkpoint[\u001b[38;5;124m'\u001b[39m\u001b[38;5;124mmodel\u001b[39m\u001b[38;5;124m'\u001b[39m])\n\u001b[1;32m     50\u001b[0m model\u001b[38;5;241m.\u001b[39meval()\n",
      "File \u001b[0;32m~/miniconda3/lib/python3.11/site-packages/torch/serialization.py:997\u001b[0m, in \u001b[0;36mload\u001b[0;34m(f, map_location, pickle_module, weights_only, mmap, **pickle_load_args)\u001b[0m\n\u001b[1;32m    994\u001b[0m \u001b[38;5;28;01mif\u001b[39;00m \u001b[38;5;124m'\u001b[39m\u001b[38;5;124mencoding\u001b[39m\u001b[38;5;124m'\u001b[39m \u001b[38;5;129;01mnot\u001b[39;00m \u001b[38;5;129;01min\u001b[39;00m pickle_load_args\u001b[38;5;241m.\u001b[39mkeys():\n\u001b[1;32m    995\u001b[0m     pickle_load_args[\u001b[38;5;124m'\u001b[39m\u001b[38;5;124mencoding\u001b[39m\u001b[38;5;124m'\u001b[39m] \u001b[38;5;241m=\u001b[39m \u001b[38;5;124m'\u001b[39m\u001b[38;5;124mutf-8\u001b[39m\u001b[38;5;124m'\u001b[39m\n\u001b[0;32m--> 997\u001b[0m \u001b[38;5;28;01mwith\u001b[39;00m \u001b[43m_open_file_like\u001b[49m\u001b[43m(\u001b[49m\u001b[43mf\u001b[49m\u001b[43m,\u001b[49m\u001b[43m \u001b[49m\u001b[38;5;124;43m'\u001b[39;49m\u001b[38;5;124;43mrb\u001b[39;49m\u001b[38;5;124;43m'\u001b[39;49m\u001b[43m)\u001b[49m \u001b[38;5;28;01mas\u001b[39;00m opened_file:\n\u001b[1;32m    998\u001b[0m     \u001b[38;5;28;01mif\u001b[39;00m _is_zipfile(opened_file):\n\u001b[1;32m    999\u001b[0m         \u001b[38;5;66;03m# The zipfile reader is going to advance the current file position.\u001b[39;00m\n\u001b[1;32m   1000\u001b[0m         \u001b[38;5;66;03m# If we want to actually tail call to torch.jit.load, we need to\u001b[39;00m\n\u001b[1;32m   1001\u001b[0m         \u001b[38;5;66;03m# reset back to the original position.\u001b[39;00m\n\u001b[1;32m   1002\u001b[0m         orig_position \u001b[38;5;241m=\u001b[39m opened_file\u001b[38;5;241m.\u001b[39mtell()\n",
      "File \u001b[0;32m~/miniconda3/lib/python3.11/site-packages/torch/serialization.py:444\u001b[0m, in \u001b[0;36m_open_file_like\u001b[0;34m(name_or_buffer, mode)\u001b[0m\n\u001b[1;32m    442\u001b[0m \u001b[38;5;28;01mdef\u001b[39;00m \u001b[38;5;21m_open_file_like\u001b[39m(name_or_buffer, mode):\n\u001b[1;32m    443\u001b[0m     \u001b[38;5;28;01mif\u001b[39;00m _is_path(name_or_buffer):\n\u001b[0;32m--> 444\u001b[0m         \u001b[38;5;28;01mreturn\u001b[39;00m \u001b[43m_open_file\u001b[49m\u001b[43m(\u001b[49m\u001b[43mname_or_buffer\u001b[49m\u001b[43m,\u001b[49m\u001b[43m \u001b[49m\u001b[43mmode\u001b[49m\u001b[43m)\u001b[49m\n\u001b[1;32m    445\u001b[0m     \u001b[38;5;28;01melse\u001b[39;00m:\n\u001b[1;32m    446\u001b[0m         \u001b[38;5;28;01mif\u001b[39;00m \u001b[38;5;124m'\u001b[39m\u001b[38;5;124mw\u001b[39m\u001b[38;5;124m'\u001b[39m \u001b[38;5;129;01min\u001b[39;00m mode:\n",
      "File \u001b[0;32m~/miniconda3/lib/python3.11/site-packages/torch/serialization.py:425\u001b[0m, in \u001b[0;36m_open_file.__init__\u001b[0;34m(self, name, mode)\u001b[0m\n\u001b[1;32m    424\u001b[0m \u001b[38;5;28;01mdef\u001b[39;00m \u001b[38;5;21m__init__\u001b[39m(\u001b[38;5;28mself\u001b[39m, name, mode):\n\u001b[0;32m--> 425\u001b[0m     \u001b[38;5;28msuper\u001b[39m()\u001b[38;5;241m.\u001b[39m\u001b[38;5;21m__init__\u001b[39m(\u001b[38;5;28;43mopen\u001b[39;49m\u001b[43m(\u001b[49m\u001b[43mname\u001b[49m\u001b[43m,\u001b[49m\u001b[43m \u001b[49m\u001b[43mmode\u001b[49m\u001b[43m)\u001b[49m)\n",
      "\u001b[0;31mFileNotFoundError\u001b[0m: [Errno 2] No such file or directory: './rapids/notebooks/cleaned_data/checkpoints/fnma_model_mlp_pyt.pt'"
     ]
    }
   ],
   "source": [
    "model, threshold = load_checkpoint(model_name, model, device, save_path=clean_data_path)"
   ]
  },
  {
   "cell_type": "code",
   "execution_count": 65,
   "id": "37b3a82b-f0af-4fdd-932f-a5c52a3e7448",
   "metadata": {},
   "outputs": [
    {
     "ename": "NameError",
     "evalue": "name 'train_loader' is not defined",
     "output_type": "error",
     "traceback": [
      "\u001b[0;31m---------------------------------------------------------------------------\u001b[0m",
      "\u001b[0;31mNameError\u001b[0m                                 Traceback (most recent call last)",
      "Cell \u001b[0;32mIn[65], line 1\u001b[0m\n\u001b[0;32m----> 1\u001b[0m _ \u001b[38;5;241m=\u001b[39m test_em(model, \u001b[43mtrain_loader\u001b[49m, criterion, threshold, device, use_cpu\u001b[38;5;241m=\u001b[39muse_cpu,\n\u001b[1;32m      2\u001b[0m         save_path\u001b[38;5;241m=\u001b[39m\u001b[38;5;124mf\u001b[39m\u001b[38;5;124m'\u001b[39m\u001b[38;5;132;01m{\u001b[39;00mfigures_path\u001b[38;5;132;01m}\u001b[39;00m\u001b[38;5;124m/in_sample_mlp_pyt_pr_roc.png\u001b[39m\u001b[38;5;124m'\u001b[39m )\n",
      "\u001b[0;31mNameError\u001b[0m: name 'train_loader' is not defined"
     ]
    }
   ],
   "source": [
    "_ = test_em(model, train_loader, criterion, threshold, device, use_cpu=use_cpu,\n",
    "        save_path=f'{figures_path}/in_sample_mlp_pyt_pr_roc.png' )"
   ]
  },
  {
   "cell_type": "code",
   "execution_count": 66,
   "id": "48558a0e-19bc-4019-bf3f-04575df7e5be",
   "metadata": {},
   "outputs": [
    {
     "ename": "NameError",
     "evalue": "name 'test_loader' is not defined",
     "output_type": "error",
     "traceback": [
      "\u001b[0;31m---------------------------------------------------------------------------\u001b[0m",
      "\u001b[0;31mNameError\u001b[0m                                 Traceback (most recent call last)",
      "Cell \u001b[0;32mIn[66], line 1\u001b[0m\n\u001b[0;32m----> 1\u001b[0m true_labels, pred_labels \u001b[38;5;241m=\u001b[39m test_em(model, \u001b[43mtest_loader\u001b[49m, criterion, threshold, device, use_cpu\u001b[38;5;241m=\u001b[39muse_cpu, \n\u001b[1;32m      2\u001b[0m                                    save_path\u001b[38;5;241m=\u001b[39m\u001b[38;5;124mf\u001b[39m\u001b[38;5;124m'\u001b[39m\u001b[38;5;132;01m{\u001b[39;00mfigures_path\u001b[38;5;132;01m}\u001b[39;00m\u001b[38;5;124m/out_of_sample_mlp_pyt_pr_roc.png\u001b[39m\u001b[38;5;124m'\u001b[39m)\n",
      "\u001b[0;31mNameError\u001b[0m: name 'test_loader' is not defined"
     ]
    }
   ],
   "source": [
    "true_labels, pred_labels = test_em(model, test_loader, criterion, threshold, device, use_cpu=use_cpu, \n",
    "                                   save_path=f'{figures_path}/out_of_sample_mlp_pyt_pr_roc.png')\n"
   ]
  },
  {
   "cell_type": "code",
   "execution_count": 67,
   "id": "cd9e383f-de37-4292-8640-92dfd4a66cdc",
   "metadata": {},
   "outputs": [
    {
     "data": {
      "text/plain": [
       "numpy.ndarray"
      ]
     },
     "execution_count": 67,
     "metadata": {},
     "output_type": "execute_result"
    }
   ],
   "source": [
    "type(results)"
   ]
  },
  {
   "cell_type": "code",
   "execution_count": 68,
   "id": "b9baaa08-5929-4254-96fc-2ba89df296b5",
   "metadata": {},
   "outputs": [
    {
     "data": {
      "image/png": "[encoded data removed]",
      "text/plain": [
       "<Figure size 1000x600 with 2 Axes>"
      ]
     },
     "metadata": {},
     "output_type": "display_data"
    }
   ],
   "source": [
    "results = confusion_matrix(true_labels, pred_labels)\n",
    "results = cupy2numpy(results, True)\n",
    "plot_confusion_matrix(results, ['Normal','Anomaly'], title='Confusion Matrix', save_path=f'{figures_path}/pyt_mlp_confusion_matrix.png')"
   ]
  },
  {
   "cell_type": "code",
   "execution_count": 69,
   "id": "262e087f-ab9f-4690-8e6a-6ba75d707364",
   "metadata": {},
   "outputs": [],
   "source": [
    "import cudf\n",
    "import pyarrow.parquet as pq\n",
    "#!pip install librosa --user\n",
    "#!pip install llvmlite --ignore-installed\n",
    "#!pip install nvtabular==0.5.3\n",
    "pyt_dl_time = time.time()"
   ]
  },
  {
   "cell_type": "code",
   "execution_count": 71,
   "id": "85d93d93-3c18-47f4-98a1-bca010c79716",
   "metadata": {},
   "outputs": [
    {
     "name": "stderr",
     "output_type": "stream",
     "text": [
      "/home/opc/miniconda3/lib/python3.11/site-packages/merlin/dtypes/mappings/tf.py:52: UserWarning: Tensorflow dtype mappings did not load successfully due to an error: No module named 'tensorflow'\n",
      "  warn(f\"Tensorflow dtype mappings did not load successfully due to an error: {exc.msg}\")\n",
      "/home/opc/miniconda3/lib/python3.11/site-packages/merlin/dtypes/mappings/triton.py:53: UserWarning: Triton dtype mappings did not load successfully due to an error: No module named 'tritonclient'\n",
      "  warn(f\"Triton dtype mappings did not load successfully due to an error: {exc.msg}\")\n"
     ]
    }
   ],
   "source": [
    "####### (GPU only) NVTabular Dataloader and Dataset\n",
    "import nvtabular as nvt\n",
    "from nvtabular.loader.torch import TorchAsyncItr, DLDataLoader\n",
    "\n",
    "if use_cpu:\n",
    "    raise Exception('This section is for GPU only.')\n",
    "        "
   ]
  },
  {
   "cell_type": "code",
   "execution_count": 72,
   "id": "f0e3e67f-6309-40ac-be9f-407f187fe08c",
   "metadata": {},
   "outputs": [
    {
     "data": {
      "text/plain": [
       "'23.08.00'"
      ]
     },
     "execution_count": 72,
     "metadata": {},
     "output_type": "execute_result"
    }
   ],
   "source": [
    "nvt.__version__"
   ]
  },
  {
   "cell_type": "code",
   "execution_count": 73,
   "id": "df1e006e-77d8-48fd-8643-5b4f3724c9e3",
   "metadata": {},
   "outputs": [
    {
     "data": {
      "text/html": [
       "<div>\n",
       "<style scoped>\n",
       "    .dataframe tbody tr th:only-of-type {\n",
       "        vertical-align: middle;\n",
       "    }\n",
       "\n",
       "    .dataframe tbody tr th {\n",
       "        vertical-align: top;\n",
       "    }\n",
       "\n",
       "    .dataframe thead th {\n",
       "        text-align: right;\n",
       "    }\n",
       "</style>\n",
       "<table border=\"1\" class=\"dataframe\">\n",
       "  <thead>\n",
       "    <tr style=\"text-align: right;\">\n",
       "      <th></th>\n",
       "      <th>Channel</th>\n",
       "      <th>CoCreditScore</th>\n",
       "      <th>CreditScore</th>\n",
       "      <th>DTIRat</th>\n",
       "      <th>Extra</th>\n",
       "      <th>FTHomeBuyer</th>\n",
       "      <th>LoanPurpose</th>\n",
       "      <th>MortInsType</th>\n",
       "      <th>NumBorrow</th>\n",
       "      <th>NumUnits</th>\n",
       "      <th>OccStatus</th>\n",
       "      <th>OrCLTV</th>\n",
       "      <th>OrInterestRate</th>\n",
       "      <th>OrLoanTerm</th>\n",
       "      <th>OrUnpaidPrinc</th>\n",
       "      <th>ProductType</th>\n",
       "      <th>PropertyState</th>\n",
       "      <th>PropertyType</th>\n",
       "      <th>SellerName</th>\n",
       "      <th>Zip</th>\n",
       "      <th>Default</th>\n",
       "    </tr>\n",
       "  </thead>\n",
       "  <tbody>\n",
       "    <tr>\n",
       "      <th>9095777</th>\n",
       "      <td>1</td>\n",
       "      <td>0.000193</td>\n",
       "      <td>0.752115</td>\n",
       "      <td>-0.813833</td>\n",
       "      <td>-0.000102</td>\n",
       "      <td>1</td>\n",
       "      <td>1</td>\n",
       "      <td>0</td>\n",
       "      <td>-1.166797</td>\n",
       "      <td>-0.132978</td>\n",
       "      <td>0</td>\n",
       "      <td>0.625094</td>\n",
       "      <td>-0.679839</td>\n",
       "      <td>0.640855</td>\n",
       "      <td>1.363902</td>\n",
       "      <td>0</td>\n",
       "      <td>12</td>\n",
       "      <td>1</td>\n",
       "      <td>3</td>\n",
       "      <td>16</td>\n",
       "      <td>0</td>\n",
       "    </tr>\n",
       "    <tr>\n",
       "      <th>5590064</th>\n",
       "      <td>0</td>\n",
       "      <td>1.013063</td>\n",
       "      <td>-0.130757</td>\n",
       "      <td>0.782411</td>\n",
       "      <td>-0.000102</td>\n",
       "      <td>0</td>\n",
       "      <td>1</td>\n",
       "      <td>0</td>\n",
       "      <td>0.816311</td>\n",
       "      <td>-0.132978</td>\n",
       "      <td>0</td>\n",
       "      <td>0.972869</td>\n",
       "      <td>0.420215</td>\n",
       "      <td>0.640855</td>\n",
       "      <td>0.284004</td>\n",
       "      <td>0</td>\n",
       "      <td>6</td>\n",
       "      <td>0</td>\n",
       "      <td>8</td>\n",
       "      <td>720</td>\n",
       "      <td>0</td>\n",
       "    </tr>\n",
       "    <tr>\n",
       "      <th>10990690</th>\n",
       "      <td>0</td>\n",
       "      <td>0.000193</td>\n",
       "      <td>0.668032</td>\n",
       "      <td>0.161650</td>\n",
       "      <td>-0.830916</td>\n",
       "      <td>0</td>\n",
       "      <td>1</td>\n",
       "      <td>0</td>\n",
       "      <td>-1.166797</td>\n",
       "      <td>-0.132978</td>\n",
       "      <td>0</td>\n",
       "      <td>1.378606</td>\n",
       "      <td>-1.290981</td>\n",
       "      <td>0.640855</td>\n",
       "      <td>0.114766</td>\n",
       "      <td>0</td>\n",
       "      <td>48</td>\n",
       "      <td>1</td>\n",
       "      <td>4</td>\n",
       "      <td>266</td>\n",
       "      <td>0</td>\n",
       "    </tr>\n",
       "    <tr>\n",
       "      <th>11239914</th>\n",
       "      <td>1</td>\n",
       "      <td>0.000193</td>\n",
       "      <td>0.000118</td>\n",
       "      <td>-0.000149</td>\n",
       "      <td>-0.000102</td>\n",
       "      <td>0</td>\n",
       "      <td>2</td>\n",
       "      <td>0</td>\n",
       "      <td>-0.000172</td>\n",
       "      <td>-0.000139</td>\n",
       "      <td>0</td>\n",
       "      <td>-0.000007</td>\n",
       "      <td>0.000047</td>\n",
       "      <td>0.000036</td>\n",
       "      <td>-0.000117</td>\n",
       "      <td>0</td>\n",
       "      <td>12</td>\n",
       "      <td>0</td>\n",
       "      <td>2</td>\n",
       "      <td>41</td>\n",
       "      <td>1</td>\n",
       "    </tr>\n",
       "    <tr>\n",
       "      <th>10886123</th>\n",
       "      <td>0</td>\n",
       "      <td>0.000193</td>\n",
       "      <td>0.983343</td>\n",
       "      <td>1.137132</td>\n",
       "      <td>-0.000102</td>\n",
       "      <td>0</td>\n",
       "      <td>2</td>\n",
       "      <td>0</td>\n",
       "      <td>-1.166797</td>\n",
       "      <td>-0.132978</td>\n",
       "      <td>0</td>\n",
       "      <td>-1.867293</td>\n",
       "      <td>-2.268807</td>\n",
       "      <td>-1.523394</td>\n",
       "      <td>-0.957073</td>\n",
       "      <td>0</td>\n",
       "      <td>24</td>\n",
       "      <td>0</td>\n",
       "      <td>27</td>\n",
       "      <td>439</td>\n",
       "      <td>0</td>\n",
       "    </tr>\n",
       "  </tbody>\n",
       "</table>\n",
       "</div>"
      ],
      "text/plain": [
       "          Channel  CoCreditScore  CreditScore    DTIRat     Extra  FTHomeBuyer  LoanPurpose  MortInsType  NumBorrow  NumUnits  OccStatus    OrCLTV  OrInterestRate  OrLoanTerm  OrUnpaidPrinc  ProductType  PropertyState  PropertyType  SellerName  Zip  Default\n",
       "9095777         1       0.000193     0.752115 -0.813833 -0.000102            1            1            0  -1.166797 -0.132978          0  0.625094       -0.679839    0.640855       1.363902            0             12             1           3   16        0\n",
       "5590064         0       1.013063    -0.130757  0.782411 -0.000102            0            1            0   0.816311 -0.132978          0  0.972869        0.420215    0.640855       0.284004            0              6             0           8  720        0\n",
       "10990690        0       0.000193     0.668032  0.161650 -0.830916            0            1            0  -1.166797 -0.132978          0  1.378606       -1.290981    0.640855       0.114766            0             48             1           4  266        0\n",
       "11239914        1       0.000193     0.000118 -0.000149 -0.000102            0            2            0  -0.000172 -0.000139          0 -0.000007        0.000047    0.000036      -0.000117            0             12             0           2   41        1\n",
       "10886123        0       0.000193     0.983343  1.137132 -0.000102            0            2            0  -1.166797 -0.132978          0 -1.867293       -2.268807   -1.523394      -0.957073            0             24             0          27  439        0"
      ]
     },
     "execution_count": 73,
     "metadata": {},
     "output_type": "execute_result"
    }
   ],
   "source": [
    "train = concat([X_train[sorted(X_train.columns)],  y_train], axis=1)\n",
    "train[CATEGORICAL_COLUMNS] = train[CATEGORICAL_COLUMNS].astype(int16)\n",
    "train.head()"
   ]
  },
  {
   "cell_type": "code",
   "execution_count": 74,
   "id": "388a7001-ed1b-4e65-a6c7-68910db1f33b",
   "metadata": {},
   "outputs": [
    {
     "data": {
      "text/html": [
       "<div>\n",
       "<style scoped>\n",
       "    .dataframe tbody tr th:only-of-type {\n",
       "        vertical-align: middle;\n",
       "    }\n",
       "\n",
       "    .dataframe tbody tr th {\n",
       "        vertical-align: top;\n",
       "    }\n",
       "\n",
       "    .dataframe thead th {\n",
       "        text-align: right;\n",
       "    }\n",
       "</style>\n",
       "<table border=\"1\" class=\"dataframe\">\n",
       "  <thead>\n",
       "    <tr style=\"text-align: right;\">\n",
       "      <th></th>\n",
       "      <th>Channel</th>\n",
       "      <th>CoCreditScore</th>\n",
       "      <th>CreditScore</th>\n",
       "      <th>DTIRat</th>\n",
       "      <th>Extra</th>\n",
       "      <th>FTHomeBuyer</th>\n",
       "      <th>LoanPurpose</th>\n",
       "      <th>MortInsType</th>\n",
       "      <th>NumBorrow</th>\n",
       "      <th>NumUnits</th>\n",
       "      <th>OccStatus</th>\n",
       "      <th>OrCLTV</th>\n",
       "      <th>OrInterestRate</th>\n",
       "      <th>OrLoanTerm</th>\n",
       "      <th>OrUnpaidPrinc</th>\n",
       "      <th>ProductType</th>\n",
       "      <th>PropertyState</th>\n",
       "      <th>PropertyType</th>\n",
       "      <th>SellerName</th>\n",
       "      <th>Zip</th>\n",
       "      <th>Default</th>\n",
       "    </tr>\n",
       "  </thead>\n",
       "  <tbody>\n",
       "    <tr>\n",
       "      <th>3902520</th>\n",
       "      <td>0</td>\n",
       "      <td>0.000193</td>\n",
       "      <td>-0.908525</td>\n",
       "      <td>-0.015711</td>\n",
       "      <td>-0.000102</td>\n",
       "      <td>0</td>\n",
       "      <td>2</td>\n",
       "      <td>0</td>\n",
       "      <td>-1.166797</td>\n",
       "      <td>-0.132978</td>\n",
       "      <td>0</td>\n",
       "      <td>0.045469</td>\n",
       "      <td>0.053530</td>\n",
       "      <td>0.640855</td>\n",
       "      <td>-1.045721</td>\n",
       "      <td>0</td>\n",
       "      <td>4</td>\n",
       "      <td>0</td>\n",
       "      <td>0</td>\n",
       "      <td>249</td>\n",
       "      <td>0</td>\n",
       "    </tr>\n",
       "    <tr>\n",
       "      <th>7687236</th>\n",
       "      <td>0</td>\n",
       "      <td>-1.950021</td>\n",
       "      <td>-0.088715</td>\n",
       "      <td>-0.370432</td>\n",
       "      <td>-0.000102</td>\n",
       "      <td>0</td>\n",
       "      <td>1</td>\n",
       "      <td>0</td>\n",
       "      <td>0.816311</td>\n",
       "      <td>-0.132978</td>\n",
       "      <td>1</td>\n",
       "      <td>0.625094</td>\n",
       "      <td>0.420215</td>\n",
       "      <td>0.640855</td>\n",
       "      <td>-0.916778</td>\n",
       "      <td>0</td>\n",
       "      <td>10</td>\n",
       "      <td>0</td>\n",
       "      <td>2</td>\n",
       "      <td>386</td>\n",
       "      <td>0</td>\n",
       "    </tr>\n",
       "    <tr>\n",
       "      <th>2931006</th>\n",
       "      <td>1</td>\n",
       "      <td>2.053294</td>\n",
       "      <td>1.403759</td>\n",
       "      <td>-1.079873</td>\n",
       "      <td>-0.000102</td>\n",
       "      <td>0</td>\n",
       "      <td>2</td>\n",
       "      <td>0</td>\n",
       "      <td>0.816311</td>\n",
       "      <td>-0.132978</td>\n",
       "      <td>0</td>\n",
       "      <td>-1.403593</td>\n",
       "      <td>-0.068698</td>\n",
       "      <td>-1.523394</td>\n",
       "      <td>-1.142428</td>\n",
       "      <td>0</td>\n",
       "      <td>13</td>\n",
       "      <td>0</td>\n",
       "      <td>2</td>\n",
       "      <td>27</td>\n",
       "      <td>0</td>\n",
       "    </tr>\n",
       "    <tr>\n",
       "      <th>432465</th>\n",
       "      <td>1</td>\n",
       "      <td>0.000193</td>\n",
       "      <td>-1.307919</td>\n",
       "      <td>-0.104391</td>\n",
       "      <td>-0.000102</td>\n",
       "      <td>0</td>\n",
       "      <td>1</td>\n",
       "      <td>0</td>\n",
       "      <td>-1.166797</td>\n",
       "      <td>-0.132978</td>\n",
       "      <td>0</td>\n",
       "      <td>1.494531</td>\n",
       "      <td>1.275813</td>\n",
       "      <td>0.640855</td>\n",
       "      <td>-0.272063</td>\n",
       "      <td>0</td>\n",
       "      <td>26</td>\n",
       "      <td>1</td>\n",
       "      <td>1</td>\n",
       "      <td>378</td>\n",
       "      <td>0</td>\n",
       "    </tr>\n",
       "    <tr>\n",
       "      <th>5609</th>\n",
       "      <td>0</td>\n",
       "      <td>0.000193</td>\n",
       "      <td>0.415783</td>\n",
       "      <td>0.516370</td>\n",
       "      <td>-0.000102</td>\n",
       "      <td>1</td>\n",
       "      <td>1</td>\n",
       "      <td>0</td>\n",
       "      <td>-1.166797</td>\n",
       "      <td>-0.132978</td>\n",
       "      <td>0</td>\n",
       "      <td>0.509169</td>\n",
       "      <td>1.886955</td>\n",
       "      <td>0.448477</td>\n",
       "      <td>0.509654</td>\n",
       "      <td>0</td>\n",
       "      <td>5</td>\n",
       "      <td>0</td>\n",
       "      <td>3</td>\n",
       "      <td>179</td>\n",
       "      <td>0</td>\n",
       "    </tr>\n",
       "  </tbody>\n",
       "</table>\n",
       "</div>"
      ],
      "text/plain": [
       "         Channel  CoCreditScore  CreditScore    DTIRat     Extra  FTHomeBuyer  LoanPurpose  MortInsType  NumBorrow  NumUnits  OccStatus    OrCLTV  OrInterestRate  OrLoanTerm  OrUnpaidPrinc  ProductType  PropertyState  PropertyType  SellerName  Zip  Default\n",
       "3902520        0       0.000193    -0.908525 -0.015711 -0.000102            0            2            0  -1.166797 -0.132978          0  0.045469        0.053530    0.640855      -1.045721            0              4             0           0  249        0\n",
       "7687236        0      -1.950021    -0.088715 -0.370432 -0.000102            0            1            0   0.816311 -0.132978          1  0.625094        0.420215    0.640855      -0.916778            0             10             0           2  386        0\n",
       "2931006        1       2.053294     1.403759 -1.079873 -0.000102            0            2            0   0.816311 -0.132978          0 -1.403593       -0.068698   -1.523394      -1.142428            0             13             0           2   27        0\n",
       "432465         1       0.000193    -1.307919 -0.104391 -0.000102            0            1            0  -1.166797 -0.132978          0  1.494531        1.275813    0.640855      -0.272063            0             26             1           1  378        0\n",
       "5609           0       0.000193     0.415783  0.516370 -0.000102            1            1            0  -1.166797 -0.132978          0  0.509169        1.886955    0.448477       0.509654            0              5             0           3  179        0"
      ]
     },
     "execution_count": 74,
     "metadata": {},
     "output_type": "execute_result"
    }
   ],
   "source": [
    "test = concat([X_test[sorted(X_test.columns)],  y_test], axis=1)\n",
    "test[CATEGORICAL_COLUMNS] = test[CATEGORICAL_COLUMNS].astype(cp.int16)\n",
    "test.head()"
   ]
  },
  {
   "cell_type": "code",
   "execution_count": 75,
   "id": "4a2fa6d5-0c8f-4d46-8ff8-732a33f010f8",
   "metadata": {},
   "outputs": [
    {
     "ename": "ValueError",
     "evalue": "Cannot take a larger sample than population when 'replace=False'",
     "output_type": "error",
     "traceback": [
      "\u001b[0;31m---------------------------------------------------------------------------\u001b[0m",
      "\u001b[0;31mValueError\u001b[0m                                Traceback (most recent call last)",
      "Cell \u001b[0;32mIn[75], line 2\u001b[0m\n\u001b[1;32m      1\u001b[0m \u001b[38;5;66;03m# for explainability later.\u001b[39;00m\n\u001b[0;32m----> 2\u001b[0m y_pos \u001b[38;5;241m=\u001b[39m \u001b[43my_test\u001b[49m\u001b[38;5;241;43m.\u001b[39;49m\u001b[43mloc\u001b[49m\u001b[43m[\u001b[49m\u001b[43my_test\u001b[49m\u001b[38;5;241;43m==\u001b[39;49m\u001b[38;5;241;43m1\u001b[39;49m\u001b[43m]\u001b[49m\u001b[38;5;241;43m.\u001b[39;49m\u001b[43msample\u001b[49m\u001b[43m(\u001b[49m\u001b[43mn\u001b[49m\u001b[38;5;241;43m=\u001b[39;49m\u001b[43mBATCH_SIZE\u001b[49m\u001b[43m,\u001b[49m\u001b[43m \u001b[49m\u001b[43mrandom_state\u001b[49m\u001b[38;5;241;43m=\u001b[39;49m\u001b[38;5;241;43m8675309\u001b[39;49m\u001b[43m)\u001b[49m\n\u001b[1;32m      3\u001b[0m y_neg \u001b[38;5;241m=\u001b[39m y_test\u001b[38;5;241m.\u001b[39mloc[y_test\u001b[38;5;241m==\u001b[39m\u001b[38;5;241m0\u001b[39m]\u001b[38;5;241m.\u001b[39msample(n\u001b[38;5;241m=\u001b[39mBATCH_SIZE, random_state\u001b[38;5;241m=\u001b[39m\u001b[38;5;241m8675309\u001b[39m)\n\u001b[1;32m      5\u001b[0m X_test_pos \u001b[38;5;241m=\u001b[39m X_test\u001b[38;5;241m.\u001b[39mloc[y_pos\u001b[38;5;241m.\u001b[39mindex]\n",
      "File \u001b[0;32m~/miniconda3/lib/python3.11/site-packages/nvtx/nvtx.py:116\u001b[0m, in \u001b[0;36mannotate.__call__.<locals>.inner\u001b[0;34m(*args, **kwargs)\u001b[0m\n\u001b[1;32m    113\u001b[0m \u001b[38;5;129m@wraps\u001b[39m(func)\n\u001b[1;32m    114\u001b[0m \u001b[38;5;28;01mdef\u001b[39;00m \u001b[38;5;21minner\u001b[39m(\u001b[38;5;241m*\u001b[39margs, \u001b[38;5;241m*\u001b[39m\u001b[38;5;241m*\u001b[39mkwargs):\n\u001b[1;32m    115\u001b[0m     libnvtx_push_range(\u001b[38;5;28mself\u001b[39m\u001b[38;5;241m.\u001b[39mattributes, \u001b[38;5;28mself\u001b[39m\u001b[38;5;241m.\u001b[39mdomain\u001b[38;5;241m.\u001b[39mhandle)\n\u001b[0;32m--> 116\u001b[0m     result \u001b[38;5;241m=\u001b[39m \u001b[43mfunc\u001b[49m\u001b[43m(\u001b[49m\u001b[38;5;241;43m*\u001b[39;49m\u001b[43margs\u001b[49m\u001b[43m,\u001b[49m\u001b[43m \u001b[49m\u001b[38;5;241;43m*\u001b[39;49m\u001b[38;5;241;43m*\u001b[39;49m\u001b[43mkwargs\u001b[49m\u001b[43m)\u001b[49m\n\u001b[1;32m    117\u001b[0m     libnvtx_pop_range(\u001b[38;5;28mself\u001b[39m\u001b[38;5;241m.\u001b[39mdomain\u001b[38;5;241m.\u001b[39mhandle)\n\u001b[1;32m    118\u001b[0m     \u001b[38;5;28;01mreturn\u001b[39;00m result\n",
      "File \u001b[0;32m~/miniconda3/lib/python3.11/site-packages/cudf/core/indexed_frame.py:4683\u001b[0m, in \u001b[0;36mIndexedFrame.sample\u001b[0;34m(self, n, frac, replace, weights, random_state, axis, ignore_index)\u001b[0m\n\u001b[1;32m   4680\u001b[0m     weights \u001b[38;5;241m=\u001b[39m weights \u001b[38;5;241m/\u001b[39m weights\u001b[38;5;241m.\u001b[39msum()\n\u001b[1;32m   4682\u001b[0m \u001b[38;5;28;01mif\u001b[39;00m axis \u001b[38;5;241m==\u001b[39m \u001b[38;5;241m0\u001b[39m:\n\u001b[0;32m-> 4683\u001b[0m     \u001b[38;5;28;01mreturn\u001b[39;00m \u001b[38;5;28;43mself\u001b[39;49m\u001b[38;5;241;43m.\u001b[39;49m\u001b[43m_sample_axis_0\u001b[49m\u001b[43m(\u001b[49m\n\u001b[1;32m   4684\u001b[0m \u001b[43m        \u001b[49m\u001b[43mn\u001b[49m\u001b[43m,\u001b[49m\u001b[43m \u001b[49m\u001b[43mweights\u001b[49m\u001b[43m,\u001b[49m\u001b[43m \u001b[49m\u001b[43mreplace\u001b[49m\u001b[43m,\u001b[49m\u001b[43m \u001b[49m\u001b[43mrandom_state\u001b[49m\u001b[43m,\u001b[49m\u001b[43m \u001b[49m\u001b[43mignore_index\u001b[49m\n\u001b[1;32m   4685\u001b[0m \u001b[43m    \u001b[49m\u001b[43m)\u001b[49m\n\u001b[1;32m   4686\u001b[0m \u001b[38;5;28;01melse\u001b[39;00m:\n\u001b[1;32m   4687\u001b[0m     \u001b[38;5;28;01mif\u001b[39;00m \u001b[38;5;28misinstance\u001b[39m(random_state, cp\u001b[38;5;241m.\u001b[39mrandom\u001b[38;5;241m.\u001b[39mRandomState):\n",
      "File \u001b[0;32m~/miniconda3/lib/python3.11/site-packages/cudf/core/indexed_frame.py:4707\u001b[0m, in \u001b[0;36mIndexedFrame._sample_axis_0\u001b[0;34m(self, n, weights, replace, random_state, ignore_index)\u001b[0m\n\u001b[1;32m   4696\u001b[0m \u001b[38;5;28;01mdef\u001b[39;00m \u001b[38;5;21m_sample_axis_0\u001b[39m(\n\u001b[1;32m   4697\u001b[0m     \u001b[38;5;28mself\u001b[39m,\n\u001b[1;32m   4698\u001b[0m     n: \u001b[38;5;28mint\u001b[39m,\n\u001b[0;32m   (...)\u001b[0m\n\u001b[1;32m   4702\u001b[0m     ignore_index: \u001b[38;5;28mbool\u001b[39m,\n\u001b[1;32m   4703\u001b[0m ):\n\u001b[1;32m   4704\u001b[0m     \u001b[38;5;28;01mtry\u001b[39;00m:\n\u001b[1;32m   4705\u001b[0m         gather_map \u001b[38;5;241m=\u001b[39m GatherMap\u001b[38;5;241m.\u001b[39mfrom_column_unchecked(\n\u001b[1;32m   4706\u001b[0m             cudf\u001b[38;5;241m.\u001b[39mcore\u001b[38;5;241m.\u001b[39mcolumn\u001b[38;5;241m.\u001b[39mas_column(\n\u001b[0;32m-> 4707\u001b[0m                 \u001b[43mrandom_state\u001b[49m\u001b[38;5;241;43m.\u001b[39;49m\u001b[43mchoice\u001b[49m\u001b[43m(\u001b[49m\n\u001b[1;32m   4708\u001b[0m \u001b[43m                    \u001b[49m\u001b[38;5;28;43mlen\u001b[39;49m\u001b[43m(\u001b[49m\u001b[38;5;28;43mself\u001b[39;49m\u001b[43m)\u001b[49m\u001b[43m,\u001b[49m\u001b[43m \u001b[49m\u001b[43msize\u001b[49m\u001b[38;5;241;43m=\u001b[39;49m\u001b[43mn\u001b[49m\u001b[43m,\u001b[49m\u001b[43m \u001b[49m\u001b[43mreplace\u001b[49m\u001b[38;5;241;43m=\u001b[39;49m\u001b[43mreplace\u001b[49m\u001b[43m,\u001b[49m\u001b[43m \u001b[49m\u001b[43mp\u001b[49m\u001b[38;5;241;43m=\u001b[39;49m\u001b[43mweights\u001b[49m\n\u001b[1;32m   4709\u001b[0m \u001b[43m                \u001b[49m\u001b[43m)\u001b[49m\n\u001b[1;32m   4710\u001b[0m             ),\n\u001b[1;32m   4711\u001b[0m             \u001b[38;5;28mlen\u001b[39m(\u001b[38;5;28mself\u001b[39m),\n\u001b[1;32m   4712\u001b[0m             nullify\u001b[38;5;241m=\u001b[39m\u001b[38;5;28;01mFalse\u001b[39;00m,\n\u001b[1;32m   4713\u001b[0m         )\n\u001b[1;32m   4714\u001b[0m     \u001b[38;5;28;01mexcept\u001b[39;00m \u001b[38;5;167;01mNotImplementedError\u001b[39;00m \u001b[38;5;28;01mas\u001b[39;00m e:\n\u001b[1;32m   4715\u001b[0m         \u001b[38;5;28;01mraise\u001b[39;00m \u001b[38;5;167;01mNotImplementedError\u001b[39;00m(\n\u001b[1;32m   4716\u001b[0m             \u001b[38;5;124m\"\u001b[39m\u001b[38;5;124mRandom sampling with cupy does not support these inputs.\u001b[39m\u001b[38;5;124m\"\u001b[39m\n\u001b[1;32m   4717\u001b[0m         ) \u001b[38;5;28;01mfrom\u001b[39;00m \u001b[38;5;21;01me\u001b[39;00m\n",
      "File \u001b[0;32m~/miniconda3/lib/python3.11/site-packages/cupy/random/_generator.py:1119\u001b[0m, in \u001b[0;36mRandomState.choice\u001b[0;34m(self, a, size, replace, p)\u001b[0m\n\u001b[1;32m   1117\u001b[0m \u001b[38;5;28;01mif\u001b[39;00m \u001b[38;5;129;01mnot\u001b[39;00m replace \u001b[38;5;129;01mand\u001b[39;00m p \u001b[38;5;129;01mis\u001b[39;00m \u001b[38;5;28;01mNone\u001b[39;00m:\n\u001b[1;32m   1118\u001b[0m     \u001b[38;5;28;01mif\u001b[39;00m a_size \u001b[38;5;241m<\u001b[39m size:\n\u001b[0;32m-> 1119\u001b[0m         \u001b[38;5;28;01mraise\u001b[39;00m \u001b[38;5;167;01mValueError\u001b[39;00m(\n\u001b[1;32m   1120\u001b[0m             \u001b[38;5;124m'\u001b[39m\u001b[38;5;124mCannot take a larger sample than population when \u001b[39m\u001b[38;5;124m'\u001b[39m\n\u001b[1;32m   1121\u001b[0m             \u001b[38;5;124m'\u001b[39m\u001b[38;5;130;01m\\'\u001b[39;00m\u001b[38;5;124mreplace=False\u001b[39m\u001b[38;5;130;01m\\'\u001b[39;00m\u001b[38;5;124m'\u001b[39m)\n\u001b[1;32m   1122\u001b[0m     \u001b[38;5;28;01mif\u001b[39;00m \u001b[38;5;28misinstance\u001b[39m(a, \u001b[38;5;28mint\u001b[39m):\n\u001b[1;32m   1123\u001b[0m         indices \u001b[38;5;241m=\u001b[39m cupy\u001b[38;5;241m.\u001b[39marange(a, dtype\u001b[38;5;241m=\u001b[39m\u001b[38;5;124m'\u001b[39m\u001b[38;5;124ml\u001b[39m\u001b[38;5;124m'\u001b[39m)\n",
      "\u001b[0;31mValueError\u001b[0m: Cannot take a larger sample than population when 'replace=False'"
     ]
    }
   ],
   "source": [
    "# for explainability later.\n",
    "y_pos = y_test.loc[y_test==1].sample(n=BATCH_SIZE, random_state=8675309)\n",
    "y_neg = y_test.loc[y_test==0].sample(n=BATCH_SIZE, random_state=8675309)\n",
    "\n",
    "X_test_pos = X_test.loc[y_pos.index]\n",
    "X_test_neg = X_test.loc[y_neg.index]\n",
    "\n",
    "pos_data = concat([X_test_pos[sorted(X_test_pos.columns)],  y_pos], axis=1)\n",
    "pos_data[CATEGORICAL_COLUMNS] = pos_data[CATEGORICAL_COLUMNS].astype(int16)\n",
    "\n",
    "neg_data = concat([X_test_neg[sorted(X_test_neg.columns)],  y_neg], axis=1)\n",
    "neg_data[CATEGORICAL_COLUMNS] = neg_data[CATEGORICAL_COLUMNS].astype(int16)\n",
    "\n",
    "pos_path = f'{clean_data_path}/fnma_pos_test.parquet'\n",
    "neg_path = f'{clean_data_path}/fnma_neg_test.parquet'\n",
    "\n",
    "pos_data.to_parquet(pos_path)\n",
    "neg_data.to_parquet(neg_path)"
   ]
  },
  {
   "cell_type": "code",
   "execution_count": 76,
   "id": "b4e161c7-51fb-465e-98ca-546d5172e752",
   "metadata": {},
   "outputs": [],
   "source": [
    "# save train and test (not necessary but saves time from re-processing data if you restart kernel)\n",
    "\n",
    "# train_path = 'fnma_train_nvt_ros.parquet'\n",
    "# test_path = 'fnma_test_nvt_ros.parquet'\n",
    "\n",
    "train_path = f'{clean_data_path}/fnma_train_nvt.parquet'\n",
    "test_path = f'{clean_data_path}/fnma_test_nvt.parquet'"
   ]
  },
  {
   "cell_type": "code",
   "execution_count": 77,
   "id": "bb939364-dd42-4284-a875-993401457905",
   "metadata": {},
   "outputs": [],
   "source": [
    "train.to_parquet(train_path)\n",
    "test.to_parquet(test_path)"
   ]
  },
  {
   "cell_type": "code",
   "execution_count": 78,
   "id": "56886a32-f0ac-4331-a6e9-2851ca688f47",
   "metadata": {},
   "outputs": [
    {
     "ename": "TypeError",
     "evalue": "dataset() got an unexpected keyword argument 'metadata_collector'",
     "output_type": "error",
     "traceback": [
      "\u001b[0;31m---------------------------------------------------------------------------\u001b[0m",
      "\u001b[0;31mTypeError\u001b[0m                                 Traceback (most recent call last)",
      "Cell \u001b[0;32mIn[78], line 1\u001b[0m\n\u001b[0;32m----> 1\u001b[0m train_dataset \u001b[38;5;241m=\u001b[39m \u001b[43mTorchAsyncItr\u001b[49m\u001b[43m(\u001b[49m\n\u001b[1;32m      2\u001b[0m \u001b[43m    \u001b[49m\u001b[43mnvt\u001b[49m\u001b[38;5;241;43m.\u001b[39;49m\u001b[43mDataset\u001b[49m\u001b[43m(\u001b[49m\u001b[43mtrain_path\u001b[49m\u001b[43m)\u001b[49m\u001b[43m,\u001b[49m\n\u001b[1;32m      3\u001b[0m \u001b[43m    \u001b[49m\u001b[43mcats\u001b[49m\u001b[38;5;241;43m=\u001b[39;49m\u001b[43mCATEGORICAL_COLUMNS\u001b[49m\u001b[43m,\u001b[49m\n\u001b[1;32m      4\u001b[0m \u001b[43m    \u001b[49m\u001b[43mconts\u001b[49m\u001b[38;5;241;43m=\u001b[39;49m\u001b[43mCONTINUOUS_COLUMNS\u001b[49m\u001b[43m,\u001b[49m\n\u001b[1;32m      5\u001b[0m \u001b[43m    \u001b[49m\u001b[43mlabels\u001b[49m\u001b[38;5;241;43m=\u001b[39;49m\u001b[43mLABEL_COLUMNS\u001b[49m\u001b[43m,\u001b[49m\n\u001b[1;32m      6\u001b[0m \u001b[43m    \u001b[49m\u001b[43mbatch_size\u001b[49m\u001b[38;5;241;43m=\u001b[39;49m\u001b[43mBATCH_SIZE\u001b[49m\u001b[43m,\u001b[49m\n\u001b[1;32m      7\u001b[0m \u001b[43m    \u001b[49m\u001b[43mshuffle\u001b[49m\u001b[38;5;241;43m=\u001b[39;49m\u001b[38;5;28;43;01mTrue\u001b[39;49;00m\n\u001b[1;32m      8\u001b[0m \u001b[43m)\u001b[49m\n\u001b[1;32m     10\u001b[0m train_loader \u001b[38;5;241m=\u001b[39m DLDataLoader(\n\u001b[1;32m     11\u001b[0m    train_dataset,\n\u001b[1;32m     12\u001b[0m    batch_size\u001b[38;5;241m=\u001b[39m\u001b[38;5;28;01mNone\u001b[39;00m,\n\u001b[1;32m     13\u001b[0m    pin_memory\u001b[38;5;241m=\u001b[39m\u001b[38;5;28;01mFalse\u001b[39;00m,\n\u001b[1;32m     14\u001b[0m    num_workers\u001b[38;5;241m=\u001b[39m\u001b[38;5;241m0\u001b[39m\n\u001b[1;32m     15\u001b[0m )\n\u001b[1;32m     17\u001b[0m test_dataset \u001b[38;5;241m=\u001b[39m TorchAsyncItr(\n\u001b[1;32m     18\u001b[0m    nvt\u001b[38;5;241m.\u001b[39mDataset(test_path),\n\u001b[1;32m     19\u001b[0m    cats\u001b[38;5;241m=\u001b[39mCATEGORICAL_COLUMNS,\n\u001b[0;32m   (...)\u001b[0m\n\u001b[1;32m     22\u001b[0m    batch_size\u001b[38;5;241m=\u001b[39mBATCH_SIZE\n\u001b[1;32m     23\u001b[0m )\n",
      "File \u001b[0;32m~/miniconda3/lib/python3.11/site-packages/nvtabular/loader/torch.py:74\u001b[0m, in \u001b[0;36mTorchAsyncItr.__init__\u001b[0;34m(self, dataset, cats, conts, labels, batch_size, shuffle, seed_fn, parts_per_chunk, device, global_size, global_rank, drop_last, sparse_names, sparse_max, sparse_as_dense)\u001b[0m\n\u001b[1;32m     52\u001b[0m \u001b[38;5;28;01mdef\u001b[39;00m \u001b[38;5;21m__init__\u001b[39m(\n\u001b[1;32m     53\u001b[0m     \u001b[38;5;28mself\u001b[39m,\n\u001b[1;32m     54\u001b[0m     dataset,\n\u001b[0;32m   (...)\u001b[0m\n\u001b[1;32m     68\u001b[0m     sparse_as_dense\u001b[38;5;241m=\u001b[39m\u001b[38;5;28;01mFalse\u001b[39;00m,\n\u001b[1;32m     69\u001b[0m ):\n\u001b[1;32m     70\u001b[0m     dataset\u001b[38;5;241m.\u001b[39mschema \u001b[38;5;241m=\u001b[39m _augment_schema(\n\u001b[1;32m     71\u001b[0m         dataset\u001b[38;5;241m.\u001b[39mschema, cats, conts, labels, sparse_names, sparse_max, sparse_as_dense\n\u001b[1;32m     72\u001b[0m     )\n\u001b[0;32m---> 74\u001b[0m     \u001b[38;5;28;43msuper\u001b[39;49m\u001b[43m(\u001b[49m\u001b[43m)\u001b[49m\u001b[38;5;241;43m.\u001b[39;49m\u001b[38;5;21;43m__init__\u001b[39;49m\u001b[43m(\u001b[49m\n\u001b[1;32m     75\u001b[0m \u001b[43m        \u001b[49m\u001b[43mdataset\u001b[49m\u001b[43m,\u001b[49m\n\u001b[1;32m     76\u001b[0m \u001b[43m        \u001b[49m\u001b[43mbatch_size\u001b[49m\u001b[43m,\u001b[49m\n\u001b[1;32m     77\u001b[0m \u001b[43m        \u001b[49m\u001b[43mshuffle\u001b[49m\u001b[38;5;241;43m=\u001b[39;49m\u001b[43mshuffle\u001b[49m\u001b[43m,\u001b[49m\n\u001b[1;32m     78\u001b[0m \u001b[43m        \u001b[49m\u001b[43mseed_fn\u001b[49m\u001b[38;5;241;43m=\u001b[39;49m\u001b[43mseed_fn\u001b[49m\u001b[43m,\u001b[49m\n\u001b[1;32m     79\u001b[0m \u001b[43m        \u001b[49m\u001b[43mparts_per_chunk\u001b[49m\u001b[38;5;241;43m=\u001b[39;49m\u001b[43mparts_per_chunk\u001b[49m\u001b[43m,\u001b[49m\n\u001b[1;32m     80\u001b[0m \u001b[43m        \u001b[49m\u001b[43mglobal_size\u001b[49m\u001b[38;5;241;43m=\u001b[39;49m\u001b[43mglobal_size\u001b[49m\u001b[43m,\u001b[49m\n\u001b[1;32m     81\u001b[0m \u001b[43m        \u001b[49m\u001b[43mglobal_rank\u001b[49m\u001b[38;5;241;43m=\u001b[39;49m\u001b[43mglobal_rank\u001b[49m\u001b[43m,\u001b[49m\n\u001b[1;32m     82\u001b[0m \u001b[43m        \u001b[49m\u001b[43mdrop_last\u001b[49m\u001b[38;5;241;43m=\u001b[39;49m\u001b[43mdrop_last\u001b[49m\u001b[43m,\u001b[49m\n\u001b[1;32m     83\u001b[0m \u001b[43m    \u001b[49m\u001b[43m)\u001b[49m\n",
      "File \u001b[0;32m~/miniconda3/lib/python3.11/site-packages/merlin/dataloader/torch.py:39\u001b[0m, in \u001b[0;36mLoader.__init__\u001b[0;34m(self, dataset, batch_size, shuffle, seed_fn, parts_per_chunk, global_size, global_rank, drop_last, transforms, device)\u001b[0m\n\u001b[1;32m     26\u001b[0m \u001b[38;5;28;01mdef\u001b[39;00m \u001b[38;5;21m__init__\u001b[39m(\n\u001b[1;32m     27\u001b[0m     \u001b[38;5;28mself\u001b[39m,\n\u001b[1;32m     28\u001b[0m     dataset,\n\u001b[0;32m   (...)\u001b[0m\n\u001b[1;32m     37\u001b[0m     device\u001b[38;5;241m=\u001b[39m\u001b[38;5;28;01mNone\u001b[39;00m,\n\u001b[1;32m     38\u001b[0m ):\n\u001b[0;32m---> 39\u001b[0m     \u001b[38;5;28;43msuper\u001b[39;49m\u001b[43m(\u001b[49m\u001b[43m)\u001b[49m\u001b[38;5;241;43m.\u001b[39;49m\u001b[38;5;21;43m__init__\u001b[39;49m\u001b[43m(\u001b[49m\n\u001b[1;32m     40\u001b[0m \u001b[43m        \u001b[49m\u001b[43mdataset\u001b[49m\u001b[43m,\u001b[49m\n\u001b[1;32m     41\u001b[0m \u001b[43m        \u001b[49m\u001b[43mbatch_size\u001b[49m\u001b[43m,\u001b[49m\n\u001b[1;32m     42\u001b[0m \u001b[43m        \u001b[49m\u001b[43mshuffle\u001b[49m\u001b[43m,\u001b[49m\n\u001b[1;32m     43\u001b[0m \u001b[43m        \u001b[49m\u001b[43mseed_fn\u001b[49m\u001b[43m,\u001b[49m\n\u001b[1;32m     44\u001b[0m \u001b[43m        \u001b[49m\u001b[43mparts_per_chunk\u001b[49m\u001b[43m,\u001b[49m\n\u001b[1;32m     45\u001b[0m \u001b[43m        \u001b[49m\u001b[43mglobal_size\u001b[49m\u001b[43m,\u001b[49m\n\u001b[1;32m     46\u001b[0m \u001b[43m        \u001b[49m\u001b[43mglobal_rank\u001b[49m\u001b[43m,\u001b[49m\n\u001b[1;32m     47\u001b[0m \u001b[43m        \u001b[49m\u001b[43mdrop_last\u001b[49m\u001b[43m,\u001b[49m\n\u001b[1;32m     48\u001b[0m \u001b[43m        \u001b[49m\u001b[43mtransforms\u001b[49m\u001b[43m,\u001b[49m\n\u001b[1;32m     49\u001b[0m \u001b[43m        \u001b[49m\u001b[43mdevice\u001b[49m\u001b[43m,\u001b[49m\n\u001b[1;32m     50\u001b[0m \u001b[43m    \u001b[49m\u001b[43m)\u001b[49m\n\u001b[1;32m     52\u001b[0m     \u001b[38;5;28mself\u001b[39m\u001b[38;5;241m.\u001b[39mcreate_table \u001b[38;5;241m=\u001b[39m partial(TensorTable, _unsafe\u001b[38;5;241m=\u001b[39m\u001b[38;5;28;01mTrue\u001b[39;00m)\n\u001b[1;32m     53\u001b[0m     \u001b[38;5;28mself\u001b[39m\u001b[38;5;241m.\u001b[39mcreate_column \u001b[38;5;241m=\u001b[39m partial(TensorColumn, _unsafe\u001b[38;5;241m=\u001b[39m\u001b[38;5;28;01mTrue\u001b[39;00m)\n",
      "File \u001b[0;32m~/miniconda3/lib/python3.11/site-packages/merlin/dataloader/loader_base.py:83\u001b[0m, in \u001b[0;36mLoaderBase.__init__\u001b[0;34m(self, dataset, batch_size, shuffle, seed_fn, parts_per_chunk, global_size, global_rank, drop_last, transforms, device)\u001b[0m\n\u001b[1;32m     80\u001b[0m \u001b[38;5;28;01melse\u001b[39;00m:\n\u001b[1;32m     81\u001b[0m     \u001b[38;5;28mself\u001b[39m\u001b[38;5;241m.\u001b[39m_array_lib \u001b[38;5;241m=\u001b[39m cupy\n\u001b[0;32m---> 83\u001b[0m \u001b[38;5;28mself\u001b[39m\u001b[38;5;241m.\u001b[39mindices \u001b[38;5;241m=\u001b[39m \u001b[38;5;28mself\u001b[39m\u001b[38;5;241m.\u001b[39m_array_lib\u001b[38;5;241m.\u001b[39marange(\u001b[38;5;28;43mself\u001b[39;49m\u001b[38;5;241;43m.\u001b[39;49m\u001b[43mdataset\u001b[49m\u001b[38;5;241;43m.\u001b[39;49m\u001b[43mnpartitions\u001b[49m)\n\u001b[1;32m     85\u001b[0m \u001b[38;5;28;01mif\u001b[39;00m \u001b[38;5;129;01mnot\u001b[39;00m dataset\u001b[38;5;241m.\u001b[39mschema:\n\u001b[1;32m     86\u001b[0m     warnings\u001b[38;5;241m.\u001b[39mwarn(\n\u001b[1;32m     87\u001b[0m         \u001b[38;5;124m\"\u001b[39m\u001b[38;5;124mno schema associated with the input dataset. \u001b[39m\u001b[38;5;124m\"\u001b[39m\n\u001b[1;32m     88\u001b[0m         \u001b[38;5;124m\"\u001b[39m\u001b[38;5;124mCalling dataset.infer_schema to automatically generate\u001b[39m\u001b[38;5;124m\"\u001b[39m\n\u001b[1;32m     89\u001b[0m     )\n",
      "File \u001b[0;32m~/miniconda3/lib/python3.11/site-packages/merlin/io/dataset.py:1130\u001b[0m, in \u001b[0;36mDataset.npartitions\u001b[0;34m(self)\u001b[0m\n\u001b[1;32m   1128\u001b[0m \u001b[38;5;129m@property\u001b[39m\n\u001b[1;32m   1129\u001b[0m \u001b[38;5;28;01mdef\u001b[39;00m \u001b[38;5;21mnpartitions\u001b[39m(\u001b[38;5;28mself\u001b[39m):\n\u001b[0;32m-> 1130\u001b[0m     \u001b[38;5;28;01mreturn\u001b[39;00m \u001b[38;5;28;43mself\u001b[39;49m\u001b[38;5;241;43m.\u001b[39;49m\u001b[43mto_ddf\u001b[49m\u001b[43m(\u001b[49m\u001b[43m)\u001b[49m\u001b[38;5;241m.\u001b[39mnpartitions\n",
      "File \u001b[0;32m~/miniconda3/lib/python3.11/site-packages/merlin/io/dataset.py:404\u001b[0m, in \u001b[0;36mDataset.to_ddf\u001b[0;34m(self, columns, shuffle, seed)\u001b[0m\n\u001b[1;32m    386\u001b[0m \u001b[38;5;250m\u001b[39m\u001b[38;5;124;03m\"\"\"Convert `Dataset` object to `dask_cudf.DataFrame`\u001b[39;00m\n\u001b[1;32m    387\u001b[0m \n\u001b[1;32m    388\u001b[0m \u001b[38;5;124;03mParameters\u001b[39;00m\n\u001b[0;32m   (...)\u001b[0m\n\u001b[1;32m    401\u001b[0m \u001b[38;5;124;03m    `random` std library.\u001b[39;00m\n\u001b[1;32m    402\u001b[0m \u001b[38;5;124;03m\"\"\"\u001b[39;00m\n\u001b[1;32m    403\u001b[0m \u001b[38;5;66;03m# Use DatasetEngine to create ddf\u001b[39;00m\n\u001b[0;32m--> 404\u001b[0m ddf \u001b[38;5;241m=\u001b[39m \u001b[38;5;28;43mself\u001b[39;49m\u001b[38;5;241;43m.\u001b[39;49m\u001b[43mengine\u001b[49m\u001b[38;5;241;43m.\u001b[39;49m\u001b[43mto_ddf\u001b[49m\u001b[43m(\u001b[49m\u001b[43mcolumns\u001b[49m\u001b[38;5;241;43m=\u001b[39;49m\u001b[43mcolumns\u001b[49m\u001b[43m)\u001b[49m\n\u001b[1;32m    406\u001b[0m \u001b[38;5;66;03m# Shuffle the partitions of ddf (optional)\u001b[39;00m\n\u001b[1;32m    407\u001b[0m \u001b[38;5;28;01mif\u001b[39;00m shuffle \u001b[38;5;129;01mand\u001b[39;00m ddf\u001b[38;5;241m.\u001b[39mnpartitions \u001b[38;5;241m>\u001b[39m \u001b[38;5;241m1\u001b[39m:\n\u001b[1;32m    408\u001b[0m     \u001b[38;5;66;03m# Start with ordered partitions\u001b[39;00m\n",
      "File \u001b[0;32m~/miniconda3/lib/python3.11/site-packages/merlin/io/parquet.py:457\u001b[0m, in \u001b[0;36mParquetDatasetEngine.to_ddf\u001b[0;34m(self, columns, cpu)\u001b[0m\n\u001b[1;32m    455\u001b[0m dataset_kwargs \u001b[38;5;241m=\u001b[39m {\u001b[38;5;124m\"\u001b[39m\u001b[38;5;124mmetadata_collector\u001b[39m\u001b[38;5;124m\"\u001b[39m: metadata_collector}\n\u001b[1;32m    456\u001b[0m dataset_kwargs\u001b[38;5;241m.\u001b[39mupdate(\u001b[38;5;28mself\u001b[39m\u001b[38;5;241m.\u001b[39mdataset_kwargs)\n\u001b[0;32m--> 457\u001b[0m ddf \u001b[38;5;241m=\u001b[39m \u001b[43mdd\u001b[49m\u001b[38;5;241;43m.\u001b[39;49m\u001b[43mread_parquet\u001b[49m\u001b[43m(\u001b[49m\n\u001b[1;32m    458\u001b[0m \u001b[43m    \u001b[49m\u001b[38;5;28;43mself\u001b[39;49m\u001b[38;5;241;43m.\u001b[39;49m\u001b[43mpaths\u001b[49m\u001b[43m,\u001b[49m\n\u001b[1;32m    459\u001b[0m \u001b[43m    \u001b[49m\u001b[43mcolumns\u001b[49m\u001b[38;5;241;43m=\u001b[39;49m\u001b[43mcolumns\u001b[49m\u001b[43m,\u001b[49m\n\u001b[1;32m    460\u001b[0m \u001b[43m    \u001b[49m\u001b[43mengine\u001b[49m\u001b[38;5;241;43m=\u001b[39;49m\u001b[43mbackend_engine\u001b[49m\u001b[43m,\u001b[49m\n\u001b[1;32m    461\u001b[0m \u001b[43m    \u001b[49m\u001b[43mindex\u001b[49m\u001b[38;5;241;43m=\u001b[39;49m\u001b[38;5;28;43;01mFalse\u001b[39;49;00m\u001b[43m,\u001b[49m\n\u001b[1;32m    462\u001b[0m \u001b[43m    \u001b[49m\u001b[43maggregate_files\u001b[49m\u001b[38;5;241;43m=\u001b[39;49m\u001b[38;5;28;43mself\u001b[39;49m\u001b[38;5;241;43m.\u001b[39;49m\u001b[43maggregate_files\u001b[49m\u001b[43m,\u001b[49m\n\u001b[1;32m    463\u001b[0m \u001b[43m    \u001b[49m\u001b[43mfilters\u001b[49m\u001b[38;5;241;43m=\u001b[39;49m\u001b[38;5;28;43mself\u001b[39;49m\u001b[38;5;241;43m.\u001b[39;49m\u001b[43mfilters\u001b[49m\u001b[43m,\u001b[49m\n\u001b[1;32m    464\u001b[0m \u001b[43m    \u001b[49m\u001b[43msplit_row_groups\u001b[49m\u001b[38;5;241;43m=\u001b[39;49m\u001b[38;5;28;43mself\u001b[39;49m\u001b[38;5;241;43m.\u001b[39;49m\u001b[43mrow_groups_per_part\u001b[49m\u001b[43m,\u001b[49m\n\u001b[1;32m    465\u001b[0m \u001b[43m    \u001b[49m\u001b[43mstorage_options\u001b[49m\u001b[38;5;241;43m=\u001b[39;49m\u001b[38;5;28;43mself\u001b[39;49m\u001b[38;5;241;43m.\u001b[39;49m\u001b[43mstorage_options\u001b[49m\u001b[43m,\u001b[49m\n\u001b[1;32m    466\u001b[0m \u001b[43m    \u001b[49m\u001b[43mdataset\u001b[49m\u001b[38;5;241;43m=\u001b[39;49m\u001b[43mdataset_kwargs\u001b[49m\u001b[43m,\u001b[49m\n\u001b[1;32m    467\u001b[0m \u001b[43m    \u001b[49m\u001b[38;5;241;43m*\u001b[39;49m\u001b[38;5;241;43m*\u001b[39;49m\u001b[38;5;28;43mself\u001b[39;49m\u001b[38;5;241;43m.\u001b[39;49m\u001b[43mread_parquet_kwargs\u001b[49m\u001b[43m,\u001b[49m\n\u001b[1;32m    468\u001b[0m \u001b[43m\u001b[49m\u001b[43m)\u001b[49m\n\u001b[1;32m    469\u001b[0m \u001b[38;5;28mself\u001b[39m\u001b[38;5;241m.\u001b[39m_pp_metadata \u001b[38;5;241m=\u001b[39m metadata_collector\n\u001b[1;32m    470\u001b[0m \u001b[38;5;28;01mreturn\u001b[39;00m ddf\n",
      "File \u001b[0;32m~/miniconda3/lib/python3.11/site-packages/dask_expr/_collection.py:5431\u001b[0m, in \u001b[0;36mread_parquet\u001b[0;34m(path, columns, filters, categories, index, storage_options, dtype_backend, calculate_divisions, ignore_metadata_file, metadata_task_size, split_row_groups, blocksize, aggregate_files, parquet_file_extension, filesystem, engine, arrow_to_pandas, **kwargs)\u001b[0m\n\u001b[1;32m   5408\u001b[0m         \u001b[38;5;28;01mraise\u001b[39;00m \u001b[38;5;167;01mNotImplementedError\u001b[39;00m(\n\u001b[1;32m   5409\u001b[0m             \u001b[38;5;124m\"\u001b[39m\u001b[38;5;124mengine is not supported when using the pyarrow filesystem.\u001b[39m\u001b[38;5;124m\"\u001b[39m\n\u001b[1;32m   5410\u001b[0m         )\n\u001b[1;32m   5412\u001b[0m     \u001b[38;5;28;01mreturn\u001b[39;00m new_collection(\n\u001b[1;32m   5413\u001b[0m         ReadParquetPyarrowFS(\n\u001b[1;32m   5414\u001b[0m             path,\n\u001b[0;32m   (...)\u001b[0m\n\u001b[1;32m   5427\u001b[0m         )\n\u001b[1;32m   5428\u001b[0m     )\n\u001b[1;32m   5430\u001b[0m \u001b[38;5;28;01mreturn\u001b[39;00m new_collection(\n\u001b[0;32m-> 5431\u001b[0m     \u001b[43mReadParquetFSSpec\u001b[49m\u001b[43m(\u001b[49m\n\u001b[1;32m   5432\u001b[0m \u001b[43m        \u001b[49m\u001b[43mpath\u001b[49m\u001b[43m,\u001b[49m\n\u001b[1;32m   5433\u001b[0m \u001b[43m        \u001b[49m\u001b[43mcolumns\u001b[49m\u001b[38;5;241;43m=\u001b[39;49m\u001b[43m_convert_to_list\u001b[49m\u001b[43m(\u001b[49m\u001b[43mcolumns\u001b[49m\u001b[43m)\u001b[49m\u001b[43m,\u001b[49m\n\u001b[1;32m   5434\u001b[0m \u001b[43m        \u001b[49m\u001b[43mfilters\u001b[49m\u001b[38;5;241;43m=\u001b[39;49m\u001b[43mfilters\u001b[49m\u001b[43m,\u001b[49m\n\u001b[1;32m   5435\u001b[0m \u001b[43m        \u001b[49m\u001b[43mcategories\u001b[49m\u001b[38;5;241;43m=\u001b[39;49m\u001b[43mcategories\u001b[49m\u001b[43m,\u001b[49m\n\u001b[1;32m   5436\u001b[0m \u001b[43m        \u001b[49m\u001b[43mindex\u001b[49m\u001b[38;5;241;43m=\u001b[39;49m\u001b[43mindex\u001b[49m\u001b[43m,\u001b[49m\n\u001b[1;32m   5437\u001b[0m \u001b[43m        \u001b[49m\u001b[43mstorage_options\u001b[49m\u001b[38;5;241;43m=\u001b[39;49m\u001b[43mstorage_options\u001b[49m\u001b[43m,\u001b[49m\n\u001b[1;32m   5438\u001b[0m \u001b[43m        \u001b[49m\u001b[43mcalculate_divisions\u001b[49m\u001b[38;5;241;43m=\u001b[39;49m\u001b[43mcalculate_divisions\u001b[49m\u001b[43m,\u001b[49m\n\u001b[1;32m   5439\u001b[0m \u001b[43m        \u001b[49m\u001b[43mignore_metadata_file\u001b[49m\u001b[38;5;241;43m=\u001b[39;49m\u001b[43mignore_metadata_file\u001b[49m\u001b[43m,\u001b[49m\n\u001b[1;32m   5440\u001b[0m \u001b[43m        \u001b[49m\u001b[43mmetadata_task_size\u001b[49m\u001b[38;5;241;43m=\u001b[39;49m\u001b[43mmetadata_task_size\u001b[49m\u001b[43m,\u001b[49m\n\u001b[1;32m   5441\u001b[0m \u001b[43m        \u001b[49m\u001b[43msplit_row_groups\u001b[49m\u001b[38;5;241;43m=\u001b[39;49m\u001b[43msplit_row_groups\u001b[49m\u001b[43m,\u001b[49m\n\u001b[1;32m   5442\u001b[0m \u001b[43m        \u001b[49m\u001b[43mblocksize\u001b[49m\u001b[38;5;241;43m=\u001b[39;49m\u001b[43mblocksize\u001b[49m\u001b[43m,\u001b[49m\n\u001b[1;32m   5443\u001b[0m \u001b[43m        \u001b[49m\u001b[43maggregate_files\u001b[49m\u001b[38;5;241;43m=\u001b[39;49m\u001b[43maggregate_files\u001b[49m\u001b[43m,\u001b[49m\n\u001b[1;32m   5444\u001b[0m \u001b[43m        \u001b[49m\u001b[43mparquet_file_extension\u001b[49m\u001b[38;5;241;43m=\u001b[39;49m\u001b[43mparquet_file_extension\u001b[49m\u001b[43m,\u001b[49m\n\u001b[1;32m   5445\u001b[0m \u001b[43m        \u001b[49m\u001b[43mfilesystem\u001b[49m\u001b[38;5;241;43m=\u001b[39;49m\u001b[43mfilesystem\u001b[49m\u001b[43m,\u001b[49m\n\u001b[1;32m   5446\u001b[0m \u001b[43m        \u001b[49m\u001b[43mengine\u001b[49m\u001b[38;5;241;43m=\u001b[39;49m\u001b[43m_set_parquet_engine\u001b[49m\u001b[43m(\u001b[49m\u001b[43mengine\u001b[49m\u001b[43m)\u001b[49m\u001b[43m,\u001b[49m\n\u001b[1;32m   5447\u001b[0m \u001b[43m        \u001b[49m\u001b[43mkwargs\u001b[49m\u001b[38;5;241;43m=\u001b[39;49m\u001b[43mkwargs\u001b[49m\u001b[43m,\u001b[49m\n\u001b[1;32m   5448\u001b[0m \u001b[43m        \u001b[49m\u001b[43m_series\u001b[49m\u001b[38;5;241;43m=\u001b[39;49m\u001b[38;5;28;43misinstance\u001b[39;49m\u001b[43m(\u001b[49m\u001b[43mcolumns\u001b[49m\u001b[43m,\u001b[49m\u001b[43m \u001b[49m\u001b[38;5;28;43mstr\u001b[39;49m\u001b[43m)\u001b[49m\u001b[43m,\u001b[49m\n\u001b[1;32m   5449\u001b[0m \u001b[43m    \u001b[49m\u001b[43m)\u001b[49m\n\u001b[1;32m   5450\u001b[0m )\n",
      "File \u001b[0;32m~/miniconda3/lib/python3.11/site-packages/dask_expr/_core.py:57\u001b[0m, in \u001b[0;36mExpr.__new__\u001b[0;34m(cls, *args, **kwargs)\u001b[0m\n\u001b[1;32m     55\u001b[0m inst \u001b[38;5;241m=\u001b[39m \u001b[38;5;28mobject\u001b[39m\u001b[38;5;241m.\u001b[39m\u001b[38;5;21m__new__\u001b[39m(\u001b[38;5;28mcls\u001b[39m)\n\u001b[1;32m     56\u001b[0m inst\u001b[38;5;241m.\u001b[39moperands \u001b[38;5;241m=\u001b[39m [_unpack_collections(o) \u001b[38;5;28;01mfor\u001b[39;00m o \u001b[38;5;129;01min\u001b[39;00m operands]\n\u001b[0;32m---> 57\u001b[0m _name \u001b[38;5;241m=\u001b[39m \u001b[43minst\u001b[49m\u001b[38;5;241;43m.\u001b[39;49m\u001b[43m_name\u001b[49m\n\u001b[1;32m     58\u001b[0m \u001b[38;5;28;01mif\u001b[39;00m _name \u001b[38;5;129;01min\u001b[39;00m Expr\u001b[38;5;241m.\u001b[39m_instances:\n\u001b[1;32m     59\u001b[0m     \u001b[38;5;28;01mreturn\u001b[39;00m Expr\u001b[38;5;241m.\u001b[39m_instances[_name]\n",
      "File \u001b[0;32m~/miniconda3/lib/python3.11/functools.py:1001\u001b[0m, in \u001b[0;36mcached_property.__get__\u001b[0;34m(self, instance, owner)\u001b[0m\n\u001b[1;32m    999\u001b[0m val \u001b[38;5;241m=\u001b[39m cache\u001b[38;5;241m.\u001b[39mget(\u001b[38;5;28mself\u001b[39m\u001b[38;5;241m.\u001b[39mattrname, _NOT_FOUND)\n\u001b[1;32m   1000\u001b[0m \u001b[38;5;28;01mif\u001b[39;00m val \u001b[38;5;129;01mis\u001b[39;00m _NOT_FOUND:\n\u001b[0;32m-> 1001\u001b[0m     val \u001b[38;5;241m=\u001b[39m \u001b[38;5;28;43mself\u001b[39;49m\u001b[38;5;241;43m.\u001b[39;49m\u001b[43mfunc\u001b[49m\u001b[43m(\u001b[49m\u001b[43minstance\u001b[49m\u001b[43m)\u001b[49m\n\u001b[1;32m   1002\u001b[0m     \u001b[38;5;28;01mtry\u001b[39;00m:\n\u001b[1;32m   1003\u001b[0m         cache[\u001b[38;5;28mself\u001b[39m\u001b[38;5;241m.\u001b[39mattrname] \u001b[38;5;241m=\u001b[39m val\n",
      "File \u001b[0;32m~/miniconda3/lib/python3.11/site-packages/dask_expr/io/parquet.py:778\u001b[0m, in \u001b[0;36mReadParquet._name\u001b[0;34m(self)\u001b[0m\n\u001b[1;32m    772\u001b[0m \u001b[38;5;129m@cached_property\u001b[39m\n\u001b[1;32m    773\u001b[0m \u001b[38;5;28;01mdef\u001b[39;00m \u001b[38;5;21m_name\u001b[39m(\u001b[38;5;28mself\u001b[39m):\n\u001b[1;32m    774\u001b[0m     \u001b[38;5;28;01mreturn\u001b[39;00m (\n\u001b[1;32m    775\u001b[0m         \u001b[38;5;28mself\u001b[39m\u001b[38;5;241m.\u001b[39m_funcname\n\u001b[1;32m    776\u001b[0m         \u001b[38;5;241m+\u001b[39m \u001b[38;5;124m\"\u001b[39m\u001b[38;5;124m-\u001b[39m\u001b[38;5;124m\"\u001b[39m\n\u001b[1;32m    777\u001b[0m         \u001b[38;5;241m+\u001b[39m _tokenize_deterministic(\n\u001b[0;32m--> 778\u001b[0m             funcname(\u001b[38;5;28mtype\u001b[39m(\u001b[38;5;28mself\u001b[39m)), \u001b[38;5;28;43mself\u001b[39;49m\u001b[38;5;241;43m.\u001b[39;49m\u001b[43mchecksum\u001b[49m, \u001b[38;5;241m*\u001b[39m\u001b[38;5;28mself\u001b[39m\u001b[38;5;241m.\u001b[39moperands[:\u001b[38;5;241m-\u001b[39m\u001b[38;5;241m1\u001b[39m]\n\u001b[1;32m    779\u001b[0m         )\n\u001b[1;32m    780\u001b[0m     )\n",
      "File \u001b[0;32m~/miniconda3/lib/python3.11/site-packages/dask_expr/io/parquet.py:784\u001b[0m, in \u001b[0;36mReadParquet.checksum\u001b[0;34m(self)\u001b[0m\n\u001b[1;32m    782\u001b[0m \u001b[38;5;129m@property\u001b[39m\n\u001b[1;32m    783\u001b[0m \u001b[38;5;28;01mdef\u001b[39;00m \u001b[38;5;21mchecksum\u001b[39m(\u001b[38;5;28mself\u001b[39m):\n\u001b[0;32m--> 784\u001b[0m     \u001b[38;5;28;01mreturn\u001b[39;00m \u001b[38;5;28;43mself\u001b[39;49m\u001b[38;5;241;43m.\u001b[39;49m\u001b[43m_dataset_info\u001b[49m[\u001b[38;5;124m\"\u001b[39m\u001b[38;5;124mchecksum\u001b[39m\u001b[38;5;124m\"\u001b[39m]\n",
      "File \u001b[0;32m~/miniconda3/lib/python3.11/site-packages/dask_expr/io/parquet.py:1356\u001b[0m, in \u001b[0;36mReadParquetFSSpec._dataset_info\u001b[0;34m(self)\u001b[0m\n\u001b[1;32m   1336\u001b[0m \u001b[38;5;66;03m# Collect general dataset info\u001b[39;00m\n\u001b[1;32m   1337\u001b[0m args \u001b[38;5;241m=\u001b[39m (\n\u001b[1;32m   1338\u001b[0m     paths,\n\u001b[1;32m   1339\u001b[0m     fs,\n\u001b[0;32m   (...)\u001b[0m\n\u001b[1;32m   1354\u001b[0m     },\n\u001b[1;32m   1355\u001b[0m )\n\u001b[0;32m-> 1356\u001b[0m dataset_info \u001b[38;5;241m=\u001b[39m \u001b[38;5;28;43mself\u001b[39;49m\u001b[38;5;241;43m.\u001b[39;49m\u001b[43mengine\u001b[49m\u001b[38;5;241;43m.\u001b[39;49m\u001b[43m_collect_dataset_info\u001b[49m\u001b[43m(\u001b[49m\u001b[38;5;241;43m*\u001b[39;49m\u001b[43margs\u001b[49m\u001b[43m)\u001b[49m\n\u001b[1;32m   1357\u001b[0m checksum \u001b[38;5;241m=\u001b[39m []\n\u001b[1;32m   1358\u001b[0m files_for_checksum \u001b[38;5;241m=\u001b[39m []\n",
      "File \u001b[0;32m~/miniconda3/lib/python3.11/site-packages/dask/dataframe/io/parquet/arrow.py:1051\u001b[0m, in \u001b[0;36mArrowDatasetEngine._collect_dataset_info\u001b[0;34m(cls, paths, fs, categories, index, gather_statistics, filters, split_row_groups, blocksize, aggregate_files, ignore_metadata_file, metadata_task_size, parquet_file_extension, kwargs)\u001b[0m\n\u001b[1;32m   1049\u001b[0m \u001b[38;5;66;03m# Final \"catch-all\" pyarrow.dataset call\u001b[39;00m\n\u001b[1;32m   1050\u001b[0m \u001b[38;5;28;01mif\u001b[39;00m ds \u001b[38;5;129;01mis\u001b[39;00m \u001b[38;5;28;01mNone\u001b[39;00m:\n\u001b[0;32m-> 1051\u001b[0m     ds \u001b[38;5;241m=\u001b[39m \u001b[43mpa_ds\u001b[49m\u001b[38;5;241;43m.\u001b[39;49m\u001b[43mdataset\u001b[49m\u001b[43m(\u001b[49m\n\u001b[1;32m   1052\u001b[0m \u001b[43m        \u001b[49m\u001b[43mpaths\u001b[49m\u001b[43m,\u001b[49m\n\u001b[1;32m   1053\u001b[0m \u001b[43m        \u001b[49m\u001b[43mfilesystem\u001b[49m\u001b[38;5;241;43m=\u001b[39;49m\u001b[43m_wrapped_fs\u001b[49m\u001b[43m(\u001b[49m\u001b[43mfs\u001b[49m\u001b[43m)\u001b[49m\u001b[43m,\u001b[49m\n\u001b[1;32m   1054\u001b[0m \u001b[43m        \u001b[49m\u001b[38;5;241;43m*\u001b[39;49m\u001b[38;5;241;43m*\u001b[39;49m\u001b[43m_processed_dataset_kwargs\u001b[49m\u001b[43m,\u001b[49m\n\u001b[1;32m   1055\u001b[0m \u001b[43m    \u001b[49m\u001b[43m)\u001b[49m\n\u001b[1;32m   1057\u001b[0m \u001b[38;5;66;03m# Get file_frag sample and extract physical_schema\u001b[39;00m\n\u001b[1;32m   1058\u001b[0m \u001b[38;5;28;01mtry\u001b[39;00m:\n",
      "\u001b[0;31mTypeError\u001b[0m: dataset() got an unexpected keyword argument 'metadata_collector'"
     ]
    }
   ],
   "source": [
    "train_dataset = TorchAsyncItr(\n",
    "    nvt.Dataset(train_path),\n",
    "    cats=CATEGORICAL_COLUMNS,\n",
    "    conts=CONTINUOUS_COLUMNS,\n",
    "    labels=LABEL_COLUMNS,\n",
    "    batch_size=BATCH_SIZE,\n",
    "    shuffle=True\n",
    ")\n",
    "\n",
    "train_loader = DLDataLoader(\n",
    "   train_dataset,\n",
    "   batch_size=None,\n",
    "   pin_memory=False,\n",
    "   num_workers=0\n",
    ")\n",
    "\n",
    "test_dataset = TorchAsyncItr(\n",
    "   nvt.Dataset(test_path),\n",
    "   cats=CATEGORICAL_COLUMNS,\n",
    "   conts=CONTINUOUS_COLUMNS,\n",
    "   labels=LABEL_COLUMNS,\n",
    "   batch_size=BATCH_SIZE\n",
    ")\n",
    "\n",
    "test_loader = DLDataLoader(\n",
    "   test_dataset,\n",
    "   batch_size=None,\n",
    "   pin_memory=False,\n",
    "   num_workers=0\n",
    ")"
   ]
  },
  {
   "cell_type": "code",
   "execution_count": 79,
   "id": "dd29073b-5ccf-4cbe-946d-ae7a3a1015ab",
   "metadata": {},
   "outputs": [
    {
     "name": "stdout",
     "output_type": "stream",
     "text": [
      "binaryClassification(\n",
      "  (layer_1): Linear(in_features=20, out_features=512, bias=True)\n",
      "  (layer_2): Linear(in_features=512, out_features=512, bias=True)\n",
      "  (layer_3): Linear(in_features=512, out_features=512, bias=True)\n",
      "  (layer_4): Linear(in_features=512, out_features=512, bias=True)\n",
      "  (layer_5): Linear(in_features=512, out_features=512, bias=True)\n",
      "  (layer_out): Linear(in_features=512, out_features=1, bias=True)\n",
      "  (prelu1): PReLU(num_parameters=1)\n",
      "  (prelu2): PReLU(num_parameters=1)\n",
      "  (prelu3): PReLU(num_parameters=1)\n",
      "  (prelu4): PReLU(num_parameters=1)\n",
      "  (prelu5): PReLU(num_parameters=1)\n",
      "  (dropout1): Dropout(p=0.1, inplace=False)\n",
      "  (dropout2): Dropout(p=0.1, inplace=False)\n",
      "  (dropout3): Dropout(p=0.1, inplace=False)\n",
      "  (dropout4): Dropout(p=0.1, inplace=False)\n",
      "  (batchnorm1): BatchNorm1d(512, eps=1e-05, momentum=0.1, affine=True, track_running_stats=True)\n",
      "  (batchnorm2): BatchNorm1d(512, eps=1e-05, momentum=0.1, affine=True, track_running_stats=True)\n",
      "  (batchnorm3): BatchNorm1d(512, eps=1e-05, momentum=0.1, affine=True, track_running_stats=True)\n",
      "  (batchnorm4): BatchNorm1d(512, eps=1e-05, momentum=0.1, affine=True, track_running_stats=True)\n",
      "  (batchnorm5): BatchNorm1d(512, eps=1e-05, momentum=0.1, affine=True, track_running_stats=True)\n",
      ")\n"
     ]
    }
   ],
   "source": [
    "###### Model Training - NVTabular Dataloader\n",
    "model = binaryClassification(cat_cards=cards, numer_dims=len(CONTINUOUS_COLUMNS)).to(device)\n",
    "\n",
    "print(model)\n",
    "criterion = nn.BCEWithLogitsLoss() # pos_weight=torch.tensor(25, device=device)\n",
    "optimizer = optim.Adam(model.parameters(), lr=LEARNING_RATE)"
   ]
  },
  {
   "cell_type": "code",
   "execution_count": 80,
   "id": "dd06c661-18f5-4c77-88da-b395f8906428",
   "metadata": {},
   "outputs": [
    {
     "ename": "NameError",
     "evalue": "name 'train_loader' is not defined",
     "output_type": "error",
     "traceback": [
      "\u001b[0;31m---------------------------------------------------------------------------\u001b[0m",
      "\u001b[0;31mNameError\u001b[0m                                 Traceback (most recent call last)",
      "Cell \u001b[0;32mIn[80], line 15\u001b[0m\n\u001b[1;32m     13\u001b[0m epoch_loss \u001b[38;5;241m=\u001b[39m \u001b[38;5;241m0\u001b[39m\n\u001b[1;32m     14\u001b[0m epoch_acc \u001b[38;5;241m=\u001b[39m \u001b[38;5;241m0\u001b[39m\n\u001b[0;32m---> 15\u001b[0m train_loss, train_logits, train_targets \u001b[38;5;241m=\u001b[39m train_epoch(model, \u001b[43mtrain_loader\u001b[49m, optimizer, criterion, metric\u001b[38;5;241m=\u001b[39mbinary_acc, device\u001b[38;5;241m=\u001b[39mdevice,\n\u001b[1;32m     16\u001b[0m                          epoch\u001b[38;5;241m=\u001b[39me)\n\u001b[1;32m     17\u001b[0m epoch_f1_score, threshold \u001b[38;5;241m=\u001b[39m calc_metrics(model, train_targets, train_logits, test_loader, criterion, device, use_cpu)\n\u001b[1;32m     18\u001b[0m \u001b[38;5;28;01mif\u001b[39;00m epoch_f1_score \u001b[38;5;241m>\u001b[39m max_f1:\n",
      "\u001b[0;31mNameError\u001b[0m: name 'train_loader' is not defined"
     ]
    }
   ],
   "source": [
    "def binary_acc(y_pred, y_test):\n",
    "    with torch.no_grad():\n",
    "        y_pred_tag = torch.round(torch.sigmoid(y_pred))\n",
    "        correct_results_sum = (y_pred_tag == y_test).sum().float()\n",
    "        acc = correct_results_sum/y_test.shape[0]\n",
    "    return acc\n",
    "\n",
    "model_name = 'fnma_model_mlp_nvt'\n",
    "\n",
    "start = time.time()\n",
    "max_f1 = 0\n",
    "for e in range(1, EPOCHS+1):\n",
    "    epoch_loss = 0\n",
    "    epoch_acc = 0\n",
    "    train_loss, train_logits, train_targets = train_epoch(model, train_loader, optimizer, criterion, metric=binary_acc, device=device,\n",
    "                             epoch=e)\n",
    "    epoch_f1_score, threshold = calc_metrics(model, train_targets, train_logits, test_loader, criterion, device, use_cpu)\n",
    "    if epoch_f1_score > max_f1:\n",
    "        max_f1 = epoch_f1_score\n",
    "        # save the model\n",
    "        save_checkpoint(model, optimizer, e, epoch_f1_score, model_name, threshold=threshold, save_path=clean_data_path)\n",
    "    \n",
    "print(f'Total time: {time.time() - start}')"
   ]
  },
  {
   "cell_type": "code",
   "execution_count": 81,
   "id": "cc273d43-80d9-4b5c-b5c9-e67b5a283dc7",
   "metadata": {},
   "outputs": [
    {
     "ename": "FileNotFoundError",
     "evalue": "[Errno 2] No such file or directory: './rapids/notebooks/cleaned_data/checkpoints/fnma_model_mlp_nvt.pt'",
     "output_type": "error",
     "traceback": [
      "\u001b[0;31m---------------------------------------------------------------------------\u001b[0m",
      "\u001b[0;31mFileNotFoundError\u001b[0m                         Traceback (most recent call last)",
      "Cell \u001b[0;32mIn[81], line 1\u001b[0m\n\u001b[0;32m----> 1\u001b[0m model, threshold \u001b[38;5;241m=\u001b[39m \u001b[43mload_checkpoint\u001b[49m\u001b[43m(\u001b[49m\u001b[43mmodel_name\u001b[49m\u001b[43m,\u001b[49m\u001b[43m \u001b[49m\u001b[43mmodel\u001b[49m\u001b[43m,\u001b[49m\u001b[43m \u001b[49m\u001b[43mdevice\u001b[49m\u001b[43m,\u001b[49m\u001b[43m \u001b[49m\u001b[43msave_path\u001b[49m\u001b[38;5;241;43m=\u001b[39;49m\u001b[43mclean_data_path\u001b[49m\u001b[43m)\u001b[49m\n",
      "Cell \u001b[0;32mIn[51], line 48\u001b[0m, in \u001b[0;36mload_checkpoint\u001b[0;34m(file_name, model, device, save_path)\u001b[0m\n\u001b[1;32m     46\u001b[0m \u001b[38;5;28;01mif\u001b[39;00m \u001b[38;5;129;01mnot\u001b[39;00m save_path:\n\u001b[1;32m     47\u001b[0m     save_path \u001b[38;5;241m=\u001b[39m \u001b[38;5;124m'\u001b[39m\u001b[38;5;124m.\u001b[39m\u001b[38;5;124m'\u001b[39m\n\u001b[0;32m---> 48\u001b[0m checkpoint \u001b[38;5;241m=\u001b[39m \u001b[43mtorch\u001b[49m\u001b[38;5;241;43m.\u001b[39;49m\u001b[43mload\u001b[49m\u001b[43m(\u001b[49m\u001b[38;5;124;43mf\u001b[39;49m\u001b[38;5;124;43m'\u001b[39;49m\u001b[38;5;132;43;01m{\u001b[39;49;00m\u001b[43msave_path\u001b[49m\u001b[38;5;132;43;01m}\u001b[39;49;00m\u001b[38;5;124;43m/checkpoints/\u001b[39;49m\u001b[38;5;132;43;01m{\u001b[39;49;00m\u001b[43mfile_name\u001b[49m\u001b[38;5;132;43;01m}\u001b[39;49;00m\u001b[38;5;124;43m.pt\u001b[39;49m\u001b[38;5;124;43m'\u001b[39;49m\u001b[43m)\u001b[49m\n\u001b[1;32m     49\u001b[0m model\u001b[38;5;241m.\u001b[39mload_state_dict(checkpoint[\u001b[38;5;124m'\u001b[39m\u001b[38;5;124mmodel\u001b[39m\u001b[38;5;124m'\u001b[39m])\n\u001b[1;32m     50\u001b[0m model\u001b[38;5;241m.\u001b[39meval()\n",
      "File \u001b[0;32m~/miniconda3/lib/python3.11/site-packages/torch/serialization.py:997\u001b[0m, in \u001b[0;36mload\u001b[0;34m(f, map_location, pickle_module, weights_only, mmap, **pickle_load_args)\u001b[0m\n\u001b[1;32m    994\u001b[0m \u001b[38;5;28;01mif\u001b[39;00m \u001b[38;5;124m'\u001b[39m\u001b[38;5;124mencoding\u001b[39m\u001b[38;5;124m'\u001b[39m \u001b[38;5;129;01mnot\u001b[39;00m \u001b[38;5;129;01min\u001b[39;00m pickle_load_args\u001b[38;5;241m.\u001b[39mkeys():\n\u001b[1;32m    995\u001b[0m     pickle_load_args[\u001b[38;5;124m'\u001b[39m\u001b[38;5;124mencoding\u001b[39m\u001b[38;5;124m'\u001b[39m] \u001b[38;5;241m=\u001b[39m \u001b[38;5;124m'\u001b[39m\u001b[38;5;124mutf-8\u001b[39m\u001b[38;5;124m'\u001b[39m\n\u001b[0;32m--> 997\u001b[0m \u001b[38;5;28;01mwith\u001b[39;00m \u001b[43m_open_file_like\u001b[49m\u001b[43m(\u001b[49m\u001b[43mf\u001b[49m\u001b[43m,\u001b[49m\u001b[43m \u001b[49m\u001b[38;5;124;43m'\u001b[39;49m\u001b[38;5;124;43mrb\u001b[39;49m\u001b[38;5;124;43m'\u001b[39;49m\u001b[43m)\u001b[49m \u001b[38;5;28;01mas\u001b[39;00m opened_file:\n\u001b[1;32m    998\u001b[0m     \u001b[38;5;28;01mif\u001b[39;00m _is_zipfile(opened_file):\n\u001b[1;32m    999\u001b[0m         \u001b[38;5;66;03m# The zipfile reader is going to advance the current file position.\u001b[39;00m\n\u001b[1;32m   1000\u001b[0m         \u001b[38;5;66;03m# If we want to actually tail call to torch.jit.load, we need to\u001b[39;00m\n\u001b[1;32m   1001\u001b[0m         \u001b[38;5;66;03m# reset back to the original position.\u001b[39;00m\n\u001b[1;32m   1002\u001b[0m         orig_position \u001b[38;5;241m=\u001b[39m opened_file\u001b[38;5;241m.\u001b[39mtell()\n",
      "File \u001b[0;32m~/miniconda3/lib/python3.11/site-packages/torch/serialization.py:444\u001b[0m, in \u001b[0;36m_open_file_like\u001b[0;34m(name_or_buffer, mode)\u001b[0m\n\u001b[1;32m    442\u001b[0m \u001b[38;5;28;01mdef\u001b[39;00m \u001b[38;5;21m_open_file_like\u001b[39m(name_or_buffer, mode):\n\u001b[1;32m    443\u001b[0m     \u001b[38;5;28;01mif\u001b[39;00m _is_path(name_or_buffer):\n\u001b[0;32m--> 444\u001b[0m         \u001b[38;5;28;01mreturn\u001b[39;00m \u001b[43m_open_file\u001b[49m\u001b[43m(\u001b[49m\u001b[43mname_or_buffer\u001b[49m\u001b[43m,\u001b[49m\u001b[43m \u001b[49m\u001b[43mmode\u001b[49m\u001b[43m)\u001b[49m\n\u001b[1;32m    445\u001b[0m     \u001b[38;5;28;01melse\u001b[39;00m:\n\u001b[1;32m    446\u001b[0m         \u001b[38;5;28;01mif\u001b[39;00m \u001b[38;5;124m'\u001b[39m\u001b[38;5;124mw\u001b[39m\u001b[38;5;124m'\u001b[39m \u001b[38;5;129;01min\u001b[39;00m mode:\n",
      "File \u001b[0;32m~/miniconda3/lib/python3.11/site-packages/torch/serialization.py:425\u001b[0m, in \u001b[0;36m_open_file.__init__\u001b[0;34m(self, name, mode)\u001b[0m\n\u001b[1;32m    424\u001b[0m \u001b[38;5;28;01mdef\u001b[39;00m \u001b[38;5;21m__init__\u001b[39m(\u001b[38;5;28mself\u001b[39m, name, mode):\n\u001b[0;32m--> 425\u001b[0m     \u001b[38;5;28msuper\u001b[39m()\u001b[38;5;241m.\u001b[39m\u001b[38;5;21m__init__\u001b[39m(\u001b[38;5;28;43mopen\u001b[39;49m\u001b[43m(\u001b[49m\u001b[43mname\u001b[49m\u001b[43m,\u001b[49m\u001b[43m \u001b[49m\u001b[43mmode\u001b[49m\u001b[43m)\u001b[49m)\n",
      "\u001b[0;31mFileNotFoundError\u001b[0m: [Errno 2] No such file or directory: './rapids/notebooks/cleaned_data/checkpoints/fnma_model_mlp_nvt.pt'"
     ]
    }
   ],
   "source": [
    "model, threshold = load_checkpoint(model_name, model, device, save_path=clean_data_path)"
   ]
  },
  {
   "cell_type": "code",
   "execution_count": 82,
   "id": "bb68ec17-779a-4e85-93d5-5110c2f40b1b",
   "metadata": {},
   "outputs": [
    {
     "ename": "NameError",
     "evalue": "name 'train_loader' is not defined",
     "output_type": "error",
     "traceback": [
      "\u001b[0;31m---------------------------------------------------------------------------\u001b[0m",
      "\u001b[0;31mNameError\u001b[0m                                 Traceback (most recent call last)",
      "Cell \u001b[0;32mIn[82], line 2\u001b[0m\n\u001b[1;32m      1\u001b[0m \u001b[38;5;66;03m# in sample performance.\u001b[39;00m\n\u001b[0;32m----> 2\u001b[0m _ \u001b[38;5;241m=\u001b[39m test_em(model, \u001b[43mtrain_loader\u001b[49m, criterion, threshold, device, use_cpu\u001b[38;5;241m=\u001b[39muse_cpu,\n\u001b[1;32m      3\u001b[0m             save_path\u001b[38;5;241m=\u001b[39m\u001b[38;5;124mf\u001b[39m\u001b[38;5;124m'\u001b[39m\u001b[38;5;132;01m{\u001b[39;00mfigures_path\u001b[38;5;132;01m}\u001b[39;00m\u001b[38;5;124m/in_sample_nvt_mlp_pyt_pr_roc.png\u001b[39m\u001b[38;5;124m'\u001b[39m)\n",
      "\u001b[0;31mNameError\u001b[0m: name 'train_loader' is not defined"
     ]
    }
   ],
   "source": [
    "# in sample performance.\n",
    "_ = test_em(model, train_loader, criterion, threshold, device, use_cpu=use_cpu,\n",
    "            save_path=f'{figures_path}/in_sample_nvt_mlp_pyt_pr_roc.png')"
   ]
  },
  {
   "cell_type": "code",
   "execution_count": 83,
   "id": "011072fc-0037-4963-9469-c49dc1349594",
   "metadata": {},
   "outputs": [
    {
     "ename": "NameError",
     "evalue": "name 'test_loader' is not defined",
     "output_type": "error",
     "traceback": [
      "\u001b[0;31m---------------------------------------------------------------------------\u001b[0m",
      "\u001b[0;31mNameError\u001b[0m                                 Traceback (most recent call last)",
      "Cell \u001b[0;32mIn[83], line 2\u001b[0m\n\u001b[1;32m      1\u001b[0m \u001b[38;5;66;03m# out of sample performance.\u001b[39;00m\n\u001b[0;32m----> 2\u001b[0m true_labels, pred_labels \u001b[38;5;241m=\u001b[39m test_em(model, \u001b[43mtest_loader\u001b[49m, criterion, threshold, device, use_cpu\u001b[38;5;241m=\u001b[39muse_cpu,\n\u001b[1;32m      3\u001b[0m                                    save_path\u001b[38;5;241m=\u001b[39m\u001b[38;5;124mf\u001b[39m\u001b[38;5;124m'\u001b[39m\u001b[38;5;132;01m{\u001b[39;00mfigures_path\u001b[38;5;132;01m}\u001b[39;00m\u001b[38;5;124m/out_of_sample_nvt_mlp_pyt_pr_roc.png\u001b[39m\u001b[38;5;124m'\u001b[39m)\n",
      "\u001b[0;31mNameError\u001b[0m: name 'test_loader' is not defined"
     ]
    }
   ],
   "source": [
    "# out of sample performance.\n",
    "true_labels, pred_labels = test_em(model, test_loader, criterion, threshold, device, use_cpu=use_cpu,\n",
    "                                   save_path=f'{figures_path}/out_of_sample_nvt_mlp_pyt_pr_roc.png')"
   ]
  },
  {
   "cell_type": "code",
   "execution_count": 84,
   "id": "b43bd6aa-d40d-43e1-8193-7b62b358cb31",
   "metadata": {},
   "outputs": [
    {
     "data": {
      "image/png": "[encoded data removed]",
      "text/plain": [
       "<Figure size 1000x600 with 2 Axes>"
      ]
     },
     "metadata": {},
     "output_type": "display_data"
    }
   ],
   "source": [
    "results = confusion_matrix(true_labels, pred_labels)\n",
    "results = cupy2numpy(results, True)\n",
    "plot_confusion_matrix(results, ['Normal','Anomaly'], title='Confusion Matrix', save_path=f'{figures_path}/nvt_mlp_confusion_matrix.png')"
   ]
  },
  {
   "cell_type": "code",
   "execution_count": 85,
   "id": "ff3e38cd-5d0f-4f3d-8b13-35346155c2ba",
   "metadata": {},
   "outputs": [],
   "source": [
    "####### Timings\n",
    "nvt_time = time.time()"
   ]
  },
  {
   "cell_type": "code",
   "execution_count": 87,
   "id": "5081f48d-f901-4f5a-9f3a-dbc8aa6e937b",
   "metadata": {},
   "outputs": [],
   "source": [
    "figures_path = './rapids/notebooks/figures'"
   ]
  },
  {
   "cell_type": "code",
   "execution_count": 88,
   "id": "c856fa5e-b6c4-476e-81ab-8bb83243f52c",
   "metadata": {},
   "outputs": [],
   "source": [
    "import seaborn as sns\n",
    "sns.set()"
   ]
  },
  {
   "cell_type": "code",
   "execution_count": 89,
   "id": "c2afe180-c954-49fa-a60f-a446d01f9175",
   "metadata": {},
   "outputs": [
    {
     "ename": "ImportError",
     "evalue": "matplotlib is required for plotting when the default backend \"matplotlib\" is selected.",
     "output_type": "error",
     "traceback": [
      "\u001b[0;31m---------------------------------------------------------------------------\u001b[0m",
      "\u001b[0;31mImportError\u001b[0m                               Traceback (most recent call last)",
      "Cell \u001b[0;32mIn[89], line 22\u001b[0m\n\u001b[1;32m     17\u001b[0m DF \u001b[38;5;241m=\u001b[39m pd\u001b[38;5;241m.\u001b[39mDataFrame({\u001b[38;5;66;03m#'NVIDIA A100 GPU': a100,\u001b[39;00m\n\u001b[1;32m     18\u001b[0m                    \u001b[38;5;124m'\u001b[39m\u001b[38;5;124mNVIDIA A100 GPU\u001b[39m\u001b[38;5;124m'\u001b[39m: a100,\n\u001b[1;32m     19\u001b[0m                    \u001b[38;5;124m'\u001b[39m\u001b[38;5;124mIntel Xeon E5-2698 CPU\u001b[39m\u001b[38;5;124m'\u001b[39m: cpu}, index\u001b[38;5;241m=\u001b[39msteps)\n\u001b[1;32m     20\u001b[0m \u001b[38;5;28mdict\u001b[39m \u001b[38;5;241m=\u001b[39m {\u001b[38;5;66;03m#\"NVIDIA A100 GPU\": \"darkgreen\",\u001b[39;00m\n\u001b[1;32m     21\u001b[0m     \u001b[38;5;124m\"\u001b[39m\u001b[38;5;124mNVIDIA A100 GPU\u001b[39m\u001b[38;5;124m\"\u001b[39m: \u001b[38;5;124m\"\u001b[39m\u001b[38;5;124m#76B900\u001b[39m\u001b[38;5;124m\"\u001b[39m,\u001b[38;5;124m\"\u001b[39m\u001b[38;5;124mCPU\u001b[39m\u001b[38;5;124m\"\u001b[39m: \u001b[38;5;124m\"\u001b[39m\u001b[38;5;124mturquoise\u001b[39m\u001b[38;5;124m\"\u001b[39m}\n\u001b[0;32m---> 22\u001b[0m _ \u001b[38;5;241m=\u001b[39m \u001b[43mDF\u001b[49m\u001b[38;5;241;43m.\u001b[39;49m\u001b[43mplot\u001b[49m\u001b[38;5;241;43m.\u001b[39;49m\u001b[43mbarh\u001b[49m\u001b[43m(\u001b[49m\u001b[43mcolor\u001b[49m\u001b[38;5;241;43m=\u001b[39;49m\u001b[38;5;28;43mdict\u001b[39;49m\u001b[38;5;241;43m.\u001b[39;49m\u001b[43mvalues\u001b[49m\u001b[43m(\u001b[49m\u001b[43m)\u001b[49m\u001b[43m,\u001b[49m\u001b[43m \u001b[49m\u001b[43max\u001b[49m\u001b[38;5;241;43m=\u001b[39;49m\u001b[43max\u001b[49m\u001b[43m)\u001b[49m\n\u001b[1;32m     23\u001b[0m plt\u001b[38;5;241m.\u001b[39msuptitle(\u001b[38;5;124m\"\u001b[39m\u001b[38;5;124mRAPIDS GPU Acceleration of read_csv, merge, ML training ML inference, and Shapley ML Explanation\u001b[39m\u001b[38;5;124m\"\u001b[39m)\n\u001b[1;32m     24\u001b[0m ax\u001b[38;5;241m.\u001b[39mset_title(\u001b[38;5;124m'\u001b[39m\u001b[38;5;124mRun times on CPU and GPU - Lower is better\u001b[39m\u001b[38;5;124m'\u001b[39m)\n",
      "File \u001b[0;32m~/miniconda3/lib/python3.11/site-packages/pandas/plotting/_core.py:1280\u001b[0m, in \u001b[0;36mbarh\u001b[0;34m(self, x, y, **kwargs)\u001b[0m\n\u001b[1;32m   1247\u001b[0m \u001b[38;5;28;01mdef\u001b[39;00m \u001b[38;5;21mbox\u001b[39m(\u001b[38;5;28mself\u001b[39m, by\u001b[38;5;241m=\u001b[39m\u001b[38;5;28;01mNone\u001b[39;00m, \u001b[38;5;241m*\u001b[39m\u001b[38;5;241m*\u001b[39mkwargs) \u001b[38;5;241m-\u001b[39m\u001b[38;5;241m>\u001b[39m PlotAccessor:\n\u001b[1;32m   1248\u001b[0m \u001b[38;5;250m    \u001b[39m\u001b[38;5;124mr\u001b[39m\u001b[38;5;124;03m\"\"\"\u001b[39;00m\n\u001b[1;32m   1249\u001b[0m \u001b[38;5;124;03m    Make a box plot of the DataFrame columns.\u001b[39;00m\n\u001b[1;32m   1250\u001b[0m \n\u001b[1;32m   1251\u001b[0m \u001b[38;5;124;03m    A box plot is a method for graphically depicting groups of numerical\u001b[39;00m\n\u001b[1;32m   1252\u001b[0m \u001b[38;5;124;03m    data through their quartiles.\u001b[39;00m\n\u001b[1;32m   1253\u001b[0m \u001b[38;5;124;03m    The box extends from the Q1 to Q3 quartile values of the data,\u001b[39;00m\n\u001b[1;32m   1254\u001b[0m \u001b[38;5;124;03m    with a line at the median (Q2). The whiskers extend from the edges\u001b[39;00m\n\u001b[1;32m   1255\u001b[0m \u001b[38;5;124;03m    of box to show the range of the data. The position of the whiskers\u001b[39;00m\n\u001b[1;32m   1256\u001b[0m \u001b[38;5;124;03m    is set by default to 1.5*IQR (IQR = Q3 - Q1) from the edges of the\u001b[39;00m\n\u001b[1;32m   1257\u001b[0m \u001b[38;5;124;03m    box. Outlier points are those past the end of the whiskers.\u001b[39;00m\n\u001b[1;32m   1258\u001b[0m \n\u001b[1;32m   1259\u001b[0m \u001b[38;5;124;03m    For further details see Wikipedia's\u001b[39;00m\n\u001b[1;32m   1260\u001b[0m \u001b[38;5;124;03m    entry for `boxplot <https://en.wikipedia.org/wiki/Box_plot>`__.\u001b[39;00m\n\u001b[1;32m   1261\u001b[0m \n\u001b[1;32m   1262\u001b[0m \u001b[38;5;124;03m    A consideration when using this chart is that the box and the whiskers\u001b[39;00m\n\u001b[1;32m   1263\u001b[0m \u001b[38;5;124;03m    can overlap, which is very common when plotting small sets of data.\u001b[39;00m\n\u001b[1;32m   1264\u001b[0m \n\u001b[1;32m   1265\u001b[0m \u001b[38;5;124;03m    Parameters\u001b[39;00m\n\u001b[1;32m   1266\u001b[0m \u001b[38;5;124;03m    ----------\u001b[39;00m\n\u001b[1;32m   1267\u001b[0m \u001b[38;5;124;03m    by : str or sequence\u001b[39;00m\n\u001b[1;32m   1268\u001b[0m \u001b[38;5;124;03m        Column in the DataFrame to group by.\u001b[39;00m\n\u001b[1;32m   1269\u001b[0m \n\u001b[1;32m   1270\u001b[0m \u001b[38;5;124;03m        .. versionchanged:: 1.4.0\u001b[39;00m\n\u001b[1;32m   1271\u001b[0m \n\u001b[1;32m   1272\u001b[0m \u001b[38;5;124;03m           Previously, `by` is silently ignore and makes no groupings\u001b[39;00m\n\u001b[1;32m   1273\u001b[0m \n\u001b[1;32m   1274\u001b[0m \u001b[38;5;124;03m    **kwargs\u001b[39;00m\n\u001b[1;32m   1275\u001b[0m \u001b[38;5;124;03m        Additional keywords are documented in\u001b[39;00m\n\u001b[1;32m   1276\u001b[0m \u001b[38;5;124;03m        :meth:`DataFrame.plot`.\u001b[39;00m\n\u001b[1;32m   1277\u001b[0m \n\u001b[1;32m   1278\u001b[0m \u001b[38;5;124;03m    Returns\u001b[39;00m\n\u001b[1;32m   1279\u001b[0m \u001b[38;5;124;03m    -------\u001b[39;00m\n\u001b[0;32m-> 1280\u001b[0m \u001b[38;5;124;03m    :class:`matplotlib.axes.Axes` or numpy.ndarray of them\u001b[39;00m\n\u001b[1;32m   1281\u001b[0m \n\u001b[1;32m   1282\u001b[0m \u001b[38;5;124;03m    See Also\u001b[39;00m\n\u001b[1;32m   1283\u001b[0m \u001b[38;5;124;03m    --------\u001b[39;00m\n\u001b[1;32m   1284\u001b[0m \u001b[38;5;124;03m    DataFrame.boxplot: Another method to draw a box plot.\u001b[39;00m\n\u001b[1;32m   1285\u001b[0m \u001b[38;5;124;03m    Series.plot.box: Draw a box plot from a Series object.\u001b[39;00m\n\u001b[1;32m   1286\u001b[0m \u001b[38;5;124;03m    matplotlib.pyplot.boxplot: Draw a box plot in matplotlib.\u001b[39;00m\n\u001b[1;32m   1287\u001b[0m \n\u001b[1;32m   1288\u001b[0m \u001b[38;5;124;03m    Examples\u001b[39;00m\n\u001b[1;32m   1289\u001b[0m \u001b[38;5;124;03m    --------\u001b[39;00m\n\u001b[1;32m   1290\u001b[0m \u001b[38;5;124;03m    Draw a box plot from a DataFrame with four columns of randomly\u001b[39;00m\n\u001b[1;32m   1291\u001b[0m \u001b[38;5;124;03m    generated data.\u001b[39;00m\n\u001b[1;32m   1292\u001b[0m \n\u001b[1;32m   1293\u001b[0m \u001b[38;5;124;03m    .. plot::\u001b[39;00m\n\u001b[1;32m   1294\u001b[0m \u001b[38;5;124;03m        :context: close-figs\u001b[39;00m\n\u001b[1;32m   1295\u001b[0m \n\u001b[1;32m   1296\u001b[0m \u001b[38;5;124;03m        >>> data = np.random.randn(25, 4)\u001b[39;00m\n\u001b[1;32m   1297\u001b[0m \u001b[38;5;124;03m        >>> df = pd.DataFrame(data, columns=list('ABCD'))\u001b[39;00m\n\u001b[1;32m   1298\u001b[0m \u001b[38;5;124;03m        >>> ax = df.plot.box()\u001b[39;00m\n\u001b[1;32m   1299\u001b[0m \n\u001b[1;32m   1300\u001b[0m \u001b[38;5;124;03m    You can also generate groupings if you specify the `by` parameter (which\u001b[39;00m\n\u001b[1;32m   1301\u001b[0m \u001b[38;5;124;03m    can take a column name, or a list or tuple of column names):\u001b[39;00m\n\u001b[1;32m   1302\u001b[0m \n\u001b[1;32m   1303\u001b[0m \u001b[38;5;124;03m    .. versionchanged:: 1.4.0\u001b[39;00m\n\u001b[1;32m   1304\u001b[0m \n\u001b[1;32m   1305\u001b[0m \u001b[38;5;124;03m    .. plot::\u001b[39;00m\n\u001b[1;32m   1306\u001b[0m \u001b[38;5;124;03m        :context: close-figs\u001b[39;00m\n\u001b[1;32m   1307\u001b[0m \n\u001b[1;32m   1308\u001b[0m \u001b[38;5;124;03m        >>> age_list = [8, 10, 12, 14, 72, 74, 76, 78, 20, 25, 30, 35, 60, 85]\u001b[39;00m\n\u001b[1;32m   1309\u001b[0m \u001b[38;5;124;03m        >>> df = pd.DataFrame({\"gender\": list(\"MMMMMMMMFFFFFF\"), \"age\": age_list})\u001b[39;00m\n\u001b[1;32m   1310\u001b[0m \u001b[38;5;124;03m        >>> ax = df.plot.box(column=\"age\", by=\"gender\", figsize=(10, 8))\u001b[39;00m\n\u001b[1;32m   1311\u001b[0m \u001b[38;5;124;03m    \"\"\"\u001b[39;00m\n\u001b[1;32m   1312\u001b[0m     \u001b[38;5;28;01mreturn\u001b[39;00m \u001b[38;5;28mself\u001b[39m(kind\u001b[38;5;241m=\u001b[39m\u001b[38;5;124m\"\u001b[39m\u001b[38;5;124mbox\u001b[39m\u001b[38;5;124m\"\u001b[39m, by\u001b[38;5;241m=\u001b[39mby, \u001b[38;5;241m*\u001b[39m\u001b[38;5;241m*\u001b[39mkwargs)\n",
      "File \u001b[0;32m~/miniconda3/lib/python3.11/site-packages/pandas/plotting/_core.py:947\u001b[0m, in \u001b[0;36m__call__\u001b[0;34m(self, *args, **kwargs)\u001b[0m\n\u001b[1;32m    945\u001b[0m         \u001b[38;5;28;01mreturn\u001b[39;00m plot_backend\u001b[38;5;241m.\u001b[39mplot(data, x\u001b[38;5;241m=\u001b[39mx, y\u001b[38;5;241m=\u001b[39my, kind\u001b[38;5;241m=\u001b[39mkind, \u001b[38;5;241m*\u001b[39m\u001b[38;5;241m*\u001b[39mkwargs)\n\u001b[1;32m    946\u001b[0m     \u001b[38;5;28;01melse\u001b[39;00m:\n\u001b[0;32m--> 947\u001b[0m         \u001b[38;5;28;01mraise\u001b[39;00m \u001b[38;5;167;01mValueError\u001b[39;00m(\u001b[38;5;124mf\u001b[39m\u001b[38;5;124m\"\u001b[39m\u001b[38;5;124mplot kind \u001b[39m\u001b[38;5;132;01m{\u001b[39;00mkind\u001b[38;5;132;01m}\u001b[39;00m\u001b[38;5;124m can only be used for data frames\u001b[39m\u001b[38;5;124m\"\u001b[39m)\n\u001b[1;32m    948\u001b[0m \u001b[38;5;28;01melif\u001b[39;00m kind \u001b[38;5;129;01min\u001b[39;00m \u001b[38;5;28mself\u001b[39m\u001b[38;5;241m.\u001b[39m_series_kinds:\n\u001b[1;32m    949\u001b[0m     \u001b[38;5;28;01mif\u001b[39;00m \u001b[38;5;28misinstance\u001b[39m(data, ABCDataFrame):\n",
      "File \u001b[0;32m~/miniconda3/lib/python3.11/site-packages/pandas/plotting/_core.py:1944\u001b[0m, in \u001b[0;36m_get_plot_backend\u001b[0;34m(backend)\u001b[0m\n\u001b[1;32m      0\u001b[0m <Error retrieving source code with stack_data see ipython/ipython#13598>\n",
      "File \u001b[0;32m~/miniconda3/lib/python3.11/site-packages/pandas/plotting/_core.py:1874\u001b[0m, in \u001b[0;36m_load_backend\u001b[0;34m(backend)\u001b[0m\n\u001b[1;32m   1862\u001b[0m \u001b[38;5;28;01mdef\u001b[39;00m \u001b[38;5;21m_get_plot_backend\u001b[39m(backend: \u001b[38;5;28mstr\u001b[39m \u001b[38;5;241m|\u001b[39m \u001b[38;5;28;01mNone\u001b[39;00m \u001b[38;5;241m=\u001b[39m \u001b[38;5;28;01mNone\u001b[39;00m):\n\u001b[1;32m   1863\u001b[0m \u001b[38;5;250m    \u001b[39m\u001b[38;5;124;03m\"\"\"\u001b[39;00m\n\u001b[1;32m   1864\u001b[0m \u001b[38;5;124;03m    Return the plotting backend to use (e.g. `pandas.plotting._matplotlib`).\u001b[39;00m\n\u001b[1;32m   1865\u001b[0m \n\u001b[1;32m   1866\u001b[0m \u001b[38;5;124;03m    The plotting system of pandas uses matplotlib by default, but the idea here\u001b[39;00m\n\u001b[1;32m   1867\u001b[0m \u001b[38;5;124;03m    is that it can also work with other third-party backends. This function\u001b[39;00m\n\u001b[1;32m   1868\u001b[0m \u001b[38;5;124;03m    returns the module which provides a top-level `.plot` method that will\u001b[39;00m\n\u001b[1;32m   1869\u001b[0m \u001b[38;5;124;03m    actually do the plotting. The backend is specified from a string, which\u001b[39;00m\n\u001b[1;32m   1870\u001b[0m \u001b[38;5;124;03m    either comes from the keyword argument `backend`, or, if not specified, from\u001b[39;00m\n\u001b[1;32m   1871\u001b[0m \u001b[38;5;124;03m    the option `pandas.options.plotting.backend`. All the rest of the code in\u001b[39;00m\n\u001b[1;32m   1872\u001b[0m \u001b[38;5;124;03m    this file uses the backend specified there for the plotting.\u001b[39;00m\n\u001b[1;32m   1873\u001b[0m \n\u001b[0;32m-> 1874\u001b[0m \u001b[38;5;124;03m    The backend is imported lazily, as matplotlib is a soft dependency, and\u001b[39;00m\n\u001b[1;32m   1875\u001b[0m \u001b[38;5;124;03m    pandas can be used without it being installed.\u001b[39;00m\n\u001b[1;32m   1876\u001b[0m \n\u001b[1;32m   1877\u001b[0m \u001b[38;5;124;03m    Notes\u001b[39;00m\n\u001b[1;32m   1878\u001b[0m \u001b[38;5;124;03m    -----\u001b[39;00m\n\u001b[1;32m   1879\u001b[0m \u001b[38;5;124;03m    Modifies `_backends` with imported backend as a side effect.\u001b[39;00m\n\u001b[1;32m   1880\u001b[0m \u001b[38;5;124;03m    \"\"\"\u001b[39;00m\n\u001b[1;32m   1881\u001b[0m     backend_str: \u001b[38;5;28mstr\u001b[39m \u001b[38;5;241m=\u001b[39m backend \u001b[38;5;129;01mor\u001b[39;00m get_option(\u001b[38;5;124m\"\u001b[39m\u001b[38;5;124mplotting.backend\u001b[39m\u001b[38;5;124m\"\u001b[39m)\n\u001b[1;32m   1883\u001b[0m     \u001b[38;5;28;01mif\u001b[39;00m backend_str \u001b[38;5;129;01min\u001b[39;00m _backends:\n",
      "\u001b[0;31mImportError\u001b[0m: matplotlib is required for plotting when the default backend \"matplotlib\" is selected."
     ]
    },
    {
     "data": {
      "image/png": "[encoded data removed]",
      "text/plain": [
       "<Figure size 1000x600 with 1 Axes>"
      ]
     },
     "metadata": {},
     "output_type": "display_data"
    }
   ],
   "source": [
    "#Orig from Aug 2 2021:\n",
    "fig, ax = plt.subplots(figsize=(10,6))\n",
    "#These timings are current as of Sep 2, 2020\n",
    "data = [[614.2, 19.5, 125.9, .176, 1821.1, 9370.6, 27.7, 0.0, 504.0],\n",
    "         [16.4, .137, 54.6, .007, 102.1, 3712.4, 4.3, 631.0, 254.9]]\n",
    "\n",
    "steps = ['read_csv', 'merge', 'xgb train', 'xgb inference',\n",
    "         'xgb shap', 'pyt train', 'pyt inference', 'nvtabular train\\n(GPU only)',\n",
    "         'captum\\ngradientshap']\n",
    "steps.reverse()\n",
    "data[0].reverse()\n",
    "data[1].reverse()\n",
    "#data[2].reverse()\n",
    "cpu = data[0]\n",
    "a100 = data[1]\n",
    "#a100 = data[2]\n",
    "DF = pd.DataFrame({#'NVIDIA A100 GPU': a100,\n",
    "                   'NVIDIA A100 GPU': a100,\n",
    "                   'Intel Xeon E5-2698 CPU': cpu}, index=steps)\n",
    "dict = {#\"NVIDIA A100 GPU\": \"darkgreen\",\n",
    "    \"NVIDIA A100 GPU\": \"#76B900\",\"CPU\": \"turquoise\"}\n",
    "_ = DF.plot.barh(color=dict.values(), ax=ax)\n",
    "plt.suptitle(\"RAPIDS GPU Acceleration of read_csv, merge, ML training ML inference, and Shapley ML Explanation\")\n",
    "ax.set_title('Run times on CPU and GPU - Lower is better')\n",
    "ax.set_xlabel('latency in seconds')\n",
    "\n",
    "# print(\"               RAPIDS GPU Acceleration of read_csv, merge, ML training,\")\n",
    "# print(\"                       ML inference, and Shapley ML Explanation\")"
   ]
  },
  {
   "cell_type": "code",
   "execution_count": 90,
   "id": "e73c1355-51e1-4497-a2bf-90c5ab683b7d",
   "metadata": {},
   "outputs": [
    {
     "ename": "ImportError",
     "evalue": "matplotlib is required for plotting when the default backend \"matplotlib\" is selected.",
     "output_type": "error",
     "traceback": [
      "\u001b[0;31m---------------------------------------------------------------------------\u001b[0m",
      "\u001b[0;31mImportError\u001b[0m                               Traceback (most recent call last)",
      "Cell \u001b[0;32mIn[90], line 16\u001b[0m\n\u001b[1;32m     13\u001b[0m DF \u001b[38;5;241m=\u001b[39m pd\u001b[38;5;241m.\u001b[39mDataFrame({\u001b[38;5;124m'\u001b[39m\u001b[38;5;124mNVIDIA Ampere A100 GPU\u001b[39m\u001b[38;5;124m'\u001b[39m: a100,\n\u001b[1;32m     14\u001b[0m                    \u001b[38;5;124m'\u001b[39m\u001b[38;5;124mIntel Xeon E5-2698 CPU\u001b[39m\u001b[38;5;124m'\u001b[39m: cpu}, index\u001b[38;5;241m=\u001b[39msteps)\n\u001b[1;32m     15\u001b[0m dct \u001b[38;5;241m=\u001b[39m {\u001b[38;5;124m\"\u001b[39m\u001b[38;5;124mNVIDIA Ampere A100 GPU\u001b[39m\u001b[38;5;124m\"\u001b[39m: \u001b[38;5;124m\"\u001b[39m\u001b[38;5;124m#76B900\u001b[39m\u001b[38;5;124m\"\u001b[39m,\u001b[38;5;124m\"\u001b[39m\u001b[38;5;124mCPU\u001b[39m\u001b[38;5;124m\"\u001b[39m: \u001b[38;5;124m\"\u001b[39m\u001b[38;5;124mturquoise\u001b[39m\u001b[38;5;124m\"\u001b[39m}\n\u001b[0;32m---> 16\u001b[0m _ \u001b[38;5;241m=\u001b[39m \u001b[43mDF\u001b[49m\u001b[38;5;241;43m.\u001b[39;49m\u001b[43mplot\u001b[49m\u001b[38;5;241;43m.\u001b[39;49m\u001b[43mbarh\u001b[49m\u001b[43m(\u001b[49m\u001b[43mcolor\u001b[49m\u001b[38;5;241;43m=\u001b[39;49m\u001b[43mdct\u001b[49m\u001b[38;5;241;43m.\u001b[39;49m\u001b[43mvalues\u001b[49m\u001b[43m(\u001b[49m\u001b[43m)\u001b[49m\u001b[43m,\u001b[49m\u001b[43m \u001b[49m\u001b[43max\u001b[49m\u001b[38;5;241;43m=\u001b[39;49m\u001b[43max\u001b[49m\u001b[43m)\u001b[49m\n\u001b[1;32m     17\u001b[0m ax\u001b[38;5;241m.\u001b[39mset_title(\u001b[38;5;124m'\u001b[39m\u001b[38;5;124mRun times on CPU and GPU\u001b[39m\u001b[38;5;124m'\u001b[39m)\n\u001b[1;32m     18\u001b[0m ax\u001b[38;5;241m.\u001b[39mset_xlabel(\u001b[38;5;124m'\u001b[39m\u001b[38;5;124mlatency in seconds\u001b[39m\u001b[38;5;124m'\u001b[39m)\n",
      "File \u001b[0;32m~/miniconda3/lib/python3.11/site-packages/pandas/plotting/_core.py:1280\u001b[0m, in \u001b[0;36mbarh\u001b[0;34m(self, x, y, **kwargs)\u001b[0m\n\u001b[1;32m   1247\u001b[0m \u001b[38;5;28;01mdef\u001b[39;00m \u001b[38;5;21mbox\u001b[39m(\u001b[38;5;28mself\u001b[39m, by\u001b[38;5;241m=\u001b[39m\u001b[38;5;28;01mNone\u001b[39;00m, \u001b[38;5;241m*\u001b[39m\u001b[38;5;241m*\u001b[39mkwargs) \u001b[38;5;241m-\u001b[39m\u001b[38;5;241m>\u001b[39m PlotAccessor:\n\u001b[1;32m   1248\u001b[0m \u001b[38;5;250m    \u001b[39m\u001b[38;5;124mr\u001b[39m\u001b[38;5;124;03m\"\"\"\u001b[39;00m\n\u001b[1;32m   1249\u001b[0m \u001b[38;5;124;03m    Make a box plot of the DataFrame columns.\u001b[39;00m\n\u001b[1;32m   1250\u001b[0m \n\u001b[1;32m   1251\u001b[0m \u001b[38;5;124;03m    A box plot is a method for graphically depicting groups of numerical\u001b[39;00m\n\u001b[1;32m   1252\u001b[0m \u001b[38;5;124;03m    data through their quartiles.\u001b[39;00m\n\u001b[1;32m   1253\u001b[0m \u001b[38;5;124;03m    The box extends from the Q1 to Q3 quartile values of the data,\u001b[39;00m\n\u001b[1;32m   1254\u001b[0m \u001b[38;5;124;03m    with a line at the median (Q2). The whiskers extend from the edges\u001b[39;00m\n\u001b[1;32m   1255\u001b[0m \u001b[38;5;124;03m    of box to show the range of the data. The position of the whiskers\u001b[39;00m\n\u001b[1;32m   1256\u001b[0m \u001b[38;5;124;03m    is set by default to 1.5*IQR (IQR = Q3 - Q1) from the edges of the\u001b[39;00m\n\u001b[1;32m   1257\u001b[0m \u001b[38;5;124;03m    box. Outlier points are those past the end of the whiskers.\u001b[39;00m\n\u001b[1;32m   1258\u001b[0m \n\u001b[1;32m   1259\u001b[0m \u001b[38;5;124;03m    For further details see Wikipedia's\u001b[39;00m\n\u001b[1;32m   1260\u001b[0m \u001b[38;5;124;03m    entry for `boxplot <https://en.wikipedia.org/wiki/Box_plot>`__.\u001b[39;00m\n\u001b[1;32m   1261\u001b[0m \n\u001b[1;32m   1262\u001b[0m \u001b[38;5;124;03m    A consideration when using this chart is that the box and the whiskers\u001b[39;00m\n\u001b[1;32m   1263\u001b[0m \u001b[38;5;124;03m    can overlap, which is very common when plotting small sets of data.\u001b[39;00m\n\u001b[1;32m   1264\u001b[0m \n\u001b[1;32m   1265\u001b[0m \u001b[38;5;124;03m    Parameters\u001b[39;00m\n\u001b[1;32m   1266\u001b[0m \u001b[38;5;124;03m    ----------\u001b[39;00m\n\u001b[1;32m   1267\u001b[0m \u001b[38;5;124;03m    by : str or sequence\u001b[39;00m\n\u001b[1;32m   1268\u001b[0m \u001b[38;5;124;03m        Column in the DataFrame to group by.\u001b[39;00m\n\u001b[1;32m   1269\u001b[0m \n\u001b[1;32m   1270\u001b[0m \u001b[38;5;124;03m        .. versionchanged:: 1.4.0\u001b[39;00m\n\u001b[1;32m   1271\u001b[0m \n\u001b[1;32m   1272\u001b[0m \u001b[38;5;124;03m           Previously, `by` is silently ignore and makes no groupings\u001b[39;00m\n\u001b[1;32m   1273\u001b[0m \n\u001b[1;32m   1274\u001b[0m \u001b[38;5;124;03m    **kwargs\u001b[39;00m\n\u001b[1;32m   1275\u001b[0m \u001b[38;5;124;03m        Additional keywords are documented in\u001b[39;00m\n\u001b[1;32m   1276\u001b[0m \u001b[38;5;124;03m        :meth:`DataFrame.plot`.\u001b[39;00m\n\u001b[1;32m   1277\u001b[0m \n\u001b[1;32m   1278\u001b[0m \u001b[38;5;124;03m    Returns\u001b[39;00m\n\u001b[1;32m   1279\u001b[0m \u001b[38;5;124;03m    -------\u001b[39;00m\n\u001b[0;32m-> 1280\u001b[0m \u001b[38;5;124;03m    :class:`matplotlib.axes.Axes` or numpy.ndarray of them\u001b[39;00m\n\u001b[1;32m   1281\u001b[0m \n\u001b[1;32m   1282\u001b[0m \u001b[38;5;124;03m    See Also\u001b[39;00m\n\u001b[1;32m   1283\u001b[0m \u001b[38;5;124;03m    --------\u001b[39;00m\n\u001b[1;32m   1284\u001b[0m \u001b[38;5;124;03m    DataFrame.boxplot: Another method to draw a box plot.\u001b[39;00m\n\u001b[1;32m   1285\u001b[0m \u001b[38;5;124;03m    Series.plot.box: Draw a box plot from a Series object.\u001b[39;00m\n\u001b[1;32m   1286\u001b[0m \u001b[38;5;124;03m    matplotlib.pyplot.boxplot: Draw a box plot in matplotlib.\u001b[39;00m\n\u001b[1;32m   1287\u001b[0m \n\u001b[1;32m   1288\u001b[0m \u001b[38;5;124;03m    Examples\u001b[39;00m\n\u001b[1;32m   1289\u001b[0m \u001b[38;5;124;03m    --------\u001b[39;00m\n\u001b[1;32m   1290\u001b[0m \u001b[38;5;124;03m    Draw a box plot from a DataFrame with four columns of randomly\u001b[39;00m\n\u001b[1;32m   1291\u001b[0m \u001b[38;5;124;03m    generated data.\u001b[39;00m\n\u001b[1;32m   1292\u001b[0m \n\u001b[1;32m   1293\u001b[0m \u001b[38;5;124;03m    .. plot::\u001b[39;00m\n\u001b[1;32m   1294\u001b[0m \u001b[38;5;124;03m        :context: close-figs\u001b[39;00m\n\u001b[1;32m   1295\u001b[0m \n\u001b[1;32m   1296\u001b[0m \u001b[38;5;124;03m        >>> data = np.random.randn(25, 4)\u001b[39;00m\n\u001b[1;32m   1297\u001b[0m \u001b[38;5;124;03m        >>> df = pd.DataFrame(data, columns=list('ABCD'))\u001b[39;00m\n\u001b[1;32m   1298\u001b[0m \u001b[38;5;124;03m        >>> ax = df.plot.box()\u001b[39;00m\n\u001b[1;32m   1299\u001b[0m \n\u001b[1;32m   1300\u001b[0m \u001b[38;5;124;03m    You can also generate groupings if you specify the `by` parameter (which\u001b[39;00m\n\u001b[1;32m   1301\u001b[0m \u001b[38;5;124;03m    can take a column name, or a list or tuple of column names):\u001b[39;00m\n\u001b[1;32m   1302\u001b[0m \n\u001b[1;32m   1303\u001b[0m \u001b[38;5;124;03m    .. versionchanged:: 1.4.0\u001b[39;00m\n\u001b[1;32m   1304\u001b[0m \n\u001b[1;32m   1305\u001b[0m \u001b[38;5;124;03m    .. plot::\u001b[39;00m\n\u001b[1;32m   1306\u001b[0m \u001b[38;5;124;03m        :context: close-figs\u001b[39;00m\n\u001b[1;32m   1307\u001b[0m \n\u001b[1;32m   1308\u001b[0m \u001b[38;5;124;03m        >>> age_list = [8, 10, 12, 14, 72, 74, 76, 78, 20, 25, 30, 35, 60, 85]\u001b[39;00m\n\u001b[1;32m   1309\u001b[0m \u001b[38;5;124;03m        >>> df = pd.DataFrame({\"gender\": list(\"MMMMMMMMFFFFFF\"), \"age\": age_list})\u001b[39;00m\n\u001b[1;32m   1310\u001b[0m \u001b[38;5;124;03m        >>> ax = df.plot.box(column=\"age\", by=\"gender\", figsize=(10, 8))\u001b[39;00m\n\u001b[1;32m   1311\u001b[0m \u001b[38;5;124;03m    \"\"\"\u001b[39;00m\n\u001b[1;32m   1312\u001b[0m     \u001b[38;5;28;01mreturn\u001b[39;00m \u001b[38;5;28mself\u001b[39m(kind\u001b[38;5;241m=\u001b[39m\u001b[38;5;124m\"\u001b[39m\u001b[38;5;124mbox\u001b[39m\u001b[38;5;124m\"\u001b[39m, by\u001b[38;5;241m=\u001b[39mby, \u001b[38;5;241m*\u001b[39m\u001b[38;5;241m*\u001b[39mkwargs)\n",
      "File \u001b[0;32m~/miniconda3/lib/python3.11/site-packages/pandas/plotting/_core.py:947\u001b[0m, in \u001b[0;36m__call__\u001b[0;34m(self, *args, **kwargs)\u001b[0m\n\u001b[1;32m    945\u001b[0m         \u001b[38;5;28;01mreturn\u001b[39;00m plot_backend\u001b[38;5;241m.\u001b[39mplot(data, x\u001b[38;5;241m=\u001b[39mx, y\u001b[38;5;241m=\u001b[39my, kind\u001b[38;5;241m=\u001b[39mkind, \u001b[38;5;241m*\u001b[39m\u001b[38;5;241m*\u001b[39mkwargs)\n\u001b[1;32m    946\u001b[0m     \u001b[38;5;28;01melse\u001b[39;00m:\n\u001b[0;32m--> 947\u001b[0m         \u001b[38;5;28;01mraise\u001b[39;00m \u001b[38;5;167;01mValueError\u001b[39;00m(\u001b[38;5;124mf\u001b[39m\u001b[38;5;124m\"\u001b[39m\u001b[38;5;124mplot kind \u001b[39m\u001b[38;5;132;01m{\u001b[39;00mkind\u001b[38;5;132;01m}\u001b[39;00m\u001b[38;5;124m can only be used for data frames\u001b[39m\u001b[38;5;124m\"\u001b[39m)\n\u001b[1;32m    948\u001b[0m \u001b[38;5;28;01melif\u001b[39;00m kind \u001b[38;5;129;01min\u001b[39;00m \u001b[38;5;28mself\u001b[39m\u001b[38;5;241m.\u001b[39m_series_kinds:\n\u001b[1;32m    949\u001b[0m     \u001b[38;5;28;01mif\u001b[39;00m \u001b[38;5;28misinstance\u001b[39m(data, ABCDataFrame):\n",
      "File \u001b[0;32m~/miniconda3/lib/python3.11/site-packages/pandas/plotting/_core.py:1944\u001b[0m, in \u001b[0;36m_get_plot_backend\u001b[0;34m(backend)\u001b[0m\n\u001b[1;32m      0\u001b[0m <Error retrieving source code with stack_data see ipython/ipython#13598>\n",
      "File \u001b[0;32m~/miniconda3/lib/python3.11/site-packages/pandas/plotting/_core.py:1874\u001b[0m, in \u001b[0;36m_load_backend\u001b[0;34m(backend)\u001b[0m\n\u001b[1;32m   1862\u001b[0m \u001b[38;5;28;01mdef\u001b[39;00m \u001b[38;5;21m_get_plot_backend\u001b[39m(backend: \u001b[38;5;28mstr\u001b[39m \u001b[38;5;241m|\u001b[39m \u001b[38;5;28;01mNone\u001b[39;00m \u001b[38;5;241m=\u001b[39m \u001b[38;5;28;01mNone\u001b[39;00m):\n\u001b[1;32m   1863\u001b[0m \u001b[38;5;250m    \u001b[39m\u001b[38;5;124;03m\"\"\"\u001b[39;00m\n\u001b[1;32m   1864\u001b[0m \u001b[38;5;124;03m    Return the plotting backend to use (e.g. `pandas.plotting._matplotlib`).\u001b[39;00m\n\u001b[1;32m   1865\u001b[0m \n\u001b[1;32m   1866\u001b[0m \u001b[38;5;124;03m    The plotting system of pandas uses matplotlib by default, but the idea here\u001b[39;00m\n\u001b[1;32m   1867\u001b[0m \u001b[38;5;124;03m    is that it can also work with other third-party backends. This function\u001b[39;00m\n\u001b[1;32m   1868\u001b[0m \u001b[38;5;124;03m    returns the module which provides a top-level `.plot` method that will\u001b[39;00m\n\u001b[1;32m   1869\u001b[0m \u001b[38;5;124;03m    actually do the plotting. The backend is specified from a string, which\u001b[39;00m\n\u001b[1;32m   1870\u001b[0m \u001b[38;5;124;03m    either comes from the keyword argument `backend`, or, if not specified, from\u001b[39;00m\n\u001b[1;32m   1871\u001b[0m \u001b[38;5;124;03m    the option `pandas.options.plotting.backend`. All the rest of the code in\u001b[39;00m\n\u001b[1;32m   1872\u001b[0m \u001b[38;5;124;03m    this file uses the backend specified there for the plotting.\u001b[39;00m\n\u001b[1;32m   1873\u001b[0m \n\u001b[0;32m-> 1874\u001b[0m \u001b[38;5;124;03m    The backend is imported lazily, as matplotlib is a soft dependency, and\u001b[39;00m\n\u001b[1;32m   1875\u001b[0m \u001b[38;5;124;03m    pandas can be used without it being installed.\u001b[39;00m\n\u001b[1;32m   1876\u001b[0m \n\u001b[1;32m   1877\u001b[0m \u001b[38;5;124;03m    Notes\u001b[39;00m\n\u001b[1;32m   1878\u001b[0m \u001b[38;5;124;03m    -----\u001b[39;00m\n\u001b[1;32m   1879\u001b[0m \u001b[38;5;124;03m    Modifies `_backends` with imported backend as a side effect.\u001b[39;00m\n\u001b[1;32m   1880\u001b[0m \u001b[38;5;124;03m    \"\"\"\u001b[39;00m\n\u001b[1;32m   1881\u001b[0m     backend_str: \u001b[38;5;28mstr\u001b[39m \u001b[38;5;241m=\u001b[39m backend \u001b[38;5;129;01mor\u001b[39;00m get_option(\u001b[38;5;124m\"\u001b[39m\u001b[38;5;124mplotting.backend\u001b[39m\u001b[38;5;124m\"\u001b[39m)\n\u001b[1;32m   1883\u001b[0m     \u001b[38;5;28;01mif\u001b[39;00m backend_str \u001b[38;5;129;01min\u001b[39;00m _backends:\n",
      "\u001b[0;31mImportError\u001b[0m: matplotlib is required for plotting when the default backend \"matplotlib\" is selected."
     ]
    },
    {
     "data": {
      "image/png": "[encoded data removed]",
      "text/plain": [
       "<Figure size 1000x600 with 1 Axes>"
      ]
     },
     "metadata": {},
     "output_type": "display_data"
    }
   ],
   "source": [
    "fig, ax = plt.subplots(figsize=(10,6))\n",
    "#These timings are current as of Aug 2, 2021\n",
    "data = [[614.2, 19.5, 27.7],\n",
    "         [16.4, .137, 4.3]]\n",
    "\n",
    "steps = ['read_csv','merge', 'pyt inference']\n",
    "\n",
    "steps.reverse()\n",
    "data[0].reverse()\n",
    "data[1].reverse()\n",
    "cpu = data[0]\n",
    "a100 = data[1]\n",
    "DF = pd.DataFrame({'NVIDIA Ampere A100 GPU': a100,\n",
    "                   'Intel Xeon E5-2698 CPU': cpu}, index=steps)\n",
    "dct = {\"NVIDIA Ampere A100 GPU\": \"#76B900\",\"CPU\": \"turquoise\"}\n",
    "_ = DF.plot.barh(color=dct.values(), ax=ax)\n",
    "ax.set_title('Run times on CPU and GPU')\n",
    "ax.set_xlabel('latency in seconds')\n",
    "plt.suptitle(\"                  RAPIDS GPU Acceleration of read_csv, merge, DL inference\")\n",
    "ax.legend(loc='lower right')\n",
    "plt.tight_layout()\n",
    "# print(\"                  RAPIDS GPU Acceleration of read_csv, merge, DL inference\")\n",
    "plt.savefig(f'{figures_path}/perf_plot_preprocess.png', dpi=600)"
   ]
  },
  {
   "cell_type": "code",
   "execution_count": 91,
   "id": "d06a51d0-1341-45bf-a4e3-dc849bfb9409",
   "metadata": {},
   "outputs": [
    {
     "ename": "ImportError",
     "evalue": "matplotlib is required for plotting when the default backend \"matplotlib\" is selected.",
     "output_type": "error",
     "traceback": [
      "\u001b[0;31m---------------------------------------------------------------------------\u001b[0m",
      "\u001b[0;31mImportError\u001b[0m                               Traceback (most recent call last)",
      "Cell \u001b[0;32mIn[91], line 16\u001b[0m\n\u001b[1;32m     13\u001b[0m DF \u001b[38;5;241m=\u001b[39m pd\u001b[38;5;241m.\u001b[39mDataFrame({\u001b[38;5;124m'\u001b[39m\u001b[38;5;124mNVIDIA A100 GPU\u001b[39m\u001b[38;5;124m'\u001b[39m: a100,\n\u001b[1;32m     14\u001b[0m                    \u001b[38;5;124m'\u001b[39m\u001b[38;5;124mIntel Xeon E5-2698 CPU\u001b[39m\u001b[38;5;124m'\u001b[39m: cpu}, index\u001b[38;5;241m=\u001b[39msteps)\n\u001b[1;32m     15\u001b[0m dct \u001b[38;5;241m=\u001b[39m {\u001b[38;5;124m\"\u001b[39m\u001b[38;5;124mNVIDIA Ampere A100 GPU\u001b[39m\u001b[38;5;124m\"\u001b[39m: \u001b[38;5;124m\"\u001b[39m\u001b[38;5;124m#76B900\u001b[39m\u001b[38;5;124m\"\u001b[39m,\u001b[38;5;124m\"\u001b[39m\u001b[38;5;124mCPU\u001b[39m\u001b[38;5;124m\"\u001b[39m: \u001b[38;5;124m\"\u001b[39m\u001b[38;5;124mturquoise\u001b[39m\u001b[38;5;124m\"\u001b[39m}\n\u001b[0;32m---> 16\u001b[0m _ \u001b[38;5;241m=\u001b[39m \u001b[43mDF\u001b[49m\u001b[38;5;241;43m.\u001b[39;49m\u001b[43mplot\u001b[49m\u001b[38;5;241;43m.\u001b[39;49m\u001b[43mbarh\u001b[49m\u001b[43m(\u001b[49m\u001b[43mcolor\u001b[49m\u001b[38;5;241;43m=\u001b[39;49m\u001b[38;5;28;43mdict\u001b[39;49m\u001b[38;5;241;43m.\u001b[39;49m\u001b[43mvalues\u001b[49m\u001b[43m(\u001b[49m\u001b[43m)\u001b[49m\u001b[43m,\u001b[49m\u001b[43m \u001b[49m\u001b[43max\u001b[49m\u001b[38;5;241;43m=\u001b[39;49m\u001b[43max\u001b[49m\u001b[43m)\u001b[49m\n\u001b[1;32m     17\u001b[0m ax\u001b[38;5;241m.\u001b[39mset_title(\u001b[38;5;124m'\u001b[39m\u001b[38;5;124mRun times on CPU and GPU\u001b[39m\u001b[38;5;124m'\u001b[39m)\n\u001b[1;32m     18\u001b[0m ax\u001b[38;5;241m.\u001b[39mset_xlabel(\u001b[38;5;124m'\u001b[39m\u001b[38;5;124mlatency in seconds\u001b[39m\u001b[38;5;124m'\u001b[39m)\n",
      "File \u001b[0;32m~/miniconda3/lib/python3.11/site-packages/pandas/plotting/_core.py:1280\u001b[0m, in \u001b[0;36mbarh\u001b[0;34m(self, x, y, **kwargs)\u001b[0m\n\u001b[1;32m   1247\u001b[0m \u001b[38;5;28;01mdef\u001b[39;00m \u001b[38;5;21mbox\u001b[39m(\u001b[38;5;28mself\u001b[39m, by\u001b[38;5;241m=\u001b[39m\u001b[38;5;28;01mNone\u001b[39;00m, \u001b[38;5;241m*\u001b[39m\u001b[38;5;241m*\u001b[39mkwargs) \u001b[38;5;241m-\u001b[39m\u001b[38;5;241m>\u001b[39m PlotAccessor:\n\u001b[1;32m   1248\u001b[0m \u001b[38;5;250m    \u001b[39m\u001b[38;5;124mr\u001b[39m\u001b[38;5;124;03m\"\"\"\u001b[39;00m\n\u001b[1;32m   1249\u001b[0m \u001b[38;5;124;03m    Make a box plot of the DataFrame columns.\u001b[39;00m\n\u001b[1;32m   1250\u001b[0m \n\u001b[1;32m   1251\u001b[0m \u001b[38;5;124;03m    A box plot is a method for graphically depicting groups of numerical\u001b[39;00m\n\u001b[1;32m   1252\u001b[0m \u001b[38;5;124;03m    data through their quartiles.\u001b[39;00m\n\u001b[1;32m   1253\u001b[0m \u001b[38;5;124;03m    The box extends from the Q1 to Q3 quartile values of the data,\u001b[39;00m\n\u001b[1;32m   1254\u001b[0m \u001b[38;5;124;03m    with a line at the median (Q2). The whiskers extend from the edges\u001b[39;00m\n\u001b[1;32m   1255\u001b[0m \u001b[38;5;124;03m    of box to show the range of the data. The position of the whiskers\u001b[39;00m\n\u001b[1;32m   1256\u001b[0m \u001b[38;5;124;03m    is set by default to 1.5*IQR (IQR = Q3 - Q1) from the edges of the\u001b[39;00m\n\u001b[1;32m   1257\u001b[0m \u001b[38;5;124;03m    box. Outlier points are those past the end of the whiskers.\u001b[39;00m\n\u001b[1;32m   1258\u001b[0m \n\u001b[1;32m   1259\u001b[0m \u001b[38;5;124;03m    For further details see Wikipedia's\u001b[39;00m\n\u001b[1;32m   1260\u001b[0m \u001b[38;5;124;03m    entry for `boxplot <https://en.wikipedia.org/wiki/Box_plot>`__.\u001b[39;00m\n\u001b[1;32m   1261\u001b[0m \n\u001b[1;32m   1262\u001b[0m \u001b[38;5;124;03m    A consideration when using this chart is that the box and the whiskers\u001b[39;00m\n\u001b[1;32m   1263\u001b[0m \u001b[38;5;124;03m    can overlap, which is very common when plotting small sets of data.\u001b[39;00m\n\u001b[1;32m   1264\u001b[0m \n\u001b[1;32m   1265\u001b[0m \u001b[38;5;124;03m    Parameters\u001b[39;00m\n\u001b[1;32m   1266\u001b[0m \u001b[38;5;124;03m    ----------\u001b[39;00m\n\u001b[1;32m   1267\u001b[0m \u001b[38;5;124;03m    by : str or sequence\u001b[39;00m\n\u001b[1;32m   1268\u001b[0m \u001b[38;5;124;03m        Column in the DataFrame to group by.\u001b[39;00m\n\u001b[1;32m   1269\u001b[0m \n\u001b[1;32m   1270\u001b[0m \u001b[38;5;124;03m        .. versionchanged:: 1.4.0\u001b[39;00m\n\u001b[1;32m   1271\u001b[0m \n\u001b[1;32m   1272\u001b[0m \u001b[38;5;124;03m           Previously, `by` is silently ignore and makes no groupings\u001b[39;00m\n\u001b[1;32m   1273\u001b[0m \n\u001b[1;32m   1274\u001b[0m \u001b[38;5;124;03m    **kwargs\u001b[39;00m\n\u001b[1;32m   1275\u001b[0m \u001b[38;5;124;03m        Additional keywords are documented in\u001b[39;00m\n\u001b[1;32m   1276\u001b[0m \u001b[38;5;124;03m        :meth:`DataFrame.plot`.\u001b[39;00m\n\u001b[1;32m   1277\u001b[0m \n\u001b[1;32m   1278\u001b[0m \u001b[38;5;124;03m    Returns\u001b[39;00m\n\u001b[1;32m   1279\u001b[0m \u001b[38;5;124;03m    -------\u001b[39;00m\n\u001b[0;32m-> 1280\u001b[0m \u001b[38;5;124;03m    :class:`matplotlib.axes.Axes` or numpy.ndarray of them\u001b[39;00m\n\u001b[1;32m   1281\u001b[0m \n\u001b[1;32m   1282\u001b[0m \u001b[38;5;124;03m    See Also\u001b[39;00m\n\u001b[1;32m   1283\u001b[0m \u001b[38;5;124;03m    --------\u001b[39;00m\n\u001b[1;32m   1284\u001b[0m \u001b[38;5;124;03m    DataFrame.boxplot: Another method to draw a box plot.\u001b[39;00m\n\u001b[1;32m   1285\u001b[0m \u001b[38;5;124;03m    Series.plot.box: Draw a box plot from a Series object.\u001b[39;00m\n\u001b[1;32m   1286\u001b[0m \u001b[38;5;124;03m    matplotlib.pyplot.boxplot: Draw a box plot in matplotlib.\u001b[39;00m\n\u001b[1;32m   1287\u001b[0m \n\u001b[1;32m   1288\u001b[0m \u001b[38;5;124;03m    Examples\u001b[39;00m\n\u001b[1;32m   1289\u001b[0m \u001b[38;5;124;03m    --------\u001b[39;00m\n\u001b[1;32m   1290\u001b[0m \u001b[38;5;124;03m    Draw a box plot from a DataFrame with four columns of randomly\u001b[39;00m\n\u001b[1;32m   1291\u001b[0m \u001b[38;5;124;03m    generated data.\u001b[39;00m\n\u001b[1;32m   1292\u001b[0m \n\u001b[1;32m   1293\u001b[0m \u001b[38;5;124;03m    .. plot::\u001b[39;00m\n\u001b[1;32m   1294\u001b[0m \u001b[38;5;124;03m        :context: close-figs\u001b[39;00m\n\u001b[1;32m   1295\u001b[0m \n\u001b[1;32m   1296\u001b[0m \u001b[38;5;124;03m        >>> data = np.random.randn(25, 4)\u001b[39;00m\n\u001b[1;32m   1297\u001b[0m \u001b[38;5;124;03m        >>> df = pd.DataFrame(data, columns=list('ABCD'))\u001b[39;00m\n\u001b[1;32m   1298\u001b[0m \u001b[38;5;124;03m        >>> ax = df.plot.box()\u001b[39;00m\n\u001b[1;32m   1299\u001b[0m \n\u001b[1;32m   1300\u001b[0m \u001b[38;5;124;03m    You can also generate groupings if you specify the `by` parameter (which\u001b[39;00m\n\u001b[1;32m   1301\u001b[0m \u001b[38;5;124;03m    can take a column name, or a list or tuple of column names):\u001b[39;00m\n\u001b[1;32m   1302\u001b[0m \n\u001b[1;32m   1303\u001b[0m \u001b[38;5;124;03m    .. versionchanged:: 1.4.0\u001b[39;00m\n\u001b[1;32m   1304\u001b[0m \n\u001b[1;32m   1305\u001b[0m \u001b[38;5;124;03m    .. plot::\u001b[39;00m\n\u001b[1;32m   1306\u001b[0m \u001b[38;5;124;03m        :context: close-figs\u001b[39;00m\n\u001b[1;32m   1307\u001b[0m \n\u001b[1;32m   1308\u001b[0m \u001b[38;5;124;03m        >>> age_list = [8, 10, 12, 14, 72, 74, 76, 78, 20, 25, 30, 35, 60, 85]\u001b[39;00m\n\u001b[1;32m   1309\u001b[0m \u001b[38;5;124;03m        >>> df = pd.DataFrame({\"gender\": list(\"MMMMMMMMFFFFFF\"), \"age\": age_list})\u001b[39;00m\n\u001b[1;32m   1310\u001b[0m \u001b[38;5;124;03m        >>> ax = df.plot.box(column=\"age\", by=\"gender\", figsize=(10, 8))\u001b[39;00m\n\u001b[1;32m   1311\u001b[0m \u001b[38;5;124;03m    \"\"\"\u001b[39;00m\n\u001b[1;32m   1312\u001b[0m     \u001b[38;5;28;01mreturn\u001b[39;00m \u001b[38;5;28mself\u001b[39m(kind\u001b[38;5;241m=\u001b[39m\u001b[38;5;124m\"\u001b[39m\u001b[38;5;124mbox\u001b[39m\u001b[38;5;124m\"\u001b[39m, by\u001b[38;5;241m=\u001b[39mby, \u001b[38;5;241m*\u001b[39m\u001b[38;5;241m*\u001b[39mkwargs)\n",
      "File \u001b[0;32m~/miniconda3/lib/python3.11/site-packages/pandas/plotting/_core.py:947\u001b[0m, in \u001b[0;36m__call__\u001b[0;34m(self, *args, **kwargs)\u001b[0m\n\u001b[1;32m    945\u001b[0m         \u001b[38;5;28;01mreturn\u001b[39;00m plot_backend\u001b[38;5;241m.\u001b[39mplot(data, x\u001b[38;5;241m=\u001b[39mx, y\u001b[38;5;241m=\u001b[39my, kind\u001b[38;5;241m=\u001b[39mkind, \u001b[38;5;241m*\u001b[39m\u001b[38;5;241m*\u001b[39mkwargs)\n\u001b[1;32m    946\u001b[0m     \u001b[38;5;28;01melse\u001b[39;00m:\n\u001b[0;32m--> 947\u001b[0m         \u001b[38;5;28;01mraise\u001b[39;00m \u001b[38;5;167;01mValueError\u001b[39;00m(\u001b[38;5;124mf\u001b[39m\u001b[38;5;124m\"\u001b[39m\u001b[38;5;124mplot kind \u001b[39m\u001b[38;5;132;01m{\u001b[39;00mkind\u001b[38;5;132;01m}\u001b[39;00m\u001b[38;5;124m can only be used for data frames\u001b[39m\u001b[38;5;124m\"\u001b[39m)\n\u001b[1;32m    948\u001b[0m \u001b[38;5;28;01melif\u001b[39;00m kind \u001b[38;5;129;01min\u001b[39;00m \u001b[38;5;28mself\u001b[39m\u001b[38;5;241m.\u001b[39m_series_kinds:\n\u001b[1;32m    949\u001b[0m     \u001b[38;5;28;01mif\u001b[39;00m \u001b[38;5;28misinstance\u001b[39m(data, ABCDataFrame):\n",
      "File \u001b[0;32m~/miniconda3/lib/python3.11/site-packages/pandas/plotting/_core.py:1944\u001b[0m, in \u001b[0;36m_get_plot_backend\u001b[0;34m(backend)\u001b[0m\n\u001b[1;32m      0\u001b[0m <Error retrieving source code with stack_data see ipython/ipython#13598>\n",
      "File \u001b[0;32m~/miniconda3/lib/python3.11/site-packages/pandas/plotting/_core.py:1874\u001b[0m, in \u001b[0;36m_load_backend\u001b[0;34m(backend)\u001b[0m\n\u001b[1;32m   1862\u001b[0m \u001b[38;5;28;01mdef\u001b[39;00m \u001b[38;5;21m_get_plot_backend\u001b[39m(backend: \u001b[38;5;28mstr\u001b[39m \u001b[38;5;241m|\u001b[39m \u001b[38;5;28;01mNone\u001b[39;00m \u001b[38;5;241m=\u001b[39m \u001b[38;5;28;01mNone\u001b[39;00m):\n\u001b[1;32m   1863\u001b[0m \u001b[38;5;250m    \u001b[39m\u001b[38;5;124;03m\"\"\"\u001b[39;00m\n\u001b[1;32m   1864\u001b[0m \u001b[38;5;124;03m    Return the plotting backend to use (e.g. `pandas.plotting._matplotlib`).\u001b[39;00m\n\u001b[1;32m   1865\u001b[0m \n\u001b[1;32m   1866\u001b[0m \u001b[38;5;124;03m    The plotting system of pandas uses matplotlib by default, but the idea here\u001b[39;00m\n\u001b[1;32m   1867\u001b[0m \u001b[38;5;124;03m    is that it can also work with other third-party backends. This function\u001b[39;00m\n\u001b[1;32m   1868\u001b[0m \u001b[38;5;124;03m    returns the module which provides a top-level `.plot` method that will\u001b[39;00m\n\u001b[1;32m   1869\u001b[0m \u001b[38;5;124;03m    actually do the plotting. The backend is specified from a string, which\u001b[39;00m\n\u001b[1;32m   1870\u001b[0m \u001b[38;5;124;03m    either comes from the keyword argument `backend`, or, if not specified, from\u001b[39;00m\n\u001b[1;32m   1871\u001b[0m \u001b[38;5;124;03m    the option `pandas.options.plotting.backend`. All the rest of the code in\u001b[39;00m\n\u001b[1;32m   1872\u001b[0m \u001b[38;5;124;03m    this file uses the backend specified there for the plotting.\u001b[39;00m\n\u001b[1;32m   1873\u001b[0m \n\u001b[0;32m-> 1874\u001b[0m \u001b[38;5;124;03m    The backend is imported lazily, as matplotlib is a soft dependency, and\u001b[39;00m\n\u001b[1;32m   1875\u001b[0m \u001b[38;5;124;03m    pandas can be used without it being installed.\u001b[39;00m\n\u001b[1;32m   1876\u001b[0m \n\u001b[1;32m   1877\u001b[0m \u001b[38;5;124;03m    Notes\u001b[39;00m\n\u001b[1;32m   1878\u001b[0m \u001b[38;5;124;03m    -----\u001b[39;00m\n\u001b[1;32m   1879\u001b[0m \u001b[38;5;124;03m    Modifies `_backends` with imported backend as a side effect.\u001b[39;00m\n\u001b[1;32m   1880\u001b[0m \u001b[38;5;124;03m    \"\"\"\u001b[39;00m\n\u001b[1;32m   1881\u001b[0m     backend_str: \u001b[38;5;28mstr\u001b[39m \u001b[38;5;241m=\u001b[39m backend \u001b[38;5;129;01mor\u001b[39;00m get_option(\u001b[38;5;124m\"\u001b[39m\u001b[38;5;124mplotting.backend\u001b[39m\u001b[38;5;124m\"\u001b[39m)\n\u001b[1;32m   1883\u001b[0m     \u001b[38;5;28;01mif\u001b[39;00m backend_str \u001b[38;5;129;01min\u001b[39;00m _backends:\n",
      "\u001b[0;31mImportError\u001b[0m: matplotlib is required for plotting when the default backend \"matplotlib\" is selected."
     ]
    },
    {
     "data": {
      "image/png": "[encoded data removed]",
      "text/plain": [
       "<Figure size 1200x600 with 1 Axes>"
      ]
     },
     "metadata": {},
     "output_type": "display_data"
    }
   ],
   "source": [
    "fig, ax = plt.subplots(figsize=(12,6))\n",
    "#These timings are current as of Aug 2, 2021\n",
    "data = [[125.9, 1821.1, 9370.6, 0.0, 504.0],\n",
    "         [54.6, 102.1, 3712.4, 631.0, 254.9]]\n",
    "\n",
    "steps = ['xgb train', 'xgb shap', 'pyt train', 'nvtabular train\\n(GPU only)',\n",
    "         'captum\\ngradientshap']\n",
    "steps.reverse()\n",
    "data[0].reverse()\n",
    "data[1].reverse()\n",
    "cpu = data[0]\n",
    "a100 = data[1]\n",
    "DF = pd.DataFrame({'NVIDIA A100 GPU': a100,\n",
    "                   'Intel Xeon E5-2698 CPU': cpu}, index=steps)\n",
    "dct = {\"NVIDIA Ampere A100 GPU\": \"#76B900\",\"CPU\": \"turquoise\"}\n",
    "_ = DF.plot.barh(color=dict.values(), ax=ax)\n",
    "ax.set_title('Run times on CPU and GPU')\n",
    "ax.set_xlabel('latency in seconds')\n",
    "plt.suptitle(\"                  RAPIDS GPU Acceleration of ML and DL train, NVTabular train, and Shapley ML and DL Explanation\")\n",
    "ax.legend(loc='lower right')\n",
    "plt.tight_layout()\n",
    "plt.savefig(f'{figures_path}/perf_plot_train.png', dpi=800)\n",
    "# print(\"    RAPIDS GPU Acceleration of ML and DL train, NVTabular train, and Shapley ML and DL Explanation\")\n"
   ]
  },
  {
   "cell_type": "code",
   "execution_count": 92,
   "id": "d167a4ab-05c8-4445-b5da-5750b43cc628",
   "metadata": {},
   "outputs": [
    {
     "ename": "ImportError",
     "evalue": "matplotlib is required for plotting when the default backend \"matplotlib\" is selected.",
     "output_type": "error",
     "traceback": [
      "\u001b[0;31m---------------------------------------------------------------------------\u001b[0m",
      "\u001b[0;31mImportError\u001b[0m                               Traceback (most recent call last)",
      "Cell \u001b[0;32mIn[92], line 16\u001b[0m\n\u001b[1;32m     12\u001b[0m DF \u001b[38;5;241m=\u001b[39m pd\u001b[38;5;241m.\u001b[39mDataFrame({\u001b[38;5;124m'\u001b[39m\u001b[38;5;124mPyTorch via NVTabular API on GPU\u001b[39m\u001b[38;5;124m'\u001b[39m: nvt_a100, \u001b[38;5;124m'\u001b[39m\u001b[38;5;124mPyTorch on GPU\u001b[39m\u001b[38;5;124m'\u001b[39m: pyt_a100},\n\u001b[1;32m     13\u001b[0m                   index\u001b[38;5;241m=\u001b[39m[\u001b[38;5;124m'\u001b[39m\u001b[38;5;124mtraining\u001b[39m\u001b[38;5;130;01m\\n\u001b[39;00m\u001b[38;5;124mepoch\u001b[39m\u001b[38;5;130;01m\\n\u001b[39;00m\u001b[38;5;124mloop\u001b[39m\u001b[38;5;124m'\u001b[39m],\n\u001b[1;32m     14\u001b[0m                  )\n\u001b[1;32m     15\u001b[0m color_dict \u001b[38;5;241m=\u001b[39m {\u001b[38;5;124m\"\u001b[39m\u001b[38;5;124mPyTorch via NVTabular API on GPU\u001b[39m\u001b[38;5;124m\"\u001b[39m:  \u001b[38;5;124m\"\u001b[39m\u001b[38;5;124m#76B900\u001b[39m\u001b[38;5;124m\"\u001b[39m, \u001b[38;5;124m\"\u001b[39m\u001b[38;5;124mPyTorch on GPU\u001b[39m\u001b[38;5;124m\"\u001b[39m: \u001b[38;5;124m\"\u001b[39m\u001b[38;5;124mpink\u001b[39m\u001b[38;5;124m\"\u001b[39m}\n\u001b[0;32m---> 16\u001b[0m _ \u001b[38;5;241m=\u001b[39m \u001b[43mDF\u001b[49m\u001b[38;5;241;43m.\u001b[39;49m\u001b[43mplot\u001b[49m\u001b[38;5;241;43m.\u001b[39;49m\u001b[43mbarh\u001b[49m\u001b[43m(\u001b[49m\u001b[43mcolor\u001b[49m\u001b[38;5;241;43m=\u001b[39;49m\u001b[43mcolor_dict\u001b[49m\u001b[38;5;241;43m.\u001b[39;49m\u001b[43mvalues\u001b[49m\u001b[43m(\u001b[49m\u001b[43m)\u001b[49m\u001b[43m,\u001b[49m\u001b[43m \u001b[49m\u001b[43max\u001b[49m\u001b[38;5;241;43m=\u001b[39;49m\u001b[43max\u001b[49m\u001b[43m)\u001b[49m\n\u001b[1;32m     17\u001b[0m ax\u001b[38;5;241m.\u001b[39mset_title(\u001b[38;5;124m'\u001b[39m\u001b[38;5;124mModel train times with and without NVTabular on GPU\u001b[39m\u001b[38;5;124m'\u001b[39m)\n\u001b[1;32m     18\u001b[0m ax\u001b[38;5;241m.\u001b[39mset_xlabel(\u001b[38;5;124m'\u001b[39m\u001b[38;5;124mlatency in seconds\u001b[39m\u001b[38;5;124m'\u001b[39m)\n",
      "File \u001b[0;32m~/miniconda3/lib/python3.11/site-packages/pandas/plotting/_core.py:1280\u001b[0m, in \u001b[0;36mbarh\u001b[0;34m(self, x, y, **kwargs)\u001b[0m\n\u001b[1;32m   1247\u001b[0m \u001b[38;5;28;01mdef\u001b[39;00m \u001b[38;5;21mbox\u001b[39m(\u001b[38;5;28mself\u001b[39m, by\u001b[38;5;241m=\u001b[39m\u001b[38;5;28;01mNone\u001b[39;00m, \u001b[38;5;241m*\u001b[39m\u001b[38;5;241m*\u001b[39mkwargs) \u001b[38;5;241m-\u001b[39m\u001b[38;5;241m>\u001b[39m PlotAccessor:\n\u001b[1;32m   1248\u001b[0m \u001b[38;5;250m    \u001b[39m\u001b[38;5;124mr\u001b[39m\u001b[38;5;124;03m\"\"\"\u001b[39;00m\n\u001b[1;32m   1249\u001b[0m \u001b[38;5;124;03m    Make a box plot of the DataFrame columns.\u001b[39;00m\n\u001b[1;32m   1250\u001b[0m \n\u001b[1;32m   1251\u001b[0m \u001b[38;5;124;03m    A box plot is a method for graphically depicting groups of numerical\u001b[39;00m\n\u001b[1;32m   1252\u001b[0m \u001b[38;5;124;03m    data through their quartiles.\u001b[39;00m\n\u001b[1;32m   1253\u001b[0m \u001b[38;5;124;03m    The box extends from the Q1 to Q3 quartile values of the data,\u001b[39;00m\n\u001b[1;32m   1254\u001b[0m \u001b[38;5;124;03m    with a line at the median (Q2). The whiskers extend from the edges\u001b[39;00m\n\u001b[1;32m   1255\u001b[0m \u001b[38;5;124;03m    of box to show the range of the data. The position of the whiskers\u001b[39;00m\n\u001b[1;32m   1256\u001b[0m \u001b[38;5;124;03m    is set by default to 1.5*IQR (IQR = Q3 - Q1) from the edges of the\u001b[39;00m\n\u001b[1;32m   1257\u001b[0m \u001b[38;5;124;03m    box. Outlier points are those past the end of the whiskers.\u001b[39;00m\n\u001b[1;32m   1258\u001b[0m \n\u001b[1;32m   1259\u001b[0m \u001b[38;5;124;03m    For further details see Wikipedia's\u001b[39;00m\n\u001b[1;32m   1260\u001b[0m \u001b[38;5;124;03m    entry for `boxplot <https://en.wikipedia.org/wiki/Box_plot>`__.\u001b[39;00m\n\u001b[1;32m   1261\u001b[0m \n\u001b[1;32m   1262\u001b[0m \u001b[38;5;124;03m    A consideration when using this chart is that the box and the whiskers\u001b[39;00m\n\u001b[1;32m   1263\u001b[0m \u001b[38;5;124;03m    can overlap, which is very common when plotting small sets of data.\u001b[39;00m\n\u001b[1;32m   1264\u001b[0m \n\u001b[1;32m   1265\u001b[0m \u001b[38;5;124;03m    Parameters\u001b[39;00m\n\u001b[1;32m   1266\u001b[0m \u001b[38;5;124;03m    ----------\u001b[39;00m\n\u001b[1;32m   1267\u001b[0m \u001b[38;5;124;03m    by : str or sequence\u001b[39;00m\n\u001b[1;32m   1268\u001b[0m \u001b[38;5;124;03m        Column in the DataFrame to group by.\u001b[39;00m\n\u001b[1;32m   1269\u001b[0m \n\u001b[1;32m   1270\u001b[0m \u001b[38;5;124;03m        .. versionchanged:: 1.4.0\u001b[39;00m\n\u001b[1;32m   1271\u001b[0m \n\u001b[1;32m   1272\u001b[0m \u001b[38;5;124;03m           Previously, `by` is silently ignore and makes no groupings\u001b[39;00m\n\u001b[1;32m   1273\u001b[0m \n\u001b[1;32m   1274\u001b[0m \u001b[38;5;124;03m    **kwargs\u001b[39;00m\n\u001b[1;32m   1275\u001b[0m \u001b[38;5;124;03m        Additional keywords are documented in\u001b[39;00m\n\u001b[1;32m   1276\u001b[0m \u001b[38;5;124;03m        :meth:`DataFrame.plot`.\u001b[39;00m\n\u001b[1;32m   1277\u001b[0m \n\u001b[1;32m   1278\u001b[0m \u001b[38;5;124;03m    Returns\u001b[39;00m\n\u001b[1;32m   1279\u001b[0m \u001b[38;5;124;03m    -------\u001b[39;00m\n\u001b[0;32m-> 1280\u001b[0m \u001b[38;5;124;03m    :class:`matplotlib.axes.Axes` or numpy.ndarray of them\u001b[39;00m\n\u001b[1;32m   1281\u001b[0m \n\u001b[1;32m   1282\u001b[0m \u001b[38;5;124;03m    See Also\u001b[39;00m\n\u001b[1;32m   1283\u001b[0m \u001b[38;5;124;03m    --------\u001b[39;00m\n\u001b[1;32m   1284\u001b[0m \u001b[38;5;124;03m    DataFrame.boxplot: Another method to draw a box plot.\u001b[39;00m\n\u001b[1;32m   1285\u001b[0m \u001b[38;5;124;03m    Series.plot.box: Draw a box plot from a Series object.\u001b[39;00m\n\u001b[1;32m   1286\u001b[0m \u001b[38;5;124;03m    matplotlib.pyplot.boxplot: Draw a box plot in matplotlib.\u001b[39;00m\n\u001b[1;32m   1287\u001b[0m \n\u001b[1;32m   1288\u001b[0m \u001b[38;5;124;03m    Examples\u001b[39;00m\n\u001b[1;32m   1289\u001b[0m \u001b[38;5;124;03m    --------\u001b[39;00m\n\u001b[1;32m   1290\u001b[0m \u001b[38;5;124;03m    Draw a box plot from a DataFrame with four columns of randomly\u001b[39;00m\n\u001b[1;32m   1291\u001b[0m \u001b[38;5;124;03m    generated data.\u001b[39;00m\n\u001b[1;32m   1292\u001b[0m \n\u001b[1;32m   1293\u001b[0m \u001b[38;5;124;03m    .. plot::\u001b[39;00m\n\u001b[1;32m   1294\u001b[0m \u001b[38;5;124;03m        :context: close-figs\u001b[39;00m\n\u001b[1;32m   1295\u001b[0m \n\u001b[1;32m   1296\u001b[0m \u001b[38;5;124;03m        >>> data = np.random.randn(25, 4)\u001b[39;00m\n\u001b[1;32m   1297\u001b[0m \u001b[38;5;124;03m        >>> df = pd.DataFrame(data, columns=list('ABCD'))\u001b[39;00m\n\u001b[1;32m   1298\u001b[0m \u001b[38;5;124;03m        >>> ax = df.plot.box()\u001b[39;00m\n\u001b[1;32m   1299\u001b[0m \n\u001b[1;32m   1300\u001b[0m \u001b[38;5;124;03m    You can also generate groupings if you specify the `by` parameter (which\u001b[39;00m\n\u001b[1;32m   1301\u001b[0m \u001b[38;5;124;03m    can take a column name, or a list or tuple of column names):\u001b[39;00m\n\u001b[1;32m   1302\u001b[0m \n\u001b[1;32m   1303\u001b[0m \u001b[38;5;124;03m    .. versionchanged:: 1.4.0\u001b[39;00m\n\u001b[1;32m   1304\u001b[0m \n\u001b[1;32m   1305\u001b[0m \u001b[38;5;124;03m    .. plot::\u001b[39;00m\n\u001b[1;32m   1306\u001b[0m \u001b[38;5;124;03m        :context: close-figs\u001b[39;00m\n\u001b[1;32m   1307\u001b[0m \n\u001b[1;32m   1308\u001b[0m \u001b[38;5;124;03m        >>> age_list = [8, 10, 12, 14, 72, 74, 76, 78, 20, 25, 30, 35, 60, 85]\u001b[39;00m\n\u001b[1;32m   1309\u001b[0m \u001b[38;5;124;03m        >>> df = pd.DataFrame({\"gender\": list(\"MMMMMMMMFFFFFF\"), \"age\": age_list})\u001b[39;00m\n\u001b[1;32m   1310\u001b[0m \u001b[38;5;124;03m        >>> ax = df.plot.box(column=\"age\", by=\"gender\", figsize=(10, 8))\u001b[39;00m\n\u001b[1;32m   1311\u001b[0m \u001b[38;5;124;03m    \"\"\"\u001b[39;00m\n\u001b[1;32m   1312\u001b[0m     \u001b[38;5;28;01mreturn\u001b[39;00m \u001b[38;5;28mself\u001b[39m(kind\u001b[38;5;241m=\u001b[39m\u001b[38;5;124m\"\u001b[39m\u001b[38;5;124mbox\u001b[39m\u001b[38;5;124m\"\u001b[39m, by\u001b[38;5;241m=\u001b[39mby, \u001b[38;5;241m*\u001b[39m\u001b[38;5;241m*\u001b[39mkwargs)\n",
      "File \u001b[0;32m~/miniconda3/lib/python3.11/site-packages/pandas/plotting/_core.py:947\u001b[0m, in \u001b[0;36m__call__\u001b[0;34m(self, *args, **kwargs)\u001b[0m\n\u001b[1;32m    945\u001b[0m         \u001b[38;5;28;01mreturn\u001b[39;00m plot_backend\u001b[38;5;241m.\u001b[39mplot(data, x\u001b[38;5;241m=\u001b[39mx, y\u001b[38;5;241m=\u001b[39my, kind\u001b[38;5;241m=\u001b[39mkind, \u001b[38;5;241m*\u001b[39m\u001b[38;5;241m*\u001b[39mkwargs)\n\u001b[1;32m    946\u001b[0m     \u001b[38;5;28;01melse\u001b[39;00m:\n\u001b[0;32m--> 947\u001b[0m         \u001b[38;5;28;01mraise\u001b[39;00m \u001b[38;5;167;01mValueError\u001b[39;00m(\u001b[38;5;124mf\u001b[39m\u001b[38;5;124m\"\u001b[39m\u001b[38;5;124mplot kind \u001b[39m\u001b[38;5;132;01m{\u001b[39;00mkind\u001b[38;5;132;01m}\u001b[39;00m\u001b[38;5;124m can only be used for data frames\u001b[39m\u001b[38;5;124m\"\u001b[39m)\n\u001b[1;32m    948\u001b[0m \u001b[38;5;28;01melif\u001b[39;00m kind \u001b[38;5;129;01min\u001b[39;00m \u001b[38;5;28mself\u001b[39m\u001b[38;5;241m.\u001b[39m_series_kinds:\n\u001b[1;32m    949\u001b[0m     \u001b[38;5;28;01mif\u001b[39;00m \u001b[38;5;28misinstance\u001b[39m(data, ABCDataFrame):\n",
      "File \u001b[0;32m~/miniconda3/lib/python3.11/site-packages/pandas/plotting/_core.py:1944\u001b[0m, in \u001b[0;36m_get_plot_backend\u001b[0;34m(backend)\u001b[0m\n\u001b[1;32m      0\u001b[0m <Error retrieving source code with stack_data see ipython/ipython#13598>\n",
      "File \u001b[0;32m~/miniconda3/lib/python3.11/site-packages/pandas/plotting/_core.py:1874\u001b[0m, in \u001b[0;36m_load_backend\u001b[0;34m(backend)\u001b[0m\n\u001b[1;32m   1862\u001b[0m \u001b[38;5;28;01mdef\u001b[39;00m \u001b[38;5;21m_get_plot_backend\u001b[39m(backend: \u001b[38;5;28mstr\u001b[39m \u001b[38;5;241m|\u001b[39m \u001b[38;5;28;01mNone\u001b[39;00m \u001b[38;5;241m=\u001b[39m \u001b[38;5;28;01mNone\u001b[39;00m):\n\u001b[1;32m   1863\u001b[0m \u001b[38;5;250m    \u001b[39m\u001b[38;5;124;03m\"\"\"\u001b[39;00m\n\u001b[1;32m   1864\u001b[0m \u001b[38;5;124;03m    Return the plotting backend to use (e.g. `pandas.plotting._matplotlib`).\u001b[39;00m\n\u001b[1;32m   1865\u001b[0m \n\u001b[1;32m   1866\u001b[0m \u001b[38;5;124;03m    The plotting system of pandas uses matplotlib by default, but the idea here\u001b[39;00m\n\u001b[1;32m   1867\u001b[0m \u001b[38;5;124;03m    is that it can also work with other third-party backends. This function\u001b[39;00m\n\u001b[1;32m   1868\u001b[0m \u001b[38;5;124;03m    returns the module which provides a top-level `.plot` method that will\u001b[39;00m\n\u001b[1;32m   1869\u001b[0m \u001b[38;5;124;03m    actually do the plotting. The backend is specified from a string, which\u001b[39;00m\n\u001b[1;32m   1870\u001b[0m \u001b[38;5;124;03m    either comes from the keyword argument `backend`, or, if not specified, from\u001b[39;00m\n\u001b[1;32m   1871\u001b[0m \u001b[38;5;124;03m    the option `pandas.options.plotting.backend`. All the rest of the code in\u001b[39;00m\n\u001b[1;32m   1872\u001b[0m \u001b[38;5;124;03m    this file uses the backend specified there for the plotting.\u001b[39;00m\n\u001b[1;32m   1873\u001b[0m \n\u001b[0;32m-> 1874\u001b[0m \u001b[38;5;124;03m    The backend is imported lazily, as matplotlib is a soft dependency, and\u001b[39;00m\n\u001b[1;32m   1875\u001b[0m \u001b[38;5;124;03m    pandas can be used without it being installed.\u001b[39;00m\n\u001b[1;32m   1876\u001b[0m \n\u001b[1;32m   1877\u001b[0m \u001b[38;5;124;03m    Notes\u001b[39;00m\n\u001b[1;32m   1878\u001b[0m \u001b[38;5;124;03m    -----\u001b[39;00m\n\u001b[1;32m   1879\u001b[0m \u001b[38;5;124;03m    Modifies `_backends` with imported backend as a side effect.\u001b[39;00m\n\u001b[1;32m   1880\u001b[0m \u001b[38;5;124;03m    \"\"\"\u001b[39;00m\n\u001b[1;32m   1881\u001b[0m     backend_str: \u001b[38;5;28mstr\u001b[39m \u001b[38;5;241m=\u001b[39m backend \u001b[38;5;129;01mor\u001b[39;00m get_option(\u001b[38;5;124m\"\u001b[39m\u001b[38;5;124mplotting.backend\u001b[39m\u001b[38;5;124m\"\u001b[39m)\n\u001b[1;32m   1883\u001b[0m     \u001b[38;5;28;01mif\u001b[39;00m backend_str \u001b[38;5;129;01min\u001b[39;00m _backends:\n",
      "\u001b[0;31mImportError\u001b[0m: matplotlib is required for plotting when the default backend \"matplotlib\" is selected."
     ]
    },
    {
     "data": {
      "image/png": "[encoded data removed]",
      "text/plain": [
       "<Figure size 1000x600 with 1 Axes>"
      ]
     },
     "metadata": {},
     "output_type": "display_data"
    }
   ],
   "source": [
    "fig, ax = plt.subplots(figsize=(10,6))\n",
    "#These timings are current as of Aug 2, 2021\n",
    "data = [[382.2], [2567.3]]\n",
    "\n",
    "# steps = ['xgb train', 'xgb shap', 'pyt train', 'nvtabular train\\n(GPU only)',\n",
    "#          'captum\\ngradientshap']\n",
    "# steps.reverse()\n",
    "# data[0].reverse()\n",
    "# data[1].reverse()\n",
    "nvt_a100 = data[0]\n",
    "pyt_a100 = data[1]\n",
    "DF = pd.DataFrame({'PyTorch via NVTabular API on GPU': nvt_a100, 'PyTorch on GPU': pyt_a100},\n",
    "                  index=['training\\nepoch\\nloop'],\n",
    "                 )\n",
    "color_dict = {\"PyTorch via NVTabular API on GPU\":  \"#76B900\", \"PyTorch on GPU\": \"pink\"}\n",
    "_ = DF.plot.barh(color=color_dict.values(), ax=ax)\n",
    "ax.set_title('Model train times with and without NVTabular on GPU')\n",
    "ax.set_xlabel('latency in seconds')\n",
    "# ax.set_ylabel('training\\nepoch\\nloop', rotation=0)\n",
    "# plt.suptitle(\"                  Train times with and without NVTabular on GPU\")\n",
    "ax.legend(loc='upper right')\n",
    "handles, labels = ax.get_legend_handles_labels()\n",
    "ax.legend(handles[::-1], labels[::-1])\n",
    "plt.tight_layout()\n",
    "plt.savefig(f'{figures_path}/perf_plot_nvt_train.png', dpi=600)\n",
    "\n",
    "# fig.subplots_adjust()"
   ]
  },
  {
   "cell_type": "code",
   "execution_count": 93,
   "id": "e89b41fd-76bf-4d09-b12f-c101f4ac2020",
   "metadata": {},
   "outputs": [
    {
     "data": {
      "image/png": "[encoded data removed]",
      "text/plain": [
       "<Figure size 1000x600 with 1 Axes>"
      ]
     },
     "metadata": {},
     "output_type": "display_data"
    }
   ],
   "source": [
    "DF\n",
    "pyt_a100\n",
    "fig, ax = plt.subplots()\n",
    "ax.barh(y=[0,1], width=[nvt_a100[0], pyt_a100[0]], color=['pink', 'lightgreen'])\n",
    "_=ax.set_yticklabels([])"
   ]
  },
  {
   "cell_type": "code",
   "execution_count": 94,
   "id": "0cd2b9e7-533f-4ca4-9111-6d07f6c0d265",
   "metadata": {},
   "outputs": [
    {
     "name": "stdout",
     "output_type": "stream",
     "text": [
      "1084.197143316269\n"
     ]
    }
   ],
   "source": [
    "# total run time\n",
    "print(nvt_time - total_start )"
   ]
  },
  {
   "cell_type": "code",
   "execution_count": null,
   "id": "d4dcb92a-827a-4759-b6ca-e279a883b0bf",
   "metadata": {},
   "outputs": [],
   "source": [
    "cum_time = [i - total_start for i in [data_prep_time, shap_time, pyt_time, pyt_data_prep_time, pyt_dl_time, nvt_time]]\n",
    "print(cum_time)"
   ]
  },
  {
   "cell_type": "code",
   "execution_count": null,
   "id": "32b77e04-f55c-4b62-874f-64b44e4369ab",
   "metadata": {},
   "outputs": [],
   "source": [
    "#  Tested on n a A100 32 GB GPU CUDA 11.2 Driver 460.32.03 on July 16, 2021\n",
    "# gpu_cum_time = [5.847876310348511, 77.14555883407593, 345.10619354248047, 347.9490294456482, 2602.528173685074, 2990.594742298126]"
   ]
  },
  {
   "cell_type": "code",
   "execution_count": null,
   "id": "7ebe9447-157a-4e93-8ce1-b6bc534cba56",
   "metadata": {},
   "outputs": [],
   "source": []
  },
  {
   "cell_type": "code",
   "execution_count": null,
   "id": "0a0d6fce-d062-40f2-882f-183334741af1",
   "metadata": {},
   "outputs": [],
   "source": []
  },
  {
   "cell_type": "code",
   "execution_count": null,
   "id": "43f393ca-9903-489a-9e7a-70a098b06b0d",
   "metadata": {},
   "outputs": [],
   "source": []
  },
  {
   "cell_type": "code",
   "execution_count": null,
   "id": "3eca999a-ac38-460b-9fb5-f7f4e380039f",
   "metadata": {},
   "outputs": [],
   "source": []
  },
  {
   "cell_type": "code",
   "execution_count": null,
   "id": "edf43d13-ccfa-458a-83fe-16813aaa573f",
   "metadata": {},
   "outputs": [],
   "source": []
  },
  {
   "cell_type": "code",
   "execution_count": null,
   "id": "1df1f460-1a0e-49af-986a-c6c1c43d2cbe",
   "metadata": {},
   "outputs": [],
   "source": []
  },
  {
   "cell_type": "code",
   "execution_count": null,
   "id": "bce967eb-e240-4e56-9273-1e2b905eb9a9",
   "metadata": {},
   "outputs": [],
   "source": []
  },
  {
   "cell_type": "code",
   "execution_count": null,
   "id": "1fa6c7e7-1ba3-42e2-bbe6-4bbde0fef841",
   "metadata": {},
   "outputs": [],
   "source": []
  }
 ],
 "metadata": {
  "kernelspec": {
   "display_name": "Python 3 (ipykernel)",
   "language": "python",
   "name": "python3"
  },
  "language_info": {
   "codemirror_mode": {
    "name": "ipython",
    "version": 3
   },
   "file_extension": ".py",
   "mimetype": "text/x-python",
   "name": "python",
   "nbconvert_exporter": "python",
   "pygments_lexer": "ipython3",
   "version": "3.11.5"
  }
 },
 "nbformat": 4,
 "nbformat_minor": 5
}
